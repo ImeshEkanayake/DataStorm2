{
 "cells": [
  {
   "cell_type": "code",
   "execution_count": 2,
   "id": "blessed-invite",
   "metadata": {},
   "outputs": [],
   "source": [
    "import os\n",
    "import math\n",
    "import numpy as np\n",
    "import pandas as pd\n",
    "import seaborn as sns\n",
    "import matplotlib.pyplot as plt\n",
    "from sklearn.metrics import plot_confusion_matrix\n",
    "\n",
    "import random\n",
    "from sklearn.metrics import f1_score\n",
    "from sklearn.model_selection import cross_val_score\n",
    "import math"
   ]
  },
  {
   "cell_type": "code",
   "execution_count": 3,
   "id": "preliminary-photography",
   "metadata": {},
   "outputs": [],
   "source": [
    "Train_Data = pd.read_csv('Encoded_Train_Data.csv')\n",
    "Val_Data = pd.read_csv('Encoded_Val_Data.csv') \n",
    "Test_Data = pd.read_csv('Encoded_Test_Data.csv') "
   ]
  },
  {
   "cell_type": "code",
   "execution_count": 4,
   "id": "little-karen",
   "metadata": {},
   "outputs": [
    {
     "data": {
      "text/plain": [
       "Index(['Unnamed: 0', 'Reservation-id', 'Gender', 'Age', 'Educational_Level',\n",
       "       'Income', 'Expected_checkin', 'Expected_checkout', 'Booking_date',\n",
       "       'Adults', 'Children', 'Babies', 'Meal_Type', 'Visted_Previously',\n",
       "       'Previous_Cancellations', 'Deposit_type', 'Required_Car_Parking',\n",
       "       'Reservation_Status', 'Use_Promotion', 'Discount_Rate', 'Room_Rate',\n",
       "       'Ethnicity_African American', 'Ethnicity_Asian American',\n",
       "       'Ethnicity_Latino', 'Ethnicity_caucasian', 'Country_region_East',\n",
       "       'Country_region_North', 'Country_region_South', 'Country_region_West',\n",
       "       'Hotel_Type_Airport Hotels', 'Hotel_Type_City Hotel',\n",
       "       'Hotel_Type_Resort', 'Booking_channel_Agent', 'Booking_channel_Direct',\n",
       "       'Booking_channel_Online', 'Days_plan_to_stay', 'checkin_year',\n",
       "       'checkin_month', 'checkin_day', 'checkin_day_of_the_week',\n",
       "       'Days_until_checkin', 'Booking_month', 'Booking_day_of_the_week',\n",
       "       'Min_num_of_rooms', 'Total_Min_Cost', 'Min_Discount_amount'],\n",
       "      dtype='object')"
      ]
     },
     "execution_count": 4,
     "metadata": {},
     "output_type": "execute_result"
    }
   ],
   "source": [
    "Train_Data.columns\n"
   ]
  },
  {
   "cell_type": "code",
   "execution_count": 5,
   "id": "stuck-buyer",
   "metadata": {},
   "outputs": [],
   "source": [
    "Continus = ['Age','Discount_Rate','Room_Rate','checkin_year','checkin_month','Adults', 'Children', 'Babies',\n",
    "            'Days_until_checkin','Booking_month','Min_num_of_rooms',\n",
    "            'Total_Min_Cost','Min_Discount_amount']\n",
    "\n",
    "Categorical = ['Gender','Educational_Level','Income','Meal_Type', 'Visted_Previously','Previous_Cancellations', 'Use_Promotion',\n",
    "              'Ethnicity_African American', 'Ethnicity_Asian American','Ethnicity_Latino', 'Ethnicity_caucasian', \n",
    "              'Country_region_East','Country_region_North', 'Country_region_South', 'Country_region_West',\n",
    "              'Hotel_Type_Airport Hotels', 'Hotel_Type_City Hotel','Hotel_Type_Resort', 'Booking_channel_Agent', \n",
    "              'Booking_channel_Direct','Booking_channel_Online','checkin_day_of_the_week','Booking_day_of_the_week']\n",
    "\n",
    "Label =['Reservation_Status']"
   ]
  },
  {
   "cell_type": "code",
   "execution_count": 6,
   "id": "quality-output",
   "metadata": {},
   "outputs": [
    {
     "name": "stdout",
     "output_type": "stream",
     "text": [
      "Dataset Shape: (27499, 46)\n"
     ]
    },
    {
     "data": {
      "text/html": [
       "<div>\n",
       "<style scoped>\n",
       "    .dataframe tbody tr th:only-of-type {\n",
       "        vertical-align: middle;\n",
       "    }\n",
       "\n",
       "    .dataframe tbody tr th {\n",
       "        vertical-align: top;\n",
       "    }\n",
       "\n",
       "    .dataframe thead th {\n",
       "        text-align: right;\n",
       "    }\n",
       "</style>\n",
       "<table border=\"1\" class=\"dataframe\">\n",
       "  <thead>\n",
       "    <tr style=\"text-align: right;\">\n",
       "      <th></th>\n",
       "      <th>Name</th>\n",
       "      <th>dtypes</th>\n",
       "      <th>Missing</th>\n",
       "      <th>Uniques</th>\n",
       "      <th>Min Value</th>\n",
       "      <th>Max Value</th>\n",
       "    </tr>\n",
       "  </thead>\n",
       "  <tbody>\n",
       "    <tr>\n",
       "      <th>0</th>\n",
       "      <td>Unnamed: 0</td>\n",
       "      <td>int64</td>\n",
       "      <td>0</td>\n",
       "      <td>27499</td>\n",
       "      <td>0</td>\n",
       "      <td>27498</td>\n",
       "    </tr>\n",
       "    <tr>\n",
       "      <th>1</th>\n",
       "      <td>Reservation-id</td>\n",
       "      <td>int64</td>\n",
       "      <td>0</td>\n",
       "      <td>27495</td>\n",
       "      <td>3154</td>\n",
       "      <td>99999005</td>\n",
       "    </tr>\n",
       "    <tr>\n",
       "      <th>2</th>\n",
       "      <td>Gender</td>\n",
       "      <td>int64</td>\n",
       "      <td>0</td>\n",
       "      <td>2</td>\n",
       "      <td>0</td>\n",
       "      <td>1</td>\n",
       "    </tr>\n",
       "    <tr>\n",
       "      <th>3</th>\n",
       "      <td>Age</td>\n",
       "      <td>int64</td>\n",
       "      <td>0</td>\n",
       "      <td>53</td>\n",
       "      <td>18</td>\n",
       "      <td>70</td>\n",
       "    </tr>\n",
       "    <tr>\n",
       "      <th>4</th>\n",
       "      <td>Educational_Level</td>\n",
       "      <td>int64</td>\n",
       "      <td>0</td>\n",
       "      <td>4</td>\n",
       "      <td>0</td>\n",
       "      <td>3</td>\n",
       "    </tr>\n",
       "    <tr>\n",
       "      <th>5</th>\n",
       "      <td>Income</td>\n",
       "      <td>int64</td>\n",
       "      <td>0</td>\n",
       "      <td>4</td>\n",
       "      <td>0</td>\n",
       "      <td>3</td>\n",
       "    </tr>\n",
       "    <tr>\n",
       "      <th>6</th>\n",
       "      <td>Expected_checkin</td>\n",
       "      <td>object</td>\n",
       "      <td>0</td>\n",
       "      <td>901</td>\n",
       "      <td>2014-11-18</td>\n",
       "      <td>2017-09-06</td>\n",
       "    </tr>\n",
       "    <tr>\n",
       "      <th>7</th>\n",
       "      <td>Expected_checkout</td>\n",
       "      <td>object</td>\n",
       "      <td>0</td>\n",
       "      <td>929</td>\n",
       "      <td>2014-11-22</td>\n",
       "      <td>2017-09-09</td>\n",
       "    </tr>\n",
       "    <tr>\n",
       "      <th>8</th>\n",
       "      <td>Booking_date</td>\n",
       "      <td>object</td>\n",
       "      <td>0</td>\n",
       "      <td>1133</td>\n",
       "      <td>2014-01-09</td>\n",
       "      <td>2017-08-30</td>\n",
       "    </tr>\n",
       "    <tr>\n",
       "      <th>9</th>\n",
       "      <td>Adults</td>\n",
       "      <td>int64</td>\n",
       "      <td>0</td>\n",
       "      <td>5</td>\n",
       "      <td>1</td>\n",
       "      <td>5</td>\n",
       "    </tr>\n",
       "    <tr>\n",
       "      <th>10</th>\n",
       "      <td>Children</td>\n",
       "      <td>int64</td>\n",
       "      <td>0</td>\n",
       "      <td>3</td>\n",
       "      <td>1</td>\n",
       "      <td>3</td>\n",
       "    </tr>\n",
       "    <tr>\n",
       "      <th>11</th>\n",
       "      <td>Babies</td>\n",
       "      <td>int64</td>\n",
       "      <td>0</td>\n",
       "      <td>3</td>\n",
       "      <td>0</td>\n",
       "      <td>2</td>\n",
       "    </tr>\n",
       "    <tr>\n",
       "      <th>12</th>\n",
       "      <td>Meal_Type</td>\n",
       "      <td>int64</td>\n",
       "      <td>0</td>\n",
       "      <td>3</td>\n",
       "      <td>0</td>\n",
       "      <td>2</td>\n",
       "    </tr>\n",
       "    <tr>\n",
       "      <th>13</th>\n",
       "      <td>Visted_Previously</td>\n",
       "      <td>int64</td>\n",
       "      <td>0</td>\n",
       "      <td>2</td>\n",
       "      <td>0</td>\n",
       "      <td>1</td>\n",
       "    </tr>\n",
       "    <tr>\n",
       "      <th>14</th>\n",
       "      <td>Previous_Cancellations</td>\n",
       "      <td>int64</td>\n",
       "      <td>0</td>\n",
       "      <td>2</td>\n",
       "      <td>0</td>\n",
       "      <td>1</td>\n",
       "    </tr>\n",
       "    <tr>\n",
       "      <th>15</th>\n",
       "      <td>Deposit_type</td>\n",
       "      <td>int64</td>\n",
       "      <td>0</td>\n",
       "      <td>3</td>\n",
       "      <td>0</td>\n",
       "      <td>2</td>\n",
       "    </tr>\n",
       "    <tr>\n",
       "      <th>16</th>\n",
       "      <td>Required_Car_Parking</td>\n",
       "      <td>int64</td>\n",
       "      <td>0</td>\n",
       "      <td>2</td>\n",
       "      <td>0</td>\n",
       "      <td>1</td>\n",
       "    </tr>\n",
       "    <tr>\n",
       "      <th>17</th>\n",
       "      <td>Reservation_Status</td>\n",
       "      <td>int64</td>\n",
       "      <td>0</td>\n",
       "      <td>3</td>\n",
       "      <td>1</td>\n",
       "      <td>3</td>\n",
       "    </tr>\n",
       "    <tr>\n",
       "      <th>18</th>\n",
       "      <td>Use_Promotion</td>\n",
       "      <td>int64</td>\n",
       "      <td>0</td>\n",
       "      <td>2</td>\n",
       "      <td>0</td>\n",
       "      <td>1</td>\n",
       "    </tr>\n",
       "    <tr>\n",
       "      <th>19</th>\n",
       "      <td>Discount_Rate</td>\n",
       "      <td>int64</td>\n",
       "      <td>0</td>\n",
       "      <td>8</td>\n",
       "      <td>0</td>\n",
       "      <td>40</td>\n",
       "    </tr>\n",
       "    <tr>\n",
       "      <th>20</th>\n",
       "      <td>Room_Rate</td>\n",
       "      <td>int64</td>\n",
       "      <td>0</td>\n",
       "      <td>151</td>\n",
       "      <td>100</td>\n",
       "      <td>250</td>\n",
       "    </tr>\n",
       "    <tr>\n",
       "      <th>21</th>\n",
       "      <td>Ethnicity_African American</td>\n",
       "      <td>int64</td>\n",
       "      <td>0</td>\n",
       "      <td>2</td>\n",
       "      <td>0</td>\n",
       "      <td>1</td>\n",
       "    </tr>\n",
       "    <tr>\n",
       "      <th>22</th>\n",
       "      <td>Ethnicity_Asian American</td>\n",
       "      <td>int64</td>\n",
       "      <td>0</td>\n",
       "      <td>2</td>\n",
       "      <td>0</td>\n",
       "      <td>1</td>\n",
       "    </tr>\n",
       "    <tr>\n",
       "      <th>23</th>\n",
       "      <td>Ethnicity_Latino</td>\n",
       "      <td>int64</td>\n",
       "      <td>0</td>\n",
       "      <td>2</td>\n",
       "      <td>0</td>\n",
       "      <td>1</td>\n",
       "    </tr>\n",
       "    <tr>\n",
       "      <th>24</th>\n",
       "      <td>Ethnicity_caucasian</td>\n",
       "      <td>int64</td>\n",
       "      <td>0</td>\n",
       "      <td>2</td>\n",
       "      <td>0</td>\n",
       "      <td>1</td>\n",
       "    </tr>\n",
       "    <tr>\n",
       "      <th>25</th>\n",
       "      <td>Country_region_East</td>\n",
       "      <td>int64</td>\n",
       "      <td>0</td>\n",
       "      <td>2</td>\n",
       "      <td>0</td>\n",
       "      <td>1</td>\n",
       "    </tr>\n",
       "    <tr>\n",
       "      <th>26</th>\n",
       "      <td>Country_region_North</td>\n",
       "      <td>int64</td>\n",
       "      <td>0</td>\n",
       "      <td>2</td>\n",
       "      <td>0</td>\n",
       "      <td>1</td>\n",
       "    </tr>\n",
       "    <tr>\n",
       "      <th>27</th>\n",
       "      <td>Country_region_South</td>\n",
       "      <td>int64</td>\n",
       "      <td>0</td>\n",
       "      <td>2</td>\n",
       "      <td>0</td>\n",
       "      <td>1</td>\n",
       "    </tr>\n",
       "    <tr>\n",
       "      <th>28</th>\n",
       "      <td>Country_region_West</td>\n",
       "      <td>int64</td>\n",
       "      <td>0</td>\n",
       "      <td>2</td>\n",
       "      <td>0</td>\n",
       "      <td>1</td>\n",
       "    </tr>\n",
       "    <tr>\n",
       "      <th>29</th>\n",
       "      <td>Hotel_Type_Airport Hotels</td>\n",
       "      <td>int64</td>\n",
       "      <td>0</td>\n",
       "      <td>2</td>\n",
       "      <td>0</td>\n",
       "      <td>1</td>\n",
       "    </tr>\n",
       "    <tr>\n",
       "      <th>30</th>\n",
       "      <td>Hotel_Type_City Hotel</td>\n",
       "      <td>int64</td>\n",
       "      <td>0</td>\n",
       "      <td>2</td>\n",
       "      <td>0</td>\n",
       "      <td>1</td>\n",
       "    </tr>\n",
       "    <tr>\n",
       "      <th>31</th>\n",
       "      <td>Hotel_Type_Resort</td>\n",
       "      <td>int64</td>\n",
       "      <td>0</td>\n",
       "      <td>2</td>\n",
       "      <td>0</td>\n",
       "      <td>1</td>\n",
       "    </tr>\n",
       "    <tr>\n",
       "      <th>32</th>\n",
       "      <td>Booking_channel_Agent</td>\n",
       "      <td>int64</td>\n",
       "      <td>0</td>\n",
       "      <td>2</td>\n",
       "      <td>0</td>\n",
       "      <td>1</td>\n",
       "    </tr>\n",
       "    <tr>\n",
       "      <th>33</th>\n",
       "      <td>Booking_channel_Direct</td>\n",
       "      <td>int64</td>\n",
       "      <td>0</td>\n",
       "      <td>2</td>\n",
       "      <td>0</td>\n",
       "      <td>1</td>\n",
       "    </tr>\n",
       "    <tr>\n",
       "      <th>34</th>\n",
       "      <td>Booking_channel_Online</td>\n",
       "      <td>int64</td>\n",
       "      <td>0</td>\n",
       "      <td>2</td>\n",
       "      <td>0</td>\n",
       "      <td>1</td>\n",
       "    </tr>\n",
       "    <tr>\n",
       "      <th>35</th>\n",
       "      <td>Days_plan_to_stay</td>\n",
       "      <td>float64</td>\n",
       "      <td>0</td>\n",
       "      <td>4</td>\n",
       "      <td>1.0</td>\n",
       "      <td>4.0</td>\n",
       "    </tr>\n",
       "    <tr>\n",
       "      <th>36</th>\n",
       "      <td>checkin_year</td>\n",
       "      <td>int64</td>\n",
       "      <td>0</td>\n",
       "      <td>4</td>\n",
       "      <td>2014</td>\n",
       "      <td>2017</td>\n",
       "    </tr>\n",
       "    <tr>\n",
       "      <th>37</th>\n",
       "      <td>checkin_month</td>\n",
       "      <td>int64</td>\n",
       "      <td>0</td>\n",
       "      <td>12</td>\n",
       "      <td>1</td>\n",
       "      <td>12</td>\n",
       "    </tr>\n",
       "    <tr>\n",
       "      <th>38</th>\n",
       "      <td>checkin_day</td>\n",
       "      <td>int64</td>\n",
       "      <td>0</td>\n",
       "      <td>31</td>\n",
       "      <td>1</td>\n",
       "      <td>31</td>\n",
       "    </tr>\n",
       "    <tr>\n",
       "      <th>39</th>\n",
       "      <td>checkin_day_of_the_week</td>\n",
       "      <td>int64</td>\n",
       "      <td>0</td>\n",
       "      <td>7</td>\n",
       "      <td>0</td>\n",
       "      <td>6</td>\n",
       "    </tr>\n",
       "    <tr>\n",
       "      <th>40</th>\n",
       "      <td>Days_until_checkin</td>\n",
       "      <td>float64</td>\n",
       "      <td>0</td>\n",
       "      <td>409</td>\n",
       "      <td>-4.0</td>\n",
       "      <td>708.0</td>\n",
       "    </tr>\n",
       "    <tr>\n",
       "      <th>41</th>\n",
       "      <td>Booking_month</td>\n",
       "      <td>int64</td>\n",
       "      <td>0</td>\n",
       "      <td>12</td>\n",
       "      <td>1</td>\n",
       "      <td>12</td>\n",
       "    </tr>\n",
       "    <tr>\n",
       "      <th>42</th>\n",
       "      <td>Booking_day_of_the_week</td>\n",
       "      <td>int64</td>\n",
       "      <td>0</td>\n",
       "      <td>7</td>\n",
       "      <td>0</td>\n",
       "      <td>6</td>\n",
       "    </tr>\n",
       "    <tr>\n",
       "      <th>43</th>\n",
       "      <td>Min_num_of_rooms</td>\n",
       "      <td>float64</td>\n",
       "      <td>0</td>\n",
       "      <td>2</td>\n",
       "      <td>1.0</td>\n",
       "      <td>2.0</td>\n",
       "    </tr>\n",
       "    <tr>\n",
       "      <th>44</th>\n",
       "      <td>Total_Min_Cost</td>\n",
       "      <td>float64</td>\n",
       "      <td>0</td>\n",
       "      <td>1622</td>\n",
       "      <td>60.0</td>\n",
       "      <td>500.0</td>\n",
       "    </tr>\n",
       "    <tr>\n",
       "      <th>45</th>\n",
       "      <td>Min_Discount_amount</td>\n",
       "      <td>float64</td>\n",
       "      <td>0</td>\n",
       "      <td>1078</td>\n",
       "      <td>0.0</td>\n",
       "      <td>200.0</td>\n",
       "    </tr>\n",
       "  </tbody>\n",
       "</table>\n",
       "</div>"
      ],
      "text/plain": [
       "                          Name   dtypes  Missing  Uniques   Min Value  \\\n",
       "0                   Unnamed: 0    int64        0    27499           0   \n",
       "1               Reservation-id    int64        0    27495        3154   \n",
       "2                       Gender    int64        0        2           0   \n",
       "3                          Age    int64        0       53          18   \n",
       "4            Educational_Level    int64        0        4           0   \n",
       "5                       Income    int64        0        4           0   \n",
       "6             Expected_checkin   object        0      901  2014-11-18   \n",
       "7            Expected_checkout   object        0      929  2014-11-22   \n",
       "8                 Booking_date   object        0     1133  2014-01-09   \n",
       "9                       Adults    int64        0        5           1   \n",
       "10                    Children    int64        0        3           1   \n",
       "11                      Babies    int64        0        3           0   \n",
       "12                   Meal_Type    int64        0        3           0   \n",
       "13           Visted_Previously    int64        0        2           0   \n",
       "14      Previous_Cancellations    int64        0        2           0   \n",
       "15                Deposit_type    int64        0        3           0   \n",
       "16        Required_Car_Parking    int64        0        2           0   \n",
       "17          Reservation_Status    int64        0        3           1   \n",
       "18               Use_Promotion    int64        0        2           0   \n",
       "19               Discount_Rate    int64        0        8           0   \n",
       "20                   Room_Rate    int64        0      151         100   \n",
       "21  Ethnicity_African American    int64        0        2           0   \n",
       "22    Ethnicity_Asian American    int64        0        2           0   \n",
       "23            Ethnicity_Latino    int64        0        2           0   \n",
       "24         Ethnicity_caucasian    int64        0        2           0   \n",
       "25         Country_region_East    int64        0        2           0   \n",
       "26        Country_region_North    int64        0        2           0   \n",
       "27        Country_region_South    int64        0        2           0   \n",
       "28         Country_region_West    int64        0        2           0   \n",
       "29   Hotel_Type_Airport Hotels    int64        0        2           0   \n",
       "30       Hotel_Type_City Hotel    int64        0        2           0   \n",
       "31           Hotel_Type_Resort    int64        0        2           0   \n",
       "32       Booking_channel_Agent    int64        0        2           0   \n",
       "33      Booking_channel_Direct    int64        0        2           0   \n",
       "34      Booking_channel_Online    int64        0        2           0   \n",
       "35           Days_plan_to_stay  float64        0        4         1.0   \n",
       "36                checkin_year    int64        0        4        2014   \n",
       "37               checkin_month    int64        0       12           1   \n",
       "38                 checkin_day    int64        0       31           1   \n",
       "39     checkin_day_of_the_week    int64        0        7           0   \n",
       "40          Days_until_checkin  float64        0      409        -4.0   \n",
       "41               Booking_month    int64        0       12           1   \n",
       "42     Booking_day_of_the_week    int64        0        7           0   \n",
       "43            Min_num_of_rooms  float64        0        2         1.0   \n",
       "44              Total_Min_Cost  float64        0     1622        60.0   \n",
       "45         Min_Discount_amount  float64        0     1078         0.0   \n",
       "\n",
       "     Max Value  \n",
       "0        27498  \n",
       "1     99999005  \n",
       "2            1  \n",
       "3           70  \n",
       "4            3  \n",
       "5            3  \n",
       "6   2017-09-06  \n",
       "7   2017-09-09  \n",
       "8   2017-08-30  \n",
       "9            5  \n",
       "10           3  \n",
       "11           2  \n",
       "12           2  \n",
       "13           1  \n",
       "14           1  \n",
       "15           2  \n",
       "16           1  \n",
       "17           3  \n",
       "18           1  \n",
       "19          40  \n",
       "20         250  \n",
       "21           1  \n",
       "22           1  \n",
       "23           1  \n",
       "24           1  \n",
       "25           1  \n",
       "26           1  \n",
       "27           1  \n",
       "28           1  \n",
       "29           1  \n",
       "30           1  \n",
       "31           1  \n",
       "32           1  \n",
       "33           1  \n",
       "34           1  \n",
       "35         4.0  \n",
       "36        2017  \n",
       "37          12  \n",
       "38          31  \n",
       "39           6  \n",
       "40       708.0  \n",
       "41          12  \n",
       "42           6  \n",
       "43         2.0  \n",
       "44       500.0  \n",
       "45       200.0  "
      ]
     },
     "execution_count": 6,
     "metadata": {},
     "output_type": "execute_result"
    }
   ],
   "source": [
    "def resumetable(df):\n",
    "    print(f\"Dataset Shape: {df.shape}\")\n",
    "    summary = pd.DataFrame(df.dtypes,columns=['dtypes'])\n",
    "    summary = summary.reset_index()\n",
    "    summary['Name'] = summary['index']\n",
    "    summary = summary[['Name','dtypes']]\n",
    "    summary['Missing'] = df.isnull().sum().values    \n",
    "    summary['Uniques'] = df.nunique().values\n",
    "    summary['Min Value'] = list(Train_Data.min(axis=0))\n",
    "    summary['Max Value'] = list(Train_Data.max(axis=0))\n",
    "    return summary\n",
    "\n",
    "resumetable(Train_Data)"
   ]
  },
  {
   "cell_type": "code",
   "execution_count": 129,
   "id": "friendly-equivalent",
   "metadata": {},
   "outputs": [],
   "source": [
    "Weights_col=Y_train.copy()\n",
    "Weights_col = Weights_col.replace(1, 0.6)\n",
    "Weights_col = Weights_col.replace(2, 2.9)\n",
    "Weights_col = Weights_col.replace(3, 5.9)"
   ]
  },
  {
   "cell_type": "code",
   "execution_count": 136,
   "id": "known-sight",
   "metadata": {
    "scrolled": true
   },
   "outputs": [
    {
     "name": "stdout",
     "output_type": "stream",
     "text": [
      "==========================================================================\n",
      "i= 0.3 j= 1.5 k= 3\n",
      "              precision    recall  f1-score   support\n",
      "\n",
      "    Check-In       0.59      0.62      0.60      1610\n",
      "    Canceled       0.27      0.21      0.24       741\n",
      "     No-Show       0.16      0.20      0.18       398\n",
      "\n",
      "    accuracy                           0.45      2749\n",
      "   macro avg       0.34      0.34      0.34      2749\n",
      "weighted avg       0.44      0.45      0.44      2749\n",
      "\n",
      "==========================================================================\n",
      "i= 0.3 j= 1.5 k= 4\n"
     ]
    },
    {
     "name": "stderr",
     "output_type": "stream",
     "text": [
      "c:\\users\\redline pc\\appdata\\local\\programs\\python\\python38\\lib\\site-packages\\xgboost\\sklearn.py:888: UserWarning: The use of label encoder in XGBClassifier is deprecated and will be removed in a future release. To remove this warning, do the following: 1) Pass option use_label_encoder=False when constructing XGBClassifier object; and 2) Encode your labels (y) as integers starting with 0, i.e. 0, 1, 2, ..., [num_class - 1].\n",
      "  warnings.warn(label_encoder_deprecation_msg, UserWarning)\n",
      "c:\\users\\redline pc\\appdata\\local\\programs\\python\\python38\\lib\\site-packages\\sklearn\\utils\\validation.py:63: DataConversionWarning: A column-vector y was passed when a 1d array was expected. Please change the shape of y to (n_samples, ), for example using ravel().\n",
      "  return f(*args, **kwargs)\n"
     ]
    },
    {
     "name": "stdout",
     "output_type": "stream",
     "text": [
      "              precision    recall  f1-score   support\n",
      "\n",
      "    Check-In       0.58      0.56      0.57      1610\n",
      "    Canceled       0.28      0.12      0.17       741\n",
      "     No-Show       0.15      0.33      0.21       398\n",
      "\n",
      "    accuracy                           0.41      2749\n",
      "   macro avg       0.34      0.34      0.32      2749\n",
      "weighted avg       0.44      0.41      0.41      2749\n",
      "\n",
      "==========================================================================\n",
      "i= 0.3 j= 1.5 k= 5\n"
     ]
    },
    {
     "name": "stderr",
     "output_type": "stream",
     "text": [
      "c:\\users\\redline pc\\appdata\\local\\programs\\python\\python38\\lib\\site-packages\\xgboost\\sklearn.py:888: UserWarning: The use of label encoder in XGBClassifier is deprecated and will be removed in a future release. To remove this warning, do the following: 1) Pass option use_label_encoder=False when constructing XGBClassifier object; and 2) Encode your labels (y) as integers starting with 0, i.e. 0, 1, 2, ..., [num_class - 1].\n",
      "  warnings.warn(label_encoder_deprecation_msg, UserWarning)\n",
      "c:\\users\\redline pc\\appdata\\local\\programs\\python\\python38\\lib\\site-packages\\sklearn\\utils\\validation.py:63: DataConversionWarning: A column-vector y was passed when a 1d array was expected. Please change the shape of y to (n_samples, ), for example using ravel().\n",
      "  return f(*args, **kwargs)\n"
     ]
    },
    {
     "name": "stdout",
     "output_type": "stream",
     "text": [
      "              precision    recall  f1-score   support\n",
      "\n",
      "    Check-In       0.59      0.55      0.57      1610\n",
      "    Canceled       0.30      0.07      0.11       741\n",
      "     No-Show       0.15      0.41      0.22       398\n",
      "\n",
      "    accuracy                           0.40      2749\n",
      "   macro avg       0.35      0.34      0.30      2749\n",
      "weighted avg       0.45      0.40      0.40      2749\n",
      "\n",
      "==========================================================================\n",
      "i= 0.3 j= 1.5 k= 6\n"
     ]
    },
    {
     "name": "stderr",
     "output_type": "stream",
     "text": [
      "c:\\users\\redline pc\\appdata\\local\\programs\\python\\python38\\lib\\site-packages\\xgboost\\sklearn.py:888: UserWarning: The use of label encoder in XGBClassifier is deprecated and will be removed in a future release. To remove this warning, do the following: 1) Pass option use_label_encoder=False when constructing XGBClassifier object; and 2) Encode your labels (y) as integers starting with 0, i.e. 0, 1, 2, ..., [num_class - 1].\n",
      "  warnings.warn(label_encoder_deprecation_msg, UserWarning)\n",
      "c:\\users\\redline pc\\appdata\\local\\programs\\python\\python38\\lib\\site-packages\\sklearn\\utils\\validation.py:63: DataConversionWarning: A column-vector y was passed when a 1d array was expected. Please change the shape of y to (n_samples, ), for example using ravel().\n",
      "  return f(*args, **kwargs)\n"
     ]
    },
    {
     "name": "stdout",
     "output_type": "stream",
     "text": [
      "              precision    recall  f1-score   support\n",
      "\n",
      "    Check-In       0.59      0.50      0.54      1610\n",
      "    Canceled       0.33      0.06      0.10       741\n",
      "     No-Show       0.15      0.47      0.23       398\n",
      "\n",
      "    accuracy                           0.38      2749\n",
      "   macro avg       0.36      0.34      0.29      2749\n",
      "weighted avg       0.46      0.38      0.38      2749\n",
      "\n",
      "==========================================================================\n",
      "i= 0.3 j= 1.5 k= 7\n"
     ]
    },
    {
     "name": "stderr",
     "output_type": "stream",
     "text": [
      "c:\\users\\redline pc\\appdata\\local\\programs\\python\\python38\\lib\\site-packages\\xgboost\\sklearn.py:888: UserWarning: The use of label encoder in XGBClassifier is deprecated and will be removed in a future release. To remove this warning, do the following: 1) Pass option use_label_encoder=False when constructing XGBClassifier object; and 2) Encode your labels (y) as integers starting with 0, i.e. 0, 1, 2, ..., [num_class - 1].\n",
      "  warnings.warn(label_encoder_deprecation_msg, UserWarning)\n",
      "c:\\users\\redline pc\\appdata\\local\\programs\\python\\python38\\lib\\site-packages\\sklearn\\utils\\validation.py:63: DataConversionWarning: A column-vector y was passed when a 1d array was expected. Please change the shape of y to (n_samples, ), for example using ravel().\n",
      "  return f(*args, **kwargs)\n"
     ]
    },
    {
     "name": "stdout",
     "output_type": "stream",
     "text": [
      "              precision    recall  f1-score   support\n",
      "\n",
      "    Check-In       0.60      0.46      0.52      1610\n",
      "    Canceled       0.37      0.05      0.09       741\n",
      "     No-Show       0.15      0.52      0.23       398\n",
      "\n",
      "    accuracy                           0.36      2749\n",
      "   macro avg       0.37      0.34      0.28      2749\n",
      "weighted avg       0.47      0.36      0.36      2749\n",
      "\n",
      "==========================================================================\n",
      "i= 0.3 j= 1.5 k= 8\n"
     ]
    },
    {
     "name": "stderr",
     "output_type": "stream",
     "text": [
      "c:\\users\\redline pc\\appdata\\local\\programs\\python\\python38\\lib\\site-packages\\xgboost\\sklearn.py:888: UserWarning: The use of label encoder in XGBClassifier is deprecated and will be removed in a future release. To remove this warning, do the following: 1) Pass option use_label_encoder=False when constructing XGBClassifier object; and 2) Encode your labels (y) as integers starting with 0, i.e. 0, 1, 2, ..., [num_class - 1].\n",
      "  warnings.warn(label_encoder_deprecation_msg, UserWarning)\n",
      "c:\\users\\redline pc\\appdata\\local\\programs\\python\\python38\\lib\\site-packages\\sklearn\\utils\\validation.py:63: DataConversionWarning: A column-vector y was passed when a 1d array was expected. Please change the shape of y to (n_samples, ), for example using ravel().\n",
      "  return f(*args, **kwargs)\n"
     ]
    },
    {
     "name": "stdout",
     "output_type": "stream",
     "text": [
      "              precision    recall  f1-score   support\n",
      "\n",
      "    Check-In       0.60      0.46      0.52      1610\n",
      "    Canceled       0.28      0.03      0.06       741\n",
      "     No-Show       0.14      0.52      0.23       398\n",
      "\n",
      "    accuracy                           0.35      2749\n",
      "   macro avg       0.34      0.34      0.27      2749\n",
      "weighted avg       0.45      0.35      0.35      2749\n",
      "\n",
      "==========================================================================\n",
      "i= 0.3 j= 1.5 k= 9\n"
     ]
    },
    {
     "name": "stderr",
     "output_type": "stream",
     "text": [
      "c:\\users\\redline pc\\appdata\\local\\programs\\python\\python38\\lib\\site-packages\\xgboost\\sklearn.py:888: UserWarning: The use of label encoder in XGBClassifier is deprecated and will be removed in a future release. To remove this warning, do the following: 1) Pass option use_label_encoder=False when constructing XGBClassifier object; and 2) Encode your labels (y) as integers starting with 0, i.e. 0, 1, 2, ..., [num_class - 1].\n",
      "  warnings.warn(label_encoder_deprecation_msg, UserWarning)\n",
      "c:\\users\\redline pc\\appdata\\local\\programs\\python\\python38\\lib\\site-packages\\sklearn\\utils\\validation.py:63: DataConversionWarning: A column-vector y was passed when a 1d array was expected. Please change the shape of y to (n_samples, ), for example using ravel().\n",
      "  return f(*args, **kwargs)\n"
     ]
    },
    {
     "name": "stdout",
     "output_type": "stream",
     "text": [
      "              precision    recall  f1-score   support\n",
      "\n",
      "    Check-In       0.60      0.41      0.49      1610\n",
      "    Canceled       0.32      0.04      0.07       741\n",
      "     No-Show       0.14      0.57      0.23       398\n",
      "\n",
      "    accuracy                           0.33      2749\n",
      "   macro avg       0.35      0.34      0.26      2749\n",
      "weighted avg       0.46      0.33      0.34      2749\n",
      "\n",
      "==========================================================================\n",
      "i= 0.3 j= 2.0 k= 3\n"
     ]
    },
    {
     "name": "stderr",
     "output_type": "stream",
     "text": [
      "c:\\users\\redline pc\\appdata\\local\\programs\\python\\python38\\lib\\site-packages\\xgboost\\sklearn.py:888: UserWarning: The use of label encoder in XGBClassifier is deprecated and will be removed in a future release. To remove this warning, do the following: 1) Pass option use_label_encoder=False when constructing XGBClassifier object; and 2) Encode your labels (y) as integers starting with 0, i.e. 0, 1, 2, ..., [num_class - 1].\n",
      "  warnings.warn(label_encoder_deprecation_msg, UserWarning)\n",
      "c:\\users\\redline pc\\appdata\\local\\programs\\python\\python38\\lib\\site-packages\\sklearn\\utils\\validation.py:63: DataConversionWarning: A column-vector y was passed when a 1d array was expected. Please change the shape of y to (n_samples, ), for example using ravel().\n",
      "  return f(*args, **kwargs)\n"
     ]
    },
    {
     "name": "stdout",
     "output_type": "stream",
     "text": [
      "              precision    recall  f1-score   support\n",
      "\n",
      "    Check-In       0.59      0.55      0.57      1610\n",
      "    Canceled       0.28      0.39      0.33       741\n",
      "     No-Show       0.20      0.11      0.14       398\n",
      "\n",
      "    accuracy                           0.45      2749\n",
      "   macro avg       0.36      0.35      0.35      2749\n",
      "weighted avg       0.45      0.45      0.45      2749\n",
      "\n",
      "==========================================================================\n",
      "i= 0.3 j= 2.0 k= 4\n"
     ]
    },
    {
     "name": "stderr",
     "output_type": "stream",
     "text": [
      "c:\\users\\redline pc\\appdata\\local\\programs\\python\\python38\\lib\\site-packages\\xgboost\\sklearn.py:888: UserWarning: The use of label encoder in XGBClassifier is deprecated and will be removed in a future release. To remove this warning, do the following: 1) Pass option use_label_encoder=False when constructing XGBClassifier object; and 2) Encode your labels (y) as integers starting with 0, i.e. 0, 1, 2, ..., [num_class - 1].\n",
      "  warnings.warn(label_encoder_deprecation_msg, UserWarning)\n",
      "c:\\users\\redline pc\\appdata\\local\\programs\\python\\python38\\lib\\site-packages\\sklearn\\utils\\validation.py:63: DataConversionWarning: A column-vector y was passed when a 1d array was expected. Please change the shape of y to (n_samples, ), for example using ravel().\n",
      "  return f(*args, **kwargs)\n"
     ]
    },
    {
     "name": "stdout",
     "output_type": "stream",
     "text": [
      "              precision    recall  f1-score   support\n",
      "\n",
      "    Check-In       0.59      0.55      0.57      1610\n",
      "    Canceled       0.28      0.25      0.27       741\n",
      "     No-Show       0.15      0.23      0.18       398\n",
      "\n",
      "    accuracy                           0.42      2749\n",
      "   macro avg       0.34      0.34      0.34      2749\n",
      "weighted avg       0.44      0.42      0.43      2749\n",
      "\n",
      "==========================================================================\n",
      "i= 0.3 j= 2.0 k= 5\n"
     ]
    },
    {
     "name": "stderr",
     "output_type": "stream",
     "text": [
      "c:\\users\\redline pc\\appdata\\local\\programs\\python\\python38\\lib\\site-packages\\xgboost\\sklearn.py:888: UserWarning: The use of label encoder in XGBClassifier is deprecated and will be removed in a future release. To remove this warning, do the following: 1) Pass option use_label_encoder=False when constructing XGBClassifier object; and 2) Encode your labels (y) as integers starting with 0, i.e. 0, 1, 2, ..., [num_class - 1].\n",
      "  warnings.warn(label_encoder_deprecation_msg, UserWarning)\n",
      "c:\\users\\redline pc\\appdata\\local\\programs\\python\\python38\\lib\\site-packages\\sklearn\\utils\\validation.py:63: DataConversionWarning: A column-vector y was passed when a 1d array was expected. Please change the shape of y to (n_samples, ), for example using ravel().\n",
      "  return f(*args, **kwargs)\n"
     ]
    },
    {
     "name": "stdout",
     "output_type": "stream",
     "text": [
      "              precision    recall  f1-score   support\n",
      "\n",
      "    Check-In       0.59      0.49      0.54      1610\n",
      "    Canceled       0.28      0.18      0.22       741\n",
      "     No-Show       0.15      0.35      0.21       398\n",
      "\n",
      "    accuracy                           0.39      2749\n",
      "   macro avg       0.34      0.34      0.32      2749\n",
      "weighted avg       0.45      0.39      0.40      2749\n",
      "\n",
      "==========================================================================\n",
      "i= 0.3 j= 2.0 k= 6\n"
     ]
    },
    {
     "name": "stderr",
     "output_type": "stream",
     "text": [
      "c:\\users\\redline pc\\appdata\\local\\programs\\python\\python38\\lib\\site-packages\\xgboost\\sklearn.py:888: UserWarning: The use of label encoder in XGBClassifier is deprecated and will be removed in a future release. To remove this warning, do the following: 1) Pass option use_label_encoder=False when constructing XGBClassifier object; and 2) Encode your labels (y) as integers starting with 0, i.e. 0, 1, 2, ..., [num_class - 1].\n",
      "  warnings.warn(label_encoder_deprecation_msg, UserWarning)\n",
      "c:\\users\\redline pc\\appdata\\local\\programs\\python\\python38\\lib\\site-packages\\sklearn\\utils\\validation.py:63: DataConversionWarning: A column-vector y was passed when a 1d array was expected. Please change the shape of y to (n_samples, ), for example using ravel().\n",
      "  return f(*args, **kwargs)\n"
     ]
    },
    {
     "name": "stdout",
     "output_type": "stream",
     "text": [
      "              precision    recall  f1-score   support\n",
      "\n",
      "    Check-In       0.59      0.43      0.50      1610\n",
      "    Canceled       0.28      0.12      0.17       741\n",
      "     No-Show       0.15      0.47      0.23       398\n",
      "\n",
      "    accuracy                           0.35      2749\n",
      "   macro avg       0.34      0.34      0.30      2749\n",
      "weighted avg       0.45      0.35      0.37      2749\n",
      "\n",
      "==========================================================================\n",
      "i= 0.3 j= 2.0 k= 7\n"
     ]
    },
    {
     "name": "stderr",
     "output_type": "stream",
     "text": [
      "c:\\users\\redline pc\\appdata\\local\\programs\\python\\python38\\lib\\site-packages\\xgboost\\sklearn.py:888: UserWarning: The use of label encoder in XGBClassifier is deprecated and will be removed in a future release. To remove this warning, do the following: 1) Pass option use_label_encoder=False when constructing XGBClassifier object; and 2) Encode your labels (y) as integers starting with 0, i.e. 0, 1, 2, ..., [num_class - 1].\n",
      "  warnings.warn(label_encoder_deprecation_msg, UserWarning)\n",
      "c:\\users\\redline pc\\appdata\\local\\programs\\python\\python38\\lib\\site-packages\\sklearn\\utils\\validation.py:63: DataConversionWarning: A column-vector y was passed when a 1d array was expected. Please change the shape of y to (n_samples, ), for example using ravel().\n",
      "  return f(*args, **kwargs)\n"
     ]
    },
    {
     "name": "stdout",
     "output_type": "stream",
     "text": [
      "              precision    recall  f1-score   support\n",
      "\n",
      "    Check-In       0.60      0.42      0.49      1610\n",
      "    Canceled       0.31      0.10      0.15       741\n",
      "     No-Show       0.15      0.52      0.23       398\n",
      "\n",
      "    accuracy                           0.35      2749\n",
      "   macro avg       0.35      0.35      0.29      2749\n",
      "weighted avg       0.45      0.35      0.36      2749\n",
      "\n",
      "==========================================================================\n",
      "i= 0.3 j= 2.0 k= 8\n"
     ]
    },
    {
     "name": "stderr",
     "output_type": "stream",
     "text": [
      "c:\\users\\redline pc\\appdata\\local\\programs\\python\\python38\\lib\\site-packages\\xgboost\\sklearn.py:888: UserWarning: The use of label encoder in XGBClassifier is deprecated and will be removed in a future release. To remove this warning, do the following: 1) Pass option use_label_encoder=False when constructing XGBClassifier object; and 2) Encode your labels (y) as integers starting with 0, i.e. 0, 1, 2, ..., [num_class - 1].\n",
      "  warnings.warn(label_encoder_deprecation_msg, UserWarning)\n",
      "c:\\users\\redline pc\\appdata\\local\\programs\\python\\python38\\lib\\site-packages\\sklearn\\utils\\validation.py:63: DataConversionWarning: A column-vector y was passed when a 1d array was expected. Please change the shape of y to (n_samples, ), for example using ravel().\n",
      "  return f(*args, **kwargs)\n"
     ]
    },
    {
     "name": "stdout",
     "output_type": "stream",
     "text": [
      "              precision    recall  f1-score   support\n",
      "\n",
      "    Check-In       0.60      0.39      0.47      1610\n",
      "    Canceled       0.30      0.08      0.12       741\n",
      "     No-Show       0.15      0.55      0.23       398\n",
      "\n",
      "    accuracy                           0.33      2749\n",
      "   macro avg       0.35      0.34      0.28      2749\n",
      "weighted avg       0.45      0.33      0.34      2749\n",
      "\n",
      "==========================================================================\n",
      "i= 0.3 j= 2.0 k= 9\n"
     ]
    },
    {
     "name": "stderr",
     "output_type": "stream",
     "text": [
      "c:\\users\\redline pc\\appdata\\local\\programs\\python\\python38\\lib\\site-packages\\xgboost\\sklearn.py:888: UserWarning: The use of label encoder in XGBClassifier is deprecated and will be removed in a future release. To remove this warning, do the following: 1) Pass option use_label_encoder=False when constructing XGBClassifier object; and 2) Encode your labels (y) as integers starting with 0, i.e. 0, 1, 2, ..., [num_class - 1].\n",
      "  warnings.warn(label_encoder_deprecation_msg, UserWarning)\n",
      "c:\\users\\redline pc\\appdata\\local\\programs\\python\\python38\\lib\\site-packages\\sklearn\\utils\\validation.py:63: DataConversionWarning: A column-vector y was passed when a 1d array was expected. Please change the shape of y to (n_samples, ), for example using ravel().\n",
      "  return f(*args, **kwargs)\n"
     ]
    },
    {
     "name": "stdout",
     "output_type": "stream",
     "text": [
      "              precision    recall  f1-score   support\n",
      "\n",
      "    Check-In       0.60      0.36      0.45      1610\n",
      "    Canceled       0.28      0.07      0.11       741\n",
      "     No-Show       0.15      0.61      0.24       398\n",
      "\n",
      "    accuracy                           0.32      2749\n",
      "   macro avg       0.35      0.35      0.27      2749\n",
      "weighted avg       0.45      0.32      0.33      2749\n",
      "\n",
      "==========================================================================\n",
      "i= 0.3 j= 2.5 k= 3\n"
     ]
    },
    {
     "name": "stderr",
     "output_type": "stream",
     "text": [
      "c:\\users\\redline pc\\appdata\\local\\programs\\python\\python38\\lib\\site-packages\\xgboost\\sklearn.py:888: UserWarning: The use of label encoder in XGBClassifier is deprecated and will be removed in a future release. To remove this warning, do the following: 1) Pass option use_label_encoder=False when constructing XGBClassifier object; and 2) Encode your labels (y) as integers starting with 0, i.e. 0, 1, 2, ..., [num_class - 1].\n",
      "  warnings.warn(label_encoder_deprecation_msg, UserWarning)\n",
      "c:\\users\\redline pc\\appdata\\local\\programs\\python\\python38\\lib\\site-packages\\sklearn\\utils\\validation.py:63: DataConversionWarning: A column-vector y was passed when a 1d array was expected. Please change the shape of y to (n_samples, ), for example using ravel().\n",
      "  return f(*args, **kwargs)\n"
     ]
    },
    {
     "name": "stdout",
     "output_type": "stream",
     "text": [
      "              precision    recall  f1-score   support\n",
      "\n",
      "    Check-In       0.60      0.51      0.55      1610\n",
      "    Canceled       0.28      0.48      0.35       741\n",
      "     No-Show       0.17      0.05      0.07       398\n",
      "\n",
      "    accuracy                           0.43      2749\n",
      "   macro avg       0.35      0.34      0.32      2749\n",
      "weighted avg       0.45      0.43      0.43      2749\n",
      "\n",
      "==========================================================================\n",
      "i= 0.3 j= 2.5 k= 4\n"
     ]
    },
    {
     "name": "stderr",
     "output_type": "stream",
     "text": [
      "c:\\users\\redline pc\\appdata\\local\\programs\\python\\python38\\lib\\site-packages\\xgboost\\sklearn.py:888: UserWarning: The use of label encoder in XGBClassifier is deprecated and will be removed in a future release. To remove this warning, do the following: 1) Pass option use_label_encoder=False when constructing XGBClassifier object; and 2) Encode your labels (y) as integers starting with 0, i.e. 0, 1, 2, ..., [num_class - 1].\n",
      "  warnings.warn(label_encoder_deprecation_msg, UserWarning)\n",
      "c:\\users\\redline pc\\appdata\\local\\programs\\python\\python38\\lib\\site-packages\\sklearn\\utils\\validation.py:63: DataConversionWarning: A column-vector y was passed when a 1d array was expected. Please change the shape of y to (n_samples, ), for example using ravel().\n",
      "  return f(*args, **kwargs)\n"
     ]
    },
    {
     "name": "stdout",
     "output_type": "stream",
     "text": [
      "              precision    recall  f1-score   support\n",
      "\n",
      "    Check-In       0.59      0.48      0.53      1610\n",
      "    Canceled       0.28      0.41      0.33       741\n",
      "     No-Show       0.15      0.14      0.14       398\n",
      "\n",
      "    accuracy                           0.41      2749\n",
      "   macro avg       0.34      0.34      0.34      2749\n",
      "weighted avg       0.45      0.41      0.42      2749\n",
      "\n",
      "==========================================================================\n",
      "i= 0.3 j= 2.5 k= 5\n"
     ]
    },
    {
     "name": "stderr",
     "output_type": "stream",
     "text": [
      "c:\\users\\redline pc\\appdata\\local\\programs\\python\\python38\\lib\\site-packages\\xgboost\\sklearn.py:888: UserWarning: The use of label encoder in XGBClassifier is deprecated and will be removed in a future release. To remove this warning, do the following: 1) Pass option use_label_encoder=False when constructing XGBClassifier object; and 2) Encode your labels (y) as integers starting with 0, i.e. 0, 1, 2, ..., [num_class - 1].\n",
      "  warnings.warn(label_encoder_deprecation_msg, UserWarning)\n",
      "c:\\users\\redline pc\\appdata\\local\\programs\\python\\python38\\lib\\site-packages\\sklearn\\utils\\validation.py:63: DataConversionWarning: A column-vector y was passed when a 1d array was expected. Please change the shape of y to (n_samples, ), for example using ravel().\n",
      "  return f(*args, **kwargs)\n"
     ]
    },
    {
     "name": "stdout",
     "output_type": "stream",
     "text": [
      "              precision    recall  f1-score   support\n",
      "\n",
      "    Check-In       0.59      0.43      0.50      1610\n",
      "    Canceled       0.29      0.33      0.31       741\n",
      "     No-Show       0.15      0.28      0.20       398\n",
      "\n",
      "    accuracy                           0.38      2749\n",
      "   macro avg       0.34      0.35      0.34      2749\n",
      "weighted avg       0.45      0.38      0.40      2749\n",
      "\n",
      "==========================================================================\n",
      "i= 0.3 j= 2.5 k= 6\n"
     ]
    },
    {
     "name": "stderr",
     "output_type": "stream",
     "text": [
      "c:\\users\\redline pc\\appdata\\local\\programs\\python\\python38\\lib\\site-packages\\xgboost\\sklearn.py:888: UserWarning: The use of label encoder in XGBClassifier is deprecated and will be removed in a future release. To remove this warning, do the following: 1) Pass option use_label_encoder=False when constructing XGBClassifier object; and 2) Encode your labels (y) as integers starting with 0, i.e. 0, 1, 2, ..., [num_class - 1].\n",
      "  warnings.warn(label_encoder_deprecation_msg, UserWarning)\n",
      "c:\\users\\redline pc\\appdata\\local\\programs\\python\\python38\\lib\\site-packages\\sklearn\\utils\\validation.py:63: DataConversionWarning: A column-vector y was passed when a 1d array was expected. Please change the shape of y to (n_samples, ), for example using ravel().\n",
      "  return f(*args, **kwargs)\n"
     ]
    },
    {
     "name": "stdout",
     "output_type": "stream",
     "text": [
      "              precision    recall  f1-score   support\n",
      "\n",
      "    Check-In       0.59      0.42      0.49      1610\n",
      "    Canceled       0.28      0.23      0.25       741\n",
      "     No-Show       0.15      0.37      0.21       398\n",
      "\n",
      "    accuracy                           0.36      2749\n",
      "   macro avg       0.34      0.34      0.32      2749\n",
      "weighted avg       0.44      0.36      0.38      2749\n",
      "\n",
      "==========================================================================\n",
      "i= 0.3 j= 2.5 k= 7\n"
     ]
    },
    {
     "name": "stderr",
     "output_type": "stream",
     "text": [
      "c:\\users\\redline pc\\appdata\\local\\programs\\python\\python38\\lib\\site-packages\\xgboost\\sklearn.py:888: UserWarning: The use of label encoder in XGBClassifier is deprecated and will be removed in a future release. To remove this warning, do the following: 1) Pass option use_label_encoder=False when constructing XGBClassifier object; and 2) Encode your labels (y) as integers starting with 0, i.e. 0, 1, 2, ..., [num_class - 1].\n",
      "  warnings.warn(label_encoder_deprecation_msg, UserWarning)\n",
      "c:\\users\\redline pc\\appdata\\local\\programs\\python\\python38\\lib\\site-packages\\sklearn\\utils\\validation.py:63: DataConversionWarning: A column-vector y was passed when a 1d array was expected. Please change the shape of y to (n_samples, ), for example using ravel().\n",
      "  return f(*args, **kwargs)\n"
     ]
    },
    {
     "name": "stdout",
     "output_type": "stream",
     "text": [
      "              precision    recall  f1-score   support\n",
      "\n",
      "    Check-In       0.60      0.40      0.48      1610\n",
      "    Canceled       0.27      0.16      0.20       741\n",
      "     No-Show       0.15      0.47      0.23       398\n",
      "\n",
      "    accuracy                           0.34      2749\n",
      "   macro avg       0.34      0.34      0.30      2749\n",
      "weighted avg       0.45      0.34      0.37      2749\n",
      "\n",
      "==========================================================================\n",
      "i= 0.3 j= 2.5 k= 8\n"
     ]
    },
    {
     "name": "stderr",
     "output_type": "stream",
     "text": [
      "c:\\users\\redline pc\\appdata\\local\\programs\\python\\python38\\lib\\site-packages\\xgboost\\sklearn.py:888: UserWarning: The use of label encoder in XGBClassifier is deprecated and will be removed in a future release. To remove this warning, do the following: 1) Pass option use_label_encoder=False when constructing XGBClassifier object; and 2) Encode your labels (y) as integers starting with 0, i.e. 0, 1, 2, ..., [num_class - 1].\n",
      "  warnings.warn(label_encoder_deprecation_msg, UserWarning)\n",
      "c:\\users\\redline pc\\appdata\\local\\programs\\python\\python38\\lib\\site-packages\\sklearn\\utils\\validation.py:63: DataConversionWarning: A column-vector y was passed when a 1d array was expected. Please change the shape of y to (n_samples, ), for example using ravel().\n",
      "  return f(*args, **kwargs)\n"
     ]
    },
    {
     "name": "stdout",
     "output_type": "stream",
     "text": [
      "              precision    recall  f1-score   support\n",
      "\n",
      "    Check-In       0.60      0.38      0.47      1610\n",
      "    Canceled       0.29      0.14      0.19       741\n",
      "     No-Show       0.15      0.52      0.23       398\n",
      "\n",
      "    accuracy                           0.34      2749\n",
      "   macro avg       0.35      0.35      0.30      2749\n",
      "weighted avg       0.45      0.34      0.36      2749\n",
      "\n",
      "==========================================================================\n",
      "i= 0.3 j= 2.5 k= 9\n"
     ]
    },
    {
     "name": "stderr",
     "output_type": "stream",
     "text": [
      "c:\\users\\redline pc\\appdata\\local\\programs\\python\\python38\\lib\\site-packages\\xgboost\\sklearn.py:888: UserWarning: The use of label encoder in XGBClassifier is deprecated and will be removed in a future release. To remove this warning, do the following: 1) Pass option use_label_encoder=False when constructing XGBClassifier object; and 2) Encode your labels (y) as integers starting with 0, i.e. 0, 1, 2, ..., [num_class - 1].\n",
      "  warnings.warn(label_encoder_deprecation_msg, UserWarning)\n",
      "c:\\users\\redline pc\\appdata\\local\\programs\\python\\python38\\lib\\site-packages\\sklearn\\utils\\validation.py:63: DataConversionWarning: A column-vector y was passed when a 1d array was expected. Please change the shape of y to (n_samples, ), for example using ravel().\n",
      "  return f(*args, **kwargs)\n"
     ]
    },
    {
     "name": "stdout",
     "output_type": "stream",
     "text": [
      "              precision    recall  f1-score   support\n",
      "\n",
      "    Check-In       0.60      0.36      0.45      1610\n",
      "    Canceled       0.31      0.13      0.18       741\n",
      "     No-Show       0.15      0.56      0.24       398\n",
      "\n",
      "    accuracy                           0.33      2749\n",
      "   macro avg       0.35      0.35      0.29      2749\n",
      "weighted avg       0.46      0.33      0.35      2749\n",
      "\n",
      "==========================================================================\n",
      "i= 0.3 j= 3.0 k= 3\n"
     ]
    },
    {
     "name": "stderr",
     "output_type": "stream",
     "text": [
      "c:\\users\\redline pc\\appdata\\local\\programs\\python\\python38\\lib\\site-packages\\xgboost\\sklearn.py:888: UserWarning: The use of label encoder in XGBClassifier is deprecated and will be removed in a future release. To remove this warning, do the following: 1) Pass option use_label_encoder=False when constructing XGBClassifier object; and 2) Encode your labels (y) as integers starting with 0, i.e. 0, 1, 2, ..., [num_class - 1].\n",
      "  warnings.warn(label_encoder_deprecation_msg, UserWarning)\n",
      "c:\\users\\redline pc\\appdata\\local\\programs\\python\\python38\\lib\\site-packages\\sklearn\\utils\\validation.py:63: DataConversionWarning: A column-vector y was passed when a 1d array was expected. Please change the shape of y to (n_samples, ), for example using ravel().\n",
      "  return f(*args, **kwargs)\n"
     ]
    },
    {
     "name": "stdout",
     "output_type": "stream",
     "text": [
      "              precision    recall  f1-score   support\n",
      "\n",
      "    Check-In       0.60      0.45      0.52      1610\n",
      "    Canceled       0.28      0.56      0.37       741\n",
      "     No-Show       0.11      0.02      0.03       398\n",
      "\n",
      "    accuracy                           0.42      2749\n",
      "   macro avg       0.33      0.34      0.31      2749\n",
      "weighted avg       0.45      0.42      0.41      2749\n",
      "\n",
      "==========================================================================\n",
      "i= 0.3 j= 3.0 k= 4\n"
     ]
    },
    {
     "name": "stderr",
     "output_type": "stream",
     "text": [
      "c:\\users\\redline pc\\appdata\\local\\programs\\python\\python38\\lib\\site-packages\\xgboost\\sklearn.py:888: UserWarning: The use of label encoder in XGBClassifier is deprecated and will be removed in a future release. To remove this warning, do the following: 1) Pass option use_label_encoder=False when constructing XGBClassifier object; and 2) Encode your labels (y) as integers starting with 0, i.e. 0, 1, 2, ..., [num_class - 1].\n",
      "  warnings.warn(label_encoder_deprecation_msg, UserWarning)\n",
      "c:\\users\\redline pc\\appdata\\local\\programs\\python\\python38\\lib\\site-packages\\sklearn\\utils\\validation.py:63: DataConversionWarning: A column-vector y was passed when a 1d array was expected. Please change the shape of y to (n_samples, ), for example using ravel().\n",
      "  return f(*args, **kwargs)\n"
     ]
    },
    {
     "name": "stdout",
     "output_type": "stream",
     "text": [
      "              precision    recall  f1-score   support\n",
      "\n",
      "    Check-In       0.61      0.38      0.47      1610\n",
      "    Canceled       0.28      0.62      0.38       741\n",
      "     No-Show       0.18      0.04      0.06       398\n",
      "\n",
      "    accuracy                           0.40      2749\n",
      "   macro avg       0.36      0.35      0.30      2749\n",
      "weighted avg       0.46      0.40      0.39      2749\n",
      "\n",
      "==========================================================================\n",
      "i= 0.3 j= 3.0 k= 5\n"
     ]
    },
    {
     "name": "stderr",
     "output_type": "stream",
     "text": [
      "c:\\users\\redline pc\\appdata\\local\\programs\\python\\python38\\lib\\site-packages\\xgboost\\sklearn.py:888: UserWarning: The use of label encoder in XGBClassifier is deprecated and will be removed in a future release. To remove this warning, do the following: 1) Pass option use_label_encoder=False when constructing XGBClassifier object; and 2) Encode your labels (y) as integers starting with 0, i.e. 0, 1, 2, ..., [num_class - 1].\n",
      "  warnings.warn(label_encoder_deprecation_msg, UserWarning)\n",
      "c:\\users\\redline pc\\appdata\\local\\programs\\python\\python38\\lib\\site-packages\\sklearn\\utils\\validation.py:63: DataConversionWarning: A column-vector y was passed when a 1d array was expected. Please change the shape of y to (n_samples, ), for example using ravel().\n",
      "  return f(*args, **kwargs)\n"
     ]
    },
    {
     "name": "stdout",
     "output_type": "stream",
     "text": [
      "              precision    recall  f1-score   support\n",
      "\n",
      "    Check-In       0.61      0.32      0.42      1610\n",
      "    Canceled       0.28      0.66      0.39       741\n",
      "     No-Show       0.19      0.06      0.09       398\n",
      "\n",
      "    accuracy                           0.38      2749\n",
      "   macro avg       0.36      0.35      0.30      2749\n",
      "weighted avg       0.46      0.38      0.36      2749\n",
      "\n",
      "==========================================================================\n",
      "i= 0.3 j= 3.0 k= 6\n"
     ]
    },
    {
     "name": "stderr",
     "output_type": "stream",
     "text": [
      "c:\\users\\redline pc\\appdata\\local\\programs\\python\\python38\\lib\\site-packages\\xgboost\\sklearn.py:888: UserWarning: The use of label encoder in XGBClassifier is deprecated and will be removed in a future release. To remove this warning, do the following: 1) Pass option use_label_encoder=False when constructing XGBClassifier object; and 2) Encode your labels (y) as integers starting with 0, i.e. 0, 1, 2, ..., [num_class - 1].\n",
      "  warnings.warn(label_encoder_deprecation_msg, UserWarning)\n",
      "c:\\users\\redline pc\\appdata\\local\\programs\\python\\python38\\lib\\site-packages\\sklearn\\utils\\validation.py:63: DataConversionWarning: A column-vector y was passed when a 1d array was expected. Please change the shape of y to (n_samples, ), for example using ravel().\n",
      "  return f(*args, **kwargs)\n"
     ]
    },
    {
     "name": "stdout",
     "output_type": "stream",
     "text": [
      "              precision    recall  f1-score   support\n",
      "\n",
      "    Check-In       0.61      0.30      0.40      1610\n",
      "    Canceled       0.28      0.69      0.39       741\n",
      "     No-Show       0.16      0.05      0.08       398\n",
      "\n",
      "    accuracy                           0.37      2749\n",
      "   macro avg       0.35      0.34      0.29      2749\n",
      "weighted avg       0.46      0.37      0.35      2749\n",
      "\n",
      "==========================================================================\n",
      "i= 0.3 j= 3.0 k= 7\n"
     ]
    },
    {
     "name": "stderr",
     "output_type": "stream",
     "text": [
      "c:\\users\\redline pc\\appdata\\local\\programs\\python\\python38\\lib\\site-packages\\xgboost\\sklearn.py:888: UserWarning: The use of label encoder in XGBClassifier is deprecated and will be removed in a future release. To remove this warning, do the following: 1) Pass option use_label_encoder=False when constructing XGBClassifier object; and 2) Encode your labels (y) as integers starting with 0, i.e. 0, 1, 2, ..., [num_class - 1].\n",
      "  warnings.warn(label_encoder_deprecation_msg, UserWarning)\n",
      "c:\\users\\redline pc\\appdata\\local\\programs\\python\\python38\\lib\\site-packages\\sklearn\\utils\\validation.py:63: DataConversionWarning: A column-vector y was passed when a 1d array was expected. Please change the shape of y to (n_samples, ), for example using ravel().\n",
      "  return f(*args, **kwargs)\n"
     ]
    },
    {
     "name": "stdout",
     "output_type": "stream",
     "text": [
      "              precision    recall  f1-score   support\n",
      "\n",
      "    Check-In       0.61      0.27      0.37      1610\n",
      "    Canceled       0.27      0.70      0.40       741\n",
      "     No-Show       0.12      0.04      0.06       398\n",
      "\n",
      "    accuracy                           0.35      2749\n",
      "   macro avg       0.33      0.34      0.28      2749\n",
      "weighted avg       0.45      0.35      0.33      2749\n",
      "\n",
      "==========================================================================\n",
      "i= 0.3 j= 3.0 k= 8\n"
     ]
    },
    {
     "name": "stderr",
     "output_type": "stream",
     "text": [
      "c:\\users\\redline pc\\appdata\\local\\programs\\python\\python38\\lib\\site-packages\\xgboost\\sklearn.py:888: UserWarning: The use of label encoder in XGBClassifier is deprecated and will be removed in a future release. To remove this warning, do the following: 1) Pass option use_label_encoder=False when constructing XGBClassifier object; and 2) Encode your labels (y) as integers starting with 0, i.e. 0, 1, 2, ..., [num_class - 1].\n",
      "  warnings.warn(label_encoder_deprecation_msg, UserWarning)\n",
      "c:\\users\\redline pc\\appdata\\local\\programs\\python\\python38\\lib\\site-packages\\sklearn\\utils\\validation.py:63: DataConversionWarning: A column-vector y was passed when a 1d array was expected. Please change the shape of y to (n_samples, ), for example using ravel().\n",
      "  return f(*args, **kwargs)\n"
     ]
    },
    {
     "name": "stdout",
     "output_type": "stream",
     "text": [
      "              precision    recall  f1-score   support\n",
      "\n",
      "    Check-In       0.62      0.27      0.37      1610\n",
      "    Canceled       0.28      0.70      0.40       741\n",
      "     No-Show       0.18      0.09      0.11       398\n",
      "\n",
      "    accuracy                           0.36      2749\n",
      "   macro avg       0.36      0.35      0.29      2749\n",
      "weighted avg       0.46      0.36      0.34      2749\n",
      "\n",
      "==========================================================================\n",
      "i= 0.3 j= 3.0 k= 9\n"
     ]
    },
    {
     "name": "stderr",
     "output_type": "stream",
     "text": [
      "c:\\users\\redline pc\\appdata\\local\\programs\\python\\python38\\lib\\site-packages\\xgboost\\sklearn.py:888: UserWarning: The use of label encoder in XGBClassifier is deprecated and will be removed in a future release. To remove this warning, do the following: 1) Pass option use_label_encoder=False when constructing XGBClassifier object; and 2) Encode your labels (y) as integers starting with 0, i.e. 0, 1, 2, ..., [num_class - 1].\n",
      "  warnings.warn(label_encoder_deprecation_msg, UserWarning)\n",
      "c:\\users\\redline pc\\appdata\\local\\programs\\python\\python38\\lib\\site-packages\\sklearn\\utils\\validation.py:63: DataConversionWarning: A column-vector y was passed when a 1d array was expected. Please change the shape of y to (n_samples, ), for example using ravel().\n",
      "  return f(*args, **kwargs)\n"
     ]
    },
    {
     "name": "stdout",
     "output_type": "stream",
     "text": [
      "              precision    recall  f1-score   support\n",
      "\n",
      "    Check-In       0.63      0.24      0.34      1610\n",
      "    Canceled       0.28      0.75      0.41       741\n",
      "     No-Show       0.16      0.06      0.09       398\n",
      "\n",
      "    accuracy                           0.35      2749\n",
      "   macro avg       0.36      0.35      0.28      2749\n",
      "weighted avg       0.47      0.35      0.32      2749\n",
      "\n",
      "==========================================================================\n",
      "i= 0.3 j= 3.5 k= 3\n"
     ]
    },
    {
     "name": "stderr",
     "output_type": "stream",
     "text": [
      "c:\\users\\redline pc\\appdata\\local\\programs\\python\\python38\\lib\\site-packages\\xgboost\\sklearn.py:888: UserWarning: The use of label encoder in XGBClassifier is deprecated and will be removed in a future release. To remove this warning, do the following: 1) Pass option use_label_encoder=False when constructing XGBClassifier object; and 2) Encode your labels (y) as integers starting with 0, i.e. 0, 1, 2, ..., [num_class - 1].\n",
      "  warnings.warn(label_encoder_deprecation_msg, UserWarning)\n",
      "c:\\users\\redline pc\\appdata\\local\\programs\\python\\python38\\lib\\site-packages\\sklearn\\utils\\validation.py:63: DataConversionWarning: A column-vector y was passed when a 1d array was expected. Please change the shape of y to (n_samples, ), for example using ravel().\n",
      "  return f(*args, **kwargs)\n"
     ]
    },
    {
     "name": "stdout",
     "output_type": "stream",
     "text": [
      "              precision    recall  f1-score   support\n",
      "\n",
      "    Check-In       0.61      0.41      0.49      1610\n",
      "    Canceled       0.28      0.62      0.39       741\n",
      "     No-Show       0.21      0.02      0.03       398\n",
      "\n",
      "    accuracy                           0.41      2749\n",
      "   macro avg       0.37      0.35      0.30      2749\n",
      "weighted avg       0.46      0.41      0.40      2749\n",
      "\n",
      "==========================================================================\n",
      "i= 0.3 j= 3.5 k= 4\n"
     ]
    },
    {
     "name": "stderr",
     "output_type": "stream",
     "text": [
      "c:\\users\\redline pc\\appdata\\local\\programs\\python\\python38\\lib\\site-packages\\xgboost\\sklearn.py:888: UserWarning: The use of label encoder in XGBClassifier is deprecated and will be removed in a future release. To remove this warning, do the following: 1) Pass option use_label_encoder=False when constructing XGBClassifier object; and 2) Encode your labels (y) as integers starting with 0, i.e. 0, 1, 2, ..., [num_class - 1].\n",
      "  warnings.warn(label_encoder_deprecation_msg, UserWarning)\n",
      "c:\\users\\redline pc\\appdata\\local\\programs\\python\\python38\\lib\\site-packages\\sklearn\\utils\\validation.py:63: DataConversionWarning: A column-vector y was passed when a 1d array was expected. Please change the shape of y to (n_samples, ), for example using ravel().\n",
      "  return f(*args, **kwargs)\n"
     ]
    },
    {
     "name": "stdout",
     "output_type": "stream",
     "text": [
      "              precision    recall  f1-score   support\n",
      "\n",
      "    Check-In       0.60      0.38      0.47      1610\n",
      "    Canceled       0.28      0.60      0.38       741\n",
      "     No-Show       0.16      0.05      0.08       398\n",
      "\n",
      "    accuracy                           0.39      2749\n",
      "   macro avg       0.35      0.35      0.31      2749\n",
      "weighted avg       0.45      0.39      0.39      2749\n",
      "\n",
      "==========================================================================\n",
      "i= 0.3 j= 3.5 k= 5\n"
     ]
    },
    {
     "name": "stderr",
     "output_type": "stream",
     "text": [
      "c:\\users\\redline pc\\appdata\\local\\programs\\python\\python38\\lib\\site-packages\\xgboost\\sklearn.py:888: UserWarning: The use of label encoder in XGBClassifier is deprecated and will be removed in a future release. To remove this warning, do the following: 1) Pass option use_label_encoder=False when constructing XGBClassifier object; and 2) Encode your labels (y) as integers starting with 0, i.e. 0, 1, 2, ..., [num_class - 1].\n",
      "  warnings.warn(label_encoder_deprecation_msg, UserWarning)\n",
      "c:\\users\\redline pc\\appdata\\local\\programs\\python\\python38\\lib\\site-packages\\sklearn\\utils\\validation.py:63: DataConversionWarning: A column-vector y was passed when a 1d array was expected. Please change the shape of y to (n_samples, ), for example using ravel().\n",
      "  return f(*args, **kwargs)\n"
     ]
    },
    {
     "name": "stdout",
     "output_type": "stream",
     "text": [
      "              precision    recall  f1-score   support\n",
      "\n",
      "    Check-In       0.60      0.40      0.48      1610\n",
      "    Canceled       0.29      0.53      0.37       741\n",
      "     No-Show       0.17      0.13      0.15       398\n",
      "\n",
      "    accuracy                           0.40      2749\n",
      "   macro avg       0.35      0.35      0.33      2749\n",
      "weighted avg       0.45      0.40      0.40      2749\n",
      "\n",
      "==========================================================================\n",
      "i= 0.3 j= 3.5 k= 6\n"
     ]
    },
    {
     "name": "stderr",
     "output_type": "stream",
     "text": [
      "c:\\users\\redline pc\\appdata\\local\\programs\\python\\python38\\lib\\site-packages\\xgboost\\sklearn.py:888: UserWarning: The use of label encoder in XGBClassifier is deprecated and will be removed in a future release. To remove this warning, do the following: 1) Pass option use_label_encoder=False when constructing XGBClassifier object; and 2) Encode your labels (y) as integers starting with 0, i.e. 0, 1, 2, ..., [num_class - 1].\n",
      "  warnings.warn(label_encoder_deprecation_msg, UserWarning)\n",
      "c:\\users\\redline pc\\appdata\\local\\programs\\python\\python38\\lib\\site-packages\\sklearn\\utils\\validation.py:63: DataConversionWarning: A column-vector y was passed when a 1d array was expected. Please change the shape of y to (n_samples, ), for example using ravel().\n",
      "  return f(*args, **kwargs)\n"
     ]
    },
    {
     "name": "stdout",
     "output_type": "stream",
     "text": [
      "              precision    recall  f1-score   support\n",
      "\n",
      "    Check-In       0.61      0.39      0.47      1610\n",
      "    Canceled       0.28      0.45      0.35       741\n",
      "     No-Show       0.16      0.21      0.18       398\n",
      "\n",
      "    accuracy                           0.38      2749\n",
      "   macro avg       0.35      0.35      0.33      2749\n",
      "weighted avg       0.45      0.38      0.40      2749\n",
      "\n",
      "==========================================================================\n",
      "i= 0.3 j= 3.5 k= 7\n"
     ]
    },
    {
     "name": "stderr",
     "output_type": "stream",
     "text": [
      "c:\\users\\redline pc\\appdata\\local\\programs\\python\\python38\\lib\\site-packages\\xgboost\\sklearn.py:888: UserWarning: The use of label encoder in XGBClassifier is deprecated and will be removed in a future release. To remove this warning, do the following: 1) Pass option use_label_encoder=False when constructing XGBClassifier object; and 2) Encode your labels (y) as integers starting with 0, i.e. 0, 1, 2, ..., [num_class - 1].\n",
      "  warnings.warn(label_encoder_deprecation_msg, UserWarning)\n",
      "c:\\users\\redline pc\\appdata\\local\\programs\\python\\python38\\lib\\site-packages\\sklearn\\utils\\validation.py:63: DataConversionWarning: A column-vector y was passed when a 1d array was expected. Please change the shape of y to (n_samples, ), for example using ravel().\n",
      "  return f(*args, **kwargs)\n"
     ]
    },
    {
     "name": "stdout",
     "output_type": "stream",
     "text": [
      "              precision    recall  f1-score   support\n",
      "\n",
      "    Check-In       0.60      0.38      0.47      1610\n",
      "    Canceled       0.28      0.34      0.31       741\n",
      "     No-Show       0.15      0.31      0.20       398\n",
      "\n",
      "    accuracy                           0.36      2749\n",
      "   macro avg       0.34      0.34      0.33      2749\n",
      "weighted avg       0.45      0.36      0.39      2749\n",
      "\n",
      "==========================================================================\n",
      "i= 0.3 j= 3.5 k= 8\n"
     ]
    },
    {
     "name": "stderr",
     "output_type": "stream",
     "text": [
      "c:\\users\\redline pc\\appdata\\local\\programs\\python\\python38\\lib\\site-packages\\xgboost\\sklearn.py:888: UserWarning: The use of label encoder in XGBClassifier is deprecated and will be removed in a future release. To remove this warning, do the following: 1) Pass option use_label_encoder=False when constructing XGBClassifier object; and 2) Encode your labels (y) as integers starting with 0, i.e. 0, 1, 2, ..., [num_class - 1].\n",
      "  warnings.warn(label_encoder_deprecation_msg, UserWarning)\n",
      "c:\\users\\redline pc\\appdata\\local\\programs\\python\\python38\\lib\\site-packages\\sklearn\\utils\\validation.py:63: DataConversionWarning: A column-vector y was passed when a 1d array was expected. Please change the shape of y to (n_samples, ), for example using ravel().\n",
      "  return f(*args, **kwargs)\n"
     ]
    },
    {
     "name": "stdout",
     "output_type": "stream",
     "text": [
      "              precision    recall  f1-score   support\n",
      "\n",
      "    Check-In       0.61      0.35      0.44      1610\n",
      "    Canceled       0.28      0.27      0.27       741\n",
      "     No-Show       0.15      0.43      0.23       398\n",
      "\n",
      "    accuracy                           0.34      2749\n",
      "   macro avg       0.35      0.35      0.31      2749\n",
      "weighted avg       0.46      0.34      0.36      2749\n",
      "\n",
      "==========================================================================\n",
      "i= 0.3 j= 3.5 k= 9\n"
     ]
    },
    {
     "name": "stderr",
     "output_type": "stream",
     "text": [
      "c:\\users\\redline pc\\appdata\\local\\programs\\python\\python38\\lib\\site-packages\\xgboost\\sklearn.py:888: UserWarning: The use of label encoder in XGBClassifier is deprecated and will be removed in a future release. To remove this warning, do the following: 1) Pass option use_label_encoder=False when constructing XGBClassifier object; and 2) Encode your labels (y) as integers starting with 0, i.e. 0, 1, 2, ..., [num_class - 1].\n",
      "  warnings.warn(label_encoder_deprecation_msg, UserWarning)\n",
      "c:\\users\\redline pc\\appdata\\local\\programs\\python\\python38\\lib\\site-packages\\sklearn\\utils\\validation.py:63: DataConversionWarning: A column-vector y was passed when a 1d array was expected. Please change the shape of y to (n_samples, ), for example using ravel().\n",
      "  return f(*args, **kwargs)\n"
     ]
    },
    {
     "name": "stdout",
     "output_type": "stream",
     "text": [
      "              precision    recall  f1-score   support\n",
      "\n",
      "    Check-In       0.61      0.32      0.42      1610\n",
      "    Canceled       0.29      0.22      0.25       741\n",
      "     No-Show       0.15      0.50      0.23       398\n",
      "\n",
      "    accuracy                           0.32      2749\n",
      "   macro avg       0.35      0.35      0.30      2749\n",
      "weighted avg       0.46      0.32      0.35      2749\n",
      "\n",
      "==========================================================================\n",
      "i= 0.3 j= 4.0 k= 3\n"
     ]
    },
    {
     "name": "stderr",
     "output_type": "stream",
     "text": [
      "c:\\users\\redline pc\\appdata\\local\\programs\\python\\python38\\lib\\site-packages\\xgboost\\sklearn.py:888: UserWarning: The use of label encoder in XGBClassifier is deprecated and will be removed in a future release. To remove this warning, do the following: 1) Pass option use_label_encoder=False when constructing XGBClassifier object; and 2) Encode your labels (y) as integers starting with 0, i.e. 0, 1, 2, ..., [num_class - 1].\n",
      "  warnings.warn(label_encoder_deprecation_msg, UserWarning)\n",
      "c:\\users\\redline pc\\appdata\\local\\programs\\python\\python38\\lib\\site-packages\\sklearn\\utils\\validation.py:63: DataConversionWarning: A column-vector y was passed when a 1d array was expected. Please change the shape of y to (n_samples, ), for example using ravel().\n",
      "  return f(*args, **kwargs)\n"
     ]
    },
    {
     "name": "stdout",
     "output_type": "stream",
     "text": [
      "              precision    recall  f1-score   support\n",
      "\n",
      "    Check-In       0.61      0.40      0.48      1610\n",
      "    Canceled       0.28      0.63      0.39       741\n",
      "     No-Show       0.15      0.01      0.02       398\n",
      "\n",
      "    accuracy                           0.40      2749\n",
      "   macro avg       0.35      0.35      0.30      2749\n",
      "weighted avg       0.45      0.40      0.39      2749\n",
      "\n",
      "==========================================================================\n",
      "i= 0.3 j= 4.0 k= 4\n"
     ]
    },
    {
     "name": "stderr",
     "output_type": "stream",
     "text": [
      "c:\\users\\redline pc\\appdata\\local\\programs\\python\\python38\\lib\\site-packages\\xgboost\\sklearn.py:888: UserWarning: The use of label encoder in XGBClassifier is deprecated and will be removed in a future release. To remove this warning, do the following: 1) Pass option use_label_encoder=False when constructing XGBClassifier object; and 2) Encode your labels (y) as integers starting with 0, i.e. 0, 1, 2, ..., [num_class - 1].\n",
      "  warnings.warn(label_encoder_deprecation_msg, UserWarning)\n",
      "c:\\users\\redline pc\\appdata\\local\\programs\\python\\python38\\lib\\site-packages\\sklearn\\utils\\validation.py:63: DataConversionWarning: A column-vector y was passed when a 1d array was expected. Please change the shape of y to (n_samples, ), for example using ravel().\n",
      "  return f(*args, **kwargs)\n"
     ]
    },
    {
     "name": "stdout",
     "output_type": "stream",
     "text": [
      "              precision    recall  f1-score   support\n",
      "\n",
      "    Check-In       0.61      0.38      0.47      1610\n",
      "    Canceled       0.28      0.62      0.38       741\n",
      "     No-Show       0.18      0.04      0.06       398\n",
      "\n",
      "    accuracy                           0.40      2749\n",
      "   macro avg       0.36      0.35      0.30      2749\n",
      "weighted avg       0.46      0.40      0.39      2749\n",
      "\n",
      "==========================================================================\n",
      "i= 0.3 j= 4.0 k= 5\n"
     ]
    },
    {
     "name": "stderr",
     "output_type": "stream",
     "text": [
      "c:\\users\\redline pc\\appdata\\local\\programs\\python\\python38\\lib\\site-packages\\xgboost\\sklearn.py:888: UserWarning: The use of label encoder in XGBClassifier is deprecated and will be removed in a future release. To remove this warning, do the following: 1) Pass option use_label_encoder=False when constructing XGBClassifier object; and 2) Encode your labels (y) as integers starting with 0, i.e. 0, 1, 2, ..., [num_class - 1].\n",
      "  warnings.warn(label_encoder_deprecation_msg, UserWarning)\n",
      "c:\\users\\redline pc\\appdata\\local\\programs\\python\\python38\\lib\\site-packages\\sklearn\\utils\\validation.py:63: DataConversionWarning: A column-vector y was passed when a 1d array was expected. Please change the shape of y to (n_samples, ), for example using ravel().\n",
      "  return f(*args, **kwargs)\n"
     ]
    },
    {
     "name": "stdout",
     "output_type": "stream",
     "text": [
      "              precision    recall  f1-score   support\n",
      "\n",
      "    Check-In       0.61      0.35      0.44      1610\n",
      "    Canceled       0.28      0.60      0.38       741\n",
      "     No-Show       0.17      0.10      0.12       398\n",
      "\n",
      "    accuracy                           0.38      2749\n",
      "   macro avg       0.35      0.35      0.31      2749\n",
      "weighted avg       0.46      0.38      0.38      2749\n",
      "\n",
      "==========================================================================\n",
      "i= 0.3 j= 4.0 k= 6\n"
     ]
    },
    {
     "name": "stderr",
     "output_type": "stream",
     "text": [
      "c:\\users\\redline pc\\appdata\\local\\programs\\python\\python38\\lib\\site-packages\\xgboost\\sklearn.py:888: UserWarning: The use of label encoder in XGBClassifier is deprecated and will be removed in a future release. To remove this warning, do the following: 1) Pass option use_label_encoder=False when constructing XGBClassifier object; and 2) Encode your labels (y) as integers starting with 0, i.e. 0, 1, 2, ..., [num_class - 1].\n",
      "  warnings.warn(label_encoder_deprecation_msg, UserWarning)\n",
      "c:\\users\\redline pc\\appdata\\local\\programs\\python\\python38\\lib\\site-packages\\sklearn\\utils\\validation.py:63: DataConversionWarning: A column-vector y was passed when a 1d array was expected. Please change the shape of y to (n_samples, ), for example using ravel().\n",
      "  return f(*args, **kwargs)\n"
     ]
    },
    {
     "name": "stdout",
     "output_type": "stream",
     "text": [
      "              precision    recall  f1-score   support\n",
      "\n",
      "    Check-In       0.60      0.37      0.46      1610\n",
      "    Canceled       0.28      0.49      0.36       741\n",
      "     No-Show       0.17      0.20      0.18       398\n",
      "\n",
      "    accuracy                           0.38      2749\n",
      "   macro avg       0.35      0.35      0.33      2749\n",
      "weighted avg       0.45      0.38      0.39      2749\n",
      "\n",
      "==========================================================================\n",
      "i= 0.3 j= 4.0 k= 7\n"
     ]
    },
    {
     "name": "stderr",
     "output_type": "stream",
     "text": [
      "c:\\users\\redline pc\\appdata\\local\\programs\\python\\python38\\lib\\site-packages\\xgboost\\sklearn.py:888: UserWarning: The use of label encoder in XGBClassifier is deprecated and will be removed in a future release. To remove this warning, do the following: 1) Pass option use_label_encoder=False when constructing XGBClassifier object; and 2) Encode your labels (y) as integers starting with 0, i.e. 0, 1, 2, ..., [num_class - 1].\n",
      "  warnings.warn(label_encoder_deprecation_msg, UserWarning)\n",
      "c:\\users\\redline pc\\appdata\\local\\programs\\python\\python38\\lib\\site-packages\\sklearn\\utils\\validation.py:63: DataConversionWarning: A column-vector y was passed when a 1d array was expected. Please change the shape of y to (n_samples, ), for example using ravel().\n",
      "  return f(*args, **kwargs)\n"
     ]
    },
    {
     "name": "stdout",
     "output_type": "stream",
     "text": [
      "              precision    recall  f1-score   support\n",
      "\n",
      "    Check-In       0.60      0.35      0.44      1610\n",
      "    Canceled       0.28      0.46      0.35       741\n",
      "     No-Show       0.16      0.23      0.19       398\n",
      "\n",
      "    accuracy                           0.36      2749\n",
      "   macro avg       0.35      0.35      0.33      2749\n",
      "weighted avg       0.45      0.36      0.38      2749\n",
      "\n",
      "==========================================================================\n",
      "i= 0.3 j= 4.0 k= 8\n"
     ]
    },
    {
     "name": "stderr",
     "output_type": "stream",
     "text": [
      "c:\\users\\redline pc\\appdata\\local\\programs\\python\\python38\\lib\\site-packages\\xgboost\\sklearn.py:888: UserWarning: The use of label encoder in XGBClassifier is deprecated and will be removed in a future release. To remove this warning, do the following: 1) Pass option use_label_encoder=False when constructing XGBClassifier object; and 2) Encode your labels (y) as integers starting with 0, i.e. 0, 1, 2, ..., [num_class - 1].\n",
      "  warnings.warn(label_encoder_deprecation_msg, UserWarning)\n",
      "c:\\users\\redline pc\\appdata\\local\\programs\\python\\python38\\lib\\site-packages\\sklearn\\utils\\validation.py:63: DataConversionWarning: A column-vector y was passed when a 1d array was expected. Please change the shape of y to (n_samples, ), for example using ravel().\n",
      "  return f(*args, **kwargs)\n"
     ]
    },
    {
     "name": "stdout",
     "output_type": "stream",
     "text": [
      "              precision    recall  f1-score   support\n",
      "\n",
      "    Check-In       0.61      0.34      0.44      1610\n",
      "    Canceled       0.28      0.36      0.32       741\n",
      "     No-Show       0.16      0.35      0.22       398\n",
      "\n",
      "    accuracy                           0.35      2749\n",
      "   macro avg       0.35      0.35      0.32      2749\n",
      "weighted avg       0.46      0.35      0.37      2749\n",
      "\n",
      "==========================================================================\n",
      "i= 0.3 j= 4.0 k= 9\n"
     ]
    },
    {
     "name": "stderr",
     "output_type": "stream",
     "text": [
      "c:\\users\\redline pc\\appdata\\local\\programs\\python\\python38\\lib\\site-packages\\xgboost\\sklearn.py:888: UserWarning: The use of label encoder in XGBClassifier is deprecated and will be removed in a future release. To remove this warning, do the following: 1) Pass option use_label_encoder=False when constructing XGBClassifier object; and 2) Encode your labels (y) as integers starting with 0, i.e. 0, 1, 2, ..., [num_class - 1].\n",
      "  warnings.warn(label_encoder_deprecation_msg, UserWarning)\n",
      "c:\\users\\redline pc\\appdata\\local\\programs\\python\\python38\\lib\\site-packages\\sklearn\\utils\\validation.py:63: DataConversionWarning: A column-vector y was passed when a 1d array was expected. Please change the shape of y to (n_samples, ), for example using ravel().\n",
      "  return f(*args, **kwargs)\n"
     ]
    },
    {
     "name": "stdout",
     "output_type": "stream",
     "text": [
      "              precision    recall  f1-score   support\n",
      "\n",
      "    Check-In       0.60      0.32      0.42      1610\n",
      "    Canceled       0.27      0.25      0.26       741\n",
      "     No-Show       0.15      0.44      0.22       398\n",
      "\n",
      "    accuracy                           0.32      2749\n",
      "   macro avg       0.34      0.34      0.30      2749\n",
      "weighted avg       0.45      0.32      0.35      2749\n",
      "\n",
      "==========================================================================\n",
      "i= 0.3 j= 4.5 k= 3\n"
     ]
    },
    {
     "name": "stderr",
     "output_type": "stream",
     "text": [
      "c:\\users\\redline pc\\appdata\\local\\programs\\python\\python38\\lib\\site-packages\\xgboost\\sklearn.py:888: UserWarning: The use of label encoder in XGBClassifier is deprecated and will be removed in a future release. To remove this warning, do the following: 1) Pass option use_label_encoder=False when constructing XGBClassifier object; and 2) Encode your labels (y) as integers starting with 0, i.e. 0, 1, 2, ..., [num_class - 1].\n",
      "  warnings.warn(label_encoder_deprecation_msg, UserWarning)\n",
      "c:\\users\\redline pc\\appdata\\local\\programs\\python\\python38\\lib\\site-packages\\sklearn\\utils\\validation.py:63: DataConversionWarning: A column-vector y was passed when a 1d array was expected. Please change the shape of y to (n_samples, ), for example using ravel().\n",
      "  return f(*args, **kwargs)\n"
     ]
    },
    {
     "name": "stdout",
     "output_type": "stream",
     "text": [
      "              precision    recall  f1-score   support\n",
      "\n",
      "    Check-In       0.61      0.36      0.45      1610\n",
      "    Canceled       0.28      0.67      0.39       741\n",
      "     No-Show       0.05      0.00      0.00       398\n",
      "\n",
      "    accuracy                           0.39      2749\n",
      "   macro avg       0.31      0.34      0.28      2749\n",
      "weighted avg       0.44      0.39      0.37      2749\n",
      "\n",
      "==========================================================================\n",
      "i= 0.3 j= 4.5 k= 4\n"
     ]
    },
    {
     "name": "stderr",
     "output_type": "stream",
     "text": [
      "c:\\users\\redline pc\\appdata\\local\\programs\\python\\python38\\lib\\site-packages\\xgboost\\sklearn.py:888: UserWarning: The use of label encoder in XGBClassifier is deprecated and will be removed in a future release. To remove this warning, do the following: 1) Pass option use_label_encoder=False when constructing XGBClassifier object; and 2) Encode your labels (y) as integers starting with 0, i.e. 0, 1, 2, ..., [num_class - 1].\n",
      "  warnings.warn(label_encoder_deprecation_msg, UserWarning)\n",
      "c:\\users\\redline pc\\appdata\\local\\programs\\python\\python38\\lib\\site-packages\\sklearn\\utils\\validation.py:63: DataConversionWarning: A column-vector y was passed when a 1d array was expected. Please change the shape of y to (n_samples, ), for example using ravel().\n",
      "  return f(*args, **kwargs)\n"
     ]
    },
    {
     "name": "stdout",
     "output_type": "stream",
     "text": [
      "              precision    recall  f1-score   support\n",
      "\n",
      "    Check-In       0.61      0.37      0.46      1610\n",
      "    Canceled       0.28      0.64      0.39       741\n",
      "     No-Show       0.18      0.03      0.05       398\n",
      "\n",
      "    accuracy                           0.39      2749\n",
      "   macro avg       0.36      0.34      0.30      2749\n",
      "weighted avg       0.46      0.39      0.38      2749\n",
      "\n",
      "==========================================================================\n",
      "i= 0.3 j= 4.5 k= 5\n"
     ]
    },
    {
     "name": "stderr",
     "output_type": "stream",
     "text": [
      "c:\\users\\redline pc\\appdata\\local\\programs\\python\\python38\\lib\\site-packages\\xgboost\\sklearn.py:888: UserWarning: The use of label encoder in XGBClassifier is deprecated and will be removed in a future release. To remove this warning, do the following: 1) Pass option use_label_encoder=False when constructing XGBClassifier object; and 2) Encode your labels (y) as integers starting with 0, i.e. 0, 1, 2, ..., [num_class - 1].\n",
      "  warnings.warn(label_encoder_deprecation_msg, UserWarning)\n",
      "c:\\users\\redline pc\\appdata\\local\\programs\\python\\python38\\lib\\site-packages\\sklearn\\utils\\validation.py:63: DataConversionWarning: A column-vector y was passed when a 1d array was expected. Please change the shape of y to (n_samples, ), for example using ravel().\n",
      "  return f(*args, **kwargs)\n"
     ]
    },
    {
     "name": "stdout",
     "output_type": "stream",
     "text": [
      "              precision    recall  f1-score   support\n",
      "\n",
      "    Check-In       0.61      0.35      0.44      1610\n",
      "    Canceled       0.28      0.65      0.39       741\n",
      "     No-Show       0.19      0.06      0.09       398\n",
      "\n",
      "    accuracy                           0.39      2749\n",
      "   macro avg       0.36      0.35      0.31      2749\n",
      "weighted avg       0.46      0.39      0.38      2749\n",
      "\n",
      "==========================================================================\n",
      "i= 0.3 j= 4.5 k= 6\n"
     ]
    },
    {
     "name": "stderr",
     "output_type": "stream",
     "text": [
      "c:\\users\\redline pc\\appdata\\local\\programs\\python\\python38\\lib\\site-packages\\xgboost\\sklearn.py:888: UserWarning: The use of label encoder in XGBClassifier is deprecated and will be removed in a future release. To remove this warning, do the following: 1) Pass option use_label_encoder=False when constructing XGBClassifier object; and 2) Encode your labels (y) as integers starting with 0, i.e. 0, 1, 2, ..., [num_class - 1].\n",
      "  warnings.warn(label_encoder_deprecation_msg, UserWarning)\n",
      "c:\\users\\redline pc\\appdata\\local\\programs\\python\\python38\\lib\\site-packages\\sklearn\\utils\\validation.py:63: DataConversionWarning: A column-vector y was passed when a 1d array was expected. Please change the shape of y to (n_samples, ), for example using ravel().\n",
      "  return f(*args, **kwargs)\n"
     ]
    },
    {
     "name": "stdout",
     "output_type": "stream",
     "text": [
      "              precision    recall  f1-score   support\n",
      "\n",
      "    Check-In       0.61      0.34      0.43      1610\n",
      "    Canceled       0.28      0.59      0.38       741\n",
      "     No-Show       0.19      0.15      0.16       398\n",
      "\n",
      "    accuracy                           0.38      2749\n",
      "   macro avg       0.36      0.36      0.33      2749\n",
      "weighted avg       0.46      0.38      0.38      2749\n",
      "\n",
      "==========================================================================\n",
      "i= 0.3 j= 4.5 k= 7\n"
     ]
    },
    {
     "name": "stderr",
     "output_type": "stream",
     "text": [
      "c:\\users\\redline pc\\appdata\\local\\programs\\python\\python38\\lib\\site-packages\\xgboost\\sklearn.py:888: UserWarning: The use of label encoder in XGBClassifier is deprecated and will be removed in a future release. To remove this warning, do the following: 1) Pass option use_label_encoder=False when constructing XGBClassifier object; and 2) Encode your labels (y) as integers starting with 0, i.e. 0, 1, 2, ..., [num_class - 1].\n",
      "  warnings.warn(label_encoder_deprecation_msg, UserWarning)\n",
      "c:\\users\\redline pc\\appdata\\local\\programs\\python\\python38\\lib\\site-packages\\sklearn\\utils\\validation.py:63: DataConversionWarning: A column-vector y was passed when a 1d array was expected. Please change the shape of y to (n_samples, ), for example using ravel().\n",
      "  return f(*args, **kwargs)\n"
     ]
    },
    {
     "name": "stdout",
     "output_type": "stream",
     "text": [
      "              precision    recall  f1-score   support\n",
      "\n",
      "    Check-In       0.61      0.33      0.43      1610\n",
      "    Canceled       0.28      0.55      0.37       741\n",
      "     No-Show       0.15      0.17      0.16       398\n",
      "\n",
      "    accuracy                           0.36      2749\n",
      "   macro avg       0.35      0.35      0.32      2749\n",
      "weighted avg       0.45      0.36      0.37      2749\n",
      "\n",
      "==========================================================================\n",
      "i= 0.3 j= 4.5 k= 8\n"
     ]
    },
    {
     "name": "stderr",
     "output_type": "stream",
     "text": [
      "c:\\users\\redline pc\\appdata\\local\\programs\\python\\python38\\lib\\site-packages\\xgboost\\sklearn.py:888: UserWarning: The use of label encoder in XGBClassifier is deprecated and will be removed in a future release. To remove this warning, do the following: 1) Pass option use_label_encoder=False when constructing XGBClassifier object; and 2) Encode your labels (y) as integers starting with 0, i.e. 0, 1, 2, ..., [num_class - 1].\n",
      "  warnings.warn(label_encoder_deprecation_msg, UserWarning)\n",
      "c:\\users\\redline pc\\appdata\\local\\programs\\python\\python38\\lib\\site-packages\\sklearn\\utils\\validation.py:63: DataConversionWarning: A column-vector y was passed when a 1d array was expected. Please change the shape of y to (n_samples, ), for example using ravel().\n",
      "  return f(*args, **kwargs)\n"
     ]
    },
    {
     "name": "stdout",
     "output_type": "stream",
     "text": [
      "              precision    recall  f1-score   support\n",
      "\n",
      "    Check-In       0.61      0.34      0.44      1610\n",
      "    Canceled       0.28      0.44      0.34       741\n",
      "     No-Show       0.17      0.30      0.22       398\n",
      "\n",
      "    accuracy                           0.36      2749\n",
      "   macro avg       0.35      0.36      0.33      2749\n",
      "weighted avg       0.46      0.36      0.38      2749\n",
      "\n",
      "==========================================================================\n",
      "i= 0.3 j= 4.5 k= 9\n"
     ]
    },
    {
     "name": "stderr",
     "output_type": "stream",
     "text": [
      "c:\\users\\redline pc\\appdata\\local\\programs\\python\\python38\\lib\\site-packages\\xgboost\\sklearn.py:888: UserWarning: The use of label encoder in XGBClassifier is deprecated and will be removed in a future release. To remove this warning, do the following: 1) Pass option use_label_encoder=False when constructing XGBClassifier object; and 2) Encode your labels (y) as integers starting with 0, i.e. 0, 1, 2, ..., [num_class - 1].\n",
      "  warnings.warn(label_encoder_deprecation_msg, UserWarning)\n",
      "c:\\users\\redline pc\\appdata\\local\\programs\\python\\python38\\lib\\site-packages\\sklearn\\utils\\validation.py:63: DataConversionWarning: A column-vector y was passed when a 1d array was expected. Please change the shape of y to (n_samples, ), for example using ravel().\n",
      "  return f(*args, **kwargs)\n"
     ]
    },
    {
     "name": "stdout",
     "output_type": "stream",
     "text": [
      "              precision    recall  f1-score   support\n",
      "\n",
      "    Check-In       0.61      0.33      0.43      1610\n",
      "    Canceled       0.28      0.32      0.30       741\n",
      "     No-Show       0.16      0.41      0.23       398\n",
      "\n",
      "    accuracy                           0.34      2749\n",
      "   macro avg       0.35      0.35      0.32      2749\n",
      "weighted avg       0.46      0.34      0.37      2749\n",
      "\n",
      "==========================================================================\n",
      "i= 0.4 j= 1.5 k= 3\n"
     ]
    },
    {
     "name": "stderr",
     "output_type": "stream",
     "text": [
      "c:\\users\\redline pc\\appdata\\local\\programs\\python\\python38\\lib\\site-packages\\xgboost\\sklearn.py:888: UserWarning: The use of label encoder in XGBClassifier is deprecated and will be removed in a future release. To remove this warning, do the following: 1) Pass option use_label_encoder=False when constructing XGBClassifier object; and 2) Encode your labels (y) as integers starting with 0, i.e. 0, 1, 2, ..., [num_class - 1].\n",
      "  warnings.warn(label_encoder_deprecation_msg, UserWarning)\n",
      "c:\\users\\redline pc\\appdata\\local\\programs\\python\\python38\\lib\\site-packages\\sklearn\\utils\\validation.py:63: DataConversionWarning: A column-vector y was passed when a 1d array was expected. Please change the shape of y to (n_samples, ), for example using ravel().\n",
      "  return f(*args, **kwargs)\n"
     ]
    },
    {
     "name": "stdout",
     "output_type": "stream",
     "text": [
      "              precision    recall  f1-score   support\n",
      "\n",
      "    Check-In       0.59      0.71      0.65      1610\n",
      "    Canceled       0.27      0.17      0.21       741\n",
      "     No-Show       0.18      0.16      0.17       398\n",
      "\n",
      "    accuracy                           0.48      2749\n",
      "   macro avg       0.35      0.35      0.34      2749\n",
      "weighted avg       0.45      0.48      0.46      2749\n",
      "\n",
      "==========================================================================\n",
      "i= 0.4 j= 1.5 k= 4\n"
     ]
    },
    {
     "name": "stderr",
     "output_type": "stream",
     "text": [
      "c:\\users\\redline pc\\appdata\\local\\programs\\python\\python38\\lib\\site-packages\\xgboost\\sklearn.py:888: UserWarning: The use of label encoder in XGBClassifier is deprecated and will be removed in a future release. To remove this warning, do the following: 1) Pass option use_label_encoder=False when constructing XGBClassifier object; and 2) Encode your labels (y) as integers starting with 0, i.e. 0, 1, 2, ..., [num_class - 1].\n",
      "  warnings.warn(label_encoder_deprecation_msg, UserWarning)\n",
      "c:\\users\\redline pc\\appdata\\local\\programs\\python\\python38\\lib\\site-packages\\sklearn\\utils\\validation.py:63: DataConversionWarning: A column-vector y was passed when a 1d array was expected. Please change the shape of y to (n_samples, ), for example using ravel().\n",
      "  return f(*args, **kwargs)\n"
     ]
    },
    {
     "name": "stdout",
     "output_type": "stream",
     "text": [
      "              precision    recall  f1-score   support\n",
      "\n",
      "    Check-In       0.59      0.67      0.63      1610\n",
      "    Canceled       0.27      0.10      0.14       741\n",
      "     No-Show       0.16      0.27      0.20       398\n",
      "\n",
      "    accuracy                           0.46      2749\n",
      "   macro avg       0.34      0.34      0.32      2749\n",
      "weighted avg       0.44      0.46      0.44      2749\n",
      "\n",
      "==========================================================================\n",
      "i= 0.4 j= 1.5 k= 5\n"
     ]
    },
    {
     "name": "stderr",
     "output_type": "stream",
     "text": [
      "c:\\users\\redline pc\\appdata\\local\\programs\\python\\python38\\lib\\site-packages\\xgboost\\sklearn.py:888: UserWarning: The use of label encoder in XGBClassifier is deprecated and will be removed in a future release. To remove this warning, do the following: 1) Pass option use_label_encoder=False when constructing XGBClassifier object; and 2) Encode your labels (y) as integers starting with 0, i.e. 0, 1, 2, ..., [num_class - 1].\n",
      "  warnings.warn(label_encoder_deprecation_msg, UserWarning)\n",
      "c:\\users\\redline pc\\appdata\\local\\programs\\python\\python38\\lib\\site-packages\\sklearn\\utils\\validation.py:63: DataConversionWarning: A column-vector y was passed when a 1d array was expected. Please change the shape of y to (n_samples, ), for example using ravel().\n",
      "  return f(*args, **kwargs)\n"
     ]
    },
    {
     "name": "stdout",
     "output_type": "stream",
     "text": [
      "              precision    recall  f1-score   support\n",
      "\n",
      "    Check-In       0.59      0.63      0.61      1610\n",
      "    Canceled       0.27      0.06      0.09       741\n",
      "     No-Show       0.15      0.33      0.21       398\n",
      "\n",
      "    accuracy                           0.43      2749\n",
      "   macro avg       0.34      0.34      0.30      2749\n",
      "weighted avg       0.44      0.43      0.41      2749\n",
      "\n",
      "==========================================================================\n",
      "i= 0.4 j= 1.5 k= 6\n"
     ]
    },
    {
     "name": "stderr",
     "output_type": "stream",
     "text": [
      "c:\\users\\redline pc\\appdata\\local\\programs\\python\\python38\\lib\\site-packages\\xgboost\\sklearn.py:888: UserWarning: The use of label encoder in XGBClassifier is deprecated and will be removed in a future release. To remove this warning, do the following: 1) Pass option use_label_encoder=False when constructing XGBClassifier object; and 2) Encode your labels (y) as integers starting with 0, i.e. 0, 1, 2, ..., [num_class - 1].\n",
      "  warnings.warn(label_encoder_deprecation_msg, UserWarning)\n",
      "c:\\users\\redline pc\\appdata\\local\\programs\\python\\python38\\lib\\site-packages\\sklearn\\utils\\validation.py:63: DataConversionWarning: A column-vector y was passed when a 1d array was expected. Please change the shape of y to (n_samples, ), for example using ravel().\n",
      "  return f(*args, **kwargs)\n"
     ]
    },
    {
     "name": "stdout",
     "output_type": "stream",
     "text": [
      "              precision    recall  f1-score   support\n",
      "\n",
      "    Check-In       0.59      0.58      0.58      1610\n",
      "    Canceled       0.31      0.04      0.07       741\n",
      "     No-Show       0.15      0.39      0.21       398\n",
      "\n",
      "    accuracy                           0.41      2749\n",
      "   macro avg       0.35      0.34      0.29      2749\n",
      "weighted avg       0.45      0.41      0.39      2749\n",
      "\n",
      "==========================================================================\n",
      "i= 0.4 j= 1.5 k= 7\n"
     ]
    },
    {
     "name": "stderr",
     "output_type": "stream",
     "text": [
      "c:\\users\\redline pc\\appdata\\local\\programs\\python\\python38\\lib\\site-packages\\xgboost\\sklearn.py:888: UserWarning: The use of label encoder in XGBClassifier is deprecated and will be removed in a future release. To remove this warning, do the following: 1) Pass option use_label_encoder=False when constructing XGBClassifier object; and 2) Encode your labels (y) as integers starting with 0, i.e. 0, 1, 2, ..., [num_class - 1].\n",
      "  warnings.warn(label_encoder_deprecation_msg, UserWarning)\n",
      "c:\\users\\redline pc\\appdata\\local\\programs\\python\\python38\\lib\\site-packages\\sklearn\\utils\\validation.py:63: DataConversionWarning: A column-vector y was passed when a 1d array was expected. Please change the shape of y to (n_samples, ), for example using ravel().\n",
      "  return f(*args, **kwargs)\n"
     ]
    },
    {
     "name": "stdout",
     "output_type": "stream",
     "text": [
      "              precision    recall  f1-score   support\n",
      "\n",
      "    Check-In       0.59      0.56      0.58      1610\n",
      "    Canceled       0.31      0.04      0.06       741\n",
      "     No-Show       0.14      0.42      0.22       398\n",
      "\n",
      "    accuracy                           0.40      2749\n",
      "   macro avg       0.35      0.34      0.29      2749\n",
      "weighted avg       0.45      0.40      0.39      2749\n",
      "\n",
      "==========================================================================\n",
      "i= 0.4 j= 1.5 k= 8\n"
     ]
    },
    {
     "name": "stderr",
     "output_type": "stream",
     "text": [
      "c:\\users\\redline pc\\appdata\\local\\programs\\python\\python38\\lib\\site-packages\\xgboost\\sklearn.py:888: UserWarning: The use of label encoder in XGBClassifier is deprecated and will be removed in a future release. To remove this warning, do the following: 1) Pass option use_label_encoder=False when constructing XGBClassifier object; and 2) Encode your labels (y) as integers starting with 0, i.e. 0, 1, 2, ..., [num_class - 1].\n",
      "  warnings.warn(label_encoder_deprecation_msg, UserWarning)\n",
      "c:\\users\\redline pc\\appdata\\local\\programs\\python\\python38\\lib\\site-packages\\sklearn\\utils\\validation.py:63: DataConversionWarning: A column-vector y was passed when a 1d array was expected. Please change the shape of y to (n_samples, ), for example using ravel().\n",
      "  return f(*args, **kwargs)\n"
     ]
    },
    {
     "name": "stdout",
     "output_type": "stream",
     "text": [
      "              precision    recall  f1-score   support\n",
      "\n",
      "    Check-In       0.59      0.54      0.57      1610\n",
      "    Canceled       0.30      0.02      0.04       741\n",
      "     No-Show       0.15      0.45      0.22       398\n",
      "\n",
      "    accuracy                           0.39      2749\n",
      "   macro avg       0.35      0.34      0.28      2749\n",
      "weighted avg       0.45      0.39      0.38      2749\n",
      "\n",
      "==========================================================================\n",
      "i= 0.4 j= 1.5 k= 9\n"
     ]
    },
    {
     "name": "stderr",
     "output_type": "stream",
     "text": [
      "c:\\users\\redline pc\\appdata\\local\\programs\\python\\python38\\lib\\site-packages\\xgboost\\sklearn.py:888: UserWarning: The use of label encoder in XGBClassifier is deprecated and will be removed in a future release. To remove this warning, do the following: 1) Pass option use_label_encoder=False when constructing XGBClassifier object; and 2) Encode your labels (y) as integers starting with 0, i.e. 0, 1, 2, ..., [num_class - 1].\n",
      "  warnings.warn(label_encoder_deprecation_msg, UserWarning)\n",
      "c:\\users\\redline pc\\appdata\\local\\programs\\python\\python38\\lib\\site-packages\\sklearn\\utils\\validation.py:63: DataConversionWarning: A column-vector y was passed when a 1d array was expected. Please change the shape of y to (n_samples, ), for example using ravel().\n",
      "  return f(*args, **kwargs)\n"
     ]
    },
    {
     "name": "stdout",
     "output_type": "stream",
     "text": [
      "              precision    recall  f1-score   support\n",
      "\n",
      "    Check-In       0.59      0.50      0.54      1610\n",
      "    Canceled       0.34      0.02      0.04       741\n",
      "     No-Show       0.14      0.47      0.22       398\n",
      "\n",
      "    accuracy                           0.37      2749\n",
      "   macro avg       0.36      0.33      0.27      2749\n",
      "weighted avg       0.46      0.37      0.36      2749\n",
      "\n",
      "==========================================================================\n",
      "i= 0.4 j= 2.0 k= 3\n"
     ]
    },
    {
     "name": "stderr",
     "output_type": "stream",
     "text": [
      "c:\\users\\redline pc\\appdata\\local\\programs\\python\\python38\\lib\\site-packages\\xgboost\\sklearn.py:888: UserWarning: The use of label encoder in XGBClassifier is deprecated and will be removed in a future release. To remove this warning, do the following: 1) Pass option use_label_encoder=False when constructing XGBClassifier object; and 2) Encode your labels (y) as integers starting with 0, i.e. 0, 1, 2, ..., [num_class - 1].\n",
      "  warnings.warn(label_encoder_deprecation_msg, UserWarning)\n",
      "c:\\users\\redline pc\\appdata\\local\\programs\\python\\python38\\lib\\site-packages\\sklearn\\utils\\validation.py:63: DataConversionWarning: A column-vector y was passed when a 1d array was expected. Please change the shape of y to (n_samples, ), for example using ravel().\n",
      "  return f(*args, **kwargs)\n"
     ]
    },
    {
     "name": "stdout",
     "output_type": "stream",
     "text": [
      "              precision    recall  f1-score   support\n",
      "\n",
      "    Check-In       0.59      0.63      0.61      1610\n",
      "    Canceled       0.27      0.30      0.29       741\n",
      "     No-Show       0.16      0.08      0.11       398\n",
      "\n",
      "    accuracy                           0.46      2749\n",
      "   macro avg       0.34      0.34      0.33      2749\n",
      "weighted avg       0.44      0.46      0.45      2749\n",
      "\n",
      "==========================================================================\n",
      "i= 0.4 j= 2.0 k= 4\n"
     ]
    },
    {
     "name": "stderr",
     "output_type": "stream",
     "text": [
      "c:\\users\\redline pc\\appdata\\local\\programs\\python\\python38\\lib\\site-packages\\xgboost\\sklearn.py:888: UserWarning: The use of label encoder in XGBClassifier is deprecated and will be removed in a future release. To remove this warning, do the following: 1) Pass option use_label_encoder=False when constructing XGBClassifier object; and 2) Encode your labels (y) as integers starting with 0, i.e. 0, 1, 2, ..., [num_class - 1].\n",
      "  warnings.warn(label_encoder_deprecation_msg, UserWarning)\n",
      "c:\\users\\redline pc\\appdata\\local\\programs\\python\\python38\\lib\\site-packages\\sklearn\\utils\\validation.py:63: DataConversionWarning: A column-vector y was passed when a 1d array was expected. Please change the shape of y to (n_samples, ), for example using ravel().\n",
      "  return f(*args, **kwargs)\n"
     ]
    },
    {
     "name": "stdout",
     "output_type": "stream",
     "text": [
      "              precision    recall  f1-score   support\n",
      "\n",
      "    Check-In       0.59      0.60      0.59      1610\n",
      "    Canceled       0.27      0.21      0.23       741\n",
      "     No-Show       0.15      0.20      0.17       398\n",
      "\n",
      "    accuracy                           0.44      2749\n",
      "   macro avg       0.34      0.34      0.33      2749\n",
      "weighted avg       0.44      0.44      0.44      2749\n",
      "\n",
      "==========================================================================\n",
      "i= 0.4 j= 2.0 k= 5\n"
     ]
    },
    {
     "name": "stderr",
     "output_type": "stream",
     "text": [
      "c:\\users\\redline pc\\appdata\\local\\programs\\python\\python38\\lib\\site-packages\\xgboost\\sklearn.py:888: UserWarning: The use of label encoder in XGBClassifier is deprecated and will be removed in a future release. To remove this warning, do the following: 1) Pass option use_label_encoder=False when constructing XGBClassifier object; and 2) Encode your labels (y) as integers starting with 0, i.e. 0, 1, 2, ..., [num_class - 1].\n",
      "  warnings.warn(label_encoder_deprecation_msg, UserWarning)\n",
      "c:\\users\\redline pc\\appdata\\local\\programs\\python\\python38\\lib\\site-packages\\sklearn\\utils\\validation.py:63: DataConversionWarning: A column-vector y was passed when a 1d array was expected. Please change the shape of y to (n_samples, ), for example using ravel().\n",
      "  return f(*args, **kwargs)\n"
     ]
    },
    {
     "name": "stdout",
     "output_type": "stream",
     "text": [
      "              precision    recall  f1-score   support\n",
      "\n",
      "    Check-In       0.59      0.59      0.59      1610\n",
      "    Canceled       0.30      0.14      0.19       741\n",
      "     No-Show       0.14      0.27      0.18       398\n",
      "\n",
      "    accuracy                           0.42      2749\n",
      "   macro avg       0.34      0.33      0.32      2749\n",
      "weighted avg       0.44      0.42      0.42      2749\n",
      "\n",
      "==========================================================================\n",
      "i= 0.4 j= 2.0 k= 6\n"
     ]
    },
    {
     "name": "stderr",
     "output_type": "stream",
     "text": [
      "c:\\users\\redline pc\\appdata\\local\\programs\\python\\python38\\lib\\site-packages\\xgboost\\sklearn.py:888: UserWarning: The use of label encoder in XGBClassifier is deprecated and will be removed in a future release. To remove this warning, do the following: 1) Pass option use_label_encoder=False when constructing XGBClassifier object; and 2) Encode your labels (y) as integers starting with 0, i.e. 0, 1, 2, ..., [num_class - 1].\n",
      "  warnings.warn(label_encoder_deprecation_msg, UserWarning)\n",
      "c:\\users\\redline pc\\appdata\\local\\programs\\python\\python38\\lib\\site-packages\\sklearn\\utils\\validation.py:63: DataConversionWarning: A column-vector y was passed when a 1d array was expected. Please change the shape of y to (n_samples, ), for example using ravel().\n",
      "  return f(*args, **kwargs)\n"
     ]
    },
    {
     "name": "stdout",
     "output_type": "stream",
     "text": [
      "              precision    recall  f1-score   support\n",
      "\n",
      "    Check-In       0.59      0.55      0.57      1610\n",
      "    Canceled       0.28      0.09      0.13       741\n",
      "     No-Show       0.15      0.38      0.22       398\n",
      "\n",
      "    accuracy                           0.40      2749\n",
      "   macro avg       0.34      0.34      0.31      2749\n",
      "weighted avg       0.44      0.40      0.40      2749\n",
      "\n",
      "==========================================================================\n",
      "i= 0.4 j= 2.0 k= 7\n"
     ]
    },
    {
     "name": "stderr",
     "output_type": "stream",
     "text": [
      "c:\\users\\redline pc\\appdata\\local\\programs\\python\\python38\\lib\\site-packages\\xgboost\\sklearn.py:888: UserWarning: The use of label encoder in XGBClassifier is deprecated and will be removed in a future release. To remove this warning, do the following: 1) Pass option use_label_encoder=False when constructing XGBClassifier object; and 2) Encode your labels (y) as integers starting with 0, i.e. 0, 1, 2, ..., [num_class - 1].\n",
      "  warnings.warn(label_encoder_deprecation_msg, UserWarning)\n",
      "c:\\users\\redline pc\\appdata\\local\\programs\\python\\python38\\lib\\site-packages\\sklearn\\utils\\validation.py:63: DataConversionWarning: A column-vector y was passed when a 1d array was expected. Please change the shape of y to (n_samples, ), for example using ravel().\n",
      "  return f(*args, **kwargs)\n"
     ]
    },
    {
     "name": "stdout",
     "output_type": "stream",
     "text": [
      "              precision    recall  f1-score   support\n",
      "\n",
      "    Check-In       0.59      0.51      0.55      1610\n",
      "    Canceled       0.27      0.06      0.10       741\n",
      "     No-Show       0.14      0.43      0.22       398\n",
      "\n",
      "    accuracy                           0.38      2749\n",
      "   macro avg       0.33      0.33      0.29      2749\n",
      "weighted avg       0.44      0.38      0.38      2749\n",
      "\n",
      "==========================================================================\n",
      "i= 0.4 j= 2.0 k= 8\n"
     ]
    },
    {
     "name": "stderr",
     "output_type": "stream",
     "text": [
      "c:\\users\\redline pc\\appdata\\local\\programs\\python\\python38\\lib\\site-packages\\xgboost\\sklearn.py:888: UserWarning: The use of label encoder in XGBClassifier is deprecated and will be removed in a future release. To remove this warning, do the following: 1) Pass option use_label_encoder=False when constructing XGBClassifier object; and 2) Encode your labels (y) as integers starting with 0, i.e. 0, 1, 2, ..., [num_class - 1].\n",
      "  warnings.warn(label_encoder_deprecation_msg, UserWarning)\n",
      "c:\\users\\redline pc\\appdata\\local\\programs\\python\\python38\\lib\\site-packages\\sklearn\\utils\\validation.py:63: DataConversionWarning: A column-vector y was passed when a 1d array was expected. Please change the shape of y to (n_samples, ), for example using ravel().\n",
      "  return f(*args, **kwargs)\n"
     ]
    },
    {
     "name": "stdout",
     "output_type": "stream",
     "text": [
      "              precision    recall  f1-score   support\n",
      "\n",
      "    Check-In       0.59      0.50      0.54      1610\n",
      "    Canceled       0.32      0.05      0.08       741\n",
      "     No-Show       0.15      0.48      0.22       398\n",
      "\n",
      "    accuracy                           0.37      2749\n",
      "   macro avg       0.35      0.34      0.28      2749\n",
      "weighted avg       0.46      0.37      0.37      2749\n",
      "\n",
      "==========================================================================\n",
      "i= 0.4 j= 2.0 k= 9\n"
     ]
    },
    {
     "name": "stderr",
     "output_type": "stream",
     "text": [
      "c:\\users\\redline pc\\appdata\\local\\programs\\python\\python38\\lib\\site-packages\\xgboost\\sklearn.py:888: UserWarning: The use of label encoder in XGBClassifier is deprecated and will be removed in a future release. To remove this warning, do the following: 1) Pass option use_label_encoder=False when constructing XGBClassifier object; and 2) Encode your labels (y) as integers starting with 0, i.e. 0, 1, 2, ..., [num_class - 1].\n",
      "  warnings.warn(label_encoder_deprecation_msg, UserWarning)\n",
      "c:\\users\\redline pc\\appdata\\local\\programs\\python\\python38\\lib\\site-packages\\sklearn\\utils\\validation.py:63: DataConversionWarning: A column-vector y was passed when a 1d array was expected. Please change the shape of y to (n_samples, ), for example using ravel().\n",
      "  return f(*args, **kwargs)\n"
     ]
    },
    {
     "name": "stdout",
     "output_type": "stream",
     "text": [
      "              precision    recall  f1-score   support\n",
      "\n",
      "    Check-In       0.60      0.48      0.54      1610\n",
      "    Canceled       0.31      0.05      0.08       741\n",
      "     No-Show       0.15      0.50      0.23       398\n",
      "\n",
      "    accuracy                           0.37      2749\n",
      "   macro avg       0.35      0.34      0.28      2749\n",
      "weighted avg       0.46      0.37      0.37      2749\n",
      "\n",
      "==========================================================================\n",
      "i= 0.4 j= 2.5 k= 3\n"
     ]
    },
    {
     "name": "stderr",
     "output_type": "stream",
     "text": [
      "c:\\users\\redline pc\\appdata\\local\\programs\\python\\python38\\lib\\site-packages\\xgboost\\sklearn.py:888: UserWarning: The use of label encoder in XGBClassifier is deprecated and will be removed in a future release. To remove this warning, do the following: 1) Pass option use_label_encoder=False when constructing XGBClassifier object; and 2) Encode your labels (y) as integers starting with 0, i.e. 0, 1, 2, ..., [num_class - 1].\n",
      "  warnings.warn(label_encoder_deprecation_msg, UserWarning)\n",
      "c:\\users\\redline pc\\appdata\\local\\programs\\python\\python38\\lib\\site-packages\\sklearn\\utils\\validation.py:63: DataConversionWarning: A column-vector y was passed when a 1d array was expected. Please change the shape of y to (n_samples, ), for example using ravel().\n",
      "  return f(*args, **kwargs)\n"
     ]
    },
    {
     "name": "stdout",
     "output_type": "stream",
     "text": [
      "              precision    recall  f1-score   support\n",
      "\n",
      "    Check-In       0.59      0.59      0.59      1610\n",
      "    Canceled       0.28      0.40      0.33       741\n",
      "     No-Show       0.19      0.04      0.06       398\n",
      "\n",
      "    accuracy                           0.46      2749\n",
      "   macro avg       0.35      0.34      0.33      2749\n",
      "weighted avg       0.45      0.46      0.44      2749\n",
      "\n",
      "==========================================================================\n",
      "i= 0.4 j= 2.5 k= 4\n"
     ]
    },
    {
     "name": "stderr",
     "output_type": "stream",
     "text": [
      "c:\\users\\redline pc\\appdata\\local\\programs\\python\\python38\\lib\\site-packages\\xgboost\\sklearn.py:888: UserWarning: The use of label encoder in XGBClassifier is deprecated and will be removed in a future release. To remove this warning, do the following: 1) Pass option use_label_encoder=False when constructing XGBClassifier object; and 2) Encode your labels (y) as integers starting with 0, i.e. 0, 1, 2, ..., [num_class - 1].\n",
      "  warnings.warn(label_encoder_deprecation_msg, UserWarning)\n",
      "c:\\users\\redline pc\\appdata\\local\\programs\\python\\python38\\lib\\site-packages\\sklearn\\utils\\validation.py:63: DataConversionWarning: A column-vector y was passed when a 1d array was expected. Please change the shape of y to (n_samples, ), for example using ravel().\n",
      "  return f(*args, **kwargs)\n"
     ]
    },
    {
     "name": "stdout",
     "output_type": "stream",
     "text": [
      "              precision    recall  f1-score   support\n",
      "\n",
      "    Check-In       0.59      0.58      0.59      1610\n",
      "    Canceled       0.29      0.34      0.31       741\n",
      "     No-Show       0.17      0.12      0.14       398\n",
      "\n",
      "    accuracy                           0.45      2749\n",
      "   macro avg       0.35      0.35      0.35      2749\n",
      "weighted avg       0.45      0.45      0.45      2749\n",
      "\n",
      "==========================================================================\n",
      "i= 0.4 j= 2.5 k= 5\n"
     ]
    },
    {
     "name": "stderr",
     "output_type": "stream",
     "text": [
      "c:\\users\\redline pc\\appdata\\local\\programs\\python\\python38\\lib\\site-packages\\xgboost\\sklearn.py:888: UserWarning: The use of label encoder in XGBClassifier is deprecated and will be removed in a future release. To remove this warning, do the following: 1) Pass option use_label_encoder=False when constructing XGBClassifier object; and 2) Encode your labels (y) as integers starting with 0, i.e. 0, 1, 2, ..., [num_class - 1].\n",
      "  warnings.warn(label_encoder_deprecation_msg, UserWarning)\n",
      "c:\\users\\redline pc\\appdata\\local\\programs\\python\\python38\\lib\\site-packages\\sklearn\\utils\\validation.py:63: DataConversionWarning: A column-vector y was passed when a 1d array was expected. Please change the shape of y to (n_samples, ), for example using ravel().\n",
      "  return f(*args, **kwargs)\n"
     ]
    },
    {
     "name": "stdout",
     "output_type": "stream",
     "text": [
      "              precision    recall  f1-score   support\n",
      "\n",
      "    Check-In       0.59      0.55      0.57      1610\n",
      "    Canceled       0.29      0.26      0.27       741\n",
      "     No-Show       0.14      0.21      0.17       398\n",
      "\n",
      "    accuracy                           0.42      2749\n",
      "   macro avg       0.34      0.34      0.34      2749\n",
      "weighted avg       0.45      0.42      0.43      2749\n",
      "\n",
      "==========================================================================\n",
      "i= 0.4 j= 2.5 k= 6\n"
     ]
    },
    {
     "name": "stderr",
     "output_type": "stream",
     "text": [
      "c:\\users\\redline pc\\appdata\\local\\programs\\python\\python38\\lib\\site-packages\\xgboost\\sklearn.py:888: UserWarning: The use of label encoder in XGBClassifier is deprecated and will be removed in a future release. To remove this warning, do the following: 1) Pass option use_label_encoder=False when constructing XGBClassifier object; and 2) Encode your labels (y) as integers starting with 0, i.e. 0, 1, 2, ..., [num_class - 1].\n",
      "  warnings.warn(label_encoder_deprecation_msg, UserWarning)\n",
      "c:\\users\\redline pc\\appdata\\local\\programs\\python\\python38\\lib\\site-packages\\sklearn\\utils\\validation.py:63: DataConversionWarning: A column-vector y was passed when a 1d array was expected. Please change the shape of y to (n_samples, ), for example using ravel().\n",
      "  return f(*args, **kwargs)\n"
     ]
    },
    {
     "name": "stdout",
     "output_type": "stream",
     "text": [
      "              precision    recall  f1-score   support\n",
      "\n",
      "    Check-In       0.59      0.52      0.55      1610\n",
      "    Canceled       0.28      0.18      0.22       741\n",
      "     No-Show       0.14      0.31      0.20       398\n",
      "\n",
      "    accuracy                           0.40      2749\n",
      "   macro avg       0.34      0.34      0.32      2749\n",
      "weighted avg       0.44      0.40      0.41      2749\n",
      "\n",
      "==========================================================================\n",
      "i= 0.4 j= 2.5 k= 7\n"
     ]
    },
    {
     "name": "stderr",
     "output_type": "stream",
     "text": [
      "c:\\users\\redline pc\\appdata\\local\\programs\\python\\python38\\lib\\site-packages\\xgboost\\sklearn.py:888: UserWarning: The use of label encoder in XGBClassifier is deprecated and will be removed in a future release. To remove this warning, do the following: 1) Pass option use_label_encoder=False when constructing XGBClassifier object; and 2) Encode your labels (y) as integers starting with 0, i.e. 0, 1, 2, ..., [num_class - 1].\n",
      "  warnings.warn(label_encoder_deprecation_msg, UserWarning)\n",
      "c:\\users\\redline pc\\appdata\\local\\programs\\python\\python38\\lib\\site-packages\\sklearn\\utils\\validation.py:63: DataConversionWarning: A column-vector y was passed when a 1d array was expected. Please change the shape of y to (n_samples, ), for example using ravel().\n",
      "  return f(*args, **kwargs)\n"
     ]
    },
    {
     "name": "stdout",
     "output_type": "stream",
     "text": [
      "              precision    recall  f1-score   support\n",
      "\n",
      "    Check-In       0.59      0.47      0.53      1610\n",
      "    Canceled       0.27      0.12      0.17       741\n",
      "     No-Show       0.14      0.40      0.21       398\n",
      "\n",
      "    accuracy                           0.37      2749\n",
      "   macro avg       0.33      0.33      0.30      2749\n",
      "weighted avg       0.44      0.37      0.38      2749\n",
      "\n",
      "==========================================================================\n",
      "i= 0.4 j= 2.5 k= 8\n"
     ]
    },
    {
     "name": "stderr",
     "output_type": "stream",
     "text": [
      "c:\\users\\redline pc\\appdata\\local\\programs\\python\\python38\\lib\\site-packages\\xgboost\\sklearn.py:888: UserWarning: The use of label encoder in XGBClassifier is deprecated and will be removed in a future release. To remove this warning, do the following: 1) Pass option use_label_encoder=False when constructing XGBClassifier object; and 2) Encode your labels (y) as integers starting with 0, i.e. 0, 1, 2, ..., [num_class - 1].\n",
      "  warnings.warn(label_encoder_deprecation_msg, UserWarning)\n",
      "c:\\users\\redline pc\\appdata\\local\\programs\\python\\python38\\lib\\site-packages\\sklearn\\utils\\validation.py:63: DataConversionWarning: A column-vector y was passed when a 1d array was expected. Please change the shape of y to (n_samples, ), for example using ravel().\n",
      "  return f(*args, **kwargs)\n"
     ]
    },
    {
     "name": "stdout",
     "output_type": "stream",
     "text": [
      "              precision    recall  f1-score   support\n",
      "\n",
      "    Check-In       0.59      0.47      0.53      1610\n",
      "    Canceled       0.30      0.12      0.17       741\n",
      "     No-Show       0.15      0.44      0.23       398\n",
      "\n",
      "    accuracy                           0.37      2749\n",
      "   macro avg       0.35      0.35      0.31      2749\n",
      "weighted avg       0.45      0.37      0.39      2749\n",
      "\n",
      "==========================================================================\n",
      "i= 0.4 j= 2.5 k= 9\n"
     ]
    },
    {
     "name": "stderr",
     "output_type": "stream",
     "text": [
      "c:\\users\\redline pc\\appdata\\local\\programs\\python\\python38\\lib\\site-packages\\xgboost\\sklearn.py:888: UserWarning: The use of label encoder in XGBClassifier is deprecated and will be removed in a future release. To remove this warning, do the following: 1) Pass option use_label_encoder=False when constructing XGBClassifier object; and 2) Encode your labels (y) as integers starting with 0, i.e. 0, 1, 2, ..., [num_class - 1].\n",
      "  warnings.warn(label_encoder_deprecation_msg, UserWarning)\n",
      "c:\\users\\redline pc\\appdata\\local\\programs\\python\\python38\\lib\\site-packages\\sklearn\\utils\\validation.py:63: DataConversionWarning: A column-vector y was passed when a 1d array was expected. Please change the shape of y to (n_samples, ), for example using ravel().\n",
      "  return f(*args, **kwargs)\n"
     ]
    },
    {
     "name": "stdout",
     "output_type": "stream",
     "text": [
      "              precision    recall  f1-score   support\n",
      "\n",
      "    Check-In       0.59      0.43      0.50      1610\n",
      "    Canceled       0.29      0.09      0.13       741\n",
      "     No-Show       0.15      0.51      0.23       398\n",
      "\n",
      "    accuracy                           0.35      2749\n",
      "   macro avg       0.34      0.34      0.29      2749\n",
      "weighted avg       0.45      0.35      0.36      2749\n",
      "\n",
      "==========================================================================\n",
      "i= 0.4 j= 3.0 k= 3\n"
     ]
    },
    {
     "name": "stderr",
     "output_type": "stream",
     "text": [
      "c:\\users\\redline pc\\appdata\\local\\programs\\python\\python38\\lib\\site-packages\\xgboost\\sklearn.py:888: UserWarning: The use of label encoder in XGBClassifier is deprecated and will be removed in a future release. To remove this warning, do the following: 1) Pass option use_label_encoder=False when constructing XGBClassifier object; and 2) Encode your labels (y) as integers starting with 0, i.e. 0, 1, 2, ..., [num_class - 1].\n",
      "  warnings.warn(label_encoder_deprecation_msg, UserWarning)\n",
      "c:\\users\\redline pc\\appdata\\local\\programs\\python\\python38\\lib\\site-packages\\sklearn\\utils\\validation.py:63: DataConversionWarning: A column-vector y was passed when a 1d array was expected. Please change the shape of y to (n_samples, ), for example using ravel().\n",
      "  return f(*args, **kwargs)\n"
     ]
    },
    {
     "name": "stdout",
     "output_type": "stream",
     "text": [
      "              precision    recall  f1-score   support\n",
      "\n",
      "    Check-In       0.60      0.56      0.58      1610\n",
      "    Canceled       0.28      0.47      0.35       741\n",
      "     No-Show       0.21      0.02      0.03       398\n",
      "\n",
      "    accuracy                           0.45      2749\n",
      "   macro avg       0.37      0.35      0.32      2749\n",
      "weighted avg       0.46      0.45      0.44      2749\n",
      "\n",
      "==========================================================================\n",
      "i= 0.4 j= 3.0 k= 4\n"
     ]
    },
    {
     "name": "stderr",
     "output_type": "stream",
     "text": [
      "c:\\users\\redline pc\\appdata\\local\\programs\\python\\python38\\lib\\site-packages\\xgboost\\sklearn.py:888: UserWarning: The use of label encoder in XGBClassifier is deprecated and will be removed in a future release. To remove this warning, do the following: 1) Pass option use_label_encoder=False when constructing XGBClassifier object; and 2) Encode your labels (y) as integers starting with 0, i.e. 0, 1, 2, ..., [num_class - 1].\n",
      "  warnings.warn(label_encoder_deprecation_msg, UserWarning)\n",
      "c:\\users\\redline pc\\appdata\\local\\programs\\python\\python38\\lib\\site-packages\\sklearn\\utils\\validation.py:63: DataConversionWarning: A column-vector y was passed when a 1d array was expected. Please change the shape of y to (n_samples, ), for example using ravel().\n",
      "  return f(*args, **kwargs)\n"
     ]
    },
    {
     "name": "stdout",
     "output_type": "stream",
     "text": [
      "              precision    recall  f1-score   support\n",
      "\n",
      "    Check-In       0.60      0.46      0.52      1610\n",
      "    Canceled       0.28      0.55      0.37       741\n",
      "     No-Show       0.16      0.03      0.04       398\n",
      "\n",
      "    accuracy                           0.42      2749\n",
      "   macro avg       0.35      0.34      0.31      2749\n",
      "weighted avg       0.45      0.42      0.41      2749\n",
      "\n",
      "==========================================================================\n",
      "i= 0.4 j= 3.0 k= 5\n"
     ]
    },
    {
     "name": "stderr",
     "output_type": "stream",
     "text": [
      "c:\\users\\redline pc\\appdata\\local\\programs\\python\\python38\\lib\\site-packages\\xgboost\\sklearn.py:888: UserWarning: The use of label encoder in XGBClassifier is deprecated and will be removed in a future release. To remove this warning, do the following: 1) Pass option use_label_encoder=False when constructing XGBClassifier object; and 2) Encode your labels (y) as integers starting with 0, i.e. 0, 1, 2, ..., [num_class - 1].\n",
      "  warnings.warn(label_encoder_deprecation_msg, UserWarning)\n",
      "c:\\users\\redline pc\\appdata\\local\\programs\\python\\python38\\lib\\site-packages\\sklearn\\utils\\validation.py:63: DataConversionWarning: A column-vector y was passed when a 1d array was expected. Please change the shape of y to (n_samples, ), for example using ravel().\n",
      "  return f(*args, **kwargs)\n"
     ]
    },
    {
     "name": "stdout",
     "output_type": "stream",
     "text": [
      "              precision    recall  f1-score   support\n",
      "\n",
      "    Check-In       0.61      0.39      0.47      1610\n",
      "    Canceled       0.28      0.62      0.38       741\n",
      "     No-Show       0.16      0.03      0.04       398\n",
      "\n",
      "    accuracy                           0.40      2749\n",
      "   macro avg       0.35      0.35      0.30      2749\n",
      "weighted avg       0.45      0.40      0.39      2749\n",
      "\n",
      "==========================================================================\n",
      "i= 0.4 j= 3.0 k= 6\n"
     ]
    },
    {
     "name": "stderr",
     "output_type": "stream",
     "text": [
      "c:\\users\\redline pc\\appdata\\local\\programs\\python\\python38\\lib\\site-packages\\xgboost\\sklearn.py:888: UserWarning: The use of label encoder in XGBClassifier is deprecated and will be removed in a future release. To remove this warning, do the following: 1) Pass option use_label_encoder=False when constructing XGBClassifier object; and 2) Encode your labels (y) as integers starting with 0, i.e. 0, 1, 2, ..., [num_class - 1].\n",
      "  warnings.warn(label_encoder_deprecation_msg, UserWarning)\n",
      "c:\\users\\redline pc\\appdata\\local\\programs\\python\\python38\\lib\\site-packages\\sklearn\\utils\\validation.py:63: DataConversionWarning: A column-vector y was passed when a 1d array was expected. Please change the shape of y to (n_samples, ), for example using ravel().\n",
      "  return f(*args, **kwargs)\n"
     ]
    },
    {
     "name": "stdout",
     "output_type": "stream",
     "text": [
      "              precision    recall  f1-score   support\n",
      "\n",
      "    Check-In       0.61      0.36      0.45      1610\n",
      "    Canceled       0.28      0.65      0.39       741\n",
      "     No-Show       0.21      0.05      0.08       398\n",
      "\n",
      "    accuracy                           0.39      2749\n",
      "   macro avg       0.37      0.35      0.31      2749\n",
      "weighted avg       0.47      0.39      0.38      2749\n",
      "\n",
      "==========================================================================\n",
      "i= 0.4 j= 3.0 k= 7\n"
     ]
    },
    {
     "name": "stderr",
     "output_type": "stream",
     "text": [
      "c:\\users\\redline pc\\appdata\\local\\programs\\python\\python38\\lib\\site-packages\\xgboost\\sklearn.py:888: UserWarning: The use of label encoder in XGBClassifier is deprecated and will be removed in a future release. To remove this warning, do the following: 1) Pass option use_label_encoder=False when constructing XGBClassifier object; and 2) Encode your labels (y) as integers starting with 0, i.e. 0, 1, 2, ..., [num_class - 1].\n",
      "  warnings.warn(label_encoder_deprecation_msg, UserWarning)\n",
      "c:\\users\\redline pc\\appdata\\local\\programs\\python\\python38\\lib\\site-packages\\sklearn\\utils\\validation.py:63: DataConversionWarning: A column-vector y was passed when a 1d array was expected. Please change the shape of y to (n_samples, ), for example using ravel().\n",
      "  return f(*args, **kwargs)\n"
     ]
    },
    {
     "name": "stdout",
     "output_type": "stream",
     "text": [
      "              precision    recall  f1-score   support\n",
      "\n",
      "    Check-In       0.61      0.33      0.43      1610\n",
      "    Canceled       0.28      0.67      0.40       741\n",
      "     No-Show       0.14      0.04      0.06       398\n",
      "\n",
      "    accuracy                           0.38      2749\n",
      "   macro avg       0.34      0.35      0.30      2749\n",
      "weighted avg       0.46      0.38      0.37      2749\n",
      "\n",
      "==========================================================================\n",
      "i= 0.4 j= 3.0 k= 8\n"
     ]
    },
    {
     "name": "stderr",
     "output_type": "stream",
     "text": [
      "c:\\users\\redline pc\\appdata\\local\\programs\\python\\python38\\lib\\site-packages\\xgboost\\sklearn.py:888: UserWarning: The use of label encoder in XGBClassifier is deprecated and will be removed in a future release. To remove this warning, do the following: 1) Pass option use_label_encoder=False when constructing XGBClassifier object; and 2) Encode your labels (y) as integers starting with 0, i.e. 0, 1, 2, ..., [num_class - 1].\n",
      "  warnings.warn(label_encoder_deprecation_msg, UserWarning)\n",
      "c:\\users\\redline pc\\appdata\\local\\programs\\python\\python38\\lib\\site-packages\\sklearn\\utils\\validation.py:63: DataConversionWarning: A column-vector y was passed when a 1d array was expected. Please change the shape of y to (n_samples, ), for example using ravel().\n",
      "  return f(*args, **kwargs)\n"
     ]
    },
    {
     "name": "stdout",
     "output_type": "stream",
     "text": [
      "              precision    recall  f1-score   support\n",
      "\n",
      "    Check-In       0.61      0.31      0.41      1610\n",
      "    Canceled       0.28      0.67      0.39       741\n",
      "     No-Show       0.17      0.05      0.08       398\n",
      "\n",
      "    accuracy                           0.37      2749\n",
      "   macro avg       0.35      0.35      0.29      2749\n",
      "weighted avg       0.46      0.37      0.36      2749\n",
      "\n",
      "==========================================================================\n",
      "i= 0.4 j= 3.0 k= 9\n"
     ]
    },
    {
     "name": "stderr",
     "output_type": "stream",
     "text": [
      "c:\\users\\redline pc\\appdata\\local\\programs\\python\\python38\\lib\\site-packages\\xgboost\\sklearn.py:888: UserWarning: The use of label encoder in XGBClassifier is deprecated and will be removed in a future release. To remove this warning, do the following: 1) Pass option use_label_encoder=False when constructing XGBClassifier object; and 2) Encode your labels (y) as integers starting with 0, i.e. 0, 1, 2, ..., [num_class - 1].\n",
      "  warnings.warn(label_encoder_deprecation_msg, UserWarning)\n",
      "c:\\users\\redline pc\\appdata\\local\\programs\\python\\python38\\lib\\site-packages\\sklearn\\utils\\validation.py:63: DataConversionWarning: A column-vector y was passed when a 1d array was expected. Please change the shape of y to (n_samples, ), for example using ravel().\n",
      "  return f(*args, **kwargs)\n"
     ]
    },
    {
     "name": "stdout",
     "output_type": "stream",
     "text": [
      "              precision    recall  f1-score   support\n",
      "\n",
      "    Check-In       0.61      0.29      0.39      1610\n",
      "    Canceled       0.28      0.69      0.40       741\n",
      "     No-Show       0.12      0.04      0.06       398\n",
      "\n",
      "    accuracy                           0.36      2749\n",
      "   macro avg       0.34      0.34      0.28      2749\n",
      "weighted avg       0.45      0.36      0.35      2749\n",
      "\n",
      "==========================================================================\n",
      "i= 0.4 j= 3.5 k= 3\n"
     ]
    },
    {
     "name": "stderr",
     "output_type": "stream",
     "text": [
      "c:\\users\\redline pc\\appdata\\local\\programs\\python\\python38\\lib\\site-packages\\xgboost\\sklearn.py:888: UserWarning: The use of label encoder in XGBClassifier is deprecated and will be removed in a future release. To remove this warning, do the following: 1) Pass option use_label_encoder=False when constructing XGBClassifier object; and 2) Encode your labels (y) as integers starting with 0, i.e. 0, 1, 2, ..., [num_class - 1].\n",
      "  warnings.warn(label_encoder_deprecation_msg, UserWarning)\n",
      "c:\\users\\redline pc\\appdata\\local\\programs\\python\\python38\\lib\\site-packages\\sklearn\\utils\\validation.py:63: DataConversionWarning: A column-vector y was passed when a 1d array was expected. Please change the shape of y to (n_samples, ), for example using ravel().\n",
      "  return f(*args, **kwargs)\n"
     ]
    },
    {
     "name": "stdout",
     "output_type": "stream",
     "text": [
      "              precision    recall  f1-score   support\n",
      "\n",
      "    Check-In       0.60      0.50      0.55      1610\n",
      "    Canceled       0.28      0.52      0.37       741\n",
      "     No-Show       0.26      0.02      0.04       398\n",
      "\n",
      "    accuracy                           0.44      2749\n",
      "   macro avg       0.38      0.35      0.32      2749\n",
      "weighted avg       0.47      0.44      0.43      2749\n",
      "\n",
      "==========================================================================\n",
      "i= 0.4 j= 3.5 k= 4\n"
     ]
    },
    {
     "name": "stderr",
     "output_type": "stream",
     "text": [
      "c:\\users\\redline pc\\appdata\\local\\programs\\python\\python38\\lib\\site-packages\\xgboost\\sklearn.py:888: UserWarning: The use of label encoder in XGBClassifier is deprecated and will be removed in a future release. To remove this warning, do the following: 1) Pass option use_label_encoder=False when constructing XGBClassifier object; and 2) Encode your labels (y) as integers starting with 0, i.e. 0, 1, 2, ..., [num_class - 1].\n",
      "  warnings.warn(label_encoder_deprecation_msg, UserWarning)\n",
      "c:\\users\\redline pc\\appdata\\local\\programs\\python\\python38\\lib\\site-packages\\sklearn\\utils\\validation.py:63: DataConversionWarning: A column-vector y was passed when a 1d array was expected. Please change the shape of y to (n_samples, ), for example using ravel().\n",
      "  return f(*args, **kwargs)\n"
     ]
    },
    {
     "name": "stdout",
     "output_type": "stream",
     "text": [
      "              precision    recall  f1-score   support\n",
      "\n",
      "    Check-In       0.60      0.49      0.54      1610\n",
      "    Canceled       0.28      0.51      0.36       741\n",
      "     No-Show       0.21      0.05      0.08       398\n",
      "\n",
      "    accuracy                           0.43      2749\n",
      "   macro avg       0.36      0.35      0.33      2749\n",
      "weighted avg       0.46      0.43      0.43      2749\n",
      "\n",
      "==========================================================================\n",
      "i= 0.4 j= 3.5 k= 5\n"
     ]
    },
    {
     "name": "stderr",
     "output_type": "stream",
     "text": [
      "c:\\users\\redline pc\\appdata\\local\\programs\\python\\python38\\lib\\site-packages\\xgboost\\sklearn.py:888: UserWarning: The use of label encoder in XGBClassifier is deprecated and will be removed in a future release. To remove this warning, do the following: 1) Pass option use_label_encoder=False when constructing XGBClassifier object; and 2) Encode your labels (y) as integers starting with 0, i.e. 0, 1, 2, ..., [num_class - 1].\n",
      "  warnings.warn(label_encoder_deprecation_msg, UserWarning)\n",
      "c:\\users\\redline pc\\appdata\\local\\programs\\python\\python38\\lib\\site-packages\\sklearn\\utils\\validation.py:63: DataConversionWarning: A column-vector y was passed when a 1d array was expected. Please change the shape of y to (n_samples, ), for example using ravel().\n",
      "  return f(*args, **kwargs)\n"
     ]
    },
    {
     "name": "stdout",
     "output_type": "stream",
     "text": [
      "              precision    recall  f1-score   support\n",
      "\n",
      "    Check-In       0.60      0.49      0.54      1610\n",
      "    Canceled       0.28      0.44      0.34       741\n",
      "     No-Show       0.16      0.10      0.12       398\n",
      "\n",
      "    accuracy                           0.42      2749\n",
      "   macro avg       0.34      0.34      0.33      2749\n",
      "weighted avg       0.45      0.42      0.42      2749\n",
      "\n",
      "==========================================================================\n",
      "i= 0.4 j= 3.5 k= 6\n"
     ]
    },
    {
     "name": "stderr",
     "output_type": "stream",
     "text": [
      "c:\\users\\redline pc\\appdata\\local\\programs\\python\\python38\\lib\\site-packages\\xgboost\\sklearn.py:888: UserWarning: The use of label encoder in XGBClassifier is deprecated and will be removed in a future release. To remove this warning, do the following: 1) Pass option use_label_encoder=False when constructing XGBClassifier object; and 2) Encode your labels (y) as integers starting with 0, i.e. 0, 1, 2, ..., [num_class - 1].\n",
      "  warnings.warn(label_encoder_deprecation_msg, UserWarning)\n",
      "c:\\users\\redline pc\\appdata\\local\\programs\\python\\python38\\lib\\site-packages\\sklearn\\utils\\validation.py:63: DataConversionWarning: A column-vector y was passed when a 1d array was expected. Please change the shape of y to (n_samples, ), for example using ravel().\n",
      "  return f(*args, **kwargs)\n"
     ]
    },
    {
     "name": "stdout",
     "output_type": "stream",
     "text": [
      "              precision    recall  f1-score   support\n",
      "\n",
      "    Check-In       0.59      0.46      0.52      1610\n",
      "    Canceled       0.28      0.40      0.33       741\n",
      "     No-Show       0.16      0.18      0.17       398\n",
      "\n",
      "    accuracy                           0.40      2749\n",
      "   macro avg       0.34      0.35      0.34      2749\n",
      "weighted avg       0.45      0.40      0.42      2749\n",
      "\n",
      "==========================================================================\n",
      "i= 0.4 j= 3.5 k= 7\n"
     ]
    },
    {
     "name": "stderr",
     "output_type": "stream",
     "text": [
      "c:\\users\\redline pc\\appdata\\local\\programs\\python\\python38\\lib\\site-packages\\xgboost\\sklearn.py:888: UserWarning: The use of label encoder in XGBClassifier is deprecated and will be removed in a future release. To remove this warning, do the following: 1) Pass option use_label_encoder=False when constructing XGBClassifier object; and 2) Encode your labels (y) as integers starting with 0, i.e. 0, 1, 2, ..., [num_class - 1].\n",
      "  warnings.warn(label_encoder_deprecation_msg, UserWarning)\n",
      "c:\\users\\redline pc\\appdata\\local\\programs\\python\\python38\\lib\\site-packages\\sklearn\\utils\\validation.py:63: DataConversionWarning: A column-vector y was passed when a 1d array was expected. Please change the shape of y to (n_samples, ), for example using ravel().\n",
      "  return f(*args, **kwargs)\n"
     ]
    },
    {
     "name": "stdout",
     "output_type": "stream",
     "text": [
      "              precision    recall  f1-score   support\n",
      "\n",
      "    Check-In       0.60      0.44      0.51      1610\n",
      "    Canceled       0.28      0.30      0.29       741\n",
      "     No-Show       0.15      0.29      0.20       398\n",
      "\n",
      "    accuracy                           0.38      2749\n",
      "   macro avg       0.34      0.34      0.33      2749\n",
      "weighted avg       0.45      0.38      0.40      2749\n",
      "\n",
      "==========================================================================\n",
      "i= 0.4 j= 3.5 k= 8\n"
     ]
    },
    {
     "name": "stderr",
     "output_type": "stream",
     "text": [
      "c:\\users\\redline pc\\appdata\\local\\programs\\python\\python38\\lib\\site-packages\\xgboost\\sklearn.py:888: UserWarning: The use of label encoder in XGBClassifier is deprecated and will be removed in a future release. To remove this warning, do the following: 1) Pass option use_label_encoder=False when constructing XGBClassifier object; and 2) Encode your labels (y) as integers starting with 0, i.e. 0, 1, 2, ..., [num_class - 1].\n",
      "  warnings.warn(label_encoder_deprecation_msg, UserWarning)\n",
      "c:\\users\\redline pc\\appdata\\local\\programs\\python\\python38\\lib\\site-packages\\sklearn\\utils\\validation.py:63: DataConversionWarning: A column-vector y was passed when a 1d array was expected. Please change the shape of y to (n_samples, ), for example using ravel().\n",
      "  return f(*args, **kwargs)\n"
     ]
    },
    {
     "name": "stdout",
     "output_type": "stream",
     "text": [
      "              precision    recall  f1-score   support\n",
      "\n",
      "    Check-In       0.60      0.39      0.47      1610\n",
      "    Canceled       0.29      0.28      0.29       741\n",
      "     No-Show       0.15      0.37      0.21       398\n",
      "\n",
      "    accuracy                           0.36      2749\n",
      "   macro avg       0.35      0.35      0.32      2749\n",
      "weighted avg       0.45      0.36      0.39      2749\n",
      "\n",
      "==========================================================================\n",
      "i= 0.4 j= 3.5 k= 9\n"
     ]
    },
    {
     "name": "stderr",
     "output_type": "stream",
     "text": [
      "c:\\users\\redline pc\\appdata\\local\\programs\\python\\python38\\lib\\site-packages\\xgboost\\sklearn.py:888: UserWarning: The use of label encoder in XGBClassifier is deprecated and will be removed in a future release. To remove this warning, do the following: 1) Pass option use_label_encoder=False when constructing XGBClassifier object; and 2) Encode your labels (y) as integers starting with 0, i.e. 0, 1, 2, ..., [num_class - 1].\n",
      "  warnings.warn(label_encoder_deprecation_msg, UserWarning)\n",
      "c:\\users\\redline pc\\appdata\\local\\programs\\python\\python38\\lib\\site-packages\\sklearn\\utils\\validation.py:63: DataConversionWarning: A column-vector y was passed when a 1d array was expected. Please change the shape of y to (n_samples, ), for example using ravel().\n",
      "  return f(*args, **kwargs)\n"
     ]
    },
    {
     "name": "stdout",
     "output_type": "stream",
     "text": [
      "              precision    recall  f1-score   support\n",
      "\n",
      "    Check-In       0.60      0.40      0.48      1610\n",
      "    Canceled       0.27      0.21      0.24       741\n",
      "     No-Show       0.15      0.41      0.21       398\n",
      "\n",
      "    accuracy                           0.35      2749\n",
      "   macro avg       0.34      0.34      0.31      2749\n",
      "weighted avg       0.45      0.35      0.37      2749\n",
      "\n",
      "==========================================================================\n",
      "i= 0.4 j= 4.0 k= 3\n"
     ]
    },
    {
     "name": "stderr",
     "output_type": "stream",
     "text": [
      "c:\\users\\redline pc\\appdata\\local\\programs\\python\\python38\\lib\\site-packages\\xgboost\\sklearn.py:888: UserWarning: The use of label encoder in XGBClassifier is deprecated and will be removed in a future release. To remove this warning, do the following: 1) Pass option use_label_encoder=False when constructing XGBClassifier object; and 2) Encode your labels (y) as integers starting with 0, i.e. 0, 1, 2, ..., [num_class - 1].\n",
      "  warnings.warn(label_encoder_deprecation_msg, UserWarning)\n",
      "c:\\users\\redline pc\\appdata\\local\\programs\\python\\python38\\lib\\site-packages\\sklearn\\utils\\validation.py:63: DataConversionWarning: A column-vector y was passed when a 1d array was expected. Please change the shape of y to (n_samples, ), for example using ravel().\n",
      "  return f(*args, **kwargs)\n"
     ]
    },
    {
     "name": "stdout",
     "output_type": "stream",
     "text": [
      "              precision    recall  f1-score   support\n",
      "\n",
      "    Check-In       0.60      0.46      0.52      1610\n",
      "    Canceled       0.28      0.57      0.38       741\n",
      "     No-Show       0.26      0.01      0.02       398\n",
      "\n",
      "    accuracy                           0.42      2749\n",
      "   macro avg       0.38      0.35      0.31      2749\n",
      "weighted avg       0.47      0.42      0.41      2749\n",
      "\n",
      "==========================================================================\n",
      "i= 0.4 j= 4.0 k= 4\n"
     ]
    },
    {
     "name": "stderr",
     "output_type": "stream",
     "text": [
      "c:\\users\\redline pc\\appdata\\local\\programs\\python\\python38\\lib\\site-packages\\xgboost\\sklearn.py:888: UserWarning: The use of label encoder in XGBClassifier is deprecated and will be removed in a future release. To remove this warning, do the following: 1) Pass option use_label_encoder=False when constructing XGBClassifier object; and 2) Encode your labels (y) as integers starting with 0, i.e. 0, 1, 2, ..., [num_class - 1].\n",
      "  warnings.warn(label_encoder_deprecation_msg, UserWarning)\n",
      "c:\\users\\redline pc\\appdata\\local\\programs\\python\\python38\\lib\\site-packages\\sklearn\\utils\\validation.py:63: DataConversionWarning: A column-vector y was passed when a 1d array was expected. Please change the shape of y to (n_samples, ), for example using ravel().\n",
      "  return f(*args, **kwargs)\n"
     ]
    },
    {
     "name": "stdout",
     "output_type": "stream",
     "text": [
      "              precision    recall  f1-score   support\n",
      "\n",
      "    Check-In       0.60      0.46      0.52      1610\n",
      "    Canceled       0.28      0.55      0.37       741\n",
      "     No-Show       0.16      0.03      0.04       398\n",
      "\n",
      "    accuracy                           0.42      2749\n",
      "   macro avg       0.35      0.34      0.31      2749\n",
      "weighted avg       0.45      0.42      0.41      2749\n",
      "\n",
      "==========================================================================\n",
      "i= 0.4 j= 4.0 k= 5\n"
     ]
    },
    {
     "name": "stderr",
     "output_type": "stream",
     "text": [
      "c:\\users\\redline pc\\appdata\\local\\programs\\python\\python38\\lib\\site-packages\\xgboost\\sklearn.py:888: UserWarning: The use of label encoder in XGBClassifier is deprecated and will be removed in a future release. To remove this warning, do the following: 1) Pass option use_label_encoder=False when constructing XGBClassifier object; and 2) Encode your labels (y) as integers starting with 0, i.e. 0, 1, 2, ..., [num_class - 1].\n",
      "  warnings.warn(label_encoder_deprecation_msg, UserWarning)\n",
      "c:\\users\\redline pc\\appdata\\local\\programs\\python\\python38\\lib\\site-packages\\sklearn\\utils\\validation.py:63: DataConversionWarning: A column-vector y was passed when a 1d array was expected. Please change the shape of y to (n_samples, ), for example using ravel().\n",
      "  return f(*args, **kwargs)\n"
     ]
    },
    {
     "name": "stdout",
     "output_type": "stream",
     "text": [
      "              precision    recall  f1-score   support\n",
      "\n",
      "    Check-In       0.60      0.45      0.52      1610\n",
      "    Canceled       0.28      0.52      0.36       741\n",
      "     No-Show       0.16      0.06      0.09       398\n",
      "\n",
      "    accuracy                           0.41      2749\n",
      "   macro avg       0.35      0.34      0.32      2749\n",
      "weighted avg       0.45      0.41      0.41      2749\n",
      "\n",
      "==========================================================================\n",
      "i= 0.4 j= 4.0 k= 6\n"
     ]
    },
    {
     "name": "stderr",
     "output_type": "stream",
     "text": [
      "c:\\users\\redline pc\\appdata\\local\\programs\\python\\python38\\lib\\site-packages\\xgboost\\sklearn.py:888: UserWarning: The use of label encoder in XGBClassifier is deprecated and will be removed in a future release. To remove this warning, do the following: 1) Pass option use_label_encoder=False when constructing XGBClassifier object; and 2) Encode your labels (y) as integers starting with 0, i.e. 0, 1, 2, ..., [num_class - 1].\n",
      "  warnings.warn(label_encoder_deprecation_msg, UserWarning)\n",
      "c:\\users\\redline pc\\appdata\\local\\programs\\python\\python38\\lib\\site-packages\\sklearn\\utils\\validation.py:63: DataConversionWarning: A column-vector y was passed when a 1d array was expected. Please change the shape of y to (n_samples, ), for example using ravel().\n",
      "  return f(*args, **kwargs)\n"
     ]
    },
    {
     "name": "stdout",
     "output_type": "stream",
     "text": [
      "              precision    recall  f1-score   support\n",
      "\n",
      "    Check-In       0.60      0.44      0.50      1610\n",
      "    Canceled       0.28      0.47      0.35       741\n",
      "     No-Show       0.18      0.15      0.16       398\n",
      "\n",
      "    accuracy                           0.40      2749\n",
      "   macro avg       0.35      0.35      0.34      2749\n",
      "weighted avg       0.45      0.40      0.41      2749\n",
      "\n",
      "==========================================================================\n",
      "i= 0.4 j= 4.0 k= 7\n"
     ]
    },
    {
     "name": "stderr",
     "output_type": "stream",
     "text": [
      "c:\\users\\redline pc\\appdata\\local\\programs\\python\\python38\\lib\\site-packages\\xgboost\\sklearn.py:888: UserWarning: The use of label encoder in XGBClassifier is deprecated and will be removed in a future release. To remove this warning, do the following: 1) Pass option use_label_encoder=False when constructing XGBClassifier object; and 2) Encode your labels (y) as integers starting with 0, i.e. 0, 1, 2, ..., [num_class - 1].\n",
      "  warnings.warn(label_encoder_deprecation_msg, UserWarning)\n",
      "c:\\users\\redline pc\\appdata\\local\\programs\\python\\python38\\lib\\site-packages\\sklearn\\utils\\validation.py:63: DataConversionWarning: A column-vector y was passed when a 1d array was expected. Please change the shape of y to (n_samples, ), for example using ravel().\n",
      "  return f(*args, **kwargs)\n"
     ]
    },
    {
     "name": "stdout",
     "output_type": "stream",
     "text": [
      "              precision    recall  f1-score   support\n",
      "\n",
      "    Check-In       0.60      0.40      0.48      1610\n",
      "    Canceled       0.28      0.41      0.34       741\n",
      "     No-Show       0.16      0.24      0.19       398\n",
      "\n",
      "    accuracy                           0.38      2749\n",
      "   macro avg       0.35      0.35      0.34      2749\n",
      "weighted avg       0.45      0.38      0.40      2749\n",
      "\n",
      "==========================================================================\n",
      "i= 0.4 j= 4.0 k= 8\n"
     ]
    },
    {
     "name": "stderr",
     "output_type": "stream",
     "text": [
      "c:\\users\\redline pc\\appdata\\local\\programs\\python\\python38\\lib\\site-packages\\xgboost\\sklearn.py:888: UserWarning: The use of label encoder in XGBClassifier is deprecated and will be removed in a future release. To remove this warning, do the following: 1) Pass option use_label_encoder=False when constructing XGBClassifier object; and 2) Encode your labels (y) as integers starting with 0, i.e. 0, 1, 2, ..., [num_class - 1].\n",
      "  warnings.warn(label_encoder_deprecation_msg, UserWarning)\n",
      "c:\\users\\redline pc\\appdata\\local\\programs\\python\\python38\\lib\\site-packages\\sklearn\\utils\\validation.py:63: DataConversionWarning: A column-vector y was passed when a 1d array was expected. Please change the shape of y to (n_samples, ), for example using ravel().\n",
      "  return f(*args, **kwargs)\n"
     ]
    },
    {
     "name": "stdout",
     "output_type": "stream",
     "text": [
      "              precision    recall  f1-score   support\n",
      "\n",
      "    Check-In       0.59      0.42      0.49      1610\n",
      "    Canceled       0.28      0.33      0.31       741\n",
      "     No-Show       0.14      0.26      0.18       398\n",
      "\n",
      "    accuracy                           0.37      2749\n",
      "   macro avg       0.34      0.34      0.33      2749\n",
      "weighted avg       0.44      0.37      0.40      2749\n",
      "\n",
      "==========================================================================\n",
      "i= 0.4 j= 4.0 k= 9\n"
     ]
    },
    {
     "name": "stderr",
     "output_type": "stream",
     "text": [
      "c:\\users\\redline pc\\appdata\\local\\programs\\python\\python38\\lib\\site-packages\\xgboost\\sklearn.py:888: UserWarning: The use of label encoder in XGBClassifier is deprecated and will be removed in a future release. To remove this warning, do the following: 1) Pass option use_label_encoder=False when constructing XGBClassifier object; and 2) Encode your labels (y) as integers starting with 0, i.e. 0, 1, 2, ..., [num_class - 1].\n",
      "  warnings.warn(label_encoder_deprecation_msg, UserWarning)\n",
      "c:\\users\\redline pc\\appdata\\local\\programs\\python\\python38\\lib\\site-packages\\sklearn\\utils\\validation.py:63: DataConversionWarning: A column-vector y was passed when a 1d array was expected. Please change the shape of y to (n_samples, ), for example using ravel().\n",
      "  return f(*args, **kwargs)\n"
     ]
    },
    {
     "name": "stdout",
     "output_type": "stream",
     "text": [
      "              precision    recall  f1-score   support\n",
      "\n",
      "    Check-In       0.60      0.38      0.47      1610\n",
      "    Canceled       0.28      0.27      0.27       741\n",
      "     No-Show       0.15      0.39      0.22       398\n",
      "\n",
      "    accuracy                           0.35      2749\n",
      "   macro avg       0.35      0.35      0.32      2749\n",
      "weighted avg       0.45      0.35      0.38      2749\n",
      "\n",
      "==========================================================================\n",
      "i= 0.4 j= 4.5 k= 3\n"
     ]
    },
    {
     "name": "stderr",
     "output_type": "stream",
     "text": [
      "c:\\users\\redline pc\\appdata\\local\\programs\\python\\python38\\lib\\site-packages\\xgboost\\sklearn.py:888: UserWarning: The use of label encoder in XGBClassifier is deprecated and will be removed in a future release. To remove this warning, do the following: 1) Pass option use_label_encoder=False when constructing XGBClassifier object; and 2) Encode your labels (y) as integers starting with 0, i.e. 0, 1, 2, ..., [num_class - 1].\n",
      "  warnings.warn(label_encoder_deprecation_msg, UserWarning)\n",
      "c:\\users\\redline pc\\appdata\\local\\programs\\python\\python38\\lib\\site-packages\\sklearn\\utils\\validation.py:63: DataConversionWarning: A column-vector y was passed when a 1d array was expected. Please change the shape of y to (n_samples, ), for example using ravel().\n",
      "  return f(*args, **kwargs)\n"
     ]
    },
    {
     "name": "stdout",
     "output_type": "stream",
     "text": [
      "              precision    recall  f1-score   support\n",
      "\n",
      "    Check-In       0.61      0.41      0.49      1610\n",
      "    Canceled       0.28      0.62      0.38       741\n",
      "     No-Show       0.11      0.01      0.01       398\n",
      "\n",
      "    accuracy                           0.41      2749\n",
      "   macro avg       0.33      0.35      0.30      2749\n",
      "weighted avg       0.45      0.41      0.39      2749\n",
      "\n",
      "==========================================================================\n",
      "i= 0.4 j= 4.5 k= 4\n"
     ]
    },
    {
     "name": "stderr",
     "output_type": "stream",
     "text": [
      "c:\\users\\redline pc\\appdata\\local\\programs\\python\\python38\\lib\\site-packages\\xgboost\\sklearn.py:888: UserWarning: The use of label encoder in XGBClassifier is deprecated and will be removed in a future release. To remove this warning, do the following: 1) Pass option use_label_encoder=False when constructing XGBClassifier object; and 2) Encode your labels (y) as integers starting with 0, i.e. 0, 1, 2, ..., [num_class - 1].\n",
      "  warnings.warn(label_encoder_deprecation_msg, UserWarning)\n",
      "c:\\users\\redline pc\\appdata\\local\\programs\\python\\python38\\lib\\site-packages\\sklearn\\utils\\validation.py:63: DataConversionWarning: A column-vector y was passed when a 1d array was expected. Please change the shape of y to (n_samples, ), for example using ravel().\n",
      "  return f(*args, **kwargs)\n"
     ]
    },
    {
     "name": "stdout",
     "output_type": "stream",
     "text": [
      "              precision    recall  f1-score   support\n",
      "\n",
      "    Check-In       0.61      0.42      0.50      1610\n",
      "    Canceled       0.28      0.60      0.38       741\n",
      "     No-Show       0.14      0.02      0.03       398\n",
      "\n",
      "    accuracy                           0.41      2749\n",
      "   macro avg       0.34      0.35      0.30      2749\n",
      "weighted avg       0.45      0.41      0.40      2749\n",
      "\n",
      "==========================================================================\n",
      "i= 0.4 j= 4.5 k= 5\n"
     ]
    },
    {
     "name": "stderr",
     "output_type": "stream",
     "text": [
      "c:\\users\\redline pc\\appdata\\local\\programs\\python\\python38\\lib\\site-packages\\xgboost\\sklearn.py:888: UserWarning: The use of label encoder in XGBClassifier is deprecated and will be removed in a future release. To remove this warning, do the following: 1) Pass option use_label_encoder=False when constructing XGBClassifier object; and 2) Encode your labels (y) as integers starting with 0, i.e. 0, 1, 2, ..., [num_class - 1].\n",
      "  warnings.warn(label_encoder_deprecation_msg, UserWarning)\n",
      "c:\\users\\redline pc\\appdata\\local\\programs\\python\\python38\\lib\\site-packages\\sklearn\\utils\\validation.py:63: DataConversionWarning: A column-vector y was passed when a 1d array was expected. Please change the shape of y to (n_samples, ), for example using ravel().\n",
      "  return f(*args, **kwargs)\n"
     ]
    },
    {
     "name": "stdout",
     "output_type": "stream",
     "text": [
      "              precision    recall  f1-score   support\n",
      "\n",
      "    Check-In       0.60      0.40      0.48      1610\n",
      "    Canceled       0.28      0.59      0.38       741\n",
      "     No-Show       0.20      0.05      0.08       398\n",
      "\n",
      "    accuracy                           0.40      2749\n",
      "   macro avg       0.36      0.35      0.32      2749\n",
      "weighted avg       0.46      0.40      0.40      2749\n",
      "\n",
      "==========================================================================\n",
      "i= 0.4 j= 4.5 k= 6\n"
     ]
    },
    {
     "name": "stderr",
     "output_type": "stream",
     "text": [
      "c:\\users\\redline pc\\appdata\\local\\programs\\python\\python38\\lib\\site-packages\\xgboost\\sklearn.py:888: UserWarning: The use of label encoder in XGBClassifier is deprecated and will be removed in a future release. To remove this warning, do the following: 1) Pass option use_label_encoder=False when constructing XGBClassifier object; and 2) Encode your labels (y) as integers starting with 0, i.e. 0, 1, 2, ..., [num_class - 1].\n",
      "  warnings.warn(label_encoder_deprecation_msg, UserWarning)\n",
      "c:\\users\\redline pc\\appdata\\local\\programs\\python\\python38\\lib\\site-packages\\sklearn\\utils\\validation.py:63: DataConversionWarning: A column-vector y was passed when a 1d array was expected. Please change the shape of y to (n_samples, ), for example using ravel().\n",
      "  return f(*args, **kwargs)\n"
     ]
    },
    {
     "name": "stdout",
     "output_type": "stream",
     "text": [
      "              precision    recall  f1-score   support\n",
      "\n",
      "    Check-In       0.60      0.42      0.50      1610\n",
      "    Canceled       0.28      0.54      0.37       741\n",
      "     No-Show       0.20      0.10      0.13       398\n",
      "\n",
      "    accuracy                           0.41      2749\n",
      "   macro avg       0.36      0.35      0.33      2749\n",
      "weighted avg       0.46      0.41      0.41      2749\n",
      "\n",
      "==========================================================================\n",
      "i= 0.4 j= 4.5 k= 7\n"
     ]
    },
    {
     "name": "stderr",
     "output_type": "stream",
     "text": [
      "c:\\users\\redline pc\\appdata\\local\\programs\\python\\python38\\lib\\site-packages\\xgboost\\sklearn.py:888: UserWarning: The use of label encoder in XGBClassifier is deprecated and will be removed in a future release. To remove this warning, do the following: 1) Pass option use_label_encoder=False when constructing XGBClassifier object; and 2) Encode your labels (y) as integers starting with 0, i.e. 0, 1, 2, ..., [num_class - 1].\n",
      "  warnings.warn(label_encoder_deprecation_msg, UserWarning)\n",
      "c:\\users\\redline pc\\appdata\\local\\programs\\python\\python38\\lib\\site-packages\\sklearn\\utils\\validation.py:63: DataConversionWarning: A column-vector y was passed when a 1d array was expected. Please change the shape of y to (n_samples, ), for example using ravel().\n",
      "  return f(*args, **kwargs)\n"
     ]
    },
    {
     "name": "stdout",
     "output_type": "stream",
     "text": [
      "              precision    recall  f1-score   support\n",
      "\n",
      "    Check-In       0.60      0.39      0.48      1610\n",
      "    Canceled       0.29      0.51      0.37       741\n",
      "     No-Show       0.14      0.15      0.15       398\n",
      "\n",
      "    accuracy                           0.39      2749\n",
      "   macro avg       0.35      0.35      0.33      2749\n",
      "weighted avg       0.45      0.39      0.40      2749\n",
      "\n",
      "==========================================================================\n",
      "i= 0.4 j= 4.5 k= 8\n"
     ]
    },
    {
     "name": "stderr",
     "output_type": "stream",
     "text": [
      "c:\\users\\redline pc\\appdata\\local\\programs\\python\\python38\\lib\\site-packages\\xgboost\\sklearn.py:888: UserWarning: The use of label encoder in XGBClassifier is deprecated and will be removed in a future release. To remove this warning, do the following: 1) Pass option use_label_encoder=False when constructing XGBClassifier object; and 2) Encode your labels (y) as integers starting with 0, i.e. 0, 1, 2, ..., [num_class - 1].\n",
      "  warnings.warn(label_encoder_deprecation_msg, UserWarning)\n",
      "c:\\users\\redline pc\\appdata\\local\\programs\\python\\python38\\lib\\site-packages\\sklearn\\utils\\validation.py:63: DataConversionWarning: A column-vector y was passed when a 1d array was expected. Please change the shape of y to (n_samples, ), for example using ravel().\n",
      "  return f(*args, **kwargs)\n"
     ]
    },
    {
     "name": "stdout",
     "output_type": "stream",
     "text": [
      "              precision    recall  f1-score   support\n",
      "\n",
      "    Check-In       0.60      0.38      0.46      1610\n",
      "    Canceled       0.27      0.43      0.33       741\n",
      "     No-Show       0.15      0.23      0.18       398\n",
      "\n",
      "    accuracy                           0.37      2749\n",
      "   macro avg       0.34      0.34      0.33      2749\n",
      "weighted avg       0.45      0.37      0.39      2749\n",
      "\n",
      "==========================================================================\n",
      "i= 0.4 j= 4.5 k= 9\n"
     ]
    },
    {
     "name": "stderr",
     "output_type": "stream",
     "text": [
      "c:\\users\\redline pc\\appdata\\local\\programs\\python\\python38\\lib\\site-packages\\xgboost\\sklearn.py:888: UserWarning: The use of label encoder in XGBClassifier is deprecated and will be removed in a future release. To remove this warning, do the following: 1) Pass option use_label_encoder=False when constructing XGBClassifier object; and 2) Encode your labels (y) as integers starting with 0, i.e. 0, 1, 2, ..., [num_class - 1].\n",
      "  warnings.warn(label_encoder_deprecation_msg, UserWarning)\n",
      "c:\\users\\redline pc\\appdata\\local\\programs\\python\\python38\\lib\\site-packages\\sklearn\\utils\\validation.py:63: DataConversionWarning: A column-vector y was passed when a 1d array was expected. Please change the shape of y to (n_samples, ), for example using ravel().\n",
      "  return f(*args, **kwargs)\n"
     ]
    },
    {
     "name": "stdout",
     "output_type": "stream",
     "text": [
      "              precision    recall  f1-score   support\n",
      "\n",
      "    Check-In       0.60      0.36      0.45      1610\n",
      "    Canceled       0.28      0.36      0.32       741\n",
      "     No-Show       0.16      0.33      0.21       398\n",
      "\n",
      "    accuracy                           0.36      2749\n",
      "   macro avg       0.35      0.35      0.33      2749\n",
      "weighted avg       0.45      0.36      0.38      2749\n",
      "\n",
      "==========================================================================\n",
      "i= 0.5 j= 1.5 k= 3\n"
     ]
    },
    {
     "name": "stderr",
     "output_type": "stream",
     "text": [
      "c:\\users\\redline pc\\appdata\\local\\programs\\python\\python38\\lib\\site-packages\\xgboost\\sklearn.py:888: UserWarning: The use of label encoder in XGBClassifier is deprecated and will be removed in a future release. To remove this warning, do the following: 1) Pass option use_label_encoder=False when constructing XGBClassifier object; and 2) Encode your labels (y) as integers starting with 0, i.e. 0, 1, 2, ..., [num_class - 1].\n",
      "  warnings.warn(label_encoder_deprecation_msg, UserWarning)\n",
      "c:\\users\\redline pc\\appdata\\local\\programs\\python\\python38\\lib\\site-packages\\sklearn\\utils\\validation.py:63: DataConversionWarning: A column-vector y was passed when a 1d array was expected. Please change the shape of y to (n_samples, ), for example using ravel().\n",
      "  return f(*args, **kwargs)\n"
     ]
    },
    {
     "name": "stdout",
     "output_type": "stream",
     "text": [
      "              precision    recall  f1-score   support\n",
      "\n",
      "    Check-In       0.59      0.78      0.67      1610\n",
      "    Canceled       0.27      0.12      0.17       741\n",
      "     No-Show       0.17      0.12      0.14       398\n",
      "\n",
      "    accuracy                           0.51      2749\n",
      "   macro avg       0.34      0.34      0.33      2749\n",
      "weighted avg       0.44      0.51      0.46      2749\n",
      "\n",
      "==========================================================================\n",
      "i= 0.5 j= 1.5 k= 4\n"
     ]
    },
    {
     "name": "stderr",
     "output_type": "stream",
     "text": [
      "c:\\users\\redline pc\\appdata\\local\\programs\\python\\python38\\lib\\site-packages\\xgboost\\sklearn.py:888: UserWarning: The use of label encoder in XGBClassifier is deprecated and will be removed in a future release. To remove this warning, do the following: 1) Pass option use_label_encoder=False when constructing XGBClassifier object; and 2) Encode your labels (y) as integers starting with 0, i.e. 0, 1, 2, ..., [num_class - 1].\n",
      "  warnings.warn(label_encoder_deprecation_msg, UserWarning)\n",
      "c:\\users\\redline pc\\appdata\\local\\programs\\python\\python38\\lib\\site-packages\\sklearn\\utils\\validation.py:63: DataConversionWarning: A column-vector y was passed when a 1d array was expected. Please change the shape of y to (n_samples, ), for example using ravel().\n",
      "  return f(*args, **kwargs)\n"
     ]
    },
    {
     "name": "stdout",
     "output_type": "stream",
     "text": [
      "              precision    recall  f1-score   support\n",
      "\n",
      "    Check-In       0.59      0.72      0.65      1610\n",
      "    Canceled       0.24      0.06      0.10       741\n",
      "     No-Show       0.15      0.22      0.18       398\n",
      "\n",
      "    accuracy                           0.47      2749\n",
      "   macro avg       0.33      0.34      0.31      2749\n",
      "weighted avg       0.43      0.47      0.43      2749\n",
      "\n",
      "==========================================================================\n",
      "i= 0.5 j= 1.5 k= 5\n"
     ]
    },
    {
     "name": "stderr",
     "output_type": "stream",
     "text": [
      "c:\\users\\redline pc\\appdata\\local\\programs\\python\\python38\\lib\\site-packages\\xgboost\\sklearn.py:888: UserWarning: The use of label encoder in XGBClassifier is deprecated and will be removed in a future release. To remove this warning, do the following: 1) Pass option use_label_encoder=False when constructing XGBClassifier object; and 2) Encode your labels (y) as integers starting with 0, i.e. 0, 1, 2, ..., [num_class - 1].\n",
      "  warnings.warn(label_encoder_deprecation_msg, UserWarning)\n",
      "c:\\users\\redline pc\\appdata\\local\\programs\\python\\python38\\lib\\site-packages\\sklearn\\utils\\validation.py:63: DataConversionWarning: A column-vector y was passed when a 1d array was expected. Please change the shape of y to (n_samples, ), for example using ravel().\n",
      "  return f(*args, **kwargs)\n"
     ]
    },
    {
     "name": "stdout",
     "output_type": "stream",
     "text": [
      "              precision    recall  f1-score   support\n",
      "\n",
      "    Check-In       0.59      0.67      0.63      1610\n",
      "    Canceled       0.27      0.05      0.08       741\n",
      "     No-Show       0.16      0.31      0.21       398\n",
      "\n",
      "    accuracy                           0.45      2749\n",
      "   macro avg       0.34      0.34      0.31      2749\n",
      "weighted avg       0.44      0.45      0.42      2749\n",
      "\n",
      "==========================================================================\n",
      "i= 0.5 j= 1.5 k= 6\n"
     ]
    },
    {
     "name": "stderr",
     "output_type": "stream",
     "text": [
      "c:\\users\\redline pc\\appdata\\local\\programs\\python\\python38\\lib\\site-packages\\xgboost\\sklearn.py:888: UserWarning: The use of label encoder in XGBClassifier is deprecated and will be removed in a future release. To remove this warning, do the following: 1) Pass option use_label_encoder=False when constructing XGBClassifier object; and 2) Encode your labels (y) as integers starting with 0, i.e. 0, 1, 2, ..., [num_class - 1].\n",
      "  warnings.warn(label_encoder_deprecation_msg, UserWarning)\n",
      "c:\\users\\redline pc\\appdata\\local\\programs\\python\\python38\\lib\\site-packages\\sklearn\\utils\\validation.py:63: DataConversionWarning: A column-vector y was passed when a 1d array was expected. Please change the shape of y to (n_samples, ), for example using ravel().\n",
      "  return f(*args, **kwargs)\n"
     ]
    },
    {
     "name": "stdout",
     "output_type": "stream",
     "text": [
      "              precision    recall  f1-score   support\n",
      "\n",
      "    Check-In       0.59      0.64      0.61      1610\n",
      "    Canceled       0.29      0.03      0.06       741\n",
      "     No-Show       0.15      0.35      0.21       398\n",
      "\n",
      "    accuracy                           0.43      2749\n",
      "   macro avg       0.34      0.34      0.30      2749\n",
      "weighted avg       0.45      0.43      0.41      2749\n",
      "\n",
      "==========================================================================\n",
      "i= 0.5 j= 1.5 k= 7\n"
     ]
    },
    {
     "name": "stderr",
     "output_type": "stream",
     "text": [
      "c:\\users\\redline pc\\appdata\\local\\programs\\python\\python38\\lib\\site-packages\\xgboost\\sklearn.py:888: UserWarning: The use of label encoder in XGBClassifier is deprecated and will be removed in a future release. To remove this warning, do the following: 1) Pass option use_label_encoder=False when constructing XGBClassifier object; and 2) Encode your labels (y) as integers starting with 0, i.e. 0, 1, 2, ..., [num_class - 1].\n",
      "  warnings.warn(label_encoder_deprecation_msg, UserWarning)\n",
      "c:\\users\\redline pc\\appdata\\local\\programs\\python\\python38\\lib\\site-packages\\sklearn\\utils\\validation.py:63: DataConversionWarning: A column-vector y was passed when a 1d array was expected. Please change the shape of y to (n_samples, ), for example using ravel().\n",
      "  return f(*args, **kwargs)\n"
     ]
    },
    {
     "name": "stdout",
     "output_type": "stream",
     "text": [
      "              precision    recall  f1-score   support\n",
      "\n",
      "    Check-In       0.59      0.62      0.61      1610\n",
      "    Canceled       0.22      0.02      0.03       741\n",
      "     No-Show       0.15      0.39      0.22       398\n",
      "\n",
      "    accuracy                           0.42      2749\n",
      "   macro avg       0.32      0.34      0.29      2749\n",
      "weighted avg       0.43      0.42      0.40      2749\n",
      "\n",
      "==========================================================================\n",
      "i= 0.5 j= 1.5 k= 8\n"
     ]
    },
    {
     "name": "stderr",
     "output_type": "stream",
     "text": [
      "c:\\users\\redline pc\\appdata\\local\\programs\\python\\python38\\lib\\site-packages\\xgboost\\sklearn.py:888: UserWarning: The use of label encoder in XGBClassifier is deprecated and will be removed in a future release. To remove this warning, do the following: 1) Pass option use_label_encoder=False when constructing XGBClassifier object; and 2) Encode your labels (y) as integers starting with 0, i.e. 0, 1, 2, ..., [num_class - 1].\n",
      "  warnings.warn(label_encoder_deprecation_msg, UserWarning)\n",
      "c:\\users\\redline pc\\appdata\\local\\programs\\python\\python38\\lib\\site-packages\\sklearn\\utils\\validation.py:63: DataConversionWarning: A column-vector y was passed when a 1d array was expected. Please change the shape of y to (n_samples, ), for example using ravel().\n",
      "  return f(*args, **kwargs)\n"
     ]
    },
    {
     "name": "stdout",
     "output_type": "stream",
     "text": [
      "              precision    recall  f1-score   support\n",
      "\n",
      "    Check-In       0.59      0.59      0.59      1610\n",
      "    Canceled       0.38      0.02      0.05       741\n",
      "     No-Show       0.15      0.42      0.22       398\n",
      "\n",
      "    accuracy                           0.41      2749\n",
      "   macro avg       0.37      0.34      0.29      2749\n",
      "weighted avg       0.47      0.41      0.39      2749\n",
      "\n",
      "==========================================================================\n",
      "i= 0.5 j= 1.5 k= 9\n"
     ]
    },
    {
     "name": "stderr",
     "output_type": "stream",
     "text": [
      "c:\\users\\redline pc\\appdata\\local\\programs\\python\\python38\\lib\\site-packages\\xgboost\\sklearn.py:888: UserWarning: The use of label encoder in XGBClassifier is deprecated and will be removed in a future release. To remove this warning, do the following: 1) Pass option use_label_encoder=False when constructing XGBClassifier object; and 2) Encode your labels (y) as integers starting with 0, i.e. 0, 1, 2, ..., [num_class - 1].\n",
      "  warnings.warn(label_encoder_deprecation_msg, UserWarning)\n",
      "c:\\users\\redline pc\\appdata\\local\\programs\\python\\python38\\lib\\site-packages\\sklearn\\utils\\validation.py:63: DataConversionWarning: A column-vector y was passed when a 1d array was expected. Please change the shape of y to (n_samples, ), for example using ravel().\n",
      "  return f(*args, **kwargs)\n"
     ]
    },
    {
     "name": "stdout",
     "output_type": "stream",
     "text": [
      "              precision    recall  f1-score   support\n",
      "\n",
      "    Check-In       0.59      0.56      0.58      1610\n",
      "    Canceled       0.34      0.02      0.04       741\n",
      "     No-Show       0.14      0.43      0.22       398\n",
      "\n",
      "    accuracy                           0.40      2749\n",
      "   macro avg       0.36      0.34      0.28      2749\n",
      "weighted avg       0.46      0.40      0.38      2749\n",
      "\n",
      "==========================================================================\n",
      "i= 0.5 j= 2.0 k= 3\n"
     ]
    },
    {
     "name": "stderr",
     "output_type": "stream",
     "text": [
      "c:\\users\\redline pc\\appdata\\local\\programs\\python\\python38\\lib\\site-packages\\xgboost\\sklearn.py:888: UserWarning: The use of label encoder in XGBClassifier is deprecated and will be removed in a future release. To remove this warning, do the following: 1) Pass option use_label_encoder=False when constructing XGBClassifier object; and 2) Encode your labels (y) as integers starting with 0, i.e. 0, 1, 2, ..., [num_class - 1].\n",
      "  warnings.warn(label_encoder_deprecation_msg, UserWarning)\n",
      "c:\\users\\redline pc\\appdata\\local\\programs\\python\\python38\\lib\\site-packages\\sklearn\\utils\\validation.py:63: DataConversionWarning: A column-vector y was passed when a 1d array was expected. Please change the shape of y to (n_samples, ), for example using ravel().\n",
      "  return f(*args, **kwargs)\n"
     ]
    },
    {
     "name": "stdout",
     "output_type": "stream",
     "text": [
      "              precision    recall  f1-score   support\n",
      "\n",
      "    Check-In       0.59      0.73      0.66      1610\n",
      "    Canceled       0.28      0.24      0.26       741\n",
      "     No-Show       0.20      0.06      0.10       398\n",
      "\n",
      "    accuracy                           0.50      2749\n",
      "   macro avg       0.36      0.35      0.34      2749\n",
      "weighted avg       0.45      0.50      0.47      2749\n",
      "\n",
      "==========================================================================\n",
      "i= 0.5 j= 2.0 k= 4\n"
     ]
    },
    {
     "name": "stderr",
     "output_type": "stream",
     "text": [
      "c:\\users\\redline pc\\appdata\\local\\programs\\python\\python38\\lib\\site-packages\\xgboost\\sklearn.py:888: UserWarning: The use of label encoder in XGBClassifier is deprecated and will be removed in a future release. To remove this warning, do the following: 1) Pass option use_label_encoder=False when constructing XGBClassifier object; and 2) Encode your labels (y) as integers starting with 0, i.e. 0, 1, 2, ..., [num_class - 1].\n",
      "  warnings.warn(label_encoder_deprecation_msg, UserWarning)\n",
      "c:\\users\\redline pc\\appdata\\local\\programs\\python\\python38\\lib\\site-packages\\sklearn\\utils\\validation.py:63: DataConversionWarning: A column-vector y was passed when a 1d array was expected. Please change the shape of y to (n_samples, ), for example using ravel().\n",
      "  return f(*args, **kwargs)\n"
     ]
    },
    {
     "name": "stdout",
     "output_type": "stream",
     "text": [
      "              precision    recall  f1-score   support\n",
      "\n",
      "    Check-In       0.59      0.69      0.64      1610\n",
      "    Canceled       0.27      0.18      0.22       741\n",
      "     No-Show       0.17      0.17      0.17       398\n",
      "\n",
      "    accuracy                           0.48      2749\n",
      "   macro avg       0.35      0.35      0.34      2749\n",
      "weighted avg       0.44      0.48      0.46      2749\n",
      "\n",
      "==========================================================================\n",
      "i= 0.5 j= 2.0 k= 5\n"
     ]
    },
    {
     "name": "stderr",
     "output_type": "stream",
     "text": [
      "c:\\users\\redline pc\\appdata\\local\\programs\\python\\python38\\lib\\site-packages\\xgboost\\sklearn.py:888: UserWarning: The use of label encoder in XGBClassifier is deprecated and will be removed in a future release. To remove this warning, do the following: 1) Pass option use_label_encoder=False when constructing XGBClassifier object; and 2) Encode your labels (y) as integers starting with 0, i.e. 0, 1, 2, ..., [num_class - 1].\n",
      "  warnings.warn(label_encoder_deprecation_msg, UserWarning)\n",
      "c:\\users\\redline pc\\appdata\\local\\programs\\python\\python38\\lib\\site-packages\\sklearn\\utils\\validation.py:63: DataConversionWarning: A column-vector y was passed when a 1d array was expected. Please change the shape of y to (n_samples, ), for example using ravel().\n",
      "  return f(*args, **kwargs)\n"
     ]
    },
    {
     "name": "stdout",
     "output_type": "stream",
     "text": [
      "              precision    recall  f1-score   support\n",
      "\n",
      "    Check-In       0.59      0.65      0.62      1610\n",
      "    Canceled       0.28      0.11      0.16       741\n",
      "     No-Show       0.15      0.25      0.19       398\n",
      "\n",
      "    accuracy                           0.45      2749\n",
      "   macro avg       0.34      0.34      0.32      2749\n",
      "weighted avg       0.44      0.45      0.43      2749\n",
      "\n",
      "==========================================================================\n",
      "i= 0.5 j= 2.0 k= 6\n"
     ]
    },
    {
     "name": "stderr",
     "output_type": "stream",
     "text": [
      "c:\\users\\redline pc\\appdata\\local\\programs\\python\\python38\\lib\\site-packages\\xgboost\\sklearn.py:888: UserWarning: The use of label encoder in XGBClassifier is deprecated and will be removed in a future release. To remove this warning, do the following: 1) Pass option use_label_encoder=False when constructing XGBClassifier object; and 2) Encode your labels (y) as integers starting with 0, i.e. 0, 1, 2, ..., [num_class - 1].\n",
      "  warnings.warn(label_encoder_deprecation_msg, UserWarning)\n",
      "c:\\users\\redline pc\\appdata\\local\\programs\\python\\python38\\lib\\site-packages\\sklearn\\utils\\validation.py:63: DataConversionWarning: A column-vector y was passed when a 1d array was expected. Please change the shape of y to (n_samples, ), for example using ravel().\n",
      "  return f(*args, **kwargs)\n"
     ]
    },
    {
     "name": "stdout",
     "output_type": "stream",
     "text": [
      "              precision    recall  f1-score   support\n",
      "\n",
      "    Check-In       0.59      0.61      0.60      1610\n",
      "    Canceled       0.31      0.09      0.13       741\n",
      "     No-Show       0.15      0.33      0.21       398\n",
      "\n",
      "    accuracy                           0.43      2749\n",
      "   macro avg       0.35      0.34      0.31      2749\n",
      "weighted avg       0.45      0.43      0.42      2749\n",
      "\n",
      "==========================================================================\n",
      "i= 0.5 j= 2.0 k= 7\n"
     ]
    },
    {
     "name": "stderr",
     "output_type": "stream",
     "text": [
      "c:\\users\\redline pc\\appdata\\local\\programs\\python\\python38\\lib\\site-packages\\xgboost\\sklearn.py:888: UserWarning: The use of label encoder in XGBClassifier is deprecated and will be removed in a future release. To remove this warning, do the following: 1) Pass option use_label_encoder=False when constructing XGBClassifier object; and 2) Encode your labels (y) as integers starting with 0, i.e. 0, 1, 2, ..., [num_class - 1].\n",
      "  warnings.warn(label_encoder_deprecation_msg, UserWarning)\n",
      "c:\\users\\redline pc\\appdata\\local\\programs\\python\\python38\\lib\\site-packages\\sklearn\\utils\\validation.py:63: DataConversionWarning: A column-vector y was passed when a 1d array was expected. Please change the shape of y to (n_samples, ), for example using ravel().\n",
      "  return f(*args, **kwargs)\n"
     ]
    },
    {
     "name": "stdout",
     "output_type": "stream",
     "text": [
      "              precision    recall  f1-score   support\n",
      "\n",
      "    Check-In       0.59      0.60      0.60      1610\n",
      "    Canceled       0.34      0.06      0.10       741\n",
      "     No-Show       0.15      0.37      0.21       398\n",
      "\n",
      "    accuracy                           0.42      2749\n",
      "   macro avg       0.36      0.34      0.30      2749\n",
      "weighted avg       0.46      0.42      0.41      2749\n",
      "\n",
      "==========================================================================\n",
      "i= 0.5 j= 2.0 k= 8\n"
     ]
    },
    {
     "name": "stderr",
     "output_type": "stream",
     "text": [
      "c:\\users\\redline pc\\appdata\\local\\programs\\python\\python38\\lib\\site-packages\\xgboost\\sklearn.py:888: UserWarning: The use of label encoder in XGBClassifier is deprecated and will be removed in a future release. To remove this warning, do the following: 1) Pass option use_label_encoder=False when constructing XGBClassifier object; and 2) Encode your labels (y) as integers starting with 0, i.e. 0, 1, 2, ..., [num_class - 1].\n",
      "  warnings.warn(label_encoder_deprecation_msg, UserWarning)\n",
      "c:\\users\\redline pc\\appdata\\local\\programs\\python\\python38\\lib\\site-packages\\sklearn\\utils\\validation.py:63: DataConversionWarning: A column-vector y was passed when a 1d array was expected. Please change the shape of y to (n_samples, ), for example using ravel().\n",
      "  return f(*args, **kwargs)\n"
     ]
    },
    {
     "name": "stdout",
     "output_type": "stream",
     "text": [
      "              precision    recall  f1-score   support\n",
      "\n",
      "    Check-In       0.59      0.55      0.57      1610\n",
      "    Canceled       0.31      0.05      0.08       741\n",
      "     No-Show       0.15      0.41      0.21       398\n",
      "\n",
      "    accuracy                           0.40      2749\n",
      "   macro avg       0.35      0.34      0.29      2749\n",
      "weighted avg       0.45      0.40      0.39      2749\n",
      "\n",
      "==========================================================================\n",
      "i= 0.5 j= 2.0 k= 9\n"
     ]
    },
    {
     "name": "stderr",
     "output_type": "stream",
     "text": [
      "c:\\users\\redline pc\\appdata\\local\\programs\\python\\python38\\lib\\site-packages\\xgboost\\sklearn.py:888: UserWarning: The use of label encoder in XGBClassifier is deprecated and will be removed in a future release. To remove this warning, do the following: 1) Pass option use_label_encoder=False when constructing XGBClassifier object; and 2) Encode your labels (y) as integers starting with 0, i.e. 0, 1, 2, ..., [num_class - 1].\n",
      "  warnings.warn(label_encoder_deprecation_msg, UserWarning)\n",
      "c:\\users\\redline pc\\appdata\\local\\programs\\python\\python38\\lib\\site-packages\\sklearn\\utils\\validation.py:63: DataConversionWarning: A column-vector y was passed when a 1d array was expected. Please change the shape of y to (n_samples, ), for example using ravel().\n",
      "  return f(*args, **kwargs)\n"
     ]
    },
    {
     "name": "stdout",
     "output_type": "stream",
     "text": [
      "              precision    recall  f1-score   support\n",
      "\n",
      "    Check-In       0.59      0.55      0.57      1610\n",
      "    Canceled       0.30      0.04      0.06       741\n",
      "     No-Show       0.14      0.42      0.21       398\n",
      "\n",
      "    accuracy                           0.39      2749\n",
      "   macro avg       0.34      0.33      0.28      2749\n",
      "weighted avg       0.44      0.39      0.38      2749\n",
      "\n",
      "==========================================================================\n",
      "i= 0.5 j= 2.5 k= 3\n"
     ]
    },
    {
     "name": "stderr",
     "output_type": "stream",
     "text": [
      "c:\\users\\redline pc\\appdata\\local\\programs\\python\\python38\\lib\\site-packages\\xgboost\\sklearn.py:888: UserWarning: The use of label encoder in XGBClassifier is deprecated and will be removed in a future release. To remove this warning, do the following: 1) Pass option use_label_encoder=False when constructing XGBClassifier object; and 2) Encode your labels (y) as integers starting with 0, i.e. 0, 1, 2, ..., [num_class - 1].\n",
      "  warnings.warn(label_encoder_deprecation_msg, UserWarning)\n",
      "c:\\users\\redline pc\\appdata\\local\\programs\\python\\python38\\lib\\site-packages\\sklearn\\utils\\validation.py:63: DataConversionWarning: A column-vector y was passed when a 1d array was expected. Please change the shape of y to (n_samples, ), for example using ravel().\n",
      "  return f(*args, **kwargs)\n"
     ]
    },
    {
     "name": "stdout",
     "output_type": "stream",
     "text": [
      "              precision    recall  f1-score   support\n",
      "\n",
      "    Check-In       0.59      0.65      0.62      1610\n",
      "    Canceled       0.27      0.33      0.30       741\n",
      "     No-Show       0.18      0.03      0.05       398\n",
      "\n",
      "    accuracy                           0.48      2749\n",
      "   macro avg       0.35      0.34      0.32      2749\n",
      "weighted avg       0.44      0.48      0.45      2749\n",
      "\n",
      "==========================================================================\n",
      "i= 0.5 j= 2.5 k= 4\n"
     ]
    },
    {
     "name": "stderr",
     "output_type": "stream",
     "text": [
      "c:\\users\\redline pc\\appdata\\local\\programs\\python\\python38\\lib\\site-packages\\xgboost\\sklearn.py:888: UserWarning: The use of label encoder in XGBClassifier is deprecated and will be removed in a future release. To remove this warning, do the following: 1) Pass option use_label_encoder=False when constructing XGBClassifier object; and 2) Encode your labels (y) as integers starting with 0, i.e. 0, 1, 2, ..., [num_class - 1].\n",
      "  warnings.warn(label_encoder_deprecation_msg, UserWarning)\n",
      "c:\\users\\redline pc\\appdata\\local\\programs\\python\\python38\\lib\\site-packages\\sklearn\\utils\\validation.py:63: DataConversionWarning: A column-vector y was passed when a 1d array was expected. Please change the shape of y to (n_samples, ), for example using ravel().\n",
      "  return f(*args, **kwargs)\n"
     ]
    },
    {
     "name": "stdout",
     "output_type": "stream",
     "text": [
      "              precision    recall  f1-score   support\n",
      "\n",
      "    Check-In       0.59      0.65      0.62      1610\n",
      "    Canceled       0.28      0.28      0.28       741\n",
      "     No-Show       0.15      0.09      0.11       398\n",
      "\n",
      "    accuracy                           0.47      2749\n",
      "   macro avg       0.34      0.34      0.34      2749\n",
      "weighted avg       0.44      0.47      0.45      2749\n",
      "\n",
      "==========================================================================\n",
      "i= 0.5 j= 2.5 k= 5\n"
     ]
    },
    {
     "name": "stderr",
     "output_type": "stream",
     "text": [
      "c:\\users\\redline pc\\appdata\\local\\programs\\python\\python38\\lib\\site-packages\\xgboost\\sklearn.py:888: UserWarning: The use of label encoder in XGBClassifier is deprecated and will be removed in a future release. To remove this warning, do the following: 1) Pass option use_label_encoder=False when constructing XGBClassifier object; and 2) Encode your labels (y) as integers starting with 0, i.e. 0, 1, 2, ..., [num_class - 1].\n",
      "  warnings.warn(label_encoder_deprecation_msg, UserWarning)\n",
      "c:\\users\\redline pc\\appdata\\local\\programs\\python\\python38\\lib\\site-packages\\sklearn\\utils\\validation.py:63: DataConversionWarning: A column-vector y was passed when a 1d array was expected. Please change the shape of y to (n_samples, ), for example using ravel().\n",
      "  return f(*args, **kwargs)\n"
     ]
    },
    {
     "name": "stdout",
     "output_type": "stream",
     "text": [
      "              precision    recall  f1-score   support\n",
      "\n",
      "    Check-In       0.59      0.61      0.60      1610\n",
      "    Canceled       0.29      0.23      0.25       741\n",
      "     No-Show       0.16      0.19      0.17       398\n",
      "\n",
      "    accuracy                           0.45      2749\n",
      "   macro avg       0.34      0.34      0.34      2749\n",
      "weighted avg       0.44      0.45      0.45      2749\n",
      "\n",
      "==========================================================================\n",
      "i= 0.5 j= 2.5 k= 6\n"
     ]
    },
    {
     "name": "stderr",
     "output_type": "stream",
     "text": [
      "c:\\users\\redline pc\\appdata\\local\\programs\\python\\python38\\lib\\site-packages\\xgboost\\sklearn.py:888: UserWarning: The use of label encoder in XGBClassifier is deprecated and will be removed in a future release. To remove this warning, do the following: 1) Pass option use_label_encoder=False when constructing XGBClassifier object; and 2) Encode your labels (y) as integers starting with 0, i.e. 0, 1, 2, ..., [num_class - 1].\n",
      "  warnings.warn(label_encoder_deprecation_msg, UserWarning)\n",
      "c:\\users\\redline pc\\appdata\\local\\programs\\python\\python38\\lib\\site-packages\\sklearn\\utils\\validation.py:63: DataConversionWarning: A column-vector y was passed when a 1d array was expected. Please change the shape of y to (n_samples, ), for example using ravel().\n",
      "  return f(*args, **kwargs)\n"
     ]
    },
    {
     "name": "stdout",
     "output_type": "stream",
     "text": [
      "              precision    recall  f1-score   support\n",
      "\n",
      "    Check-In       0.59      0.59      0.59      1610\n",
      "    Canceled       0.27      0.15      0.19       741\n",
      "     No-Show       0.14      0.26      0.18       398\n",
      "\n",
      "    accuracy                           0.42      2749\n",
      "   macro avg       0.33      0.33      0.32      2749\n",
      "weighted avg       0.44      0.42      0.42      2749\n",
      "\n",
      "==========================================================================\n",
      "i= 0.5 j= 2.5 k= 7\n"
     ]
    },
    {
     "name": "stderr",
     "output_type": "stream",
     "text": [
      "c:\\users\\redline pc\\appdata\\local\\programs\\python\\python38\\lib\\site-packages\\xgboost\\sklearn.py:888: UserWarning: The use of label encoder in XGBClassifier is deprecated and will be removed in a future release. To remove this warning, do the following: 1) Pass option use_label_encoder=False when constructing XGBClassifier object; and 2) Encode your labels (y) as integers starting with 0, i.e. 0, 1, 2, ..., [num_class - 1].\n",
      "  warnings.warn(label_encoder_deprecation_msg, UserWarning)\n",
      "c:\\users\\redline pc\\appdata\\local\\programs\\python\\python38\\lib\\site-packages\\sklearn\\utils\\validation.py:63: DataConversionWarning: A column-vector y was passed when a 1d array was expected. Please change the shape of y to (n_samples, ), for example using ravel().\n",
      "  return f(*args, **kwargs)\n"
     ]
    },
    {
     "name": "stdout",
     "output_type": "stream",
     "text": [
      "              precision    recall  f1-score   support\n",
      "\n",
      "    Check-In       0.59      0.58      0.58      1610\n",
      "    Canceled       0.32      0.12      0.17       741\n",
      "     No-Show       0.14      0.32      0.19       398\n",
      "\n",
      "    accuracy                           0.42      2749\n",
      "   macro avg       0.35      0.34      0.32      2749\n",
      "weighted avg       0.45      0.42      0.42      2749\n",
      "\n",
      "==========================================================================\n",
      "i= 0.5 j= 2.5 k= 8\n"
     ]
    },
    {
     "name": "stderr",
     "output_type": "stream",
     "text": [
      "c:\\users\\redline pc\\appdata\\local\\programs\\python\\python38\\lib\\site-packages\\xgboost\\sklearn.py:888: UserWarning: The use of label encoder in XGBClassifier is deprecated and will be removed in a future release. To remove this warning, do the following: 1) Pass option use_label_encoder=False when constructing XGBClassifier object; and 2) Encode your labels (y) as integers starting with 0, i.e. 0, 1, 2, ..., [num_class - 1].\n",
      "  warnings.warn(label_encoder_deprecation_msg, UserWarning)\n",
      "c:\\users\\redline pc\\appdata\\local\\programs\\python\\python38\\lib\\site-packages\\sklearn\\utils\\validation.py:63: DataConversionWarning: A column-vector y was passed when a 1d array was expected. Please change the shape of y to (n_samples, ), for example using ravel().\n",
      "  return f(*args, **kwargs)\n"
     ]
    },
    {
     "name": "stdout",
     "output_type": "stream",
     "text": [
      "              precision    recall  f1-score   support\n",
      "\n",
      "    Check-In       0.59      0.54      0.56      1610\n",
      "    Canceled       0.28      0.08      0.12       741\n",
      "     No-Show       0.14      0.38      0.21       398\n",
      "\n",
      "    accuracy                           0.39      2749\n",
      "   macro avg       0.34      0.33      0.30      2749\n",
      "weighted avg       0.44      0.39      0.39      2749\n",
      "\n",
      "==========================================================================\n",
      "i= 0.5 j= 2.5 k= 9\n"
     ]
    },
    {
     "name": "stderr",
     "output_type": "stream",
     "text": [
      "c:\\users\\redline pc\\appdata\\local\\programs\\python\\python38\\lib\\site-packages\\xgboost\\sklearn.py:888: UserWarning: The use of label encoder in XGBClassifier is deprecated and will be removed in a future release. To remove this warning, do the following: 1) Pass option use_label_encoder=False when constructing XGBClassifier object; and 2) Encode your labels (y) as integers starting with 0, i.e. 0, 1, 2, ..., [num_class - 1].\n",
      "  warnings.warn(label_encoder_deprecation_msg, UserWarning)\n",
      "c:\\users\\redline pc\\appdata\\local\\programs\\python\\python38\\lib\\site-packages\\sklearn\\utils\\validation.py:63: DataConversionWarning: A column-vector y was passed when a 1d array was expected. Please change the shape of y to (n_samples, ), for example using ravel().\n",
      "  return f(*args, **kwargs)\n"
     ]
    },
    {
     "name": "stdout",
     "output_type": "stream",
     "text": [
      "              precision    recall  f1-score   support\n",
      "\n",
      "    Check-In       0.60      0.52      0.56      1610\n",
      "    Canceled       0.32      0.06      0.11       741\n",
      "     No-Show       0.15      0.45      0.22       398\n",
      "\n",
      "    accuracy                           0.39      2749\n",
      "   macro avg       0.36      0.34      0.30      2749\n",
      "weighted avg       0.46      0.39      0.39      2749\n",
      "\n",
      "==========================================================================\n",
      "i= 0.5 j= 3.0 k= 3\n"
     ]
    },
    {
     "name": "stderr",
     "output_type": "stream",
     "text": [
      "c:\\users\\redline pc\\appdata\\local\\programs\\python\\python38\\lib\\site-packages\\xgboost\\sklearn.py:888: UserWarning: The use of label encoder in XGBClassifier is deprecated and will be removed in a future release. To remove this warning, do the following: 1) Pass option use_label_encoder=False when constructing XGBClassifier object; and 2) Encode your labels (y) as integers starting with 0, i.e. 0, 1, 2, ..., [num_class - 1].\n",
      "  warnings.warn(label_encoder_deprecation_msg, UserWarning)\n",
      "c:\\users\\redline pc\\appdata\\local\\programs\\python\\python38\\lib\\site-packages\\sklearn\\utils\\validation.py:63: DataConversionWarning: A column-vector y was passed when a 1d array was expected. Please change the shape of y to (n_samples, ), for example using ravel().\n",
      "  return f(*args, **kwargs)\n"
     ]
    },
    {
     "name": "stdout",
     "output_type": "stream",
     "text": [
      "              precision    recall  f1-score   support\n",
      "\n",
      "    Check-In       0.59      0.62      0.61      1610\n",
      "    Canceled       0.27      0.38      0.32       741\n",
      "     No-Show       0.28      0.02      0.03       398\n",
      "\n",
      "    accuracy                           0.47      2749\n",
      "   macro avg       0.38      0.34      0.32      2749\n",
      "weighted avg       0.46      0.47      0.45      2749\n",
      "\n",
      "==========================================================================\n",
      "i= 0.5 j= 3.0 k= 4\n"
     ]
    },
    {
     "name": "stderr",
     "output_type": "stream",
     "text": [
      "c:\\users\\redline pc\\appdata\\local\\programs\\python\\python38\\lib\\site-packages\\xgboost\\sklearn.py:888: UserWarning: The use of label encoder in XGBClassifier is deprecated and will be removed in a future release. To remove this warning, do the following: 1) Pass option use_label_encoder=False when constructing XGBClassifier object; and 2) Encode your labels (y) as integers starting with 0, i.e. 0, 1, 2, ..., [num_class - 1].\n",
      "  warnings.warn(label_encoder_deprecation_msg, UserWarning)\n",
      "c:\\users\\redline pc\\appdata\\local\\programs\\python\\python38\\lib\\site-packages\\sklearn\\utils\\validation.py:63: DataConversionWarning: A column-vector y was passed when a 1d array was expected. Please change the shape of y to (n_samples, ), for example using ravel().\n",
      "  return f(*args, **kwargs)\n"
     ]
    },
    {
     "name": "stdout",
     "output_type": "stream",
     "text": [
      "              precision    recall  f1-score   support\n",
      "\n",
      "    Check-In       0.60      0.52      0.55      1610\n",
      "    Canceled       0.28      0.49      0.35       741\n",
      "     No-Show       0.16      0.02      0.03       398\n",
      "\n",
      "    accuracy                           0.44      2749\n",
      "   macro avg       0.34      0.34      0.31      2749\n",
      "weighted avg       0.45      0.44      0.42      2749\n",
      "\n",
      "==========================================================================\n",
      "i= 0.5 j= 3.0 k= 5\n"
     ]
    },
    {
     "name": "stderr",
     "output_type": "stream",
     "text": [
      "c:\\users\\redline pc\\appdata\\local\\programs\\python\\python38\\lib\\site-packages\\xgboost\\sklearn.py:888: UserWarning: The use of label encoder in XGBClassifier is deprecated and will be removed in a future release. To remove this warning, do the following: 1) Pass option use_label_encoder=False when constructing XGBClassifier object; and 2) Encode your labels (y) as integers starting with 0, i.e. 0, 1, 2, ..., [num_class - 1].\n",
      "  warnings.warn(label_encoder_deprecation_msg, UserWarning)\n",
      "c:\\users\\redline pc\\appdata\\local\\programs\\python\\python38\\lib\\site-packages\\sklearn\\utils\\validation.py:63: DataConversionWarning: A column-vector y was passed when a 1d array was expected. Please change the shape of y to (n_samples, ), for example using ravel().\n",
      "  return f(*args, **kwargs)\n"
     ]
    },
    {
     "name": "stdout",
     "output_type": "stream",
     "text": [
      "              precision    recall  f1-score   support\n",
      "\n",
      "    Check-In       0.60      0.45      0.51      1610\n",
      "    Canceled       0.28      0.56      0.37       741\n",
      "     No-Show       0.16      0.02      0.04       398\n",
      "\n",
      "    accuracy                           0.42      2749\n",
      "   macro avg       0.34      0.34      0.31      2749\n",
      "weighted avg       0.45      0.42      0.41      2749\n",
      "\n",
      "==========================================================================\n",
      "i= 0.5 j= 3.0 k= 6\n"
     ]
    },
    {
     "name": "stderr",
     "output_type": "stream",
     "text": [
      "c:\\users\\redline pc\\appdata\\local\\programs\\python\\python38\\lib\\site-packages\\xgboost\\sklearn.py:888: UserWarning: The use of label encoder in XGBClassifier is deprecated and will be removed in a future release. To remove this warning, do the following: 1) Pass option use_label_encoder=False when constructing XGBClassifier object; and 2) Encode your labels (y) as integers starting with 0, i.e. 0, 1, 2, ..., [num_class - 1].\n",
      "  warnings.warn(label_encoder_deprecation_msg, UserWarning)\n",
      "c:\\users\\redline pc\\appdata\\local\\programs\\python\\python38\\lib\\site-packages\\sklearn\\utils\\validation.py:63: DataConversionWarning: A column-vector y was passed when a 1d array was expected. Please change the shape of y to (n_samples, ), for example using ravel().\n",
      "  return f(*args, **kwargs)\n"
     ]
    },
    {
     "name": "stdout",
     "output_type": "stream",
     "text": [
      "              precision    recall  f1-score   support\n",
      "\n",
      "    Check-In       0.60      0.39      0.47      1610\n",
      "    Canceled       0.27      0.61      0.38       741\n",
      "     No-Show       0.09      0.02      0.03       398\n",
      "\n",
      "    accuracy                           0.39      2749\n",
      "   macro avg       0.32      0.34      0.29      2749\n",
      "weighted avg       0.44      0.39      0.38      2749\n",
      "\n",
      "==========================================================================\n",
      "i= 0.5 j= 3.0 k= 7\n"
     ]
    },
    {
     "name": "stderr",
     "output_type": "stream",
     "text": [
      "c:\\users\\redline pc\\appdata\\local\\programs\\python\\python38\\lib\\site-packages\\xgboost\\sklearn.py:888: UserWarning: The use of label encoder in XGBClassifier is deprecated and will be removed in a future release. To remove this warning, do the following: 1) Pass option use_label_encoder=False when constructing XGBClassifier object; and 2) Encode your labels (y) as integers starting with 0, i.e. 0, 1, 2, ..., [num_class - 1].\n",
      "  warnings.warn(label_encoder_deprecation_msg, UserWarning)\n",
      "c:\\users\\redline pc\\appdata\\local\\programs\\python\\python38\\lib\\site-packages\\sklearn\\utils\\validation.py:63: DataConversionWarning: A column-vector y was passed when a 1d array was expected. Please change the shape of y to (n_samples, ), for example using ravel().\n",
      "  return f(*args, **kwargs)\n"
     ]
    },
    {
     "name": "stdout",
     "output_type": "stream",
     "text": [
      "              precision    recall  f1-score   support\n",
      "\n",
      "    Check-In       0.61      0.38      0.47      1610\n",
      "    Canceled       0.28      0.63      0.39       741\n",
      "     No-Show       0.16      0.03      0.05       398\n",
      "\n",
      "    accuracy                           0.40      2749\n",
      "   macro avg       0.35      0.35      0.30      2749\n",
      "weighted avg       0.46      0.40      0.39      2749\n",
      "\n",
      "==========================================================================\n",
      "i= 0.5 j= 3.0 k= 8\n"
     ]
    },
    {
     "name": "stderr",
     "output_type": "stream",
     "text": [
      "c:\\users\\redline pc\\appdata\\local\\programs\\python\\python38\\lib\\site-packages\\xgboost\\sklearn.py:888: UserWarning: The use of label encoder in XGBClassifier is deprecated and will be removed in a future release. To remove this warning, do the following: 1) Pass option use_label_encoder=False when constructing XGBClassifier object; and 2) Encode your labels (y) as integers starting with 0, i.e. 0, 1, 2, ..., [num_class - 1].\n",
      "  warnings.warn(label_encoder_deprecation_msg, UserWarning)\n",
      "c:\\users\\redline pc\\appdata\\local\\programs\\python\\python38\\lib\\site-packages\\sklearn\\utils\\validation.py:63: DataConversionWarning: A column-vector y was passed when a 1d array was expected. Please change the shape of y to (n_samples, ), for example using ravel().\n",
      "  return f(*args, **kwargs)\n"
     ]
    },
    {
     "name": "stdout",
     "output_type": "stream",
     "text": [
      "              precision    recall  f1-score   support\n",
      "\n",
      "    Check-In       0.61      0.35      0.45      1610\n",
      "    Canceled       0.28      0.66      0.39       741\n",
      "     No-Show       0.16      0.04      0.06       398\n",
      "\n",
      "    accuracy                           0.39      2749\n",
      "   macro avg       0.35      0.35      0.30      2749\n",
      "weighted avg       0.46      0.39      0.38      2749\n",
      "\n",
      "==========================================================================\n",
      "i= 0.5 j= 3.0 k= 9\n"
     ]
    },
    {
     "name": "stderr",
     "output_type": "stream",
     "text": [
      "c:\\users\\redline pc\\appdata\\local\\programs\\python\\python38\\lib\\site-packages\\xgboost\\sklearn.py:888: UserWarning: The use of label encoder in XGBClassifier is deprecated and will be removed in a future release. To remove this warning, do the following: 1) Pass option use_label_encoder=False when constructing XGBClassifier object; and 2) Encode your labels (y) as integers starting with 0, i.e. 0, 1, 2, ..., [num_class - 1].\n",
      "  warnings.warn(label_encoder_deprecation_msg, UserWarning)\n",
      "c:\\users\\redline pc\\appdata\\local\\programs\\python\\python38\\lib\\site-packages\\sklearn\\utils\\validation.py:63: DataConversionWarning: A column-vector y was passed when a 1d array was expected. Please change the shape of y to (n_samples, ), for example using ravel().\n",
      "  return f(*args, **kwargs)\n"
     ]
    },
    {
     "name": "stdout",
     "output_type": "stream",
     "text": [
      "              precision    recall  f1-score   support\n",
      "\n",
      "    Check-In       0.60      0.32      0.42      1610\n",
      "    Canceled       0.28      0.66      0.39       741\n",
      "     No-Show       0.19      0.06      0.09       398\n",
      "\n",
      "    accuracy                           0.37      2749\n",
      "   macro avg       0.36      0.35      0.30      2749\n",
      "weighted avg       0.45      0.37      0.36      2749\n",
      "\n",
      "==========================================================================\n",
      "i= 0.5 j= 3.5 k= 3\n"
     ]
    },
    {
     "name": "stderr",
     "output_type": "stream",
     "text": [
      "c:\\users\\redline pc\\appdata\\local\\programs\\python\\python38\\lib\\site-packages\\xgboost\\sklearn.py:888: UserWarning: The use of label encoder in XGBClassifier is deprecated and will be removed in a future release. To remove this warning, do the following: 1) Pass option use_label_encoder=False when constructing XGBClassifier object; and 2) Encode your labels (y) as integers starting with 0, i.e. 0, 1, 2, ..., [num_class - 1].\n",
      "  warnings.warn(label_encoder_deprecation_msg, UserWarning)\n",
      "c:\\users\\redline pc\\appdata\\local\\programs\\python\\python38\\lib\\site-packages\\sklearn\\utils\\validation.py:63: DataConversionWarning: A column-vector y was passed when a 1d array was expected. Please change the shape of y to (n_samples, ), for example using ravel().\n",
      "  return f(*args, **kwargs)\n"
     ]
    },
    {
     "name": "stdout",
     "output_type": "stream",
     "text": [
      "              precision    recall  f1-score   support\n",
      "\n",
      "    Check-In       0.60      0.59      0.60      1610\n",
      "    Canceled       0.28      0.43      0.34       741\n",
      "     No-Show       0.24      0.01      0.02       398\n",
      "\n",
      "    accuracy                           0.47      2749\n",
      "   macro avg       0.37      0.35      0.32      2749\n",
      "weighted avg       0.46      0.47      0.44      2749\n",
      "\n",
      "==========================================================================\n",
      "i= 0.5 j= 3.5 k= 4\n"
     ]
    },
    {
     "name": "stderr",
     "output_type": "stream",
     "text": [
      "c:\\users\\redline pc\\appdata\\local\\programs\\python\\python38\\lib\\site-packages\\xgboost\\sklearn.py:888: UserWarning: The use of label encoder in XGBClassifier is deprecated and will be removed in a future release. To remove this warning, do the following: 1) Pass option use_label_encoder=False when constructing XGBClassifier object; and 2) Encode your labels (y) as integers starting with 0, i.e. 0, 1, 2, ..., [num_class - 1].\n",
      "  warnings.warn(label_encoder_deprecation_msg, UserWarning)\n",
      "c:\\users\\redline pc\\appdata\\local\\programs\\python\\python38\\lib\\site-packages\\sklearn\\utils\\validation.py:63: DataConversionWarning: A column-vector y was passed when a 1d array was expected. Please change the shape of y to (n_samples, ), for example using ravel().\n",
      "  return f(*args, **kwargs)\n"
     ]
    },
    {
     "name": "stdout",
     "output_type": "stream",
     "text": [
      "              precision    recall  f1-score   support\n",
      "\n",
      "    Check-In       0.60      0.56      0.58      1610\n",
      "    Canceled       0.28      0.44      0.34       741\n",
      "     No-Show       0.19      0.03      0.06       398\n",
      "\n",
      "    accuracy                           0.45      2749\n",
      "   macro avg       0.35      0.34      0.32      2749\n",
      "weighted avg       0.45      0.45      0.44      2749\n",
      "\n",
      "==========================================================================\n",
      "i= 0.5 j= 3.5 k= 5\n"
     ]
    },
    {
     "name": "stderr",
     "output_type": "stream",
     "text": [
      "c:\\users\\redline pc\\appdata\\local\\programs\\python\\python38\\lib\\site-packages\\xgboost\\sklearn.py:888: UserWarning: The use of label encoder in XGBClassifier is deprecated and will be removed in a future release. To remove this warning, do the following: 1) Pass option use_label_encoder=False when constructing XGBClassifier object; and 2) Encode your labels (y) as integers starting with 0, i.e. 0, 1, 2, ..., [num_class - 1].\n",
      "  warnings.warn(label_encoder_deprecation_msg, UserWarning)\n",
      "c:\\users\\redline pc\\appdata\\local\\programs\\python\\python38\\lib\\site-packages\\sklearn\\utils\\validation.py:63: DataConversionWarning: A column-vector y was passed when a 1d array was expected. Please change the shape of y to (n_samples, ), for example using ravel().\n",
      "  return f(*args, **kwargs)\n"
     ]
    },
    {
     "name": "stdout",
     "output_type": "stream",
     "text": [
      "              precision    recall  f1-score   support\n",
      "\n",
      "    Check-In       0.59      0.55      0.57      1610\n",
      "    Canceled       0.28      0.39      0.33       741\n",
      "     No-Show       0.12      0.07      0.09       398\n",
      "\n",
      "    accuracy                           0.44      2749\n",
      "   macro avg       0.33      0.34      0.33      2749\n",
      "weighted avg       0.44      0.44      0.44      2749\n",
      "\n",
      "==========================================================================\n",
      "i= 0.5 j= 3.5 k= 6\n"
     ]
    },
    {
     "name": "stderr",
     "output_type": "stream",
     "text": [
      "c:\\users\\redline pc\\appdata\\local\\programs\\python\\python38\\lib\\site-packages\\xgboost\\sklearn.py:888: UserWarning: The use of label encoder in XGBClassifier is deprecated and will be removed in a future release. To remove this warning, do the following: 1) Pass option use_label_encoder=False when constructing XGBClassifier object; and 2) Encode your labels (y) as integers starting with 0, i.e. 0, 1, 2, ..., [num_class - 1].\n",
      "  warnings.warn(label_encoder_deprecation_msg, UserWarning)\n",
      "c:\\users\\redline pc\\appdata\\local\\programs\\python\\python38\\lib\\site-packages\\sklearn\\utils\\validation.py:63: DataConversionWarning: A column-vector y was passed when a 1d array was expected. Please change the shape of y to (n_samples, ), for example using ravel().\n",
      "  return f(*args, **kwargs)\n"
     ]
    },
    {
     "name": "stdout",
     "output_type": "stream",
     "text": [
      "              precision    recall  f1-score   support\n",
      "\n",
      "    Check-In       0.59      0.53      0.56      1610\n",
      "    Canceled       0.27      0.32      0.30       741\n",
      "     No-Show       0.14      0.14      0.14       398\n",
      "\n",
      "    accuracy                           0.42      2749\n",
      "   macro avg       0.33      0.33      0.33      2749\n",
      "weighted avg       0.44      0.42      0.43      2749\n",
      "\n",
      "==========================================================================\n",
      "i= 0.5 j= 3.5 k= 7\n"
     ]
    },
    {
     "name": "stderr",
     "output_type": "stream",
     "text": [
      "c:\\users\\redline pc\\appdata\\local\\programs\\python\\python38\\lib\\site-packages\\xgboost\\sklearn.py:888: UserWarning: The use of label encoder in XGBClassifier is deprecated and will be removed in a future release. To remove this warning, do the following: 1) Pass option use_label_encoder=False when constructing XGBClassifier object; and 2) Encode your labels (y) as integers starting with 0, i.e. 0, 1, 2, ..., [num_class - 1].\n",
      "  warnings.warn(label_encoder_deprecation_msg, UserWarning)\n",
      "c:\\users\\redline pc\\appdata\\local\\programs\\python\\python38\\lib\\site-packages\\sklearn\\utils\\validation.py:63: DataConversionWarning: A column-vector y was passed when a 1d array was expected. Please change the shape of y to (n_samples, ), for example using ravel().\n",
      "  return f(*args, **kwargs)\n"
     ]
    },
    {
     "name": "stdout",
     "output_type": "stream",
     "text": [
      "              precision    recall  f1-score   support\n",
      "\n",
      "    Check-In       0.59      0.50      0.54      1610\n",
      "    Canceled       0.28      0.26      0.27       741\n",
      "     No-Show       0.15      0.26      0.19       398\n",
      "\n",
      "    accuracy                           0.40      2749\n",
      "   macro avg       0.34      0.34      0.33      2749\n",
      "weighted avg       0.45      0.40      0.42      2749\n",
      "\n",
      "==========================================================================\n",
      "i= 0.5 j= 3.5 k= 8\n"
     ]
    },
    {
     "name": "stderr",
     "output_type": "stream",
     "text": [
      "c:\\users\\redline pc\\appdata\\local\\programs\\python\\python38\\lib\\site-packages\\xgboost\\sklearn.py:888: UserWarning: The use of label encoder in XGBClassifier is deprecated and will be removed in a future release. To remove this warning, do the following: 1) Pass option use_label_encoder=False when constructing XGBClassifier object; and 2) Encode your labels (y) as integers starting with 0, i.e. 0, 1, 2, ..., [num_class - 1].\n",
      "  warnings.warn(label_encoder_deprecation_msg, UserWarning)\n",
      "c:\\users\\redline pc\\appdata\\local\\programs\\python\\python38\\lib\\site-packages\\sklearn\\utils\\validation.py:63: DataConversionWarning: A column-vector y was passed when a 1d array was expected. Please change the shape of y to (n_samples, ), for example using ravel().\n",
      "  return f(*args, **kwargs)\n"
     ]
    },
    {
     "name": "stdout",
     "output_type": "stream",
     "text": [
      "              precision    recall  f1-score   support\n",
      "\n",
      "    Check-In       0.60      0.53      0.56      1610\n",
      "    Canceled       0.28      0.21      0.24       741\n",
      "     No-Show       0.15      0.28      0.19       398\n",
      "\n",
      "    accuracy                           0.41      2749\n",
      "   macro avg       0.34      0.34      0.33      2749\n",
      "weighted avg       0.45      0.41      0.42      2749\n",
      "\n",
      "==========================================================================\n",
      "i= 0.5 j= 3.5 k= 9\n"
     ]
    },
    {
     "name": "stderr",
     "output_type": "stream",
     "text": [
      "c:\\users\\redline pc\\appdata\\local\\programs\\python\\python38\\lib\\site-packages\\xgboost\\sklearn.py:888: UserWarning: The use of label encoder in XGBClassifier is deprecated and will be removed in a future release. To remove this warning, do the following: 1) Pass option use_label_encoder=False when constructing XGBClassifier object; and 2) Encode your labels (y) as integers starting with 0, i.e. 0, 1, 2, ..., [num_class - 1].\n",
      "  warnings.warn(label_encoder_deprecation_msg, UserWarning)\n",
      "c:\\users\\redline pc\\appdata\\local\\programs\\python\\python38\\lib\\site-packages\\sklearn\\utils\\validation.py:63: DataConversionWarning: A column-vector y was passed when a 1d array was expected. Please change the shape of y to (n_samples, ), for example using ravel().\n",
      "  return f(*args, **kwargs)\n"
     ]
    },
    {
     "name": "stdout",
     "output_type": "stream",
     "text": [
      "              precision    recall  f1-score   support\n",
      "\n",
      "    Check-In       0.59      0.48      0.53      1610\n",
      "    Canceled       0.28      0.16      0.20       741\n",
      "     No-Show       0.15      0.38      0.21       398\n",
      "\n",
      "    accuracy                           0.38      2749\n",
      "   macro avg       0.34      0.34      0.31      2749\n",
      "weighted avg       0.44      0.38      0.40      2749\n",
      "\n",
      "==========================================================================\n",
      "i= 0.5 j= 4.0 k= 3\n"
     ]
    },
    {
     "name": "stderr",
     "output_type": "stream",
     "text": [
      "c:\\users\\redline pc\\appdata\\local\\programs\\python\\python38\\lib\\site-packages\\xgboost\\sklearn.py:888: UserWarning: The use of label encoder in XGBClassifier is deprecated and will be removed in a future release. To remove this warning, do the following: 1) Pass option use_label_encoder=False when constructing XGBClassifier object; and 2) Encode your labels (y) as integers starting with 0, i.e. 0, 1, 2, ..., [num_class - 1].\n",
      "  warnings.warn(label_encoder_deprecation_msg, UserWarning)\n",
      "c:\\users\\redline pc\\appdata\\local\\programs\\python\\python38\\lib\\site-packages\\sklearn\\utils\\validation.py:63: DataConversionWarning: A column-vector y was passed when a 1d array was expected. Please change the shape of y to (n_samples, ), for example using ravel().\n",
      "  return f(*args, **kwargs)\n"
     ]
    },
    {
     "name": "stdout",
     "output_type": "stream",
     "text": [
      "              precision    recall  f1-score   support\n",
      "\n",
      "    Check-In       0.59      0.54      0.56      1610\n",
      "    Canceled       0.28      0.48      0.35       741\n",
      "     No-Show       0.20      0.01      0.01       398\n",
      "\n",
      "    accuracy                           0.44      2749\n",
      "   macro avg       0.36      0.34      0.31      2749\n",
      "weighted avg       0.45      0.44      0.43      2749\n",
      "\n",
      "==========================================================================\n",
      "i= 0.5 j= 4.0 k= 4\n"
     ]
    },
    {
     "name": "stderr",
     "output_type": "stream",
     "text": [
      "c:\\users\\redline pc\\appdata\\local\\programs\\python\\python38\\lib\\site-packages\\xgboost\\sklearn.py:888: UserWarning: The use of label encoder in XGBClassifier is deprecated and will be removed in a future release. To remove this warning, do the following: 1) Pass option use_label_encoder=False when constructing XGBClassifier object; and 2) Encode your labels (y) as integers starting with 0, i.e. 0, 1, 2, ..., [num_class - 1].\n",
      "  warnings.warn(label_encoder_deprecation_msg, UserWarning)\n",
      "c:\\users\\redline pc\\appdata\\local\\programs\\python\\python38\\lib\\site-packages\\sklearn\\utils\\validation.py:63: DataConversionWarning: A column-vector y was passed when a 1d array was expected. Please change the shape of y to (n_samples, ), for example using ravel().\n",
      "  return f(*args, **kwargs)\n"
     ]
    },
    {
     "name": "stdout",
     "output_type": "stream",
     "text": [
      "              precision    recall  f1-score   support\n",
      "\n",
      "    Check-In       0.60      0.52      0.55      1610\n",
      "    Canceled       0.28      0.49      0.35       741\n",
      "     No-Show       0.16      0.02      0.03       398\n",
      "\n",
      "    accuracy                           0.44      2749\n",
      "   macro avg       0.34      0.34      0.31      2749\n",
      "weighted avg       0.45      0.44      0.42      2749\n",
      "\n",
      "==========================================================================\n",
      "i= 0.5 j= 4.0 k= 5\n"
     ]
    },
    {
     "name": "stderr",
     "output_type": "stream",
     "text": [
      "c:\\users\\redline pc\\appdata\\local\\programs\\python\\python38\\lib\\site-packages\\xgboost\\sklearn.py:888: UserWarning: The use of label encoder in XGBClassifier is deprecated and will be removed in a future release. To remove this warning, do the following: 1) Pass option use_label_encoder=False when constructing XGBClassifier object; and 2) Encode your labels (y) as integers starting with 0, i.e. 0, 1, 2, ..., [num_class - 1].\n",
      "  warnings.warn(label_encoder_deprecation_msg, UserWarning)\n",
      "c:\\users\\redline pc\\appdata\\local\\programs\\python\\python38\\lib\\site-packages\\sklearn\\utils\\validation.py:63: DataConversionWarning: A column-vector y was passed when a 1d array was expected. Please change the shape of y to (n_samples, ), for example using ravel().\n",
      "  return f(*args, **kwargs)\n"
     ]
    },
    {
     "name": "stdout",
     "output_type": "stream",
     "text": [
      "              precision    recall  f1-score   support\n",
      "\n",
      "    Check-In       0.60      0.52      0.56      1610\n",
      "    Canceled       0.28      0.47      0.35       741\n",
      "     No-Show       0.17      0.05      0.08       398\n",
      "\n",
      "    accuracy                           0.44      2749\n",
      "   macro avg       0.35      0.35      0.33      2749\n",
      "weighted avg       0.45      0.44      0.43      2749\n",
      "\n",
      "==========================================================================\n",
      "i= 0.5 j= 4.0 k= 6\n"
     ]
    },
    {
     "name": "stderr",
     "output_type": "stream",
     "text": [
      "c:\\users\\redline pc\\appdata\\local\\programs\\python\\python38\\lib\\site-packages\\xgboost\\sklearn.py:888: UserWarning: The use of label encoder in XGBClassifier is deprecated and will be removed in a future release. To remove this warning, do the following: 1) Pass option use_label_encoder=False when constructing XGBClassifier object; and 2) Encode your labels (y) as integers starting with 0, i.e. 0, 1, 2, ..., [num_class - 1].\n",
      "  warnings.warn(label_encoder_deprecation_msg, UserWarning)\n",
      "c:\\users\\redline pc\\appdata\\local\\programs\\python\\python38\\lib\\site-packages\\sklearn\\utils\\validation.py:63: DataConversionWarning: A column-vector y was passed when a 1d array was expected. Please change the shape of y to (n_samples, ), for example using ravel().\n",
      "  return f(*args, **kwargs)\n"
     ]
    },
    {
     "name": "stdout",
     "output_type": "stream",
     "text": [
      "              precision    recall  f1-score   support\n",
      "\n",
      "    Check-In       0.60      0.51      0.55      1610\n",
      "    Canceled       0.28      0.41      0.33       741\n",
      "     No-Show       0.16      0.10      0.13       398\n",
      "\n",
      "    accuracy                           0.43      2749\n",
      "   macro avg       0.34      0.34      0.34      2749\n",
      "weighted avg       0.45      0.43      0.43      2749\n",
      "\n",
      "==========================================================================\n",
      "i= 0.5 j= 4.0 k= 7\n"
     ]
    },
    {
     "name": "stderr",
     "output_type": "stream",
     "text": [
      "c:\\users\\redline pc\\appdata\\local\\programs\\python\\python38\\lib\\site-packages\\xgboost\\sklearn.py:888: UserWarning: The use of label encoder in XGBClassifier is deprecated and will be removed in a future release. To remove this warning, do the following: 1) Pass option use_label_encoder=False when constructing XGBClassifier object; and 2) Encode your labels (y) as integers starting with 0, i.e. 0, 1, 2, ..., [num_class - 1].\n",
      "  warnings.warn(label_encoder_deprecation_msg, UserWarning)\n",
      "c:\\users\\redline pc\\appdata\\local\\programs\\python\\python38\\lib\\site-packages\\sklearn\\utils\\validation.py:63: DataConversionWarning: A column-vector y was passed when a 1d array was expected. Please change the shape of y to (n_samples, ), for example using ravel().\n",
      "  return f(*args, **kwargs)\n"
     ]
    },
    {
     "name": "stdout",
     "output_type": "stream",
     "text": [
      "              precision    recall  f1-score   support\n",
      "\n",
      "    Check-In       0.59      0.49      0.54      1610\n",
      "    Canceled       0.28      0.37      0.32       741\n",
      "     No-Show       0.16      0.19      0.17       398\n",
      "\n",
      "    accuracy                           0.41      2749\n",
      "   macro avg       0.35      0.35      0.34      2749\n",
      "weighted avg       0.45      0.41      0.42      2749\n",
      "\n",
      "==========================================================================\n",
      "i= 0.5 j= 4.0 k= 8\n"
     ]
    },
    {
     "name": "stderr",
     "output_type": "stream",
     "text": [
      "c:\\users\\redline pc\\appdata\\local\\programs\\python\\python38\\lib\\site-packages\\xgboost\\sklearn.py:888: UserWarning: The use of label encoder in XGBClassifier is deprecated and will be removed in a future release. To remove this warning, do the following: 1) Pass option use_label_encoder=False when constructing XGBClassifier object; and 2) Encode your labels (y) as integers starting with 0, i.e. 0, 1, 2, ..., [num_class - 1].\n",
      "  warnings.warn(label_encoder_deprecation_msg, UserWarning)\n",
      "c:\\users\\redline pc\\appdata\\local\\programs\\python\\python38\\lib\\site-packages\\sklearn\\utils\\validation.py:63: DataConversionWarning: A column-vector y was passed when a 1d array was expected. Please change the shape of y to (n_samples, ), for example using ravel().\n",
      "  return f(*args, **kwargs)\n"
     ]
    },
    {
     "name": "stdout",
     "output_type": "stream",
     "text": [
      "              precision    recall  f1-score   support\n",
      "\n",
      "    Check-In       0.59      0.49      0.54      1610\n",
      "    Canceled       0.28      0.27      0.27       741\n",
      "     No-Show       0.15      0.27      0.19       398\n",
      "\n",
      "    accuracy                           0.40      2749\n",
      "   macro avg       0.34      0.34      0.33      2749\n",
      "weighted avg       0.44      0.40      0.42      2749\n",
      "\n",
      "==========================================================================\n",
      "i= 0.5 j= 4.0 k= 9\n"
     ]
    },
    {
     "name": "stderr",
     "output_type": "stream",
     "text": [
      "c:\\users\\redline pc\\appdata\\local\\programs\\python\\python38\\lib\\site-packages\\xgboost\\sklearn.py:888: UserWarning: The use of label encoder in XGBClassifier is deprecated and will be removed in a future release. To remove this warning, do the following: 1) Pass option use_label_encoder=False when constructing XGBClassifier object; and 2) Encode your labels (y) as integers starting with 0, i.e. 0, 1, 2, ..., [num_class - 1].\n",
      "  warnings.warn(label_encoder_deprecation_msg, UserWarning)\n",
      "c:\\users\\redline pc\\appdata\\local\\programs\\python\\python38\\lib\\site-packages\\sklearn\\utils\\validation.py:63: DataConversionWarning: A column-vector y was passed when a 1d array was expected. Please change the shape of y to (n_samples, ), for example using ravel().\n",
      "  return f(*args, **kwargs)\n"
     ]
    },
    {
     "name": "stdout",
     "output_type": "stream",
     "text": [
      "              precision    recall  f1-score   support\n",
      "\n",
      "    Check-In       0.60      0.46      0.52      1610\n",
      "    Canceled       0.29      0.26      0.27       741\n",
      "     No-Show       0.15      0.33      0.21       398\n",
      "\n",
      "    accuracy                           0.39      2749\n",
      "   macro avg       0.35      0.35      0.33      2749\n",
      "weighted avg       0.45      0.39      0.41      2749\n",
      "\n",
      "==========================================================================\n",
      "i= 0.5 j= 4.5 k= 3\n"
     ]
    },
    {
     "name": "stderr",
     "output_type": "stream",
     "text": [
      "c:\\users\\redline pc\\appdata\\local\\programs\\python\\python38\\lib\\site-packages\\xgboost\\sklearn.py:888: UserWarning: The use of label encoder in XGBClassifier is deprecated and will be removed in a future release. To remove this warning, do the following: 1) Pass option use_label_encoder=False when constructing XGBClassifier object; and 2) Encode your labels (y) as integers starting with 0, i.e. 0, 1, 2, ..., [num_class - 1].\n",
      "  warnings.warn(label_encoder_deprecation_msg, UserWarning)\n",
      "c:\\users\\redline pc\\appdata\\local\\programs\\python\\python38\\lib\\site-packages\\sklearn\\utils\\validation.py:63: DataConversionWarning: A column-vector y was passed when a 1d array was expected. Please change the shape of y to (n_samples, ), for example using ravel().\n",
      "  return f(*args, **kwargs)\n"
     ]
    },
    {
     "name": "stdout",
     "output_type": "stream",
     "text": [
      "              precision    recall  f1-score   support\n",
      "\n",
      "    Check-In       0.60      0.50      0.54      1610\n",
      "    Canceled       0.28      0.54      0.37       741\n",
      "     No-Show       0.22      0.01      0.01       398\n",
      "\n",
      "    accuracy                           0.44      2749\n",
      "   macro avg       0.37      0.35      0.31      2749\n",
      "weighted avg       0.46      0.44      0.42      2749\n",
      "\n",
      "==========================================================================\n",
      "i= 0.5 j= 4.5 k= 4\n"
     ]
    },
    {
     "name": "stderr",
     "output_type": "stream",
     "text": [
      "c:\\users\\redline pc\\appdata\\local\\programs\\python\\python38\\lib\\site-packages\\xgboost\\sklearn.py:888: UserWarning: The use of label encoder in XGBClassifier is deprecated and will be removed in a future release. To remove this warning, do the following: 1) Pass option use_label_encoder=False when constructing XGBClassifier object; and 2) Encode your labels (y) as integers starting with 0, i.e. 0, 1, 2, ..., [num_class - 1].\n",
      "  warnings.warn(label_encoder_deprecation_msg, UserWarning)\n",
      "c:\\users\\redline pc\\appdata\\local\\programs\\python\\python38\\lib\\site-packages\\sklearn\\utils\\validation.py:63: DataConversionWarning: A column-vector y was passed when a 1d array was expected. Please change the shape of y to (n_samples, ), for example using ravel().\n",
      "  return f(*args, **kwargs)\n"
     ]
    },
    {
     "name": "stdout",
     "output_type": "stream",
     "text": [
      "              precision    recall  f1-score   support\n",
      "\n",
      "    Check-In       0.61      0.49      0.54      1610\n",
      "    Canceled       0.28      0.54      0.37       741\n",
      "     No-Show       0.21      0.02      0.03       398\n",
      "\n",
      "    accuracy                           0.44      2749\n",
      "   macro avg       0.37      0.35      0.32      2749\n",
      "weighted avg       0.46      0.44      0.42      2749\n",
      "\n",
      "==========================================================================\n",
      "i= 0.5 j= 4.5 k= 5\n"
     ]
    },
    {
     "name": "stderr",
     "output_type": "stream",
     "text": [
      "c:\\users\\redline pc\\appdata\\local\\programs\\python\\python38\\lib\\site-packages\\xgboost\\sklearn.py:888: UserWarning: The use of label encoder in XGBClassifier is deprecated and will be removed in a future release. To remove this warning, do the following: 1) Pass option use_label_encoder=False when constructing XGBClassifier object; and 2) Encode your labels (y) as integers starting with 0, i.e. 0, 1, 2, ..., [num_class - 1].\n",
      "  warnings.warn(label_encoder_deprecation_msg, UserWarning)\n",
      "c:\\users\\redline pc\\appdata\\local\\programs\\python\\python38\\lib\\site-packages\\sklearn\\utils\\validation.py:63: DataConversionWarning: A column-vector y was passed when a 1d array was expected. Please change the shape of y to (n_samples, ), for example using ravel().\n",
      "  return f(*args, **kwargs)\n"
     ]
    },
    {
     "name": "stdout",
     "output_type": "stream",
     "text": [
      "              precision    recall  f1-score   support\n",
      "\n",
      "    Check-In       0.60      0.48      0.53      1610\n",
      "    Canceled       0.28      0.53      0.37       741\n",
      "     No-Show       0.13      0.02      0.04       398\n",
      "\n",
      "    accuracy                           0.43      2749\n",
      "   macro avg       0.34      0.34      0.31      2749\n",
      "weighted avg       0.45      0.43      0.42      2749\n",
      "\n",
      "==========================================================================\n",
      "i= 0.5 j= 4.5 k= 6\n"
     ]
    },
    {
     "name": "stderr",
     "output_type": "stream",
     "text": [
      "c:\\users\\redline pc\\appdata\\local\\programs\\python\\python38\\lib\\site-packages\\xgboost\\sklearn.py:888: UserWarning: The use of label encoder in XGBClassifier is deprecated and will be removed in a future release. To remove this warning, do the following: 1) Pass option use_label_encoder=False when constructing XGBClassifier object; and 2) Encode your labels (y) as integers starting with 0, i.e. 0, 1, 2, ..., [num_class - 1].\n",
      "  warnings.warn(label_encoder_deprecation_msg, UserWarning)\n",
      "c:\\users\\redline pc\\appdata\\local\\programs\\python\\python38\\lib\\site-packages\\sklearn\\utils\\validation.py:63: DataConversionWarning: A column-vector y was passed when a 1d array was expected. Please change the shape of y to (n_samples, ), for example using ravel().\n",
      "  return f(*args, **kwargs)\n"
     ]
    },
    {
     "name": "stdout",
     "output_type": "stream",
     "text": [
      "              precision    recall  f1-score   support\n",
      "\n",
      "    Check-In       0.60      0.47      0.53      1610\n",
      "    Canceled       0.27      0.47      0.35       741\n",
      "     No-Show       0.13      0.07      0.09       398\n",
      "\n",
      "    accuracy                           0.41      2749\n",
      "   macro avg       0.33      0.34      0.32      2749\n",
      "weighted avg       0.44      0.41      0.41      2749\n",
      "\n",
      "==========================================================================\n",
      "i= 0.5 j= 4.5 k= 7\n"
     ]
    },
    {
     "name": "stderr",
     "output_type": "stream",
     "text": [
      "c:\\users\\redline pc\\appdata\\local\\programs\\python\\python38\\lib\\site-packages\\xgboost\\sklearn.py:888: UserWarning: The use of label encoder in XGBClassifier is deprecated and will be removed in a future release. To remove this warning, do the following: 1) Pass option use_label_encoder=False when constructing XGBClassifier object; and 2) Encode your labels (y) as integers starting with 0, i.e. 0, 1, 2, ..., [num_class - 1].\n",
      "  warnings.warn(label_encoder_deprecation_msg, UserWarning)\n",
      "c:\\users\\redline pc\\appdata\\local\\programs\\python\\python38\\lib\\site-packages\\sklearn\\utils\\validation.py:63: DataConversionWarning: A column-vector y was passed when a 1d array was expected. Please change the shape of y to (n_samples, ), for example using ravel().\n",
      "  return f(*args, **kwargs)\n"
     ]
    },
    {
     "name": "stdout",
     "output_type": "stream",
     "text": [
      "              precision    recall  f1-score   support\n",
      "\n",
      "    Check-In       0.60      0.46      0.52      1610\n",
      "    Canceled       0.28      0.44      0.34       741\n",
      "     No-Show       0.16      0.13      0.14       398\n",
      "\n",
      "    accuracy                           0.41      2749\n",
      "   macro avg       0.34      0.34      0.33      2749\n",
      "weighted avg       0.45      0.41      0.42      2749\n",
      "\n",
      "==========================================================================\n",
      "i= 0.5 j= 4.5 k= 8\n"
     ]
    },
    {
     "name": "stderr",
     "output_type": "stream",
     "text": [
      "c:\\users\\redline pc\\appdata\\local\\programs\\python\\python38\\lib\\site-packages\\xgboost\\sklearn.py:888: UserWarning: The use of label encoder in XGBClassifier is deprecated and will be removed in a future release. To remove this warning, do the following: 1) Pass option use_label_encoder=False when constructing XGBClassifier object; and 2) Encode your labels (y) as integers starting with 0, i.e. 0, 1, 2, ..., [num_class - 1].\n",
      "  warnings.warn(label_encoder_deprecation_msg, UserWarning)\n",
      "c:\\users\\redline pc\\appdata\\local\\programs\\python\\python38\\lib\\site-packages\\sklearn\\utils\\validation.py:63: DataConversionWarning: A column-vector y was passed when a 1d array was expected. Please change the shape of y to (n_samples, ), for example using ravel().\n",
      "  return f(*args, **kwargs)\n"
     ]
    },
    {
     "name": "stdout",
     "output_type": "stream",
     "text": [
      "              precision    recall  f1-score   support\n",
      "\n",
      "    Check-In       0.60      0.44      0.51      1610\n",
      "    Canceled       0.28      0.40      0.33       741\n",
      "     No-Show       0.16      0.21      0.18       398\n",
      "\n",
      "    accuracy                           0.40      2749\n",
      "   macro avg       0.35      0.35      0.34      2749\n",
      "weighted avg       0.45      0.40      0.41      2749\n",
      "\n",
      "==========================================================================\n",
      "i= 0.5 j= 4.5 k= 9\n"
     ]
    },
    {
     "name": "stderr",
     "output_type": "stream",
     "text": [
      "c:\\users\\redline pc\\appdata\\local\\programs\\python\\python38\\lib\\site-packages\\xgboost\\sklearn.py:888: UserWarning: The use of label encoder in XGBClassifier is deprecated and will be removed in a future release. To remove this warning, do the following: 1) Pass option use_label_encoder=False when constructing XGBClassifier object; and 2) Encode your labels (y) as integers starting with 0, i.e. 0, 1, 2, ..., [num_class - 1].\n",
      "  warnings.warn(label_encoder_deprecation_msg, UserWarning)\n",
      "c:\\users\\redline pc\\appdata\\local\\programs\\python\\python38\\lib\\site-packages\\sklearn\\utils\\validation.py:63: DataConversionWarning: A column-vector y was passed when a 1d array was expected. Please change the shape of y to (n_samples, ), for example using ravel().\n",
      "  return f(*args, **kwargs)\n"
     ]
    },
    {
     "name": "stdout",
     "output_type": "stream",
     "text": [
      "              precision    recall  f1-score   support\n",
      "\n",
      "    Check-In       0.59      0.43      0.50      1610\n",
      "    Canceled       0.28      0.32      0.30       741\n",
      "     No-Show       0.15      0.27      0.19       398\n",
      "\n",
      "    accuracy                           0.38      2749\n",
      "   macro avg       0.34      0.34      0.33      2749\n",
      "weighted avg       0.44      0.38      0.40      2749\n",
      "\n",
      "==========================================================================\n",
      "i= 0.6 j= 1.5 k= 3\n"
     ]
    },
    {
     "name": "stderr",
     "output_type": "stream",
     "text": [
      "c:\\users\\redline pc\\appdata\\local\\programs\\python\\python38\\lib\\site-packages\\xgboost\\sklearn.py:888: UserWarning: The use of label encoder in XGBClassifier is deprecated and will be removed in a future release. To remove this warning, do the following: 1) Pass option use_label_encoder=False when constructing XGBClassifier object; and 2) Encode your labels (y) as integers starting with 0, i.e. 0, 1, 2, ..., [num_class - 1].\n",
      "  warnings.warn(label_encoder_deprecation_msg, UserWarning)\n",
      "c:\\users\\redline pc\\appdata\\local\\programs\\python\\python38\\lib\\site-packages\\sklearn\\utils\\validation.py:63: DataConversionWarning: A column-vector y was passed when a 1d array was expected. Please change the shape of y to (n_samples, ), for example using ravel().\n",
      "  return f(*args, **kwargs)\n"
     ]
    },
    {
     "name": "stdout",
     "output_type": "stream",
     "text": [
      "              precision    recall  f1-score   support\n",
      "\n",
      "    Check-In       0.59      0.86      0.70      1610\n",
      "    Canceled       0.25      0.07      0.11       741\n",
      "     No-Show       0.18      0.09      0.12       398\n",
      "\n",
      "    accuracy                           0.53      2749\n",
      "   macro avg       0.34      0.34      0.31      2749\n",
      "weighted avg       0.44      0.53      0.45      2749\n",
      "\n",
      "==========================================================================\n",
      "i= 0.6 j= 1.5 k= 4\n"
     ]
    },
    {
     "name": "stderr",
     "output_type": "stream",
     "text": [
      "c:\\users\\redline pc\\appdata\\local\\programs\\python\\python38\\lib\\site-packages\\xgboost\\sklearn.py:888: UserWarning: The use of label encoder in XGBClassifier is deprecated and will be removed in a future release. To remove this warning, do the following: 1) Pass option use_label_encoder=False when constructing XGBClassifier object; and 2) Encode your labels (y) as integers starting with 0, i.e. 0, 1, 2, ..., [num_class - 1].\n",
      "  warnings.warn(label_encoder_deprecation_msg, UserWarning)\n",
      "c:\\users\\redline pc\\appdata\\local\\programs\\python\\python38\\lib\\site-packages\\sklearn\\utils\\validation.py:63: DataConversionWarning: A column-vector y was passed when a 1d array was expected. Please change the shape of y to (n_samples, ), for example using ravel().\n",
      "  return f(*args, **kwargs)\n"
     ]
    },
    {
     "name": "stdout",
     "output_type": "stream",
     "text": [
      "              precision    recall  f1-score   support\n",
      "\n",
      "    Check-In       0.59      0.80      0.68      1610\n",
      "    Canceled       0.27      0.05      0.08       741\n",
      "     No-Show       0.16      0.17      0.17       398\n",
      "\n",
      "    accuracy                           0.51      2749\n",
      "   macro avg       0.34      0.34      0.31      2749\n",
      "weighted avg       0.44      0.51      0.45      2749\n",
      "\n",
      "==========================================================================\n",
      "i= 0.6 j= 1.5 k= 5\n"
     ]
    },
    {
     "name": "stderr",
     "output_type": "stream",
     "text": [
      "c:\\users\\redline pc\\appdata\\local\\programs\\python\\python38\\lib\\site-packages\\xgboost\\sklearn.py:888: UserWarning: The use of label encoder in XGBClassifier is deprecated and will be removed in a future release. To remove this warning, do the following: 1) Pass option use_label_encoder=False when constructing XGBClassifier object; and 2) Encode your labels (y) as integers starting with 0, i.e. 0, 1, 2, ..., [num_class - 1].\n",
      "  warnings.warn(label_encoder_deprecation_msg, UserWarning)\n",
      "c:\\users\\redline pc\\appdata\\local\\programs\\python\\python38\\lib\\site-packages\\sklearn\\utils\\validation.py:63: DataConversionWarning: A column-vector y was passed when a 1d array was expected. Please change the shape of y to (n_samples, ), for example using ravel().\n",
      "  return f(*args, **kwargs)\n"
     ]
    },
    {
     "name": "stdout",
     "output_type": "stream",
     "text": [
      "              precision    recall  f1-score   support\n",
      "\n",
      "    Check-In       0.59      0.75      0.66      1610\n",
      "    Canceled       0.27      0.03      0.06       741\n",
      "     No-Show       0.16      0.25      0.20       398\n",
      "\n",
      "    accuracy                           0.48      2749\n",
      "   macro avg       0.34      0.34      0.31      2749\n",
      "weighted avg       0.44      0.48      0.43      2749\n",
      "\n",
      "==========================================================================\n",
      "i= 0.6 j= 1.5 k= 6\n"
     ]
    },
    {
     "name": "stderr",
     "output_type": "stream",
     "text": [
      "c:\\users\\redline pc\\appdata\\local\\programs\\python\\python38\\lib\\site-packages\\xgboost\\sklearn.py:888: UserWarning: The use of label encoder in XGBClassifier is deprecated and will be removed in a future release. To remove this warning, do the following: 1) Pass option use_label_encoder=False when constructing XGBClassifier object; and 2) Encode your labels (y) as integers starting with 0, i.e. 0, 1, 2, ..., [num_class - 1].\n",
      "  warnings.warn(label_encoder_deprecation_msg, UserWarning)\n",
      "c:\\users\\redline pc\\appdata\\local\\programs\\python\\python38\\lib\\site-packages\\sklearn\\utils\\validation.py:63: DataConversionWarning: A column-vector y was passed when a 1d array was expected. Please change the shape of y to (n_samples, ), for example using ravel().\n",
      "  return f(*args, **kwargs)\n"
     ]
    },
    {
     "name": "stdout",
     "output_type": "stream",
     "text": [
      "              precision    recall  f1-score   support\n",
      "\n",
      "    Check-In       0.59      0.72      0.65      1610\n",
      "    Canceled       0.31      0.03      0.05       741\n",
      "     No-Show       0.16      0.29      0.20       398\n",
      "\n",
      "    accuracy                           0.47      2749\n",
      "   macro avg       0.35      0.34      0.30      2749\n",
      "weighted avg       0.45      0.47      0.42      2749\n",
      "\n",
      "==========================================================================\n",
      "i= 0.6 j= 1.5 k= 7\n"
     ]
    },
    {
     "name": "stderr",
     "output_type": "stream",
     "text": [
      "c:\\users\\redline pc\\appdata\\local\\programs\\python\\python38\\lib\\site-packages\\xgboost\\sklearn.py:888: UserWarning: The use of label encoder in XGBClassifier is deprecated and will be removed in a future release. To remove this warning, do the following: 1) Pass option use_label_encoder=False when constructing XGBClassifier object; and 2) Encode your labels (y) as integers starting with 0, i.e. 0, 1, 2, ..., [num_class - 1].\n",
      "  warnings.warn(label_encoder_deprecation_msg, UserWarning)\n",
      "c:\\users\\redline pc\\appdata\\local\\programs\\python\\python38\\lib\\site-packages\\sklearn\\utils\\validation.py:63: DataConversionWarning: A column-vector y was passed when a 1d array was expected. Please change the shape of y to (n_samples, ), for example using ravel().\n",
      "  return f(*args, **kwargs)\n"
     ]
    },
    {
     "name": "stdout",
     "output_type": "stream",
     "text": [
      "              precision    recall  f1-score   support\n",
      "\n",
      "    Check-In       0.59      0.68      0.63      1610\n",
      "    Canceled       0.27      0.01      0.03       741\n",
      "     No-Show       0.16      0.34      0.22       398\n",
      "\n",
      "    accuracy                           0.45      2749\n",
      "   macro avg       0.34      0.35      0.29      2749\n",
      "weighted avg       0.44      0.45      0.41      2749\n",
      "\n",
      "==========================================================================\n",
      "i= 0.6 j= 1.5 k= 8\n"
     ]
    },
    {
     "name": "stderr",
     "output_type": "stream",
     "text": [
      "c:\\users\\redline pc\\appdata\\local\\programs\\python\\python38\\lib\\site-packages\\xgboost\\sklearn.py:888: UserWarning: The use of label encoder in XGBClassifier is deprecated and will be removed in a future release. To remove this warning, do the following: 1) Pass option use_label_encoder=False when constructing XGBClassifier object; and 2) Encode your labels (y) as integers starting with 0, i.e. 0, 1, 2, ..., [num_class - 1].\n",
      "  warnings.warn(label_encoder_deprecation_msg, UserWarning)\n",
      "c:\\users\\redline pc\\appdata\\local\\programs\\python\\python38\\lib\\site-packages\\sklearn\\utils\\validation.py:63: DataConversionWarning: A column-vector y was passed when a 1d array was expected. Please change the shape of y to (n_samples, ), for example using ravel().\n",
      "  return f(*args, **kwargs)\n"
     ]
    },
    {
     "name": "stdout",
     "output_type": "stream",
     "text": [
      "              precision    recall  f1-score   support\n",
      "\n",
      "    Check-In       0.59      0.66      0.62      1610\n",
      "    Canceled       0.27      0.01      0.02       741\n",
      "     No-Show       0.15      0.36      0.22       398\n",
      "\n",
      "    accuracy                           0.44      2749\n",
      "   macro avg       0.34      0.34      0.29      2749\n",
      "weighted avg       0.44      0.44      0.40      2749\n",
      "\n",
      "==========================================================================\n",
      "i= 0.6 j= 1.5 k= 9\n"
     ]
    },
    {
     "name": "stderr",
     "output_type": "stream",
     "text": [
      "c:\\users\\redline pc\\appdata\\local\\programs\\python\\python38\\lib\\site-packages\\xgboost\\sklearn.py:888: UserWarning: The use of label encoder in XGBClassifier is deprecated and will be removed in a future release. To remove this warning, do the following: 1) Pass option use_label_encoder=False when constructing XGBClassifier object; and 2) Encode your labels (y) as integers starting with 0, i.e. 0, 1, 2, ..., [num_class - 1].\n",
      "  warnings.warn(label_encoder_deprecation_msg, UserWarning)\n",
      "c:\\users\\redline pc\\appdata\\local\\programs\\python\\python38\\lib\\site-packages\\sklearn\\utils\\validation.py:63: DataConversionWarning: A column-vector y was passed when a 1d array was expected. Please change the shape of y to (n_samples, ), for example using ravel().\n",
      "  return f(*args, **kwargs)\n"
     ]
    },
    {
     "name": "stdout",
     "output_type": "stream",
     "text": [
      "              precision    recall  f1-score   support\n",
      "\n",
      "    Check-In       0.60      0.63      0.61      1610\n",
      "    Canceled       0.33      0.01      0.03       741\n",
      "     No-Show       0.16      0.39      0.22       398\n",
      "\n",
      "    accuracy                           0.43      2749\n",
      "   macro avg       0.36      0.35      0.29      2749\n",
      "weighted avg       0.46      0.43      0.40      2749\n",
      "\n",
      "==========================================================================\n",
      "i= 0.6 j= 2.0 k= 3\n"
     ]
    },
    {
     "name": "stderr",
     "output_type": "stream",
     "text": [
      "c:\\users\\redline pc\\appdata\\local\\programs\\python\\python38\\lib\\site-packages\\xgboost\\sklearn.py:888: UserWarning: The use of label encoder in XGBClassifier is deprecated and will be removed in a future release. To remove this warning, do the following: 1) Pass option use_label_encoder=False when constructing XGBClassifier object; and 2) Encode your labels (y) as integers starting with 0, i.e. 0, 1, 2, ..., [num_class - 1].\n",
      "  warnings.warn(label_encoder_deprecation_msg, UserWarning)\n",
      "c:\\users\\redline pc\\appdata\\local\\programs\\python\\python38\\lib\\site-packages\\sklearn\\utils\\validation.py:63: DataConversionWarning: A column-vector y was passed when a 1d array was expected. Please change the shape of y to (n_samples, ), for example using ravel().\n",
      "  return f(*args, **kwargs)\n"
     ]
    },
    {
     "name": "stdout",
     "output_type": "stream",
     "text": [
      "              precision    recall  f1-score   support\n",
      "\n",
      "    Check-In       0.59      0.78      0.67      1610\n",
      "    Canceled       0.29      0.21      0.24       741\n",
      "     No-Show       0.19      0.05      0.08       398\n",
      "\n",
      "    accuracy                           0.52      2749\n",
      "   macro avg       0.36      0.34      0.33      2749\n",
      "weighted avg       0.45      0.52      0.47      2749\n",
      "\n",
      "==========================================================================\n",
      "i= 0.6 j= 2.0 k= 4\n"
     ]
    },
    {
     "name": "stderr",
     "output_type": "stream",
     "text": [
      "c:\\users\\redline pc\\appdata\\local\\programs\\python\\python38\\lib\\site-packages\\xgboost\\sklearn.py:888: UserWarning: The use of label encoder in XGBClassifier is deprecated and will be removed in a future release. To remove this warning, do the following: 1) Pass option use_label_encoder=False when constructing XGBClassifier object; and 2) Encode your labels (y) as integers starting with 0, i.e. 0, 1, 2, ..., [num_class - 1].\n",
      "  warnings.warn(label_encoder_deprecation_msg, UserWarning)\n",
      "c:\\users\\redline pc\\appdata\\local\\programs\\python\\python38\\lib\\site-packages\\sklearn\\utils\\validation.py:63: DataConversionWarning: A column-vector y was passed when a 1d array was expected. Please change the shape of y to (n_samples, ), for example using ravel().\n",
      "  return f(*args, **kwargs)\n"
     ]
    },
    {
     "name": "stdout",
     "output_type": "stream",
     "text": [
      "              precision    recall  f1-score   support\n",
      "\n",
      "    Check-In       0.59      0.76      0.67      1610\n",
      "    Canceled       0.28      0.14      0.19       741\n",
      "     No-Show       0.18      0.14      0.16       398\n",
      "\n",
      "    accuracy                           0.50      2749\n",
      "   macro avg       0.35      0.35      0.34      2749\n",
      "weighted avg       0.45      0.50      0.46      2749\n",
      "\n",
      "==========================================================================\n",
      "i= 0.6 j= 2.0 k= 5\n"
     ]
    },
    {
     "name": "stderr",
     "output_type": "stream",
     "text": [
      "c:\\users\\redline pc\\appdata\\local\\programs\\python\\python38\\lib\\site-packages\\xgboost\\sklearn.py:888: UserWarning: The use of label encoder in XGBClassifier is deprecated and will be removed in a future release. To remove this warning, do the following: 1) Pass option use_label_encoder=False when constructing XGBClassifier object; and 2) Encode your labels (y) as integers starting with 0, i.e. 0, 1, 2, ..., [num_class - 1].\n",
      "  warnings.warn(label_encoder_deprecation_msg, UserWarning)\n",
      "c:\\users\\redline pc\\appdata\\local\\programs\\python\\python38\\lib\\site-packages\\sklearn\\utils\\validation.py:63: DataConversionWarning: A column-vector y was passed when a 1d array was expected. Please change the shape of y to (n_samples, ), for example using ravel().\n",
      "  return f(*args, **kwargs)\n"
     ]
    },
    {
     "name": "stdout",
     "output_type": "stream",
     "text": [
      "              precision    recall  f1-score   support\n",
      "\n",
      "    Check-In       0.59      0.70      0.64      1610\n",
      "    Canceled       0.28      0.09      0.14       741\n",
      "     No-Show       0.16      0.23      0.19       398\n",
      "\n",
      "    accuracy                           0.47      2749\n",
      "   macro avg       0.34      0.34      0.32      2749\n",
      "weighted avg       0.44      0.47      0.44      2749\n",
      "\n",
      "==========================================================================\n",
      "i= 0.6 j= 2.0 k= 6\n"
     ]
    },
    {
     "name": "stderr",
     "output_type": "stream",
     "text": [
      "c:\\users\\redline pc\\appdata\\local\\programs\\python\\python38\\lib\\site-packages\\xgboost\\sklearn.py:888: UserWarning: The use of label encoder in XGBClassifier is deprecated and will be removed in a future release. To remove this warning, do the following: 1) Pass option use_label_encoder=False when constructing XGBClassifier object; and 2) Encode your labels (y) as integers starting with 0, i.e. 0, 1, 2, ..., [num_class - 1].\n",
      "  warnings.warn(label_encoder_deprecation_msg, UserWarning)\n",
      "c:\\users\\redline pc\\appdata\\local\\programs\\python\\python38\\lib\\site-packages\\sklearn\\utils\\validation.py:63: DataConversionWarning: A column-vector y was passed when a 1d array was expected. Please change the shape of y to (n_samples, ), for example using ravel().\n",
      "  return f(*args, **kwargs)\n"
     ]
    },
    {
     "name": "stdout",
     "output_type": "stream",
     "text": [
      "              precision    recall  f1-score   support\n",
      "\n",
      "    Check-In       0.59      0.66      0.62      1610\n",
      "    Canceled       0.26      0.06      0.10       741\n",
      "     No-Show       0.15      0.29      0.20       398\n",
      "\n",
      "    accuracy                           0.45      2749\n",
      "   macro avg       0.33      0.34      0.31      2749\n",
      "weighted avg       0.44      0.45      0.42      2749\n",
      "\n",
      "==========================================================================\n",
      "i= 0.6 j= 2.0 k= 7\n"
     ]
    },
    {
     "name": "stderr",
     "output_type": "stream",
     "text": [
      "c:\\users\\redline pc\\appdata\\local\\programs\\python\\python38\\lib\\site-packages\\xgboost\\sklearn.py:888: UserWarning: The use of label encoder in XGBClassifier is deprecated and will be removed in a future release. To remove this warning, do the following: 1) Pass option use_label_encoder=False when constructing XGBClassifier object; and 2) Encode your labels (y) as integers starting with 0, i.e. 0, 1, 2, ..., [num_class - 1].\n",
      "  warnings.warn(label_encoder_deprecation_msg, UserWarning)\n",
      "c:\\users\\redline pc\\appdata\\local\\programs\\python\\python38\\lib\\site-packages\\sklearn\\utils\\validation.py:63: DataConversionWarning: A column-vector y was passed when a 1d array was expected. Please change the shape of y to (n_samples, ), for example using ravel().\n",
      "  return f(*args, **kwargs)\n"
     ]
    },
    {
     "name": "stdout",
     "output_type": "stream",
     "text": [
      "              precision    recall  f1-score   support\n",
      "\n",
      "    Check-In       0.59      0.66      0.62      1610\n",
      "    Canceled       0.29      0.04      0.08       741\n",
      "     No-Show       0.15      0.32      0.21       398\n",
      "\n",
      "    accuracy                           0.45      2749\n",
      "   macro avg       0.34      0.34      0.30      2749\n",
      "weighted avg       0.45      0.45      0.42      2749\n",
      "\n",
      "==========================================================================\n",
      "i= 0.6 j= 2.0 k= 8\n"
     ]
    },
    {
     "name": "stderr",
     "output_type": "stream",
     "text": [
      "c:\\users\\redline pc\\appdata\\local\\programs\\python\\python38\\lib\\site-packages\\xgboost\\sklearn.py:888: UserWarning: The use of label encoder in XGBClassifier is deprecated and will be removed in a future release. To remove this warning, do the following: 1) Pass option use_label_encoder=False when constructing XGBClassifier object; and 2) Encode your labels (y) as integers starting with 0, i.e. 0, 1, 2, ..., [num_class - 1].\n",
      "  warnings.warn(label_encoder_deprecation_msg, UserWarning)\n",
      "c:\\users\\redline pc\\appdata\\local\\programs\\python\\python38\\lib\\site-packages\\sklearn\\utils\\validation.py:63: DataConversionWarning: A column-vector y was passed when a 1d array was expected. Please change the shape of y to (n_samples, ), for example using ravel().\n",
      "  return f(*args, **kwargs)\n"
     ]
    },
    {
     "name": "stdout",
     "output_type": "stream",
     "text": [
      "              precision    recall  f1-score   support\n",
      "\n",
      "    Check-In       0.59      0.62      0.61      1610\n",
      "    Canceled       0.29      0.04      0.06       741\n",
      "     No-Show       0.15      0.36      0.21       398\n",
      "\n",
      "    accuracy                           0.43      2749\n",
      "   macro avg       0.34      0.34      0.29      2749\n",
      "weighted avg       0.45      0.43      0.40      2749\n",
      "\n",
      "==========================================================================\n",
      "i= 0.6 j= 2.0 k= 9\n"
     ]
    },
    {
     "name": "stderr",
     "output_type": "stream",
     "text": [
      "c:\\users\\redline pc\\appdata\\local\\programs\\python\\python38\\lib\\site-packages\\xgboost\\sklearn.py:888: UserWarning: The use of label encoder in XGBClassifier is deprecated and will be removed in a future release. To remove this warning, do the following: 1) Pass option use_label_encoder=False when constructing XGBClassifier object; and 2) Encode your labels (y) as integers starting with 0, i.e. 0, 1, 2, ..., [num_class - 1].\n",
      "  warnings.warn(label_encoder_deprecation_msg, UserWarning)\n",
      "c:\\users\\redline pc\\appdata\\local\\programs\\python\\python38\\lib\\site-packages\\sklearn\\utils\\validation.py:63: DataConversionWarning: A column-vector y was passed when a 1d array was expected. Please change the shape of y to (n_samples, ), for example using ravel().\n",
      "  return f(*args, **kwargs)\n"
     ]
    },
    {
     "name": "stdout",
     "output_type": "stream",
     "text": [
      "              precision    recall  f1-score   support\n",
      "\n",
      "    Check-In       0.59      0.59      0.59      1610\n",
      "    Canceled       0.28      0.02      0.04       741\n",
      "     No-Show       0.15      0.41      0.22       398\n",
      "\n",
      "    accuracy                           0.41      2749\n",
      "   macro avg       0.34      0.34      0.28      2749\n",
      "weighted avg       0.44      0.41      0.39      2749\n",
      "\n",
      "==========================================================================\n",
      "i= 0.6 j= 2.5 k= 3\n"
     ]
    },
    {
     "name": "stderr",
     "output_type": "stream",
     "text": [
      "c:\\users\\redline pc\\appdata\\local\\programs\\python\\python38\\lib\\site-packages\\xgboost\\sklearn.py:888: UserWarning: The use of label encoder in XGBClassifier is deprecated and will be removed in a future release. To remove this warning, do the following: 1) Pass option use_label_encoder=False when constructing XGBClassifier object; and 2) Encode your labels (y) as integers starting with 0, i.e. 0, 1, 2, ..., [num_class - 1].\n",
      "  warnings.warn(label_encoder_deprecation_msg, UserWarning)\n",
      "c:\\users\\redline pc\\appdata\\local\\programs\\python\\python38\\lib\\site-packages\\sklearn\\utils\\validation.py:63: DataConversionWarning: A column-vector y was passed when a 1d array was expected. Please change the shape of y to (n_samples, ), for example using ravel().\n",
      "  return f(*args, **kwargs)\n"
     ]
    },
    {
     "name": "stdout",
     "output_type": "stream",
     "text": [
      "              precision    recall  f1-score   support\n",
      "\n",
      "    Check-In       0.59      0.71      0.64      1610\n",
      "    Canceled       0.27      0.27      0.27       741\n",
      "     No-Show       0.21      0.02      0.04       398\n",
      "\n",
      "    accuracy                           0.49      2749\n",
      "   macro avg       0.35      0.33      0.32      2749\n",
      "weighted avg       0.45      0.49      0.45      2749\n",
      "\n",
      "==========================================================================\n",
      "i= 0.6 j= 2.5 k= 4\n"
     ]
    },
    {
     "name": "stderr",
     "output_type": "stream",
     "text": [
      "c:\\users\\redline pc\\appdata\\local\\programs\\python\\python38\\lib\\site-packages\\xgboost\\sklearn.py:888: UserWarning: The use of label encoder in XGBClassifier is deprecated and will be removed in a future release. To remove this warning, do the following: 1) Pass option use_label_encoder=False when constructing XGBClassifier object; and 2) Encode your labels (y) as integers starting with 0, i.e. 0, 1, 2, ..., [num_class - 1].\n",
      "  warnings.warn(label_encoder_deprecation_msg, UserWarning)\n",
      "c:\\users\\redline pc\\appdata\\local\\programs\\python\\python38\\lib\\site-packages\\sklearn\\utils\\validation.py:63: DataConversionWarning: A column-vector y was passed when a 1d array was expected. Please change the shape of y to (n_samples, ), for example using ravel().\n",
      "  return f(*args, **kwargs)\n"
     ]
    },
    {
     "name": "stdout",
     "output_type": "stream",
     "text": [
      "              precision    recall  f1-score   support\n",
      "\n",
      "    Check-In       0.59      0.70      0.64      1610\n",
      "    Canceled       0.28      0.25      0.27       741\n",
      "     No-Show       0.17      0.07      0.10       398\n",
      "\n",
      "    accuracy                           0.49      2749\n",
      "   macro avg       0.35      0.34      0.34      2749\n",
      "weighted avg       0.45      0.49      0.46      2749\n",
      "\n",
      "==========================================================================\n",
      "i= 0.6 j= 2.5 k= 5\n"
     ]
    },
    {
     "name": "stderr",
     "output_type": "stream",
     "text": [
      "c:\\users\\redline pc\\appdata\\local\\programs\\python\\python38\\lib\\site-packages\\xgboost\\sklearn.py:888: UserWarning: The use of label encoder in XGBClassifier is deprecated and will be removed in a future release. To remove this warning, do the following: 1) Pass option use_label_encoder=False when constructing XGBClassifier object; and 2) Encode your labels (y) as integers starting with 0, i.e. 0, 1, 2, ..., [num_class - 1].\n",
      "  warnings.warn(label_encoder_deprecation_msg, UserWarning)\n",
      "c:\\users\\redline pc\\appdata\\local\\programs\\python\\python38\\lib\\site-packages\\sklearn\\utils\\validation.py:63: DataConversionWarning: A column-vector y was passed when a 1d array was expected. Please change the shape of y to (n_samples, ), for example using ravel().\n",
      "  return f(*args, **kwargs)\n"
     ]
    },
    {
     "name": "stdout",
     "output_type": "stream",
     "text": [
      "              precision    recall  f1-score   support\n",
      "\n",
      "    Check-In       0.59      0.68      0.63      1610\n",
      "    Canceled       0.29      0.19      0.23       741\n",
      "     No-Show       0.19      0.20      0.19       398\n",
      "\n",
      "    accuracy                           0.48      2749\n",
      "   macro avg       0.36      0.36      0.35      2749\n",
      "weighted avg       0.45      0.48      0.46      2749\n",
      "\n",
      "==========================================================================\n",
      "i= 0.6 j= 2.5 k= 6\n"
     ]
    },
    {
     "name": "stderr",
     "output_type": "stream",
     "text": [
      "c:\\users\\redline pc\\appdata\\local\\programs\\python\\python38\\lib\\site-packages\\xgboost\\sklearn.py:888: UserWarning: The use of label encoder in XGBClassifier is deprecated and will be removed in a future release. To remove this warning, do the following: 1) Pass option use_label_encoder=False when constructing XGBClassifier object; and 2) Encode your labels (y) as integers starting with 0, i.e. 0, 1, 2, ..., [num_class - 1].\n",
      "  warnings.warn(label_encoder_deprecation_msg, UserWarning)\n",
      "c:\\users\\redline pc\\appdata\\local\\programs\\python\\python38\\lib\\site-packages\\sklearn\\utils\\validation.py:63: DataConversionWarning: A column-vector y was passed when a 1d array was expected. Please change the shape of y to (n_samples, ), for example using ravel().\n",
      "  return f(*args, **kwargs)\n"
     ]
    },
    {
     "name": "stdout",
     "output_type": "stream",
     "text": [
      "              precision    recall  f1-score   support\n",
      "\n",
      "    Check-In       0.59      0.66      0.62      1610\n",
      "    Canceled       0.29      0.14      0.19       741\n",
      "     No-Show       0.16      0.25      0.20       398\n",
      "\n",
      "    accuracy                           0.46      2749\n",
      "   macro avg       0.35      0.35      0.34      2749\n",
      "weighted avg       0.45      0.46      0.44      2749\n",
      "\n",
      "==========================================================================\n",
      "i= 0.6 j= 2.5 k= 7\n"
     ]
    },
    {
     "name": "stderr",
     "output_type": "stream",
     "text": [
      "c:\\users\\redline pc\\appdata\\local\\programs\\python\\python38\\lib\\site-packages\\xgboost\\sklearn.py:888: UserWarning: The use of label encoder in XGBClassifier is deprecated and will be removed in a future release. To remove this warning, do the following: 1) Pass option use_label_encoder=False when constructing XGBClassifier object; and 2) Encode your labels (y) as integers starting with 0, i.e. 0, 1, 2, ..., [num_class - 1].\n",
      "  warnings.warn(label_encoder_deprecation_msg, UserWarning)\n",
      "c:\\users\\redline pc\\appdata\\local\\programs\\python\\python38\\lib\\site-packages\\sklearn\\utils\\validation.py:63: DataConversionWarning: A column-vector y was passed when a 1d array was expected. Please change the shape of y to (n_samples, ), for example using ravel().\n",
      "  return f(*args, **kwargs)\n"
     ]
    },
    {
     "name": "stdout",
     "output_type": "stream",
     "text": [
      "              precision    recall  f1-score   support\n",
      "\n",
      "    Check-In       0.59      0.63      0.61      1610\n",
      "    Canceled       0.27      0.09      0.14       741\n",
      "     No-Show       0.16      0.31      0.21       398\n",
      "\n",
      "    accuracy                           0.44      2749\n",
      "   macro avg       0.34      0.34      0.32      2749\n",
      "weighted avg       0.44      0.44      0.43      2749\n",
      "\n",
      "==========================================================================\n",
      "i= 0.6 j= 2.5 k= 8\n"
     ]
    },
    {
     "name": "stderr",
     "output_type": "stream",
     "text": [
      "c:\\users\\redline pc\\appdata\\local\\programs\\python\\python38\\lib\\site-packages\\xgboost\\sklearn.py:888: UserWarning: The use of label encoder in XGBClassifier is deprecated and will be removed in a future release. To remove this warning, do the following: 1) Pass option use_label_encoder=False when constructing XGBClassifier object; and 2) Encode your labels (y) as integers starting with 0, i.e. 0, 1, 2, ..., [num_class - 1].\n",
      "  warnings.warn(label_encoder_deprecation_msg, UserWarning)\n",
      "c:\\users\\redline pc\\appdata\\local\\programs\\python\\python38\\lib\\site-packages\\sklearn\\utils\\validation.py:63: DataConversionWarning: A column-vector y was passed when a 1d array was expected. Please change the shape of y to (n_samples, ), for example using ravel().\n",
      "  return f(*args, **kwargs)\n"
     ]
    },
    {
     "name": "stdout",
     "output_type": "stream",
     "text": [
      "              precision    recall  f1-score   support\n",
      "\n",
      "    Check-In       0.59      0.61      0.60      1610\n",
      "    Canceled       0.30      0.06      0.10       741\n",
      "     No-Show       0.15      0.36      0.22       398\n",
      "\n",
      "    accuracy                           0.43      2749\n",
      "   macro avg       0.35      0.35      0.31      2749\n",
      "weighted avg       0.45      0.43      0.41      2749\n",
      "\n",
      "==========================================================================\n",
      "i= 0.6 j= 2.5 k= 9\n"
     ]
    },
    {
     "name": "stderr",
     "output_type": "stream",
     "text": [
      "c:\\users\\redline pc\\appdata\\local\\programs\\python\\python38\\lib\\site-packages\\xgboost\\sklearn.py:888: UserWarning: The use of label encoder in XGBClassifier is deprecated and will be removed in a future release. To remove this warning, do the following: 1) Pass option use_label_encoder=False when constructing XGBClassifier object; and 2) Encode your labels (y) as integers starting with 0, i.e. 0, 1, 2, ..., [num_class - 1].\n",
      "  warnings.warn(label_encoder_deprecation_msg, UserWarning)\n",
      "c:\\users\\redline pc\\appdata\\local\\programs\\python\\python38\\lib\\site-packages\\sklearn\\utils\\validation.py:63: DataConversionWarning: A column-vector y was passed when a 1d array was expected. Please change the shape of y to (n_samples, ), for example using ravel().\n",
      "  return f(*args, **kwargs)\n"
     ]
    },
    {
     "name": "stdout",
     "output_type": "stream",
     "text": [
      "              precision    recall  f1-score   support\n",
      "\n",
      "    Check-In       0.60      0.57      0.58      1610\n",
      "    Canceled       0.32      0.06      0.10       741\n",
      "     No-Show       0.15      0.40      0.22       398\n",
      "\n",
      "    accuracy                           0.41      2749\n",
      "   macro avg       0.35      0.34      0.30      2749\n",
      "weighted avg       0.46      0.41      0.40      2749\n",
      "\n",
      "==========================================================================\n",
      "i= 0.6 j= 3.0 k= 3\n"
     ]
    },
    {
     "name": "stderr",
     "output_type": "stream",
     "text": [
      "c:\\users\\redline pc\\appdata\\local\\programs\\python\\python38\\lib\\site-packages\\xgboost\\sklearn.py:888: UserWarning: The use of label encoder in XGBClassifier is deprecated and will be removed in a future release. To remove this warning, do the following: 1) Pass option use_label_encoder=False when constructing XGBClassifier object; and 2) Encode your labels (y) as integers starting with 0, i.e. 0, 1, 2, ..., [num_class - 1].\n",
      "  warnings.warn(label_encoder_deprecation_msg, UserWarning)\n",
      "c:\\users\\redline pc\\appdata\\local\\programs\\python\\python38\\lib\\site-packages\\sklearn\\utils\\validation.py:63: DataConversionWarning: A column-vector y was passed when a 1d array was expected. Please change the shape of y to (n_samples, ), for example using ravel().\n",
      "  return f(*args, **kwargs)\n"
     ]
    },
    {
     "name": "stdout",
     "output_type": "stream",
     "text": [
      "              precision    recall  f1-score   support\n",
      "\n",
      "    Check-In       0.59      0.67      0.63      1610\n",
      "    Canceled       0.27      0.33      0.30       741\n",
      "     No-Show       0.11      0.01      0.01       398\n",
      "\n",
      "    accuracy                           0.48      2749\n",
      "   macro avg       0.33      0.34      0.31      2749\n",
      "weighted avg       0.44      0.48      0.45      2749\n",
      "\n",
      "==========================================================================\n",
      "i= 0.6 j= 3.0 k= 4\n"
     ]
    },
    {
     "name": "stderr",
     "output_type": "stream",
     "text": [
      "c:\\users\\redline pc\\appdata\\local\\programs\\python\\python38\\lib\\site-packages\\xgboost\\sklearn.py:888: UserWarning: The use of label encoder in XGBClassifier is deprecated and will be removed in a future release. To remove this warning, do the following: 1) Pass option use_label_encoder=False when constructing XGBClassifier object; and 2) Encode your labels (y) as integers starting with 0, i.e. 0, 1, 2, ..., [num_class - 1].\n",
      "  warnings.warn(label_encoder_deprecation_msg, UserWarning)\n",
      "c:\\users\\redline pc\\appdata\\local\\programs\\python\\python38\\lib\\site-packages\\sklearn\\utils\\validation.py:63: DataConversionWarning: A column-vector y was passed when a 1d array was expected. Please change the shape of y to (n_samples, ), for example using ravel().\n",
      "  return f(*args, **kwargs)\n"
     ]
    },
    {
     "name": "stdout",
     "output_type": "stream",
     "text": [
      "              precision    recall  f1-score   support\n",
      "\n",
      "    Check-In       0.59      0.58      0.59      1610\n",
      "    Canceled       0.28      0.43      0.34       741\n",
      "     No-Show       0.24      0.02      0.04       398\n",
      "\n",
      "    accuracy                           0.46      2749\n",
      "   macro avg       0.37      0.34      0.32      2749\n",
      "weighted avg       0.46      0.46      0.44      2749\n",
      "\n",
      "==========================================================================\n",
      "i= 0.6 j= 3.0 k= 5\n"
     ]
    },
    {
     "name": "stderr",
     "output_type": "stream",
     "text": [
      "c:\\users\\redline pc\\appdata\\local\\programs\\python\\python38\\lib\\site-packages\\xgboost\\sklearn.py:888: UserWarning: The use of label encoder in XGBClassifier is deprecated and will be removed in a future release. To remove this warning, do the following: 1) Pass option use_label_encoder=False when constructing XGBClassifier object; and 2) Encode your labels (y) as integers starting with 0, i.e. 0, 1, 2, ..., [num_class - 1].\n",
      "  warnings.warn(label_encoder_deprecation_msg, UserWarning)\n",
      "c:\\users\\redline pc\\appdata\\local\\programs\\python\\python38\\lib\\site-packages\\sklearn\\utils\\validation.py:63: DataConversionWarning: A column-vector y was passed when a 1d array was expected. Please change the shape of y to (n_samples, ), for example using ravel().\n",
      "  return f(*args, **kwargs)\n"
     ]
    },
    {
     "name": "stdout",
     "output_type": "stream",
     "text": [
      "              precision    recall  f1-score   support\n",
      "\n",
      "    Check-In       0.60      0.52      0.56      1610\n",
      "    Canceled       0.28      0.50      0.36       741\n",
      "     No-Show       0.19      0.02      0.04       398\n",
      "\n",
      "    accuracy                           0.44      2749\n",
      "   macro avg       0.36      0.35      0.32      2749\n",
      "weighted avg       0.45      0.44      0.43      2749\n",
      "\n",
      "==========================================================================\n",
      "i= 0.6 j= 3.0 k= 6\n"
     ]
    },
    {
     "name": "stderr",
     "output_type": "stream",
     "text": [
      "c:\\users\\redline pc\\appdata\\local\\programs\\python\\python38\\lib\\site-packages\\xgboost\\sklearn.py:888: UserWarning: The use of label encoder in XGBClassifier is deprecated and will be removed in a future release. To remove this warning, do the following: 1) Pass option use_label_encoder=False when constructing XGBClassifier object; and 2) Encode your labels (y) as integers starting with 0, i.e. 0, 1, 2, ..., [num_class - 1].\n",
      "  warnings.warn(label_encoder_deprecation_msg, UserWarning)\n",
      "c:\\users\\redline pc\\appdata\\local\\programs\\python\\python38\\lib\\site-packages\\sklearn\\utils\\validation.py:63: DataConversionWarning: A column-vector y was passed when a 1d array was expected. Please change the shape of y to (n_samples, ), for example using ravel().\n",
      "  return f(*args, **kwargs)\n"
     ]
    },
    {
     "name": "stdout",
     "output_type": "stream",
     "text": [
      "              precision    recall  f1-score   support\n",
      "\n",
      "    Check-In       0.60      0.46      0.52      1610\n",
      "    Canceled       0.28      0.56      0.37       741\n",
      "     No-Show       0.13      0.02      0.03       398\n",
      "\n",
      "    accuracy                           0.42      2749\n",
      "   macro avg       0.34      0.34      0.31      2749\n",
      "weighted avg       0.45      0.42      0.41      2749\n",
      "\n",
      "==========================================================================\n",
      "i= 0.6 j= 3.0 k= 7\n"
     ]
    },
    {
     "name": "stderr",
     "output_type": "stream",
     "text": [
      "c:\\users\\redline pc\\appdata\\local\\programs\\python\\python38\\lib\\site-packages\\xgboost\\sklearn.py:888: UserWarning: The use of label encoder in XGBClassifier is deprecated and will be removed in a future release. To remove this warning, do the following: 1) Pass option use_label_encoder=False when constructing XGBClassifier object; and 2) Encode your labels (y) as integers starting with 0, i.e. 0, 1, 2, ..., [num_class - 1].\n",
      "  warnings.warn(label_encoder_deprecation_msg, UserWarning)\n",
      "c:\\users\\redline pc\\appdata\\local\\programs\\python\\python38\\lib\\site-packages\\sklearn\\utils\\validation.py:63: DataConversionWarning: A column-vector y was passed when a 1d array was expected. Please change the shape of y to (n_samples, ), for example using ravel().\n",
      "  return f(*args, **kwargs)\n"
     ]
    },
    {
     "name": "stdout",
     "output_type": "stream",
     "text": [
      "              precision    recall  f1-score   support\n",
      "\n",
      "    Check-In       0.61      0.41      0.49      1610\n",
      "    Canceled       0.28      0.61      0.38       741\n",
      "     No-Show       0.22      0.03      0.06       398\n",
      "\n",
      "    accuracy                           0.41      2749\n",
      "   macro avg       0.37      0.35      0.31      2749\n",
      "weighted avg       0.46      0.41      0.40      2749\n",
      "\n",
      "==========================================================================\n",
      "i= 0.6 j= 3.0 k= 8\n"
     ]
    },
    {
     "name": "stderr",
     "output_type": "stream",
     "text": [
      "c:\\users\\redline pc\\appdata\\local\\programs\\python\\python38\\lib\\site-packages\\xgboost\\sklearn.py:888: UserWarning: The use of label encoder in XGBClassifier is deprecated and will be removed in a future release. To remove this warning, do the following: 1) Pass option use_label_encoder=False when constructing XGBClassifier object; and 2) Encode your labels (y) as integers starting with 0, i.e. 0, 1, 2, ..., [num_class - 1].\n",
      "  warnings.warn(label_encoder_deprecation_msg, UserWarning)\n",
      "c:\\users\\redline pc\\appdata\\local\\programs\\python\\python38\\lib\\site-packages\\sklearn\\utils\\validation.py:63: DataConversionWarning: A column-vector y was passed when a 1d array was expected. Please change the shape of y to (n_samples, ), for example using ravel().\n",
      "  return f(*args, **kwargs)\n"
     ]
    },
    {
     "name": "stdout",
     "output_type": "stream",
     "text": [
      "              precision    recall  f1-score   support\n",
      "\n",
      "    Check-In       0.60      0.38      0.47      1610\n",
      "    Canceled       0.27      0.62      0.38       741\n",
      "     No-Show       0.10      0.02      0.03       398\n",
      "\n",
      "    accuracy                           0.39      2749\n",
      "   macro avg       0.33      0.34      0.29      2749\n",
      "weighted avg       0.44      0.39      0.38      2749\n",
      "\n",
      "==========================================================================\n",
      "i= 0.6 j= 3.0 k= 9\n"
     ]
    },
    {
     "name": "stderr",
     "output_type": "stream",
     "text": [
      "c:\\users\\redline pc\\appdata\\local\\programs\\python\\python38\\lib\\site-packages\\xgboost\\sklearn.py:888: UserWarning: The use of label encoder in XGBClassifier is deprecated and will be removed in a future release. To remove this warning, do the following: 1) Pass option use_label_encoder=False when constructing XGBClassifier object; and 2) Encode your labels (y) as integers starting with 0, i.e. 0, 1, 2, ..., [num_class - 1].\n",
      "  warnings.warn(label_encoder_deprecation_msg, UserWarning)\n",
      "c:\\users\\redline pc\\appdata\\local\\programs\\python\\python38\\lib\\site-packages\\sklearn\\utils\\validation.py:63: DataConversionWarning: A column-vector y was passed when a 1d array was expected. Please change the shape of y to (n_samples, ), for example using ravel().\n",
      "  return f(*args, **kwargs)\n"
     ]
    },
    {
     "name": "stdout",
     "output_type": "stream",
     "text": [
      "              precision    recall  f1-score   support\n",
      "\n",
      "    Check-In       0.61      0.37      0.46      1610\n",
      "    Canceled       0.28      0.65      0.39       741\n",
      "     No-Show       0.09      0.02      0.03       398\n",
      "\n",
      "    accuracy                           0.39      2749\n",
      "   macro avg       0.33      0.34      0.29      2749\n",
      "weighted avg       0.45      0.39      0.38      2749\n",
      "\n",
      "==========================================================================\n",
      "i= 0.6 j= 3.5 k= 3\n"
     ]
    },
    {
     "name": "stderr",
     "output_type": "stream",
     "text": [
      "c:\\users\\redline pc\\appdata\\local\\programs\\python\\python38\\lib\\site-packages\\xgboost\\sklearn.py:888: UserWarning: The use of label encoder in XGBClassifier is deprecated and will be removed in a future release. To remove this warning, do the following: 1) Pass option use_label_encoder=False when constructing XGBClassifier object; and 2) Encode your labels (y) as integers starting with 0, i.e. 0, 1, 2, ..., [num_class - 1].\n",
      "  warnings.warn(label_encoder_deprecation_msg, UserWarning)\n",
      "c:\\users\\redline pc\\appdata\\local\\programs\\python\\python38\\lib\\site-packages\\sklearn\\utils\\validation.py:63: DataConversionWarning: A column-vector y was passed when a 1d array was expected. Please change the shape of y to (n_samples, ), for example using ravel().\n",
      "  return f(*args, **kwargs)\n"
     ]
    },
    {
     "name": "stdout",
     "output_type": "stream",
     "text": [
      "              precision    recall  f1-score   support\n",
      "\n",
      "    Check-In       0.59      0.63      0.61      1610\n",
      "    Canceled       0.28      0.38      0.32       741\n",
      "     No-Show       0.09      0.00      0.00       398\n",
      "\n",
      "    accuracy                           0.47      2749\n",
      "   macro avg       0.32      0.34      0.31      2749\n",
      "weighted avg       0.43      0.47      0.44      2749\n",
      "\n",
      "==========================================================================\n",
      "i= 0.6 j= 3.5 k= 4\n"
     ]
    },
    {
     "name": "stderr",
     "output_type": "stream",
     "text": [
      "c:\\users\\redline pc\\appdata\\local\\programs\\python\\python38\\lib\\site-packages\\xgboost\\sklearn.py:888: UserWarning: The use of label encoder in XGBClassifier is deprecated and will be removed in a future release. To remove this warning, do the following: 1) Pass option use_label_encoder=False when constructing XGBClassifier object; and 2) Encode your labels (y) as integers starting with 0, i.e. 0, 1, 2, ..., [num_class - 1].\n",
      "  warnings.warn(label_encoder_deprecation_msg, UserWarning)\n",
      "c:\\users\\redline pc\\appdata\\local\\programs\\python\\python38\\lib\\site-packages\\sklearn\\utils\\validation.py:63: DataConversionWarning: A column-vector y was passed when a 1d array was expected. Please change the shape of y to (n_samples, ), for example using ravel().\n",
      "  return f(*args, **kwargs)\n"
     ]
    },
    {
     "name": "stdout",
     "output_type": "stream",
     "text": [
      "              precision    recall  f1-score   support\n",
      "\n",
      "    Check-In       0.59      0.61      0.60      1610\n",
      "    Canceled       0.28      0.38      0.32       741\n",
      "     No-Show       0.22      0.03      0.06       398\n",
      "\n",
      "    accuracy                           0.47      2749\n",
      "   macro avg       0.36      0.34      0.33      2749\n",
      "weighted avg       0.45      0.47      0.45      2749\n",
      "\n",
      "==========================================================================\n",
      "i= 0.6 j= 3.5 k= 5\n"
     ]
    },
    {
     "name": "stderr",
     "output_type": "stream",
     "text": [
      "c:\\users\\redline pc\\appdata\\local\\programs\\python\\python38\\lib\\site-packages\\xgboost\\sklearn.py:888: UserWarning: The use of label encoder in XGBClassifier is deprecated and will be removed in a future release. To remove this warning, do the following: 1) Pass option use_label_encoder=False when constructing XGBClassifier object; and 2) Encode your labels (y) as integers starting with 0, i.e. 0, 1, 2, ..., [num_class - 1].\n",
      "  warnings.warn(label_encoder_deprecation_msg, UserWarning)\n",
      "c:\\users\\redline pc\\appdata\\local\\programs\\python\\python38\\lib\\site-packages\\sklearn\\utils\\validation.py:63: DataConversionWarning: A column-vector y was passed when a 1d array was expected. Please change the shape of y to (n_samples, ), for example using ravel().\n",
      "  return f(*args, **kwargs)\n"
     ]
    },
    {
     "name": "stdout",
     "output_type": "stream",
     "text": [
      "              precision    recall  f1-score   support\n",
      "\n",
      "    Check-In       0.60      0.61      0.60      1610\n",
      "    Canceled       0.28      0.36      0.32       741\n",
      "     No-Show       0.16      0.07      0.10       398\n",
      "\n",
      "    accuracy                           0.46      2749\n",
      "   macro avg       0.35      0.35      0.34      2749\n",
      "weighted avg       0.45      0.46      0.45      2749\n",
      "\n",
      "==========================================================================\n",
      "i= 0.6 j= 3.5 k= 6\n"
     ]
    },
    {
     "name": "stderr",
     "output_type": "stream",
     "text": [
      "c:\\users\\redline pc\\appdata\\local\\programs\\python\\python38\\lib\\site-packages\\xgboost\\sklearn.py:888: UserWarning: The use of label encoder in XGBClassifier is deprecated and will be removed in a future release. To remove this warning, do the following: 1) Pass option use_label_encoder=False when constructing XGBClassifier object; and 2) Encode your labels (y) as integers starting with 0, i.e. 0, 1, 2, ..., [num_class - 1].\n",
      "  warnings.warn(label_encoder_deprecation_msg, UserWarning)\n",
      "c:\\users\\redline pc\\appdata\\local\\programs\\python\\python38\\lib\\site-packages\\sklearn\\utils\\validation.py:63: DataConversionWarning: A column-vector y was passed when a 1d array was expected. Please change the shape of y to (n_samples, ), for example using ravel().\n",
      "  return f(*args, **kwargs)\n"
     ]
    },
    {
     "name": "stdout",
     "output_type": "stream",
     "text": [
      "              precision    recall  f1-score   support\n",
      "\n",
      "    Check-In       0.59      0.60      0.60      1610\n",
      "    Canceled       0.29      0.31      0.30       741\n",
      "     No-Show       0.20      0.16      0.18       398\n",
      "\n",
      "    accuracy                           0.46      2749\n",
      "   macro avg       0.36      0.36      0.36      2749\n",
      "weighted avg       0.45      0.46      0.45      2749\n",
      "\n",
      "==========================================================================\n",
      "i= 0.6 j= 3.5 k= 7\n"
     ]
    },
    {
     "name": "stderr",
     "output_type": "stream",
     "text": [
      "c:\\users\\redline pc\\appdata\\local\\programs\\python\\python38\\lib\\site-packages\\xgboost\\sklearn.py:888: UserWarning: The use of label encoder in XGBClassifier is deprecated and will be removed in a future release. To remove this warning, do the following: 1) Pass option use_label_encoder=False when constructing XGBClassifier object; and 2) Encode your labels (y) as integers starting with 0, i.e. 0, 1, 2, ..., [num_class - 1].\n",
      "  warnings.warn(label_encoder_deprecation_msg, UserWarning)\n",
      "c:\\users\\redline pc\\appdata\\local\\programs\\python\\python38\\lib\\site-packages\\sklearn\\utils\\validation.py:63: DataConversionWarning: A column-vector y was passed when a 1d array was expected. Please change the shape of y to (n_samples, ), for example using ravel().\n",
      "  return f(*args, **kwargs)\n"
     ]
    },
    {
     "name": "stdout",
     "output_type": "stream",
     "text": [
      "              precision    recall  f1-score   support\n",
      "\n",
      "    Check-In       0.59      0.55      0.57      1610\n",
      "    Canceled       0.28      0.24      0.26       741\n",
      "     No-Show       0.14      0.21      0.17       398\n",
      "\n",
      "    accuracy                           0.42      2749\n",
      "   macro avg       0.34      0.34      0.33      2749\n",
      "weighted avg       0.44      0.42      0.43      2749\n",
      "\n",
      "==========================================================================\n",
      "i= 0.6 j= 3.5 k= 8\n"
     ]
    },
    {
     "name": "stderr",
     "output_type": "stream",
     "text": [
      "c:\\users\\redline pc\\appdata\\local\\programs\\python\\python38\\lib\\site-packages\\xgboost\\sklearn.py:888: UserWarning: The use of label encoder in XGBClassifier is deprecated and will be removed in a future release. To remove this warning, do the following: 1) Pass option use_label_encoder=False when constructing XGBClassifier object; and 2) Encode your labels (y) as integers starting with 0, i.e. 0, 1, 2, ..., [num_class - 1].\n",
      "  warnings.warn(label_encoder_deprecation_msg, UserWarning)\n",
      "c:\\users\\redline pc\\appdata\\local\\programs\\python\\python38\\lib\\site-packages\\sklearn\\utils\\validation.py:63: DataConversionWarning: A column-vector y was passed when a 1d array was expected. Please change the shape of y to (n_samples, ), for example using ravel().\n",
      "  return f(*args, **kwargs)\n"
     ]
    },
    {
     "name": "stdout",
     "output_type": "stream",
     "text": [
      "              precision    recall  f1-score   support\n",
      "\n",
      "    Check-In       0.59      0.55      0.57      1610\n",
      "    Canceled       0.27      0.18      0.22       741\n",
      "     No-Show       0.15      0.29      0.20       398\n",
      "\n",
      "    accuracy                           0.42      2749\n",
      "   macro avg       0.34      0.34      0.33      2749\n",
      "weighted avg       0.44      0.42      0.42      2749\n",
      "\n",
      "==========================================================================\n",
      "i= 0.6 j= 3.5 k= 9\n"
     ]
    },
    {
     "name": "stderr",
     "output_type": "stream",
     "text": [
      "c:\\users\\redline pc\\appdata\\local\\programs\\python\\python38\\lib\\site-packages\\xgboost\\sklearn.py:888: UserWarning: The use of label encoder in XGBClassifier is deprecated and will be removed in a future release. To remove this warning, do the following: 1) Pass option use_label_encoder=False when constructing XGBClassifier object; and 2) Encode your labels (y) as integers starting with 0, i.e. 0, 1, 2, ..., [num_class - 1].\n",
      "  warnings.warn(label_encoder_deprecation_msg, UserWarning)\n",
      "c:\\users\\redline pc\\appdata\\local\\programs\\python\\python38\\lib\\site-packages\\sklearn\\utils\\validation.py:63: DataConversionWarning: A column-vector y was passed when a 1d array was expected. Please change the shape of y to (n_samples, ), for example using ravel().\n",
      "  return f(*args, **kwargs)\n"
     ]
    },
    {
     "name": "stdout",
     "output_type": "stream",
     "text": [
      "              precision    recall  f1-score   support\n",
      "\n",
      "    Check-In       0.59      0.53      0.56      1610\n",
      "    Canceled       0.28      0.15      0.20       741\n",
      "     No-Show       0.15      0.33      0.20       398\n",
      "\n",
      "    accuracy                           0.40      2749\n",
      "   macro avg       0.34      0.34      0.32      2749\n",
      "weighted avg       0.44      0.40      0.41      2749\n",
      "\n",
      "==========================================================================\n",
      "i= 0.6 j= 4.0 k= 3\n"
     ]
    },
    {
     "name": "stderr",
     "output_type": "stream",
     "text": [
      "c:\\users\\redline pc\\appdata\\local\\programs\\python\\python38\\lib\\site-packages\\xgboost\\sklearn.py:888: UserWarning: The use of label encoder in XGBClassifier is deprecated and will be removed in a future release. To remove this warning, do the following: 1) Pass option use_label_encoder=False when constructing XGBClassifier object; and 2) Encode your labels (y) as integers starting with 0, i.e. 0, 1, 2, ..., [num_class - 1].\n",
      "  warnings.warn(label_encoder_deprecation_msg, UserWarning)\n",
      "c:\\users\\redline pc\\appdata\\local\\programs\\python\\python38\\lib\\site-packages\\sklearn\\utils\\validation.py:63: DataConversionWarning: A column-vector y was passed when a 1d array was expected. Please change the shape of y to (n_samples, ), for example using ravel().\n",
      "  return f(*args, **kwargs)\n"
     ]
    },
    {
     "name": "stdout",
     "output_type": "stream",
     "text": [
      "              precision    recall  f1-score   support\n",
      "\n",
      "    Check-In       0.59      0.60      0.60      1610\n",
      "    Canceled       0.28      0.42      0.33       741\n",
      "     No-Show       0.00      0.00      0.00       398\n",
      "\n",
      "    accuracy                           0.46      2749\n",
      "   macro avg       0.29      0.34      0.31      2749\n",
      "weighted avg       0.42      0.46      0.44      2749\n",
      "\n",
      "==========================================================================\n",
      "i= 0.6 j= 4.0 k= 4\n"
     ]
    },
    {
     "name": "stderr",
     "output_type": "stream",
     "text": [
      "c:\\users\\redline pc\\appdata\\local\\programs\\python\\python38\\lib\\site-packages\\xgboost\\sklearn.py:888: UserWarning: The use of label encoder in XGBClassifier is deprecated and will be removed in a future release. To remove this warning, do the following: 1) Pass option use_label_encoder=False when constructing XGBClassifier object; and 2) Encode your labels (y) as integers starting with 0, i.e. 0, 1, 2, ..., [num_class - 1].\n",
      "  warnings.warn(label_encoder_deprecation_msg, UserWarning)\n",
      "c:\\users\\redline pc\\appdata\\local\\programs\\python\\python38\\lib\\site-packages\\sklearn\\utils\\validation.py:63: DataConversionWarning: A column-vector y was passed when a 1d array was expected. Please change the shape of y to (n_samples, ), for example using ravel().\n",
      "  return f(*args, **kwargs)\n"
     ]
    },
    {
     "name": "stdout",
     "output_type": "stream",
     "text": [
      "              precision    recall  f1-score   support\n",
      "\n",
      "    Check-In       0.59      0.58      0.59      1610\n",
      "    Canceled       0.28      0.43      0.34       741\n",
      "     No-Show       0.24      0.02      0.04       398\n",
      "\n",
      "    accuracy                           0.46      2749\n",
      "   macro avg       0.37      0.34      0.32      2749\n",
      "weighted avg       0.46      0.46      0.44      2749\n",
      "\n",
      "==========================================================================\n",
      "i= 0.6 j= 4.0 k= 5\n"
     ]
    },
    {
     "name": "stderr",
     "output_type": "stream",
     "text": [
      "c:\\users\\redline pc\\appdata\\local\\programs\\python\\python38\\lib\\site-packages\\xgboost\\sklearn.py:888: UserWarning: The use of label encoder in XGBClassifier is deprecated and will be removed in a future release. To remove this warning, do the following: 1) Pass option use_label_encoder=False when constructing XGBClassifier object; and 2) Encode your labels (y) as integers starting with 0, i.e. 0, 1, 2, ..., [num_class - 1].\n",
      "  warnings.warn(label_encoder_deprecation_msg, UserWarning)\n",
      "c:\\users\\redline pc\\appdata\\local\\programs\\python\\python38\\lib\\site-packages\\sklearn\\utils\\validation.py:63: DataConversionWarning: A column-vector y was passed when a 1d array was expected. Please change the shape of y to (n_samples, ), for example using ravel().\n",
      "  return f(*args, **kwargs)\n"
     ]
    },
    {
     "name": "stdout",
     "output_type": "stream",
     "text": [
      "              precision    recall  f1-score   support\n",
      "\n",
      "    Check-In       0.59      0.56      0.58      1610\n",
      "    Canceled       0.28      0.42      0.33       741\n",
      "     No-Show       0.18      0.05      0.08       398\n",
      "\n",
      "    accuracy                           0.45      2749\n",
      "   macro avg       0.35      0.34      0.33      2749\n",
      "weighted avg       0.45      0.45      0.44      2749\n",
      "\n",
      "==========================================================================\n",
      "i= 0.6 j= 4.0 k= 6\n"
     ]
    },
    {
     "name": "stderr",
     "output_type": "stream",
     "text": [
      "c:\\users\\redline pc\\appdata\\local\\programs\\python\\python38\\lib\\site-packages\\xgboost\\sklearn.py:888: UserWarning: The use of label encoder in XGBClassifier is deprecated and will be removed in a future release. To remove this warning, do the following: 1) Pass option use_label_encoder=False when constructing XGBClassifier object; and 2) Encode your labels (y) as integers starting with 0, i.e. 0, 1, 2, ..., [num_class - 1].\n",
      "  warnings.warn(label_encoder_deprecation_msg, UserWarning)\n",
      "c:\\users\\redline pc\\appdata\\local\\programs\\python\\python38\\lib\\site-packages\\sklearn\\utils\\validation.py:63: DataConversionWarning: A column-vector y was passed when a 1d array was expected. Please change the shape of y to (n_samples, ), for example using ravel().\n",
      "  return f(*args, **kwargs)\n"
     ]
    },
    {
     "name": "stdout",
     "output_type": "stream",
     "text": [
      "              precision    recall  f1-score   support\n",
      "\n",
      "    Check-In       0.60      0.56      0.58      1610\n",
      "    Canceled       0.29      0.39      0.33       741\n",
      "     No-Show       0.13      0.08      0.10       398\n",
      "\n",
      "    accuracy                           0.44      2749\n",
      "   macro avg       0.34      0.34      0.34      2749\n",
      "weighted avg       0.45      0.44      0.44      2749\n",
      "\n",
      "==========================================================================\n",
      "i= 0.6 j= 4.0 k= 7\n"
     ]
    },
    {
     "name": "stderr",
     "output_type": "stream",
     "text": [
      "c:\\users\\redline pc\\appdata\\local\\programs\\python\\python38\\lib\\site-packages\\xgboost\\sklearn.py:888: UserWarning: The use of label encoder in XGBClassifier is deprecated and will be removed in a future release. To remove this warning, do the following: 1) Pass option use_label_encoder=False when constructing XGBClassifier object; and 2) Encode your labels (y) as integers starting with 0, i.e. 0, 1, 2, ..., [num_class - 1].\n",
      "  warnings.warn(label_encoder_deprecation_msg, UserWarning)\n",
      "c:\\users\\redline pc\\appdata\\local\\programs\\python\\python38\\lib\\site-packages\\sklearn\\utils\\validation.py:63: DataConversionWarning: A column-vector y was passed when a 1d array was expected. Please change the shape of y to (n_samples, ), for example using ravel().\n",
      "  return f(*args, **kwargs)\n"
     ]
    },
    {
     "name": "stdout",
     "output_type": "stream",
     "text": [
      "              precision    recall  f1-score   support\n",
      "\n",
      "    Check-In       0.59      0.56      0.58      1610\n",
      "    Canceled       0.26      0.29      0.28       741\n",
      "     No-Show       0.16      0.16      0.16       398\n",
      "\n",
      "    accuracy                           0.43      2749\n",
      "   macro avg       0.34      0.34      0.34      2749\n",
      "weighted avg       0.44      0.43      0.43      2749\n",
      "\n",
      "==========================================================================\n",
      "i= 0.6 j= 4.0 k= 8\n"
     ]
    },
    {
     "name": "stderr",
     "output_type": "stream",
     "text": [
      "c:\\users\\redline pc\\appdata\\local\\programs\\python\\python38\\lib\\site-packages\\xgboost\\sklearn.py:888: UserWarning: The use of label encoder in XGBClassifier is deprecated and will be removed in a future release. To remove this warning, do the following: 1) Pass option use_label_encoder=False when constructing XGBClassifier object; and 2) Encode your labels (y) as integers starting with 0, i.e. 0, 1, 2, ..., [num_class - 1].\n",
      "  warnings.warn(label_encoder_deprecation_msg, UserWarning)\n",
      "c:\\users\\redline pc\\appdata\\local\\programs\\python\\python38\\lib\\site-packages\\sklearn\\utils\\validation.py:63: DataConversionWarning: A column-vector y was passed when a 1d array was expected. Please change the shape of y to (n_samples, ), for example using ravel().\n",
      "  return f(*args, **kwargs)\n"
     ]
    },
    {
     "name": "stdout",
     "output_type": "stream",
     "text": [
      "              precision    recall  f1-score   support\n",
      "\n",
      "    Check-In       0.59      0.53      0.56      1610\n",
      "    Canceled       0.29      0.27      0.28       741\n",
      "     No-Show       0.15      0.23      0.19       398\n",
      "\n",
      "    accuracy                           0.42      2749\n",
      "   macro avg       0.35      0.35      0.34      2749\n",
      "weighted avg       0.45      0.42      0.43      2749\n",
      "\n",
      "==========================================================================\n",
      "i= 0.6 j= 4.0 k= 9\n"
     ]
    },
    {
     "name": "stderr",
     "output_type": "stream",
     "text": [
      "c:\\users\\redline pc\\appdata\\local\\programs\\python\\python38\\lib\\site-packages\\xgboost\\sklearn.py:888: UserWarning: The use of label encoder in XGBClassifier is deprecated and will be removed in a future release. To remove this warning, do the following: 1) Pass option use_label_encoder=False when constructing XGBClassifier object; and 2) Encode your labels (y) as integers starting with 0, i.e. 0, 1, 2, ..., [num_class - 1].\n",
      "  warnings.warn(label_encoder_deprecation_msg, UserWarning)\n",
      "c:\\users\\redline pc\\appdata\\local\\programs\\python\\python38\\lib\\site-packages\\sklearn\\utils\\validation.py:63: DataConversionWarning: A column-vector y was passed when a 1d array was expected. Please change the shape of y to (n_samples, ), for example using ravel().\n",
      "  return f(*args, **kwargs)\n"
     ]
    },
    {
     "name": "stdout",
     "output_type": "stream",
     "text": [
      "              precision    recall  f1-score   support\n",
      "\n",
      "    Check-In       0.59      0.52      0.56      1610\n",
      "    Canceled       0.27      0.20      0.23       741\n",
      "     No-Show       0.14      0.28      0.19       398\n",
      "\n",
      "    accuracy                           0.40      2749\n",
      "   macro avg       0.34      0.34      0.33      2749\n",
      "weighted avg       0.44      0.40      0.42      2749\n",
      "\n",
      "==========================================================================\n",
      "i= 0.6 j= 4.5 k= 3\n"
     ]
    },
    {
     "name": "stderr",
     "output_type": "stream",
     "text": [
      "c:\\users\\redline pc\\appdata\\local\\programs\\python\\python38\\lib\\site-packages\\xgboost\\sklearn.py:888: UserWarning: The use of label encoder in XGBClassifier is deprecated and will be removed in a future release. To remove this warning, do the following: 1) Pass option use_label_encoder=False when constructing XGBClassifier object; and 2) Encode your labels (y) as integers starting with 0, i.e. 0, 1, 2, ..., [num_class - 1].\n",
      "  warnings.warn(label_encoder_deprecation_msg, UserWarning)\n",
      "c:\\users\\redline pc\\appdata\\local\\programs\\python\\python38\\lib\\site-packages\\sklearn\\utils\\validation.py:63: DataConversionWarning: A column-vector y was passed when a 1d array was expected. Please change the shape of y to (n_samples, ), for example using ravel().\n",
      "  return f(*args, **kwargs)\n"
     ]
    },
    {
     "name": "stdout",
     "output_type": "stream",
     "text": [
      "              precision    recall  f1-score   support\n",
      "\n",
      "    Check-In       0.60      0.58      0.59      1610\n",
      "    Canceled       0.28      0.44      0.34       741\n",
      "     No-Show       0.00      0.00      0.00       398\n",
      "\n",
      "    accuracy                           0.46      2749\n",
      "   macro avg       0.29      0.34      0.31      2749\n",
      "weighted avg       0.42      0.46      0.44      2749\n",
      "\n",
      "==========================================================================\n",
      "i= 0.6 j= 4.5 k= 4\n"
     ]
    },
    {
     "name": "stderr",
     "output_type": "stream",
     "text": [
      "c:\\users\\redline pc\\appdata\\local\\programs\\python\\python38\\lib\\site-packages\\xgboost\\sklearn.py:888: UserWarning: The use of label encoder in XGBClassifier is deprecated and will be removed in a future release. To remove this warning, do the following: 1) Pass option use_label_encoder=False when constructing XGBClassifier object; and 2) Encode your labels (y) as integers starting with 0, i.e. 0, 1, 2, ..., [num_class - 1].\n",
      "  warnings.warn(label_encoder_deprecation_msg, UserWarning)\n",
      "c:\\users\\redline pc\\appdata\\local\\programs\\python\\python38\\lib\\site-packages\\sklearn\\utils\\validation.py:63: DataConversionWarning: A column-vector y was passed when a 1d array was expected. Please change the shape of y to (n_samples, ), for example using ravel().\n",
      "  return f(*args, **kwargs)\n"
     ]
    },
    {
     "name": "stdout",
     "output_type": "stream",
     "text": [
      "              precision    recall  f1-score   support\n",
      "\n",
      "    Check-In       0.60      0.56      0.58      1610\n",
      "    Canceled       0.28      0.47      0.35       741\n",
      "     No-Show       0.15      0.01      0.01       398\n",
      "\n",
      "    accuracy                           0.45      2749\n",
      "   macro avg       0.34      0.35      0.32      2749\n",
      "weighted avg       0.45      0.45      0.44      2749\n",
      "\n",
      "==========================================================================\n",
      "i= 0.6 j= 4.5 k= 5\n"
     ]
    },
    {
     "name": "stderr",
     "output_type": "stream",
     "text": [
      "c:\\users\\redline pc\\appdata\\local\\programs\\python\\python38\\lib\\site-packages\\xgboost\\sklearn.py:888: UserWarning: The use of label encoder in XGBClassifier is deprecated and will be removed in a future release. To remove this warning, do the following: 1) Pass option use_label_encoder=False when constructing XGBClassifier object; and 2) Encode your labels (y) as integers starting with 0, i.e. 0, 1, 2, ..., [num_class - 1].\n",
      "  warnings.warn(label_encoder_deprecation_msg, UserWarning)\n",
      "c:\\users\\redline pc\\appdata\\local\\programs\\python\\python38\\lib\\site-packages\\sklearn\\utils\\validation.py:63: DataConversionWarning: A column-vector y was passed when a 1d array was expected. Please change the shape of y to (n_samples, ), for example using ravel().\n",
      "  return f(*args, **kwargs)\n"
     ]
    },
    {
     "name": "stdout",
     "output_type": "stream",
     "text": [
      "              precision    recall  f1-score   support\n",
      "\n",
      "    Check-In       0.59      0.54      0.57      1610\n",
      "    Canceled       0.28      0.46      0.35       741\n",
      "     No-Show       0.14      0.02      0.04       398\n",
      "\n",
      "    accuracy                           0.44      2749\n",
      "   macro avg       0.34      0.34      0.32      2749\n",
      "weighted avg       0.44      0.44      0.43      2749\n",
      "\n",
      "==========================================================================\n",
      "i= 0.6 j= 4.5 k= 6\n"
     ]
    },
    {
     "name": "stderr",
     "output_type": "stream",
     "text": [
      "c:\\users\\redline pc\\appdata\\local\\programs\\python\\python38\\lib\\site-packages\\xgboost\\sklearn.py:888: UserWarning: The use of label encoder in XGBClassifier is deprecated and will be removed in a future release. To remove this warning, do the following: 1) Pass option use_label_encoder=False when constructing XGBClassifier object; and 2) Encode your labels (y) as integers starting with 0, i.e. 0, 1, 2, ..., [num_class - 1].\n",
      "  warnings.warn(label_encoder_deprecation_msg, UserWarning)\n",
      "c:\\users\\redline pc\\appdata\\local\\programs\\python\\python38\\lib\\site-packages\\sklearn\\utils\\validation.py:63: DataConversionWarning: A column-vector y was passed when a 1d array was expected. Please change the shape of y to (n_samples, ), for example using ravel().\n",
      "  return f(*args, **kwargs)\n"
     ]
    },
    {
     "name": "stdout",
     "output_type": "stream",
     "text": [
      "              precision    recall  f1-score   support\n",
      "\n",
      "    Check-In       0.60      0.54      0.57      1610\n",
      "    Canceled       0.28      0.44      0.34       741\n",
      "     No-Show       0.16      0.06      0.09       398\n",
      "\n",
      "    accuracy                           0.44      2749\n",
      "   macro avg       0.35      0.35      0.33      2749\n",
      "weighted avg       0.45      0.44      0.44      2749\n",
      "\n",
      "==========================================================================\n",
      "i= 0.6 j= 4.5 k= 7\n"
     ]
    },
    {
     "name": "stderr",
     "output_type": "stream",
     "text": [
      "c:\\users\\redline pc\\appdata\\local\\programs\\python\\python38\\lib\\site-packages\\xgboost\\sklearn.py:888: UserWarning: The use of label encoder in XGBClassifier is deprecated and will be removed in a future release. To remove this warning, do the following: 1) Pass option use_label_encoder=False when constructing XGBClassifier object; and 2) Encode your labels (y) as integers starting with 0, i.e. 0, 1, 2, ..., [num_class - 1].\n",
      "  warnings.warn(label_encoder_deprecation_msg, UserWarning)\n",
      "c:\\users\\redline pc\\appdata\\local\\programs\\python\\python38\\lib\\site-packages\\sklearn\\utils\\validation.py:63: DataConversionWarning: A column-vector y was passed when a 1d array was expected. Please change the shape of y to (n_samples, ), for example using ravel().\n",
      "  return f(*args, **kwargs)\n"
     ]
    },
    {
     "name": "stdout",
     "output_type": "stream",
     "text": [
      "              precision    recall  f1-score   support\n",
      "\n",
      "    Check-In       0.60      0.53      0.56      1610\n",
      "    Canceled       0.29      0.40      0.33       741\n",
      "     No-Show       0.16      0.12      0.13       398\n",
      "\n",
      "    accuracy                           0.44      2749\n",
      "   macro avg       0.35      0.35      0.34      2749\n",
      "weighted avg       0.45      0.44      0.44      2749\n",
      "\n",
      "==========================================================================\n",
      "i= 0.6 j= 4.5 k= 8\n"
     ]
    },
    {
     "name": "stderr",
     "output_type": "stream",
     "text": [
      "c:\\users\\redline pc\\appdata\\local\\programs\\python\\python38\\lib\\site-packages\\xgboost\\sklearn.py:888: UserWarning: The use of label encoder in XGBClassifier is deprecated and will be removed in a future release. To remove this warning, do the following: 1) Pass option use_label_encoder=False when constructing XGBClassifier object; and 2) Encode your labels (y) as integers starting with 0, i.e. 0, 1, 2, ..., [num_class - 1].\n",
      "  warnings.warn(label_encoder_deprecation_msg, UserWarning)\n",
      "c:\\users\\redline pc\\appdata\\local\\programs\\python\\python38\\lib\\site-packages\\sklearn\\utils\\validation.py:63: DataConversionWarning: A column-vector y was passed when a 1d array was expected. Please change the shape of y to (n_samples, ), for example using ravel().\n",
      "  return f(*args, **kwargs)\n"
     ]
    },
    {
     "name": "stdout",
     "output_type": "stream",
     "text": [
      "              precision    recall  f1-score   support\n",
      "\n",
      "    Check-In       0.60      0.55      0.57      1610\n",
      "    Canceled       0.30      0.30      0.30       741\n",
      "     No-Show       0.16      0.22      0.19       398\n",
      "\n",
      "    accuracy                           0.43      2749\n",
      "   macro avg       0.35      0.36      0.35      2749\n",
      "weighted avg       0.46      0.43      0.44      2749\n",
      "\n",
      "==========================================================================\n",
      "i= 0.6 j= 4.5 k= 9\n"
     ]
    },
    {
     "name": "stderr",
     "output_type": "stream",
     "text": [
      "c:\\users\\redline pc\\appdata\\local\\programs\\python\\python38\\lib\\site-packages\\xgboost\\sklearn.py:888: UserWarning: The use of label encoder in XGBClassifier is deprecated and will be removed in a future release. To remove this warning, do the following: 1) Pass option use_label_encoder=False when constructing XGBClassifier object; and 2) Encode your labels (y) as integers starting with 0, i.e. 0, 1, 2, ..., [num_class - 1].\n",
      "  warnings.warn(label_encoder_deprecation_msg, UserWarning)\n",
      "c:\\users\\redline pc\\appdata\\local\\programs\\python\\python38\\lib\\site-packages\\sklearn\\utils\\validation.py:63: DataConversionWarning: A column-vector y was passed when a 1d array was expected. Please change the shape of y to (n_samples, ), for example using ravel().\n",
      "  return f(*args, **kwargs)\n"
     ]
    },
    {
     "name": "stdout",
     "output_type": "stream",
     "text": [
      "              precision    recall  f1-score   support\n",
      "\n",
      "    Check-In       0.60      0.50      0.54      1610\n",
      "    Canceled       0.29      0.28      0.28       741\n",
      "     No-Show       0.15      0.26      0.19       398\n",
      "\n",
      "    accuracy                           0.41      2749\n",
      "   macro avg       0.35      0.35      0.34      2749\n",
      "weighted avg       0.45      0.41      0.42      2749\n",
      "\n",
      "==========================================================================\n",
      "i= 0.7 j= 1.5 k= 3\n"
     ]
    },
    {
     "name": "stderr",
     "output_type": "stream",
     "text": [
      "c:\\users\\redline pc\\appdata\\local\\programs\\python\\python38\\lib\\site-packages\\xgboost\\sklearn.py:888: UserWarning: The use of label encoder in XGBClassifier is deprecated and will be removed in a future release. To remove this warning, do the following: 1) Pass option use_label_encoder=False when constructing XGBClassifier object; and 2) Encode your labels (y) as integers starting with 0, i.e. 0, 1, 2, ..., [num_class - 1].\n",
      "  warnings.warn(label_encoder_deprecation_msg, UserWarning)\n",
      "c:\\users\\redline pc\\appdata\\local\\programs\\python\\python38\\lib\\site-packages\\sklearn\\utils\\validation.py:63: DataConversionWarning: A column-vector y was passed when a 1d array was expected. Please change the shape of y to (n_samples, ), for example using ravel().\n",
      "  return f(*args, **kwargs)\n"
     ]
    },
    {
     "name": "stdout",
     "output_type": "stream",
     "text": [
      "              precision    recall  f1-score   support\n",
      "\n",
      "    Check-In       0.59      0.92      0.72      1610\n",
      "    Canceled       0.26      0.04      0.07       741\n",
      "     No-Show       0.21      0.06      0.09       398\n",
      "\n",
      "    accuracy                           0.56      2749\n",
      "   macro avg       0.35      0.34      0.29      2749\n",
      "weighted avg       0.44      0.56      0.45      2749\n",
      "\n",
      "==========================================================================\n",
      "i= 0.7 j= 1.5 k= 4\n"
     ]
    },
    {
     "name": "stderr",
     "output_type": "stream",
     "text": [
      "c:\\users\\redline pc\\appdata\\local\\programs\\python\\python38\\lib\\site-packages\\xgboost\\sklearn.py:888: UserWarning: The use of label encoder in XGBClassifier is deprecated and will be removed in a future release. To remove this warning, do the following: 1) Pass option use_label_encoder=False when constructing XGBClassifier object; and 2) Encode your labels (y) as integers starting with 0, i.e. 0, 1, 2, ..., [num_class - 1].\n",
      "  warnings.warn(label_encoder_deprecation_msg, UserWarning)\n",
      "c:\\users\\redline pc\\appdata\\local\\programs\\python\\python38\\lib\\site-packages\\sklearn\\utils\\validation.py:63: DataConversionWarning: A column-vector y was passed when a 1d array was expected. Please change the shape of y to (n_samples, ), for example using ravel().\n",
      "  return f(*args, **kwargs)\n"
     ]
    },
    {
     "name": "stdout",
     "output_type": "stream",
     "text": [
      "              precision    recall  f1-score   support\n",
      "\n",
      "    Check-In       0.59      0.83      0.69      1610\n",
      "    Canceled       0.27      0.04      0.06       741\n",
      "     No-Show       0.16      0.16      0.16       398\n",
      "\n",
      "    accuracy                           0.52      2749\n",
      "   macro avg       0.34      0.34      0.31      2749\n",
      "weighted avg       0.44      0.52      0.45      2749\n",
      "\n",
      "==========================================================================\n",
      "i= 0.7 j= 1.5 k= 5\n"
     ]
    },
    {
     "name": "stderr",
     "output_type": "stream",
     "text": [
      "c:\\users\\redline pc\\appdata\\local\\programs\\python\\python38\\lib\\site-packages\\xgboost\\sklearn.py:888: UserWarning: The use of label encoder in XGBClassifier is deprecated and will be removed in a future release. To remove this warning, do the following: 1) Pass option use_label_encoder=False when constructing XGBClassifier object; and 2) Encode your labels (y) as integers starting with 0, i.e. 0, 1, 2, ..., [num_class - 1].\n",
      "  warnings.warn(label_encoder_deprecation_msg, UserWarning)\n",
      "c:\\users\\redline pc\\appdata\\local\\programs\\python\\python38\\lib\\site-packages\\sklearn\\utils\\validation.py:63: DataConversionWarning: A column-vector y was passed when a 1d array was expected. Please change the shape of y to (n_samples, ), for example using ravel().\n",
      "  return f(*args, **kwargs)\n"
     ]
    },
    {
     "name": "stdout",
     "output_type": "stream",
     "text": [
      "              precision    recall  f1-score   support\n",
      "\n",
      "    Check-In       0.59      0.76      0.66      1610\n",
      "    Canceled       0.28      0.03      0.05       741\n",
      "     No-Show       0.17      0.25      0.20       398\n",
      "\n",
      "    accuracy                           0.49      2749\n",
      "   macro avg       0.35      0.35      0.31      2749\n",
      "weighted avg       0.44      0.49      0.43      2749\n",
      "\n",
      "==========================================================================\n",
      "i= 0.7 j= 1.5 k= 6\n"
     ]
    },
    {
     "name": "stderr",
     "output_type": "stream",
     "text": [
      "c:\\users\\redline pc\\appdata\\local\\programs\\python\\python38\\lib\\site-packages\\xgboost\\sklearn.py:888: UserWarning: The use of label encoder in XGBClassifier is deprecated and will be removed in a future release. To remove this warning, do the following: 1) Pass option use_label_encoder=False when constructing XGBClassifier object; and 2) Encode your labels (y) as integers starting with 0, i.e. 0, 1, 2, ..., [num_class - 1].\n",
      "  warnings.warn(label_encoder_deprecation_msg, UserWarning)\n",
      "c:\\users\\redline pc\\appdata\\local\\programs\\python\\python38\\lib\\site-packages\\sklearn\\utils\\validation.py:63: DataConversionWarning: A column-vector y was passed when a 1d array was expected. Please change the shape of y to (n_samples, ), for example using ravel().\n",
      "  return f(*args, **kwargs)\n"
     ]
    },
    {
     "name": "stdout",
     "output_type": "stream",
     "text": [
      "              precision    recall  f1-score   support\n",
      "\n",
      "    Check-In       0.59      0.75      0.66      1610\n",
      "    Canceled       0.25      0.01      0.02       741\n",
      "     No-Show       0.16      0.26      0.20       398\n",
      "\n",
      "    accuracy                           0.48      2749\n",
      "   macro avg       0.33      0.34      0.29      2749\n",
      "weighted avg       0.44      0.48      0.42      2749\n",
      "\n",
      "==========================================================================\n",
      "i= 0.7 j= 1.5 k= 7\n"
     ]
    },
    {
     "name": "stderr",
     "output_type": "stream",
     "text": [
      "c:\\users\\redline pc\\appdata\\local\\programs\\python\\python38\\lib\\site-packages\\xgboost\\sklearn.py:888: UserWarning: The use of label encoder in XGBClassifier is deprecated and will be removed in a future release. To remove this warning, do the following: 1) Pass option use_label_encoder=False when constructing XGBClassifier object; and 2) Encode your labels (y) as integers starting with 0, i.e. 0, 1, 2, ..., [num_class - 1].\n",
      "  warnings.warn(label_encoder_deprecation_msg, UserWarning)\n",
      "c:\\users\\redline pc\\appdata\\local\\programs\\python\\python38\\lib\\site-packages\\sklearn\\utils\\validation.py:63: DataConversionWarning: A column-vector y was passed when a 1d array was expected. Please change the shape of y to (n_samples, ), for example using ravel().\n",
      "  return f(*args, **kwargs)\n"
     ]
    },
    {
     "name": "stdout",
     "output_type": "stream",
     "text": [
      "              precision    recall  f1-score   support\n",
      "\n",
      "    Check-In       0.59      0.70      0.64      1610\n",
      "    Canceled       0.27      0.01      0.03       741\n",
      "     No-Show       0.15      0.30      0.20       398\n",
      "\n",
      "    accuracy                           0.46      2749\n",
      "   macro avg       0.34      0.34      0.29      2749\n",
      "weighted avg       0.44      0.46      0.41      2749\n",
      "\n",
      "==========================================================================\n",
      "i= 0.7 j= 1.5 k= 8\n"
     ]
    },
    {
     "name": "stderr",
     "output_type": "stream",
     "text": [
      "c:\\users\\redline pc\\appdata\\local\\programs\\python\\python38\\lib\\site-packages\\xgboost\\sklearn.py:888: UserWarning: The use of label encoder in XGBClassifier is deprecated and will be removed in a future release. To remove this warning, do the following: 1) Pass option use_label_encoder=False when constructing XGBClassifier object; and 2) Encode your labels (y) as integers starting with 0, i.e. 0, 1, 2, ..., [num_class - 1].\n",
      "  warnings.warn(label_encoder_deprecation_msg, UserWarning)\n",
      "c:\\users\\redline pc\\appdata\\local\\programs\\python\\python38\\lib\\site-packages\\sklearn\\utils\\validation.py:63: DataConversionWarning: A column-vector y was passed when a 1d array was expected. Please change the shape of y to (n_samples, ), for example using ravel().\n",
      "  return f(*args, **kwargs)\n"
     ]
    },
    {
     "name": "stdout",
     "output_type": "stream",
     "text": [
      "              precision    recall  f1-score   support\n",
      "\n",
      "    Check-In       0.59      0.71      0.64      1610\n",
      "    Canceled       0.19      0.01      0.01       741\n",
      "     No-Show       0.15      0.30      0.20       398\n",
      "\n",
      "    accuracy                           0.46      2749\n",
      "   macro avg       0.31      0.34      0.29      2749\n",
      "weighted avg       0.42      0.46      0.41      2749\n",
      "\n",
      "==========================================================================\n",
      "i= 0.7 j= 1.5 k= 9\n"
     ]
    },
    {
     "name": "stderr",
     "output_type": "stream",
     "text": [
      "c:\\users\\redline pc\\appdata\\local\\programs\\python\\python38\\lib\\site-packages\\xgboost\\sklearn.py:888: UserWarning: The use of label encoder in XGBClassifier is deprecated and will be removed in a future release. To remove this warning, do the following: 1) Pass option use_label_encoder=False when constructing XGBClassifier object; and 2) Encode your labels (y) as integers starting with 0, i.e. 0, 1, 2, ..., [num_class - 1].\n",
      "  warnings.warn(label_encoder_deprecation_msg, UserWarning)\n",
      "c:\\users\\redline pc\\appdata\\local\\programs\\python\\python38\\lib\\site-packages\\sklearn\\utils\\validation.py:63: DataConversionWarning: A column-vector y was passed when a 1d array was expected. Please change the shape of y to (n_samples, ), for example using ravel().\n",
      "  return f(*args, **kwargs)\n"
     ]
    },
    {
     "name": "stdout",
     "output_type": "stream",
     "text": [
      "              precision    recall  f1-score   support\n",
      "\n",
      "    Check-In       0.59      0.67      0.63      1610\n",
      "    Canceled       0.32      0.01      0.02       741\n",
      "     No-Show       0.15      0.35      0.21       398\n",
      "\n",
      "    accuracy                           0.44      2749\n",
      "   macro avg       0.36      0.34      0.29      2749\n",
      "weighted avg       0.46      0.44      0.40      2749\n",
      "\n",
      "==========================================================================\n",
      "i= 0.7 j= 2.0 k= 3\n"
     ]
    },
    {
     "name": "stderr",
     "output_type": "stream",
     "text": [
      "c:\\users\\redline pc\\appdata\\local\\programs\\python\\python38\\lib\\site-packages\\xgboost\\sklearn.py:888: UserWarning: The use of label encoder in XGBClassifier is deprecated and will be removed in a future release. To remove this warning, do the following: 1) Pass option use_label_encoder=False when constructing XGBClassifier object; and 2) Encode your labels (y) as integers starting with 0, i.e. 0, 1, 2, ..., [num_class - 1].\n",
      "  warnings.warn(label_encoder_deprecation_msg, UserWarning)\n",
      "c:\\users\\redline pc\\appdata\\local\\programs\\python\\python38\\lib\\site-packages\\sklearn\\utils\\validation.py:63: DataConversionWarning: A column-vector y was passed when a 1d array was expected. Please change the shape of y to (n_samples, ), for example using ravel().\n",
      "  return f(*args, **kwargs)\n"
     ]
    },
    {
     "name": "stdout",
     "output_type": "stream",
     "text": [
      "              precision    recall  f1-score   support\n",
      "\n",
      "    Check-In       0.59      0.83      0.69      1610\n",
      "    Canceled       0.27      0.15      0.19       741\n",
      "     No-Show       0.19      0.04      0.06       398\n",
      "\n",
      "    accuracy                           0.53      2749\n",
      "   macro avg       0.35      0.34      0.31      2749\n",
      "weighted avg       0.44      0.53      0.46      2749\n",
      "\n",
      "==========================================================================\n",
      "i= 0.7 j= 2.0 k= 4\n"
     ]
    },
    {
     "name": "stderr",
     "output_type": "stream",
     "text": [
      "c:\\users\\redline pc\\appdata\\local\\programs\\python\\python38\\lib\\site-packages\\xgboost\\sklearn.py:888: UserWarning: The use of label encoder in XGBClassifier is deprecated and will be removed in a future release. To remove this warning, do the following: 1) Pass option use_label_encoder=False when constructing XGBClassifier object; and 2) Encode your labels (y) as integers starting with 0, i.e. 0, 1, 2, ..., [num_class - 1].\n",
      "  warnings.warn(label_encoder_deprecation_msg, UserWarning)\n",
      "c:\\users\\redline pc\\appdata\\local\\programs\\python\\python38\\lib\\site-packages\\sklearn\\utils\\validation.py:63: DataConversionWarning: A column-vector y was passed when a 1d array was expected. Please change the shape of y to (n_samples, ), for example using ravel().\n",
      "  return f(*args, **kwargs)\n"
     ]
    },
    {
     "name": "stdout",
     "output_type": "stream",
     "text": [
      "              precision    recall  f1-score   support\n",
      "\n",
      "    Check-In       0.59      0.81      0.69      1610\n",
      "    Canceled       0.28      0.11      0.15       741\n",
      "     No-Show       0.19      0.12      0.15       398\n",
      "\n",
      "    accuracy                           0.52      2749\n",
      "   macro avg       0.35      0.35      0.33      2749\n",
      "weighted avg       0.45      0.52      0.46      2749\n",
      "\n",
      "==========================================================================\n",
      "i= 0.7 j= 2.0 k= 5\n"
     ]
    },
    {
     "name": "stderr",
     "output_type": "stream",
     "text": [
      "c:\\users\\redline pc\\appdata\\local\\programs\\python\\python38\\lib\\site-packages\\xgboost\\sklearn.py:888: UserWarning: The use of label encoder in XGBClassifier is deprecated and will be removed in a future release. To remove this warning, do the following: 1) Pass option use_label_encoder=False when constructing XGBClassifier object; and 2) Encode your labels (y) as integers starting with 0, i.e. 0, 1, 2, ..., [num_class - 1].\n",
      "  warnings.warn(label_encoder_deprecation_msg, UserWarning)\n",
      "c:\\users\\redline pc\\appdata\\local\\programs\\python\\python38\\lib\\site-packages\\sklearn\\utils\\validation.py:63: DataConversionWarning: A column-vector y was passed when a 1d array was expected. Please change the shape of y to (n_samples, ), for example using ravel().\n",
      "  return f(*args, **kwargs)\n"
     ]
    },
    {
     "name": "stdout",
     "output_type": "stream",
     "text": [
      "              precision    recall  f1-score   support\n",
      "\n",
      "    Check-In       0.59      0.75      0.66      1610\n",
      "    Canceled       0.30      0.08      0.13       741\n",
      "     No-Show       0.17      0.22      0.19       398\n",
      "\n",
      "    accuracy                           0.49      2749\n",
      "   macro avg       0.35      0.35      0.33      2749\n",
      "weighted avg       0.45      0.49      0.45      2749\n",
      "\n",
      "==========================================================================\n",
      "i= 0.7 j= 2.0 k= 6\n"
     ]
    },
    {
     "name": "stderr",
     "output_type": "stream",
     "text": [
      "c:\\users\\redline pc\\appdata\\local\\programs\\python\\python38\\lib\\site-packages\\xgboost\\sklearn.py:888: UserWarning: The use of label encoder in XGBClassifier is deprecated and will be removed in a future release. To remove this warning, do the following: 1) Pass option use_label_encoder=False when constructing XGBClassifier object; and 2) Encode your labels (y) as integers starting with 0, i.e. 0, 1, 2, ..., [num_class - 1].\n",
      "  warnings.warn(label_encoder_deprecation_msg, UserWarning)\n",
      "c:\\users\\redline pc\\appdata\\local\\programs\\python\\python38\\lib\\site-packages\\sklearn\\utils\\validation.py:63: DataConversionWarning: A column-vector y was passed when a 1d array was expected. Please change the shape of y to (n_samples, ), for example using ravel().\n",
      "  return f(*args, **kwargs)\n"
     ]
    },
    {
     "name": "stdout",
     "output_type": "stream",
     "text": [
      "              precision    recall  f1-score   support\n",
      "\n",
      "    Check-In       0.59      0.74      0.66      1610\n",
      "    Canceled       0.25      0.04      0.08       741\n",
      "     No-Show       0.17      0.26      0.21       398\n",
      "\n",
      "    accuracy                           0.48      2749\n",
      "   macro avg       0.34      0.35      0.31      2749\n",
      "weighted avg       0.44      0.48      0.43      2749\n",
      "\n",
      "==========================================================================\n",
      "i= 0.7 j= 2.0 k= 7\n"
     ]
    },
    {
     "name": "stderr",
     "output_type": "stream",
     "text": [
      "c:\\users\\redline pc\\appdata\\local\\programs\\python\\python38\\lib\\site-packages\\xgboost\\sklearn.py:888: UserWarning: The use of label encoder in XGBClassifier is deprecated and will be removed in a future release. To remove this warning, do the following: 1) Pass option use_label_encoder=False when constructing XGBClassifier object; and 2) Encode your labels (y) as integers starting with 0, i.e. 0, 1, 2, ..., [num_class - 1].\n",
      "  warnings.warn(label_encoder_deprecation_msg, UserWarning)\n",
      "c:\\users\\redline pc\\appdata\\local\\programs\\python\\python38\\lib\\site-packages\\sklearn\\utils\\validation.py:63: DataConversionWarning: A column-vector y was passed when a 1d array was expected. Please change the shape of y to (n_samples, ), for example using ravel().\n",
      "  return f(*args, **kwargs)\n"
     ]
    },
    {
     "name": "stdout",
     "output_type": "stream",
     "text": [
      "              precision    recall  f1-score   support\n",
      "\n",
      "    Check-In       0.60      0.71      0.65      1610\n",
      "    Canceled       0.31      0.04      0.07       741\n",
      "     No-Show       0.17      0.31      0.22       398\n",
      "\n",
      "    accuracy                           0.47      2749\n",
      "   macro avg       0.36      0.35      0.31      2749\n",
      "weighted avg       0.46      0.47      0.43      2749\n",
      "\n",
      "==========================================================================\n",
      "i= 0.7 j= 2.0 k= 8\n"
     ]
    },
    {
     "name": "stderr",
     "output_type": "stream",
     "text": [
      "c:\\users\\redline pc\\appdata\\local\\programs\\python\\python38\\lib\\site-packages\\xgboost\\sklearn.py:888: UserWarning: The use of label encoder in XGBClassifier is deprecated and will be removed in a future release. To remove this warning, do the following: 1) Pass option use_label_encoder=False when constructing XGBClassifier object; and 2) Encode your labels (y) as integers starting with 0, i.e. 0, 1, 2, ..., [num_class - 1].\n",
      "  warnings.warn(label_encoder_deprecation_msg, UserWarning)\n",
      "c:\\users\\redline pc\\appdata\\local\\programs\\python\\python38\\lib\\site-packages\\sklearn\\utils\\validation.py:63: DataConversionWarning: A column-vector y was passed when a 1d array was expected. Please change the shape of y to (n_samples, ), for example using ravel().\n",
      "  return f(*args, **kwargs)\n"
     ]
    },
    {
     "name": "stdout",
     "output_type": "stream",
     "text": [
      "              precision    recall  f1-score   support\n",
      "\n",
      "    Check-In       0.60      0.68      0.64      1610\n",
      "    Canceled       0.25      0.02      0.04       741\n",
      "     No-Show       0.16      0.34      0.21       398\n",
      "\n",
      "    accuracy                           0.45      2749\n",
      "   macro avg       0.33      0.35      0.30      2749\n",
      "weighted avg       0.44      0.45      0.41      2749\n",
      "\n",
      "==========================================================================\n",
      "i= 0.7 j= 2.0 k= 9\n"
     ]
    },
    {
     "name": "stderr",
     "output_type": "stream",
     "text": [
      "c:\\users\\redline pc\\appdata\\local\\programs\\python\\python38\\lib\\site-packages\\xgboost\\sklearn.py:888: UserWarning: The use of label encoder in XGBClassifier is deprecated and will be removed in a future release. To remove this warning, do the following: 1) Pass option use_label_encoder=False when constructing XGBClassifier object; and 2) Encode your labels (y) as integers starting with 0, i.e. 0, 1, 2, ..., [num_class - 1].\n",
      "  warnings.warn(label_encoder_deprecation_msg, UserWarning)\n",
      "c:\\users\\redline pc\\appdata\\local\\programs\\python\\python38\\lib\\site-packages\\sklearn\\utils\\validation.py:63: DataConversionWarning: A column-vector y was passed when a 1d array was expected. Please change the shape of y to (n_samples, ), for example using ravel().\n",
      "  return f(*args, **kwargs)\n"
     ]
    },
    {
     "name": "stdout",
     "output_type": "stream",
     "text": [
      "              precision    recall  f1-score   support\n",
      "\n",
      "    Check-In       0.59      0.65      0.62      1610\n",
      "    Canceled       0.33      0.02      0.04       741\n",
      "     No-Show       0.15      0.35      0.21       398\n",
      "\n",
      "    accuracy                           0.44      2749\n",
      "   macro avg       0.36      0.34      0.29      2749\n",
      "weighted avg       0.46      0.44      0.40      2749\n",
      "\n",
      "==========================================================================\n",
      "i= 0.7 j= 2.5 k= 3\n"
     ]
    },
    {
     "name": "stderr",
     "output_type": "stream",
     "text": [
      "c:\\users\\redline pc\\appdata\\local\\programs\\python\\python38\\lib\\site-packages\\xgboost\\sklearn.py:888: UserWarning: The use of label encoder in XGBClassifier is deprecated and will be removed in a future release. To remove this warning, do the following: 1) Pass option use_label_encoder=False when constructing XGBClassifier object; and 2) Encode your labels (y) as integers starting with 0, i.e. 0, 1, 2, ..., [num_class - 1].\n",
      "  warnings.warn(label_encoder_deprecation_msg, UserWarning)\n",
      "c:\\users\\redline pc\\appdata\\local\\programs\\python\\python38\\lib\\site-packages\\sklearn\\utils\\validation.py:63: DataConversionWarning: A column-vector y was passed when a 1d array was expected. Please change the shape of y to (n_samples, ), for example using ravel().\n",
      "  return f(*args, **kwargs)\n"
     ]
    },
    {
     "name": "stdout",
     "output_type": "stream",
     "text": [
      "              precision    recall  f1-score   support\n",
      "\n",
      "    Check-In       0.59      0.77      0.67      1610\n",
      "    Canceled       0.29      0.24      0.26       741\n",
      "     No-Show       0.25      0.02      0.04       398\n",
      "\n",
      "    accuracy                           0.52      2749\n",
      "   macro avg       0.38      0.34      0.32      2749\n",
      "weighted avg       0.46      0.52      0.47      2749\n",
      "\n",
      "==========================================================================\n",
      "i= 0.7 j= 2.5 k= 4\n"
     ]
    },
    {
     "name": "stderr",
     "output_type": "stream",
     "text": [
      "c:\\users\\redline pc\\appdata\\local\\programs\\python\\python38\\lib\\site-packages\\xgboost\\sklearn.py:888: UserWarning: The use of label encoder in XGBClassifier is deprecated and will be removed in a future release. To remove this warning, do the following: 1) Pass option use_label_encoder=False when constructing XGBClassifier object; and 2) Encode your labels (y) as integers starting with 0, i.e. 0, 1, 2, ..., [num_class - 1].\n",
      "  warnings.warn(label_encoder_deprecation_msg, UserWarning)\n",
      "c:\\users\\redline pc\\appdata\\local\\programs\\python\\python38\\lib\\site-packages\\sklearn\\utils\\validation.py:63: DataConversionWarning: A column-vector y was passed when a 1d array was expected. Please change the shape of y to (n_samples, ), for example using ravel().\n",
      "  return f(*args, **kwargs)\n"
     ]
    },
    {
     "name": "stdout",
     "output_type": "stream",
     "text": [
      "              precision    recall  f1-score   support\n",
      "\n",
      "    Check-In       0.59      0.75      0.66      1610\n",
      "    Canceled       0.27      0.21      0.24       741\n",
      "     No-Show       0.18      0.07      0.10       398\n",
      "\n",
      "    accuracy                           0.50      2749\n",
      "   macro avg       0.35      0.34      0.33      2749\n",
      "weighted avg       0.45      0.50      0.46      2749\n",
      "\n",
      "==========================================================================\n",
      "i= 0.7 j= 2.5 k= 5\n"
     ]
    },
    {
     "name": "stderr",
     "output_type": "stream",
     "text": [
      "c:\\users\\redline pc\\appdata\\local\\programs\\python\\python38\\lib\\site-packages\\xgboost\\sklearn.py:888: UserWarning: The use of label encoder in XGBClassifier is deprecated and will be removed in a future release. To remove this warning, do the following: 1) Pass option use_label_encoder=False when constructing XGBClassifier object; and 2) Encode your labels (y) as integers starting with 0, i.e. 0, 1, 2, ..., [num_class - 1].\n",
      "  warnings.warn(label_encoder_deprecation_msg, UserWarning)\n",
      "c:\\users\\redline pc\\appdata\\local\\programs\\python\\python38\\lib\\site-packages\\sklearn\\utils\\validation.py:63: DataConversionWarning: A column-vector y was passed when a 1d array was expected. Please change the shape of y to (n_samples, ), for example using ravel().\n",
      "  return f(*args, **kwargs)\n"
     ]
    },
    {
     "name": "stdout",
     "output_type": "stream",
     "text": [
      "              precision    recall  f1-score   support\n",
      "\n",
      "    Check-In       0.59      0.72      0.65      1610\n",
      "    Canceled       0.27      0.16      0.20       741\n",
      "     No-Show       0.19      0.17      0.18       398\n",
      "\n",
      "    accuracy                           0.49      2749\n",
      "   macro avg       0.35      0.35      0.34      2749\n",
      "weighted avg       0.45      0.49      0.46      2749\n",
      "\n",
      "==========================================================================\n",
      "i= 0.7 j= 2.5 k= 6\n"
     ]
    },
    {
     "name": "stderr",
     "output_type": "stream",
     "text": [
      "c:\\users\\redline pc\\appdata\\local\\programs\\python\\python38\\lib\\site-packages\\xgboost\\sklearn.py:888: UserWarning: The use of label encoder in XGBClassifier is deprecated and will be removed in a future release. To remove this warning, do the following: 1) Pass option use_label_encoder=False when constructing XGBClassifier object; and 2) Encode your labels (y) as integers starting with 0, i.e. 0, 1, 2, ..., [num_class - 1].\n",
      "  warnings.warn(label_encoder_deprecation_msg, UserWarning)\n",
      "c:\\users\\redline pc\\appdata\\local\\programs\\python\\python38\\lib\\site-packages\\sklearn\\utils\\validation.py:63: DataConversionWarning: A column-vector y was passed when a 1d array was expected. Please change the shape of y to (n_samples, ), for example using ravel().\n",
      "  return f(*args, **kwargs)\n"
     ]
    },
    {
     "name": "stdout",
     "output_type": "stream",
     "text": [
      "              precision    recall  f1-score   support\n",
      "\n",
      "    Check-In       0.59      0.70      0.64      1610\n",
      "    Canceled       0.28      0.12      0.17       741\n",
      "     No-Show       0.16      0.21      0.18       398\n",
      "\n",
      "    accuracy                           0.47      2749\n",
      "   macro avg       0.34      0.34      0.33      2749\n",
      "weighted avg       0.45      0.47      0.45      2749\n",
      "\n",
      "==========================================================================\n",
      "i= 0.7 j= 2.5 k= 7\n"
     ]
    },
    {
     "name": "stderr",
     "output_type": "stream",
     "text": [
      "c:\\users\\redline pc\\appdata\\local\\programs\\python\\python38\\lib\\site-packages\\xgboost\\sklearn.py:888: UserWarning: The use of label encoder in XGBClassifier is deprecated and will be removed in a future release. To remove this warning, do the following: 1) Pass option use_label_encoder=False when constructing XGBClassifier object; and 2) Encode your labels (y) as integers starting with 0, i.e. 0, 1, 2, ..., [num_class - 1].\n",
      "  warnings.warn(label_encoder_deprecation_msg, UserWarning)\n",
      "c:\\users\\redline pc\\appdata\\local\\programs\\python\\python38\\lib\\site-packages\\sklearn\\utils\\validation.py:63: DataConversionWarning: A column-vector y was passed when a 1d array was expected. Please change the shape of y to (n_samples, ), for example using ravel().\n",
      "  return f(*args, **kwargs)\n"
     ]
    },
    {
     "name": "stdout",
     "output_type": "stream",
     "text": [
      "              precision    recall  f1-score   support\n",
      "\n",
      "    Check-In       0.59      0.67      0.63      1610\n",
      "    Canceled       0.30      0.09      0.14       741\n",
      "     No-Show       0.15      0.26      0.19       398\n",
      "\n",
      "    accuracy                           0.46      2749\n",
      "   macro avg       0.35      0.34      0.32      2749\n",
      "weighted avg       0.45      0.46      0.43      2749\n",
      "\n",
      "==========================================================================\n",
      "i= 0.7 j= 2.5 k= 8\n"
     ]
    },
    {
     "name": "stderr",
     "output_type": "stream",
     "text": [
      "c:\\users\\redline pc\\appdata\\local\\programs\\python\\python38\\lib\\site-packages\\xgboost\\sklearn.py:888: UserWarning: The use of label encoder in XGBClassifier is deprecated and will be removed in a future release. To remove this warning, do the following: 1) Pass option use_label_encoder=False when constructing XGBClassifier object; and 2) Encode your labels (y) as integers starting with 0, i.e. 0, 1, 2, ..., [num_class - 1].\n",
      "  warnings.warn(label_encoder_deprecation_msg, UserWarning)\n",
      "c:\\users\\redline pc\\appdata\\local\\programs\\python\\python38\\lib\\site-packages\\sklearn\\utils\\validation.py:63: DataConversionWarning: A column-vector y was passed when a 1d array was expected. Please change the shape of y to (n_samples, ), for example using ravel().\n",
      "  return f(*args, **kwargs)\n"
     ]
    },
    {
     "name": "stdout",
     "output_type": "stream",
     "text": [
      "              precision    recall  f1-score   support\n",
      "\n",
      "    Check-In       0.59      0.64      0.61      1610\n",
      "    Canceled       0.30      0.06      0.10       741\n",
      "     No-Show       0.15      0.33      0.21       398\n",
      "\n",
      "    accuracy                           0.44      2749\n",
      "   macro avg       0.35      0.34      0.31      2749\n",
      "weighted avg       0.45      0.44      0.42      2749\n",
      "\n",
      "==========================================================================\n",
      "i= 0.7 j= 2.5 k= 9\n"
     ]
    },
    {
     "name": "stderr",
     "output_type": "stream",
     "text": [
      "c:\\users\\redline pc\\appdata\\local\\programs\\python\\python38\\lib\\site-packages\\xgboost\\sklearn.py:888: UserWarning: The use of label encoder in XGBClassifier is deprecated and will be removed in a future release. To remove this warning, do the following: 1) Pass option use_label_encoder=False when constructing XGBClassifier object; and 2) Encode your labels (y) as integers starting with 0, i.e. 0, 1, 2, ..., [num_class - 1].\n",
      "  warnings.warn(label_encoder_deprecation_msg, UserWarning)\n",
      "c:\\users\\redline pc\\appdata\\local\\programs\\python\\python38\\lib\\site-packages\\sklearn\\utils\\validation.py:63: DataConversionWarning: A column-vector y was passed when a 1d array was expected. Please change the shape of y to (n_samples, ), for example using ravel().\n",
      "  return f(*args, **kwargs)\n"
     ]
    },
    {
     "name": "stdout",
     "output_type": "stream",
     "text": [
      "              precision    recall  f1-score   support\n",
      "\n",
      "    Check-In       0.59      0.62      0.60      1610\n",
      "    Canceled       0.30      0.05      0.08       741\n",
      "     No-Show       0.15      0.35      0.21       398\n",
      "\n",
      "    accuracy                           0.43      2749\n",
      "   macro avg       0.35      0.34      0.30      2749\n",
      "weighted avg       0.45      0.43      0.41      2749\n",
      "\n",
      "==========================================================================\n",
      "i= 0.7 j= 3.0 k= 3\n"
     ]
    },
    {
     "name": "stderr",
     "output_type": "stream",
     "text": [
      "c:\\users\\redline pc\\appdata\\local\\programs\\python\\python38\\lib\\site-packages\\xgboost\\sklearn.py:888: UserWarning: The use of label encoder in XGBClassifier is deprecated and will be removed in a future release. To remove this warning, do the following: 1) Pass option use_label_encoder=False when constructing XGBClassifier object; and 2) Encode your labels (y) as integers starting with 0, i.e. 0, 1, 2, ..., [num_class - 1].\n",
      "  warnings.warn(label_encoder_deprecation_msg, UserWarning)\n",
      "c:\\users\\redline pc\\appdata\\local\\programs\\python\\python38\\lib\\site-packages\\sklearn\\utils\\validation.py:63: DataConversionWarning: A column-vector y was passed when a 1d array was expected. Please change the shape of y to (n_samples, ), for example using ravel().\n",
      "  return f(*args, **kwargs)\n"
     ]
    },
    {
     "name": "stdout",
     "output_type": "stream",
     "text": [
      "              precision    recall  f1-score   support\n",
      "\n",
      "    Check-In       0.59      0.73      0.65      1610\n",
      "    Canceled       0.27      0.27      0.27       741\n",
      "     No-Show       0.13      0.01      0.01       398\n",
      "\n",
      "    accuracy                           0.50      2749\n",
      "   macro avg       0.33      0.33      0.31      2749\n",
      "weighted avg       0.44      0.50      0.46      2749\n",
      "\n",
      "==========================================================================\n",
      "i= 0.7 j= 3.0 k= 4\n"
     ]
    },
    {
     "name": "stderr",
     "output_type": "stream",
     "text": [
      "c:\\users\\redline pc\\appdata\\local\\programs\\python\\python38\\lib\\site-packages\\xgboost\\sklearn.py:888: UserWarning: The use of label encoder in XGBClassifier is deprecated and will be removed in a future release. To remove this warning, do the following: 1) Pass option use_label_encoder=False when constructing XGBClassifier object; and 2) Encode your labels (y) as integers starting with 0, i.e. 0, 1, 2, ..., [num_class - 1].\n",
      "  warnings.warn(label_encoder_deprecation_msg, UserWarning)\n",
      "c:\\users\\redline pc\\appdata\\local\\programs\\python\\python38\\lib\\site-packages\\sklearn\\utils\\validation.py:63: DataConversionWarning: A column-vector y was passed when a 1d array was expected. Please change the shape of y to (n_samples, ), for example using ravel().\n",
      "  return f(*args, **kwargs)\n"
     ]
    },
    {
     "name": "stdout",
     "output_type": "stream",
     "text": [
      "              precision    recall  f1-score   support\n",
      "\n",
      "    Check-In       0.59      0.64      0.61      1610\n",
      "    Canceled       0.27      0.35      0.31       741\n",
      "     No-Show       0.27      0.02      0.04       398\n",
      "\n",
      "    accuracy                           0.47      2749\n",
      "   macro avg       0.37      0.34      0.32      2749\n",
      "weighted avg       0.46      0.47      0.45      2749\n",
      "\n",
      "==========================================================================\n",
      "i= 0.7 j= 3.0 k= 5\n"
     ]
    },
    {
     "name": "stderr",
     "output_type": "stream",
     "text": [
      "c:\\users\\redline pc\\appdata\\local\\programs\\python\\python38\\lib\\site-packages\\xgboost\\sklearn.py:888: UserWarning: The use of label encoder in XGBClassifier is deprecated and will be removed in a future release. To remove this warning, do the following: 1) Pass option use_label_encoder=False when constructing XGBClassifier object; and 2) Encode your labels (y) as integers starting with 0, i.e. 0, 1, 2, ..., [num_class - 1].\n",
      "  warnings.warn(label_encoder_deprecation_msg, UserWarning)\n",
      "c:\\users\\redline pc\\appdata\\local\\programs\\python\\python38\\lib\\site-packages\\sklearn\\utils\\validation.py:63: DataConversionWarning: A column-vector y was passed when a 1d array was expected. Please change the shape of y to (n_samples, ), for example using ravel().\n",
      "  return f(*args, **kwargs)\n"
     ]
    },
    {
     "name": "stdout",
     "output_type": "stream",
     "text": [
      "              precision    recall  f1-score   support\n",
      "\n",
      "    Check-In       0.59      0.55      0.57      1610\n",
      "    Canceled       0.28      0.46      0.35       741\n",
      "     No-Show       0.26      0.03      0.05       398\n",
      "\n",
      "    accuracy                           0.45      2749\n",
      "   macro avg       0.38      0.35      0.32      2749\n",
      "weighted avg       0.46      0.45      0.44      2749\n",
      "\n",
      "==========================================================================\n",
      "i= 0.7 j= 3.0 k= 6\n"
     ]
    },
    {
     "name": "stderr",
     "output_type": "stream",
     "text": [
      "c:\\users\\redline pc\\appdata\\local\\programs\\python\\python38\\lib\\site-packages\\xgboost\\sklearn.py:888: UserWarning: The use of label encoder in XGBClassifier is deprecated and will be removed in a future release. To remove this warning, do the following: 1) Pass option use_label_encoder=False when constructing XGBClassifier object; and 2) Encode your labels (y) as integers starting with 0, i.e. 0, 1, 2, ..., [num_class - 1].\n",
      "  warnings.warn(label_encoder_deprecation_msg, UserWarning)\n",
      "c:\\users\\redline pc\\appdata\\local\\programs\\python\\python38\\lib\\site-packages\\sklearn\\utils\\validation.py:63: DataConversionWarning: A column-vector y was passed when a 1d array was expected. Please change the shape of y to (n_samples, ), for example using ravel().\n",
      "  return f(*args, **kwargs)\n"
     ]
    },
    {
     "name": "stdout",
     "output_type": "stream",
     "text": [
      "              precision    recall  f1-score   support\n",
      "\n",
      "    Check-In       0.60      0.51      0.55      1610\n",
      "    Canceled       0.28      0.51      0.36       741\n",
      "     No-Show       0.16      0.02      0.04       398\n",
      "\n",
      "    accuracy                           0.44      2749\n",
      "   macro avg       0.35      0.34      0.32      2749\n",
      "weighted avg       0.45      0.44      0.42      2749\n",
      "\n",
      "==========================================================================\n",
      "i= 0.7 j= 3.0 k= 7\n"
     ]
    },
    {
     "name": "stderr",
     "output_type": "stream",
     "text": [
      "c:\\users\\redline pc\\appdata\\local\\programs\\python\\python38\\lib\\site-packages\\xgboost\\sklearn.py:888: UserWarning: The use of label encoder in XGBClassifier is deprecated and will be removed in a future release. To remove this warning, do the following: 1) Pass option use_label_encoder=False when constructing XGBClassifier object; and 2) Encode your labels (y) as integers starting with 0, i.e. 0, 1, 2, ..., [num_class - 1].\n",
      "  warnings.warn(label_encoder_deprecation_msg, UserWarning)\n",
      "c:\\users\\redline pc\\appdata\\local\\programs\\python\\python38\\lib\\site-packages\\sklearn\\utils\\validation.py:63: DataConversionWarning: A column-vector y was passed when a 1d array was expected. Please change the shape of y to (n_samples, ), for example using ravel().\n",
      "  return f(*args, **kwargs)\n"
     ]
    },
    {
     "name": "stdout",
     "output_type": "stream",
     "text": [
      "              precision    recall  f1-score   support\n",
      "\n",
      "    Check-In       0.61      0.46      0.52      1610\n",
      "    Canceled       0.28      0.57      0.38       741\n",
      "     No-Show       0.17      0.02      0.04       398\n",
      "\n",
      "    accuracy                           0.42      2749\n",
      "   macro avg       0.35      0.35      0.31      2749\n",
      "weighted avg       0.46      0.42      0.41      2749\n",
      "\n",
      "==========================================================================\n",
      "i= 0.7 j= 3.0 k= 8\n"
     ]
    },
    {
     "name": "stderr",
     "output_type": "stream",
     "text": [
      "c:\\users\\redline pc\\appdata\\local\\programs\\python\\python38\\lib\\site-packages\\xgboost\\sklearn.py:888: UserWarning: The use of label encoder in XGBClassifier is deprecated and will be removed in a future release. To remove this warning, do the following: 1) Pass option use_label_encoder=False when constructing XGBClassifier object; and 2) Encode your labels (y) as integers starting with 0, i.e. 0, 1, 2, ..., [num_class - 1].\n",
      "  warnings.warn(label_encoder_deprecation_msg, UserWarning)\n",
      "c:\\users\\redline pc\\appdata\\local\\programs\\python\\python38\\lib\\site-packages\\sklearn\\utils\\validation.py:63: DataConversionWarning: A column-vector y was passed when a 1d array was expected. Please change the shape of y to (n_samples, ), for example using ravel().\n",
      "  return f(*args, **kwargs)\n"
     ]
    },
    {
     "name": "stdout",
     "output_type": "stream",
     "text": [
      "              precision    recall  f1-score   support\n",
      "\n",
      "    Check-In       0.61      0.42      0.50      1610\n",
      "    Canceled       0.28      0.59      0.38       741\n",
      "     No-Show       0.16      0.02      0.04       398\n",
      "\n",
      "    accuracy                           0.41      2749\n",
      "   macro avg       0.35      0.34      0.30      2749\n",
      "weighted avg       0.45      0.41      0.40      2749\n",
      "\n",
      "==========================================================================\n",
      "i= 0.7 j= 3.0 k= 9\n"
     ]
    },
    {
     "name": "stderr",
     "output_type": "stream",
     "text": [
      "c:\\users\\redline pc\\appdata\\local\\programs\\python\\python38\\lib\\site-packages\\xgboost\\sklearn.py:888: UserWarning: The use of label encoder in XGBClassifier is deprecated and will be removed in a future release. To remove this warning, do the following: 1) Pass option use_label_encoder=False when constructing XGBClassifier object; and 2) Encode your labels (y) as integers starting with 0, i.e. 0, 1, 2, ..., [num_class - 1].\n",
      "  warnings.warn(label_encoder_deprecation_msg, UserWarning)\n",
      "c:\\users\\redline pc\\appdata\\local\\programs\\python\\python38\\lib\\site-packages\\sklearn\\utils\\validation.py:63: DataConversionWarning: A column-vector y was passed when a 1d array was expected. Please change the shape of y to (n_samples, ), for example using ravel().\n",
      "  return f(*args, **kwargs)\n"
     ]
    },
    {
     "name": "stdout",
     "output_type": "stream",
     "text": [
      "              precision    recall  f1-score   support\n",
      "\n",
      "    Check-In       0.60      0.39      0.47      1610\n",
      "    Canceled       0.27      0.60      0.38       741\n",
      "     No-Show       0.14      0.02      0.04       398\n",
      "\n",
      "    accuracy                           0.40      2749\n",
      "   macro avg       0.34      0.34      0.30      2749\n",
      "weighted avg       0.44      0.40      0.38      2749\n",
      "\n",
      "==========================================================================\n",
      "i= 0.7 j= 3.5 k= 3\n"
     ]
    },
    {
     "name": "stderr",
     "output_type": "stream",
     "text": [
      "c:\\users\\redline pc\\appdata\\local\\programs\\python\\python38\\lib\\site-packages\\xgboost\\sklearn.py:888: UserWarning: The use of label encoder in XGBClassifier is deprecated and will be removed in a future release. To remove this warning, do the following: 1) Pass option use_label_encoder=False when constructing XGBClassifier object; and 2) Encode your labels (y) as integers starting with 0, i.e. 0, 1, 2, ..., [num_class - 1].\n",
      "  warnings.warn(label_encoder_deprecation_msg, UserWarning)\n",
      "c:\\users\\redline pc\\appdata\\local\\programs\\python\\python38\\lib\\site-packages\\sklearn\\utils\\validation.py:63: DataConversionWarning: A column-vector y was passed when a 1d array was expected. Please change the shape of y to (n_samples, ), for example using ravel().\n",
      "  return f(*args, **kwargs)\n"
     ]
    },
    {
     "name": "stdout",
     "output_type": "stream",
     "text": [
      "              precision    recall  f1-score   support\n",
      "\n",
      "    Check-In       0.59      0.68      0.63      1610\n",
      "    Canceled       0.28      0.34      0.30       741\n",
      "     No-Show       0.14      0.00      0.00       398\n",
      "\n",
      "    accuracy                           0.49      2749\n",
      "   macro avg       0.34      0.34      0.31      2749\n",
      "weighted avg       0.44      0.49      0.45      2749\n",
      "\n",
      "==========================================================================\n",
      "i= 0.7 j= 3.5 k= 4\n"
     ]
    },
    {
     "name": "stderr",
     "output_type": "stream",
     "text": [
      "c:\\users\\redline pc\\appdata\\local\\programs\\python\\python38\\lib\\site-packages\\xgboost\\sklearn.py:888: UserWarning: The use of label encoder in XGBClassifier is deprecated and will be removed in a future release. To remove this warning, do the following: 1) Pass option use_label_encoder=False when constructing XGBClassifier object; and 2) Encode your labels (y) as integers starting with 0, i.e. 0, 1, 2, ..., [num_class - 1].\n",
      "  warnings.warn(label_encoder_deprecation_msg, UserWarning)\n",
      "c:\\users\\redline pc\\appdata\\local\\programs\\python\\python38\\lib\\site-packages\\sklearn\\utils\\validation.py:63: DataConversionWarning: A column-vector y was passed when a 1d array was expected. Please change the shape of y to (n_samples, ), for example using ravel().\n",
      "  return f(*args, **kwargs)\n"
     ]
    },
    {
     "name": "stdout",
     "output_type": "stream",
     "text": [
      "              precision    recall  f1-score   support\n",
      "\n",
      "    Check-In       0.59      0.67      0.63      1610\n",
      "    Canceled       0.27      0.32      0.30       741\n",
      "     No-Show       0.17      0.03      0.05       398\n",
      "\n",
      "    accuracy                           0.48      2749\n",
      "   macro avg       0.35      0.34      0.32      2749\n",
      "weighted avg       0.45      0.48      0.45      2749\n",
      "\n",
      "==========================================================================\n",
      "i= 0.7 j= 3.5 k= 5\n"
     ]
    },
    {
     "name": "stderr",
     "output_type": "stream",
     "text": [
      "c:\\users\\redline pc\\appdata\\local\\programs\\python\\python38\\lib\\site-packages\\xgboost\\sklearn.py:888: UserWarning: The use of label encoder in XGBClassifier is deprecated and will be removed in a future release. To remove this warning, do the following: 1) Pass option use_label_encoder=False when constructing XGBClassifier object; and 2) Encode your labels (y) as integers starting with 0, i.e. 0, 1, 2, ..., [num_class - 1].\n",
      "  warnings.warn(label_encoder_deprecation_msg, UserWarning)\n",
      "c:\\users\\redline pc\\appdata\\local\\programs\\python\\python38\\lib\\site-packages\\sklearn\\utils\\validation.py:63: DataConversionWarning: A column-vector y was passed when a 1d array was expected. Please change the shape of y to (n_samples, ), for example using ravel().\n",
      "  return f(*args, **kwargs)\n"
     ]
    },
    {
     "name": "stdout",
     "output_type": "stream",
     "text": [
      "              precision    recall  f1-score   support\n",
      "\n",
      "    Check-In       0.59      0.65      0.62      1610\n",
      "    Canceled       0.28      0.31      0.30       741\n",
      "     No-Show       0.18      0.06      0.09       398\n",
      "\n",
      "    accuracy                           0.48      2749\n",
      "   macro avg       0.35      0.34      0.34      2749\n",
      "weighted avg       0.45      0.48      0.46      2749\n",
      "\n",
      "==========================================================================\n",
      "i= 0.7 j= 3.5 k= 6\n"
     ]
    },
    {
     "name": "stderr",
     "output_type": "stream",
     "text": [
      "c:\\users\\redline pc\\appdata\\local\\programs\\python\\python38\\lib\\site-packages\\xgboost\\sklearn.py:888: UserWarning: The use of label encoder in XGBClassifier is deprecated and will be removed in a future release. To remove this warning, do the following: 1) Pass option use_label_encoder=False when constructing XGBClassifier object; and 2) Encode your labels (y) as integers starting with 0, i.e. 0, 1, 2, ..., [num_class - 1].\n",
      "  warnings.warn(label_encoder_deprecation_msg, UserWarning)\n",
      "c:\\users\\redline pc\\appdata\\local\\programs\\python\\python38\\lib\\site-packages\\sklearn\\utils\\validation.py:63: DataConversionWarning: A column-vector y was passed when a 1d array was expected. Please change the shape of y to (n_samples, ), for example using ravel().\n",
      "  return f(*args, **kwargs)\n"
     ]
    },
    {
     "name": "stdout",
     "output_type": "stream",
     "text": [
      "              precision    recall  f1-score   support\n",
      "\n",
      "    Check-In       0.59      0.64      0.61      1610\n",
      "    Canceled       0.28      0.27      0.27       741\n",
      "     No-Show       0.18      0.15      0.16       398\n",
      "\n",
      "    accuracy                           0.47      2749\n",
      "   macro avg       0.35      0.35      0.35      2749\n",
      "weighted avg       0.45      0.47      0.46      2749\n",
      "\n",
      "==========================================================================\n",
      "i= 0.7 j= 3.5 k= 7\n"
     ]
    },
    {
     "name": "stderr",
     "output_type": "stream",
     "text": [
      "c:\\users\\redline pc\\appdata\\local\\programs\\python\\python38\\lib\\site-packages\\xgboost\\sklearn.py:888: UserWarning: The use of label encoder in XGBClassifier is deprecated and will be removed in a future release. To remove this warning, do the following: 1) Pass option use_label_encoder=False when constructing XGBClassifier object; and 2) Encode your labels (y) as integers starting with 0, i.e. 0, 1, 2, ..., [num_class - 1].\n",
      "  warnings.warn(label_encoder_deprecation_msg, UserWarning)\n",
      "c:\\users\\redline pc\\appdata\\local\\programs\\python\\python38\\lib\\site-packages\\sklearn\\utils\\validation.py:63: DataConversionWarning: A column-vector y was passed when a 1d array was expected. Please change the shape of y to (n_samples, ), for example using ravel().\n",
      "  return f(*args, **kwargs)\n"
     ]
    },
    {
     "name": "stdout",
     "output_type": "stream",
     "text": [
      "              precision    recall  f1-score   support\n",
      "\n",
      "    Check-In       0.59      0.61      0.60      1610\n",
      "    Canceled       0.29      0.24      0.26       741\n",
      "     No-Show       0.15      0.18      0.17       398\n",
      "\n",
      "    accuracy                           0.45      2749\n",
      "   macro avg       0.34      0.34      0.34      2749\n",
      "weighted avg       0.45      0.45      0.45      2749\n",
      "\n",
      "==========================================================================\n",
      "i= 0.7 j= 3.5 k= 8\n"
     ]
    },
    {
     "name": "stderr",
     "output_type": "stream",
     "text": [
      "c:\\users\\redline pc\\appdata\\local\\programs\\python\\python38\\lib\\site-packages\\xgboost\\sklearn.py:888: UserWarning: The use of label encoder in XGBClassifier is deprecated and will be removed in a future release. To remove this warning, do the following: 1) Pass option use_label_encoder=False when constructing XGBClassifier object; and 2) Encode your labels (y) as integers starting with 0, i.e. 0, 1, 2, ..., [num_class - 1].\n",
      "  warnings.warn(label_encoder_deprecation_msg, UserWarning)\n",
      "c:\\users\\redline pc\\appdata\\local\\programs\\python\\python38\\lib\\site-packages\\sklearn\\utils\\validation.py:63: DataConversionWarning: A column-vector y was passed when a 1d array was expected. Please change the shape of y to (n_samples, ), for example using ravel().\n",
      "  return f(*args, **kwargs)\n"
     ]
    },
    {
     "name": "stdout",
     "output_type": "stream",
     "text": [
      "              precision    recall  f1-score   support\n",
      "\n",
      "    Check-In       0.59      0.60      0.59      1610\n",
      "    Canceled       0.28      0.17      0.21       741\n",
      "     No-Show       0.14      0.24      0.18       398\n",
      "\n",
      "    accuracy                           0.43      2749\n",
      "   macro avg       0.34      0.34      0.33      2749\n",
      "weighted avg       0.44      0.43      0.43      2749\n",
      "\n",
      "==========================================================================\n",
      "i= 0.7 j= 3.5 k= 9\n"
     ]
    },
    {
     "name": "stderr",
     "output_type": "stream",
     "text": [
      "c:\\users\\redline pc\\appdata\\local\\programs\\python\\python38\\lib\\site-packages\\xgboost\\sklearn.py:888: UserWarning: The use of label encoder in XGBClassifier is deprecated and will be removed in a future release. To remove this warning, do the following: 1) Pass option use_label_encoder=False when constructing XGBClassifier object; and 2) Encode your labels (y) as integers starting with 0, i.e. 0, 1, 2, ..., [num_class - 1].\n",
      "  warnings.warn(label_encoder_deprecation_msg, UserWarning)\n",
      "c:\\users\\redline pc\\appdata\\local\\programs\\python\\python38\\lib\\site-packages\\sklearn\\utils\\validation.py:63: DataConversionWarning: A column-vector y was passed when a 1d array was expected. Please change the shape of y to (n_samples, ), for example using ravel().\n",
      "  return f(*args, **kwargs)\n"
     ]
    },
    {
     "name": "stdout",
     "output_type": "stream",
     "text": [
      "              precision    recall  f1-score   support\n",
      "\n",
      "    Check-In       0.59      0.58      0.59      1610\n",
      "    Canceled       0.30      0.14      0.20       741\n",
      "     No-Show       0.15      0.31      0.21       398\n",
      "\n",
      "    accuracy                           0.43      2749\n",
      "   macro avg       0.35      0.35      0.33      2749\n",
      "weighted avg       0.45      0.43      0.43      2749\n",
      "\n",
      "==========================================================================\n",
      "i= 0.7 j= 4.0 k= 3\n"
     ]
    },
    {
     "name": "stderr",
     "output_type": "stream",
     "text": [
      "c:\\users\\redline pc\\appdata\\local\\programs\\python\\python38\\lib\\site-packages\\xgboost\\sklearn.py:888: UserWarning: The use of label encoder in XGBClassifier is deprecated and will be removed in a future release. To remove this warning, do the following: 1) Pass option use_label_encoder=False when constructing XGBClassifier object; and 2) Encode your labels (y) as integers starting with 0, i.e. 0, 1, 2, ..., [num_class - 1].\n",
      "  warnings.warn(label_encoder_deprecation_msg, UserWarning)\n",
      "c:\\users\\redline pc\\appdata\\local\\programs\\python\\python38\\lib\\site-packages\\sklearn\\utils\\validation.py:63: DataConversionWarning: A column-vector y was passed when a 1d array was expected. Please change the shape of y to (n_samples, ), for example using ravel().\n",
      "  return f(*args, **kwargs)\n"
     ]
    },
    {
     "name": "stdout",
     "output_type": "stream",
     "text": [
      "              precision    recall  f1-score   support\n",
      "\n",
      "    Check-In       0.59      0.64      0.62      1610\n",
      "    Canceled       0.28      0.38      0.32       741\n",
      "     No-Show       0.29      0.01      0.01       398\n",
      "\n",
      "    accuracy                           0.48      2749\n",
      "   macro avg       0.39      0.34      0.31      2749\n",
      "weighted avg       0.46      0.48      0.45      2749\n",
      "\n",
      "==========================================================================\n",
      "i= 0.7 j= 4.0 k= 4\n"
     ]
    },
    {
     "name": "stderr",
     "output_type": "stream",
     "text": [
      "c:\\users\\redline pc\\appdata\\local\\programs\\python\\python38\\lib\\site-packages\\xgboost\\sklearn.py:888: UserWarning: The use of label encoder in XGBClassifier is deprecated and will be removed in a future release. To remove this warning, do the following: 1) Pass option use_label_encoder=False when constructing XGBClassifier object; and 2) Encode your labels (y) as integers starting with 0, i.e. 0, 1, 2, ..., [num_class - 1].\n",
      "  warnings.warn(label_encoder_deprecation_msg, UserWarning)\n",
      "c:\\users\\redline pc\\appdata\\local\\programs\\python\\python38\\lib\\site-packages\\sklearn\\utils\\validation.py:63: DataConversionWarning: A column-vector y was passed when a 1d array was expected. Please change the shape of y to (n_samples, ), for example using ravel().\n",
      "  return f(*args, **kwargs)\n"
     ]
    },
    {
     "name": "stdout",
     "output_type": "stream",
     "text": [
      "              precision    recall  f1-score   support\n",
      "\n",
      "    Check-In       0.59      0.64      0.61      1610\n",
      "    Canceled       0.27      0.35      0.31       741\n",
      "     No-Show       0.27      0.02      0.04       398\n",
      "\n",
      "    accuracy                           0.47      2749\n",
      "   macro avg       0.37      0.34      0.32      2749\n",
      "weighted avg       0.46      0.47      0.45      2749\n",
      "\n",
      "==========================================================================\n",
      "i= 0.7 j= 4.0 k= 5\n"
     ]
    },
    {
     "name": "stderr",
     "output_type": "stream",
     "text": [
      "c:\\users\\redline pc\\appdata\\local\\programs\\python\\python38\\lib\\site-packages\\xgboost\\sklearn.py:888: UserWarning: The use of label encoder in XGBClassifier is deprecated and will be removed in a future release. To remove this warning, do the following: 1) Pass option use_label_encoder=False when constructing XGBClassifier object; and 2) Encode your labels (y) as integers starting with 0, i.e. 0, 1, 2, ..., [num_class - 1].\n",
      "  warnings.warn(label_encoder_deprecation_msg, UserWarning)\n",
      "c:\\users\\redline pc\\appdata\\local\\programs\\python\\python38\\lib\\site-packages\\sklearn\\utils\\validation.py:63: DataConversionWarning: A column-vector y was passed when a 1d array was expected. Please change the shape of y to (n_samples, ), for example using ravel().\n",
      "  return f(*args, **kwargs)\n"
     ]
    },
    {
     "name": "stdout",
     "output_type": "stream",
     "text": [
      "              precision    recall  f1-score   support\n",
      "\n",
      "    Check-In       0.59      0.63      0.61      1610\n",
      "    Canceled       0.28      0.37      0.32       741\n",
      "     No-Show       0.20      0.04      0.07       398\n",
      "\n",
      "    accuracy                           0.47      2749\n",
      "   macro avg       0.36      0.35      0.33      2749\n",
      "weighted avg       0.45      0.47      0.45      2749\n",
      "\n",
      "==========================================================================\n",
      "i= 0.7 j= 4.0 k= 6\n"
     ]
    },
    {
     "name": "stderr",
     "output_type": "stream",
     "text": [
      "c:\\users\\redline pc\\appdata\\local\\programs\\python\\python38\\lib\\site-packages\\xgboost\\sklearn.py:888: UserWarning: The use of label encoder in XGBClassifier is deprecated and will be removed in a future release. To remove this warning, do the following: 1) Pass option use_label_encoder=False when constructing XGBClassifier object; and 2) Encode your labels (y) as integers starting with 0, i.e. 0, 1, 2, ..., [num_class - 1].\n",
      "  warnings.warn(label_encoder_deprecation_msg, UserWarning)\n",
      "c:\\users\\redline pc\\appdata\\local\\programs\\python\\python38\\lib\\site-packages\\sklearn\\utils\\validation.py:63: DataConversionWarning: A column-vector y was passed when a 1d array was expected. Please change the shape of y to (n_samples, ), for example using ravel().\n",
      "  return f(*args, **kwargs)\n"
     ]
    },
    {
     "name": "stdout",
     "output_type": "stream",
     "text": [
      "              precision    recall  f1-score   support\n",
      "\n",
      "    Check-In       0.60      0.61      0.60      1610\n",
      "    Canceled       0.29      0.35      0.32       741\n",
      "     No-Show       0.19      0.11      0.14       398\n",
      "\n",
      "    accuracy                           0.47      2749\n",
      "   macro avg       0.36      0.35      0.35      2749\n",
      "weighted avg       0.46      0.47      0.46      2749\n",
      "\n",
      "==========================================================================\n",
      "i= 0.7 j= 4.0 k= 7\n"
     ]
    },
    {
     "name": "stderr",
     "output_type": "stream",
     "text": [
      "c:\\users\\redline pc\\appdata\\local\\programs\\python\\python38\\lib\\site-packages\\xgboost\\sklearn.py:888: UserWarning: The use of label encoder in XGBClassifier is deprecated and will be removed in a future release. To remove this warning, do the following: 1) Pass option use_label_encoder=False when constructing XGBClassifier object; and 2) Encode your labels (y) as integers starting with 0, i.e. 0, 1, 2, ..., [num_class - 1].\n",
      "  warnings.warn(label_encoder_deprecation_msg, UserWarning)\n",
      "c:\\users\\redline pc\\appdata\\local\\programs\\python\\python38\\lib\\site-packages\\sklearn\\utils\\validation.py:63: DataConversionWarning: A column-vector y was passed when a 1d array was expected. Please change the shape of y to (n_samples, ), for example using ravel().\n",
      "  return f(*args, **kwargs)\n"
     ]
    },
    {
     "name": "stdout",
     "output_type": "stream",
     "text": [
      "              precision    recall  f1-score   support\n",
      "\n",
      "    Check-In       0.60      0.60      0.60      1610\n",
      "    Canceled       0.28      0.29      0.29       741\n",
      "     No-Show       0.17      0.16      0.16       398\n",
      "\n",
      "    accuracy                           0.45      2749\n",
      "   macro avg       0.35      0.35      0.35      2749\n",
      "weighted avg       0.45      0.45      0.45      2749\n",
      "\n",
      "==========================================================================\n",
      "i= 0.7 j= 4.0 k= 8\n"
     ]
    },
    {
     "name": "stderr",
     "output_type": "stream",
     "text": [
      "c:\\users\\redline pc\\appdata\\local\\programs\\python\\python38\\lib\\site-packages\\xgboost\\sklearn.py:888: UserWarning: The use of label encoder in XGBClassifier is deprecated and will be removed in a future release. To remove this warning, do the following: 1) Pass option use_label_encoder=False when constructing XGBClassifier object; and 2) Encode your labels (y) as integers starting with 0, i.e. 0, 1, 2, ..., [num_class - 1].\n",
      "  warnings.warn(label_encoder_deprecation_msg, UserWarning)\n",
      "c:\\users\\redline pc\\appdata\\local\\programs\\python\\python38\\lib\\site-packages\\sklearn\\utils\\validation.py:63: DataConversionWarning: A column-vector y was passed when a 1d array was expected. Please change the shape of y to (n_samples, ), for example using ravel().\n",
      "  return f(*args, **kwargs)\n"
     ]
    },
    {
     "name": "stdout",
     "output_type": "stream",
     "text": [
      "              precision    recall  f1-score   support\n",
      "\n",
      "    Check-In       0.60      0.60      0.60      1610\n",
      "    Canceled       0.29      0.24      0.26       741\n",
      "     No-Show       0.16      0.22      0.19       398\n",
      "\n",
      "    accuracy                           0.45      2749\n",
      "   macro avg       0.35      0.35      0.35      2749\n",
      "weighted avg       0.45      0.45      0.45      2749\n",
      "\n",
      "==========================================================================\n",
      "i= 0.7 j= 4.0 k= 9\n"
     ]
    },
    {
     "name": "stderr",
     "output_type": "stream",
     "text": [
      "c:\\users\\redline pc\\appdata\\local\\programs\\python\\python38\\lib\\site-packages\\xgboost\\sklearn.py:888: UserWarning: The use of label encoder in XGBClassifier is deprecated and will be removed in a future release. To remove this warning, do the following: 1) Pass option use_label_encoder=False when constructing XGBClassifier object; and 2) Encode your labels (y) as integers starting with 0, i.e. 0, 1, 2, ..., [num_class - 1].\n",
      "  warnings.warn(label_encoder_deprecation_msg, UserWarning)\n",
      "c:\\users\\redline pc\\appdata\\local\\programs\\python\\python38\\lib\\site-packages\\sklearn\\utils\\validation.py:63: DataConversionWarning: A column-vector y was passed when a 1d array was expected. Please change the shape of y to (n_samples, ), for example using ravel().\n",
      "  return f(*args, **kwargs)\n"
     ]
    },
    {
     "name": "stdout",
     "output_type": "stream",
     "text": [
      "              precision    recall  f1-score   support\n",
      "\n",
      "    Check-In       0.59      0.55      0.57      1610\n",
      "    Canceled       0.28      0.21      0.24       741\n",
      "     No-Show       0.15      0.26      0.19       398\n",
      "\n",
      "    accuracy                           0.42      2749\n",
      "   macro avg       0.34      0.34      0.33      2749\n",
      "weighted avg       0.44      0.42      0.43      2749\n",
      "\n",
      "==========================================================================\n",
      "i= 0.7 j= 4.5 k= 3\n"
     ]
    },
    {
     "name": "stderr",
     "output_type": "stream",
     "text": [
      "c:\\users\\redline pc\\appdata\\local\\programs\\python\\python38\\lib\\site-packages\\xgboost\\sklearn.py:888: UserWarning: The use of label encoder in XGBClassifier is deprecated and will be removed in a future release. To remove this warning, do the following: 1) Pass option use_label_encoder=False when constructing XGBClassifier object; and 2) Encode your labels (y) as integers starting with 0, i.e. 0, 1, 2, ..., [num_class - 1].\n",
      "  warnings.warn(label_encoder_deprecation_msg, UserWarning)\n",
      "c:\\users\\redline pc\\appdata\\local\\programs\\python\\python38\\lib\\site-packages\\sklearn\\utils\\validation.py:63: DataConversionWarning: A column-vector y was passed when a 1d array was expected. Please change the shape of y to (n_samples, ), for example using ravel().\n",
      "  return f(*args, **kwargs)\n"
     ]
    },
    {
     "name": "stdout",
     "output_type": "stream",
     "text": [
      "              precision    recall  f1-score   support\n",
      "\n",
      "    Check-In       0.59      0.62      0.61      1610\n",
      "    Canceled       0.28      0.40      0.33       741\n",
      "     No-Show       0.50      0.00      0.01       398\n",
      "\n",
      "    accuracy                           0.47      2749\n",
      "   macro avg       0.46      0.34      0.31      2749\n",
      "weighted avg       0.50      0.47      0.45      2749\n",
      "\n",
      "==========================================================================\n",
      "i= 0.7 j= 4.5 k= 4\n"
     ]
    },
    {
     "name": "stderr",
     "output_type": "stream",
     "text": [
      "c:\\users\\redline pc\\appdata\\local\\programs\\python\\python38\\lib\\site-packages\\xgboost\\sklearn.py:888: UserWarning: The use of label encoder in XGBClassifier is deprecated and will be removed in a future release. To remove this warning, do the following: 1) Pass option use_label_encoder=False when constructing XGBClassifier object; and 2) Encode your labels (y) as integers starting with 0, i.e. 0, 1, 2, ..., [num_class - 1].\n",
      "  warnings.warn(label_encoder_deprecation_msg, UserWarning)\n",
      "c:\\users\\redline pc\\appdata\\local\\programs\\python\\python38\\lib\\site-packages\\sklearn\\utils\\validation.py:63: DataConversionWarning: A column-vector y was passed when a 1d array was expected. Please change the shape of y to (n_samples, ), for example using ravel().\n",
      "  return f(*args, **kwargs)\n"
     ]
    },
    {
     "name": "stdout",
     "output_type": "stream",
     "text": [
      "              precision    recall  f1-score   support\n",
      "\n",
      "    Check-In       0.59      0.62      0.60      1610\n",
      "    Canceled       0.28      0.40      0.33       741\n",
      "     No-Show       0.09      0.00      0.00       398\n",
      "\n",
      "    accuracy                           0.47      2749\n",
      "   macro avg       0.32      0.34      0.31      2749\n",
      "weighted avg       0.44      0.47      0.44      2749\n",
      "\n",
      "==========================================================================\n",
      "i= 0.7 j= 4.5 k= 5\n"
     ]
    },
    {
     "name": "stderr",
     "output_type": "stream",
     "text": [
      "c:\\users\\redline pc\\appdata\\local\\programs\\python\\python38\\lib\\site-packages\\xgboost\\sklearn.py:888: UserWarning: The use of label encoder in XGBClassifier is deprecated and will be removed in a future release. To remove this warning, do the following: 1) Pass option use_label_encoder=False when constructing XGBClassifier object; and 2) Encode your labels (y) as integers starting with 0, i.e. 0, 1, 2, ..., [num_class - 1].\n",
      "  warnings.warn(label_encoder_deprecation_msg, UserWarning)\n",
      "c:\\users\\redline pc\\appdata\\local\\programs\\python\\python38\\lib\\site-packages\\sklearn\\utils\\validation.py:63: DataConversionWarning: A column-vector y was passed when a 1d array was expected. Please change the shape of y to (n_samples, ), for example using ravel().\n",
      "  return f(*args, **kwargs)\n"
     ]
    },
    {
     "name": "stdout",
     "output_type": "stream",
     "text": [
      "              precision    recall  f1-score   support\n",
      "\n",
      "    Check-In       0.60      0.60      0.60      1610\n",
      "    Canceled       0.28      0.42      0.34       741\n",
      "     No-Show       0.24      0.03      0.05       398\n",
      "\n",
      "    accuracy                           0.47      2749\n",
      "   macro avg       0.37      0.35      0.33      2749\n",
      "weighted avg       0.46      0.47      0.45      2749\n",
      "\n",
      "==========================================================================\n",
      "i= 0.7 j= 4.5 k= 6\n"
     ]
    },
    {
     "name": "stderr",
     "output_type": "stream",
     "text": [
      "c:\\users\\redline pc\\appdata\\local\\programs\\python\\python38\\lib\\site-packages\\xgboost\\sklearn.py:888: UserWarning: The use of label encoder in XGBClassifier is deprecated and will be removed in a future release. To remove this warning, do the following: 1) Pass option use_label_encoder=False when constructing XGBClassifier object; and 2) Encode your labels (y) as integers starting with 0, i.e. 0, 1, 2, ..., [num_class - 1].\n",
      "  warnings.warn(label_encoder_deprecation_msg, UserWarning)\n",
      "c:\\users\\redline pc\\appdata\\local\\programs\\python\\python38\\lib\\site-packages\\sklearn\\utils\\validation.py:63: DataConversionWarning: A column-vector y was passed when a 1d array was expected. Please change the shape of y to (n_samples, ), for example using ravel().\n",
      "  return f(*args, **kwargs)\n"
     ]
    },
    {
     "name": "stdout",
     "output_type": "stream",
     "text": [
      "              precision    recall  f1-score   support\n",
      "\n",
      "    Check-In       0.60      0.58      0.59      1610\n",
      "    Canceled       0.29      0.41      0.34       741\n",
      "     No-Show       0.14      0.05      0.07       398\n",
      "\n",
      "    accuracy                           0.46      2749\n",
      "   macro avg       0.34      0.34      0.33      2749\n",
      "weighted avg       0.45      0.46      0.45      2749\n",
      "\n",
      "==========================================================================\n",
      "i= 0.7 j= 4.5 k= 7\n"
     ]
    },
    {
     "name": "stderr",
     "output_type": "stream",
     "text": [
      "c:\\users\\redline pc\\appdata\\local\\programs\\python\\python38\\lib\\site-packages\\xgboost\\sklearn.py:888: UserWarning: The use of label encoder in XGBClassifier is deprecated and will be removed in a future release. To remove this warning, do the following: 1) Pass option use_label_encoder=False when constructing XGBClassifier object; and 2) Encode your labels (y) as integers starting with 0, i.e. 0, 1, 2, ..., [num_class - 1].\n",
      "  warnings.warn(label_encoder_deprecation_msg, UserWarning)\n",
      "c:\\users\\redline pc\\appdata\\local\\programs\\python\\python38\\lib\\site-packages\\sklearn\\utils\\validation.py:63: DataConversionWarning: A column-vector y was passed when a 1d array was expected. Please change the shape of y to (n_samples, ), for example using ravel().\n",
      "  return f(*args, **kwargs)\n"
     ]
    },
    {
     "name": "stdout",
     "output_type": "stream",
     "text": [
      "              precision    recall  f1-score   support\n",
      "\n",
      "    Check-In       0.59      0.57      0.58      1610\n",
      "    Canceled       0.28      0.36      0.31       741\n",
      "     No-Show       0.15      0.10      0.12       398\n",
      "\n",
      "    accuracy                           0.44      2749\n",
      "   macro avg       0.34      0.34      0.34      2749\n",
      "weighted avg       0.44      0.44      0.44      2749\n",
      "\n",
      "==========================================================================\n",
      "i= 0.7 j= 4.5 k= 8\n"
     ]
    },
    {
     "name": "stderr",
     "output_type": "stream",
     "text": [
      "c:\\users\\redline pc\\appdata\\local\\programs\\python\\python38\\lib\\site-packages\\xgboost\\sklearn.py:888: UserWarning: The use of label encoder in XGBClassifier is deprecated and will be removed in a future release. To remove this warning, do the following: 1) Pass option use_label_encoder=False when constructing XGBClassifier object; and 2) Encode your labels (y) as integers starting with 0, i.e. 0, 1, 2, ..., [num_class - 1].\n",
      "  warnings.warn(label_encoder_deprecation_msg, UserWarning)\n",
      "c:\\users\\redline pc\\appdata\\local\\programs\\python\\python38\\lib\\site-packages\\sklearn\\utils\\validation.py:63: DataConversionWarning: A column-vector y was passed when a 1d array was expected. Please change the shape of y to (n_samples, ), for example using ravel().\n",
      "  return f(*args, **kwargs)\n"
     ]
    },
    {
     "name": "stdout",
     "output_type": "stream",
     "text": [
      "              precision    recall  f1-score   support\n",
      "\n",
      "    Check-In       0.59      0.56      0.58      1610\n",
      "    Canceled       0.28      0.29      0.29       741\n",
      "     No-Show       0.14      0.15      0.15       398\n",
      "\n",
      "    accuracy                           0.43      2749\n",
      "   macro avg       0.34      0.34      0.34      2749\n",
      "weighted avg       0.44      0.43      0.44      2749\n",
      "\n",
      "==========================================================================\n",
      "i= 0.7 j= 4.5 k= 9\n"
     ]
    },
    {
     "name": "stderr",
     "output_type": "stream",
     "text": [
      "c:\\users\\redline pc\\appdata\\local\\programs\\python\\python38\\lib\\site-packages\\xgboost\\sklearn.py:888: UserWarning: The use of label encoder in XGBClassifier is deprecated and will be removed in a future release. To remove this warning, do the following: 1) Pass option use_label_encoder=False when constructing XGBClassifier object; and 2) Encode your labels (y) as integers starting with 0, i.e. 0, 1, 2, ..., [num_class - 1].\n",
      "  warnings.warn(label_encoder_deprecation_msg, UserWarning)\n",
      "c:\\users\\redline pc\\appdata\\local\\programs\\python\\python38\\lib\\site-packages\\sklearn\\utils\\validation.py:63: DataConversionWarning: A column-vector y was passed when a 1d array was expected. Please change the shape of y to (n_samples, ), for example using ravel().\n",
      "  return f(*args, **kwargs)\n"
     ]
    },
    {
     "name": "stdout",
     "output_type": "stream",
     "text": [
      "              precision    recall  f1-score   support\n",
      "\n",
      "    Check-In       0.59      0.52      0.55      1610\n",
      "    Canceled       0.27      0.25      0.26       741\n",
      "     No-Show       0.14      0.23      0.18       398\n",
      "\n",
      "    accuracy                           0.41      2749\n",
      "   macro avg       0.33      0.33      0.33      2749\n",
      "weighted avg       0.44      0.41      0.42      2749\n",
      "\n",
      "==========================================================================\n",
      "i= 0.8 j= 1.5 k= 3\n"
     ]
    },
    {
     "name": "stderr",
     "output_type": "stream",
     "text": [
      "c:\\users\\redline pc\\appdata\\local\\programs\\python\\python38\\lib\\site-packages\\xgboost\\sklearn.py:888: UserWarning: The use of label encoder in XGBClassifier is deprecated and will be removed in a future release. To remove this warning, do the following: 1) Pass option use_label_encoder=False when constructing XGBClassifier object; and 2) Encode your labels (y) as integers starting with 0, i.e. 0, 1, 2, ..., [num_class - 1].\n",
      "  warnings.warn(label_encoder_deprecation_msg, UserWarning)\n",
      "c:\\users\\redline pc\\appdata\\local\\programs\\python\\python38\\lib\\site-packages\\sklearn\\utils\\validation.py:63: DataConversionWarning: A column-vector y was passed when a 1d array was expected. Please change the shape of y to (n_samples, ), for example using ravel().\n",
      "  return f(*args, **kwargs)\n"
     ]
    },
    {
     "name": "stdout",
     "output_type": "stream",
     "text": [
      "              precision    recall  f1-score   support\n",
      "\n",
      "    Check-In       0.59      0.96      0.73      1610\n",
      "    Canceled       0.34      0.03      0.06       741\n",
      "     No-Show       0.22      0.04      0.06       398\n",
      "\n",
      "    accuracy                           0.57      2749\n",
      "   macro avg       0.38      0.34      0.29      2749\n",
      "weighted avg       0.47      0.57      0.45      2749\n",
      "\n",
      "==========================================================================\n",
      "i= 0.8 j= 1.5 k= 4\n"
     ]
    },
    {
     "name": "stderr",
     "output_type": "stream",
     "text": [
      "c:\\users\\redline pc\\appdata\\local\\programs\\python\\python38\\lib\\site-packages\\xgboost\\sklearn.py:888: UserWarning: The use of label encoder in XGBClassifier is deprecated and will be removed in a future release. To remove this warning, do the following: 1) Pass option use_label_encoder=False when constructing XGBClassifier object; and 2) Encode your labels (y) as integers starting with 0, i.e. 0, 1, 2, ..., [num_class - 1].\n",
      "  warnings.warn(label_encoder_deprecation_msg, UserWarning)\n",
      "c:\\users\\redline pc\\appdata\\local\\programs\\python\\python38\\lib\\site-packages\\sklearn\\utils\\validation.py:63: DataConversionWarning: A column-vector y was passed when a 1d array was expected. Please change the shape of y to (n_samples, ), for example using ravel().\n",
      "  return f(*args, **kwargs)\n"
     ]
    },
    {
     "name": "stdout",
     "output_type": "stream",
     "text": [
      "              precision    recall  f1-score   support\n",
      "\n",
      "    Check-In       0.59      0.91      0.72      1610\n",
      "    Canceled       0.34      0.02      0.04       741\n",
      "     No-Show       0.20      0.11      0.14       398\n",
      "\n",
      "    accuracy                           0.56      2749\n",
      "   macro avg       0.38      0.35      0.30      2749\n",
      "weighted avg       0.47      0.56      0.45      2749\n",
      "\n",
      "==========================================================================\n",
      "i= 0.8 j= 1.5 k= 5\n"
     ]
    },
    {
     "name": "stderr",
     "output_type": "stream",
     "text": [
      "c:\\users\\redline pc\\appdata\\local\\programs\\python\\python38\\lib\\site-packages\\xgboost\\sklearn.py:888: UserWarning: The use of label encoder in XGBClassifier is deprecated and will be removed in a future release. To remove this warning, do the following: 1) Pass option use_label_encoder=False when constructing XGBClassifier object; and 2) Encode your labels (y) as integers starting with 0, i.e. 0, 1, 2, ..., [num_class - 1].\n",
      "  warnings.warn(label_encoder_deprecation_msg, UserWarning)\n",
      "c:\\users\\redline pc\\appdata\\local\\programs\\python\\python38\\lib\\site-packages\\sklearn\\utils\\validation.py:63: DataConversionWarning: A column-vector y was passed when a 1d array was expected. Please change the shape of y to (n_samples, ), for example using ravel().\n",
      "  return f(*args, **kwargs)\n"
     ]
    },
    {
     "name": "stdout",
     "output_type": "stream",
     "text": [
      "              precision    recall  f1-score   support\n",
      "\n",
      "    Check-In       0.59      0.86      0.70      1610\n",
      "    Canceled       0.31      0.01      0.03       741\n",
      "     No-Show       0.17      0.16      0.17       398\n",
      "\n",
      "    accuracy                           0.53      2749\n",
      "   macro avg       0.36      0.34      0.30      2749\n",
      "weighted avg       0.45      0.53      0.44      2749\n",
      "\n",
      "==========================================================================\n",
      "i= 0.8 j= 1.5 k= 6\n"
     ]
    },
    {
     "name": "stderr",
     "output_type": "stream",
     "text": [
      "c:\\users\\redline pc\\appdata\\local\\programs\\python\\python38\\lib\\site-packages\\xgboost\\sklearn.py:888: UserWarning: The use of label encoder in XGBClassifier is deprecated and will be removed in a future release. To remove this warning, do the following: 1) Pass option use_label_encoder=False when constructing XGBClassifier object; and 2) Encode your labels (y) as integers starting with 0, i.e. 0, 1, 2, ..., [num_class - 1].\n",
      "  warnings.warn(label_encoder_deprecation_msg, UserWarning)\n",
      "c:\\users\\redline pc\\appdata\\local\\programs\\python\\python38\\lib\\site-packages\\sklearn\\utils\\validation.py:63: DataConversionWarning: A column-vector y was passed when a 1d array was expected. Please change the shape of y to (n_samples, ), for example using ravel().\n",
      "  return f(*args, **kwargs)\n"
     ]
    },
    {
     "name": "stdout",
     "output_type": "stream",
     "text": [
      "              precision    recall  f1-score   support\n",
      "\n",
      "    Check-In       0.59      0.80      0.68      1610\n",
      "    Canceled       0.21      0.01      0.02       741\n",
      "     No-Show       0.16      0.21      0.18       398\n",
      "\n",
      "    accuracy                           0.50      2749\n",
      "   macro avg       0.32      0.34      0.29      2749\n",
      "weighted avg       0.42      0.50      0.43      2749\n",
      "\n",
      "==========================================================================\n",
      "i= 0.8 j= 1.5 k= 7\n"
     ]
    },
    {
     "name": "stderr",
     "output_type": "stream",
     "text": [
      "c:\\users\\redline pc\\appdata\\local\\programs\\python\\python38\\lib\\site-packages\\xgboost\\sklearn.py:888: UserWarning: The use of label encoder in XGBClassifier is deprecated and will be removed in a future release. To remove this warning, do the following: 1) Pass option use_label_encoder=False when constructing XGBClassifier object; and 2) Encode your labels (y) as integers starting with 0, i.e. 0, 1, 2, ..., [num_class - 1].\n",
      "  warnings.warn(label_encoder_deprecation_msg, UserWarning)\n",
      "c:\\users\\redline pc\\appdata\\local\\programs\\python\\python38\\lib\\site-packages\\sklearn\\utils\\validation.py:63: DataConversionWarning: A column-vector y was passed when a 1d array was expected. Please change the shape of y to (n_samples, ), for example using ravel().\n",
      "  return f(*args, **kwargs)\n"
     ]
    },
    {
     "name": "stdout",
     "output_type": "stream",
     "text": [
      "              precision    recall  f1-score   support\n",
      "\n",
      "    Check-In       0.59      0.80      0.68      1610\n",
      "    Canceled       0.21      0.01      0.01       741\n",
      "     No-Show       0.16      0.23      0.19       398\n",
      "\n",
      "    accuracy                           0.50      2749\n",
      "   macro avg       0.32      0.34      0.29      2749\n",
      "weighted avg       0.43      0.50      0.43      2749\n",
      "\n",
      "==========================================================================\n",
      "i= 0.8 j= 1.5 k= 8\n"
     ]
    },
    {
     "name": "stderr",
     "output_type": "stream",
     "text": [
      "c:\\users\\redline pc\\appdata\\local\\programs\\python\\python38\\lib\\site-packages\\xgboost\\sklearn.py:888: UserWarning: The use of label encoder in XGBClassifier is deprecated and will be removed in a future release. To remove this warning, do the following: 1) Pass option use_label_encoder=False when constructing XGBClassifier object; and 2) Encode your labels (y) as integers starting with 0, i.e. 0, 1, 2, ..., [num_class - 1].\n",
      "  warnings.warn(label_encoder_deprecation_msg, UserWarning)\n",
      "c:\\users\\redline pc\\appdata\\local\\programs\\python\\python38\\lib\\site-packages\\sklearn\\utils\\validation.py:63: DataConversionWarning: A column-vector y was passed when a 1d array was expected. Please change the shape of y to (n_samples, ), for example using ravel().\n",
      "  return f(*args, **kwargs)\n"
     ]
    },
    {
     "name": "stdout",
     "output_type": "stream",
     "text": [
      "              precision    recall  f1-score   support\n",
      "\n",
      "    Check-In       0.59      0.73      0.66      1610\n",
      "    Canceled       0.33      0.01      0.02       741\n",
      "     No-Show       0.16      0.29      0.20       398\n",
      "\n",
      "    accuracy                           0.47      2749\n",
      "   macro avg       0.36      0.34      0.29      2749\n",
      "weighted avg       0.46      0.47      0.42      2749\n",
      "\n",
      "==========================================================================\n",
      "i= 0.8 j= 1.5 k= 9\n"
     ]
    },
    {
     "name": "stderr",
     "output_type": "stream",
     "text": [
      "c:\\users\\redline pc\\appdata\\local\\programs\\python\\python38\\lib\\site-packages\\xgboost\\sklearn.py:888: UserWarning: The use of label encoder in XGBClassifier is deprecated and will be removed in a future release. To remove this warning, do the following: 1) Pass option use_label_encoder=False when constructing XGBClassifier object; and 2) Encode your labels (y) as integers starting with 0, i.e. 0, 1, 2, ..., [num_class - 1].\n",
      "  warnings.warn(label_encoder_deprecation_msg, UserWarning)\n",
      "c:\\users\\redline pc\\appdata\\local\\programs\\python\\python38\\lib\\site-packages\\sklearn\\utils\\validation.py:63: DataConversionWarning: A column-vector y was passed when a 1d array was expected. Please change the shape of y to (n_samples, ), for example using ravel().\n",
      "  return f(*args, **kwargs)\n"
     ]
    },
    {
     "name": "stdout",
     "output_type": "stream",
     "text": [
      "              precision    recall  f1-score   support\n",
      "\n",
      "    Check-In       0.59      0.71      0.65      1610\n",
      "    Canceled       0.25      0.01      0.01       741\n",
      "     No-Show       0.15      0.29      0.20       398\n",
      "\n",
      "    accuracy                           0.46      2749\n",
      "   macro avg       0.33      0.34      0.29      2749\n",
      "weighted avg       0.44      0.46      0.41      2749\n",
      "\n",
      "==========================================================================\n",
      "i= 0.8 j= 2.0 k= 3\n"
     ]
    },
    {
     "name": "stderr",
     "output_type": "stream",
     "text": [
      "c:\\users\\redline pc\\appdata\\local\\programs\\python\\python38\\lib\\site-packages\\xgboost\\sklearn.py:888: UserWarning: The use of label encoder in XGBClassifier is deprecated and will be removed in a future release. To remove this warning, do the following: 1) Pass option use_label_encoder=False when constructing XGBClassifier object; and 2) Encode your labels (y) as integers starting with 0, i.e. 0, 1, 2, ..., [num_class - 1].\n",
      "  warnings.warn(label_encoder_deprecation_msg, UserWarning)\n",
      "c:\\users\\redline pc\\appdata\\local\\programs\\python\\python38\\lib\\site-packages\\sklearn\\utils\\validation.py:63: DataConversionWarning: A column-vector y was passed when a 1d array was expected. Please change the shape of y to (n_samples, ), for example using ravel().\n",
      "  return f(*args, **kwargs)\n"
     ]
    },
    {
     "name": "stdout",
     "output_type": "stream",
     "text": [
      "              precision    recall  f1-score   support\n",
      "\n",
      "    Check-In       0.59      0.92      0.72      1610\n",
      "    Canceled       0.31      0.09      0.14       741\n",
      "     No-Show       0.33      0.03      0.05       398\n",
      "\n",
      "    accuracy                           0.57      2749\n",
      "   macro avg       0.41      0.35      0.30      2749\n",
      "weighted avg       0.48      0.57      0.47      2749\n",
      "\n",
      "==========================================================================\n",
      "i= 0.8 j= 2.0 k= 4\n"
     ]
    },
    {
     "name": "stderr",
     "output_type": "stream",
     "text": [
      "c:\\users\\redline pc\\appdata\\local\\programs\\python\\python38\\lib\\site-packages\\xgboost\\sklearn.py:888: UserWarning: The use of label encoder in XGBClassifier is deprecated and will be removed in a future release. To remove this warning, do the following: 1) Pass option use_label_encoder=False when constructing XGBClassifier object; and 2) Encode your labels (y) as integers starting with 0, i.e. 0, 1, 2, ..., [num_class - 1].\n",
      "  warnings.warn(label_encoder_deprecation_msg, UserWarning)\n",
      "c:\\users\\redline pc\\appdata\\local\\programs\\python\\python38\\lib\\site-packages\\sklearn\\utils\\validation.py:63: DataConversionWarning: A column-vector y was passed when a 1d array was expected. Please change the shape of y to (n_samples, ), for example using ravel().\n",
      "  return f(*args, **kwargs)\n"
     ]
    },
    {
     "name": "stdout",
     "output_type": "stream",
     "text": [
      "              precision    recall  f1-score   support\n",
      "\n",
      "    Check-In       0.59      0.87      0.71      1610\n",
      "    Canceled       0.30      0.08      0.12       741\n",
      "     No-Show       0.17      0.08      0.11       398\n",
      "\n",
      "    accuracy                           0.54      2749\n",
      "   macro avg       0.35      0.34      0.31      2749\n",
      "weighted avg       0.45      0.54      0.46      2749\n",
      "\n",
      "==========================================================================\n",
      "i= 0.8 j= 2.0 k= 5\n"
     ]
    },
    {
     "name": "stderr",
     "output_type": "stream",
     "text": [
      "c:\\users\\redline pc\\appdata\\local\\programs\\python\\python38\\lib\\site-packages\\xgboost\\sklearn.py:888: UserWarning: The use of label encoder in XGBClassifier is deprecated and will be removed in a future release. To remove this warning, do the following: 1) Pass option use_label_encoder=False when constructing XGBClassifier object; and 2) Encode your labels (y) as integers starting with 0, i.e. 0, 1, 2, ..., [num_class - 1].\n",
      "  warnings.warn(label_encoder_deprecation_msg, UserWarning)\n",
      "c:\\users\\redline pc\\appdata\\local\\programs\\python\\python38\\lib\\site-packages\\sklearn\\utils\\validation.py:63: DataConversionWarning: A column-vector y was passed when a 1d array was expected. Please change the shape of y to (n_samples, ), for example using ravel().\n",
      "  return f(*args, **kwargs)\n"
     ]
    },
    {
     "name": "stdout",
     "output_type": "stream",
     "text": [
      "              precision    recall  f1-score   support\n",
      "\n",
      "    Check-In       0.59      0.80      0.68      1610\n",
      "    Canceled       0.28      0.07      0.11       741\n",
      "     No-Show       0.15      0.15      0.15       398\n",
      "\n",
      "    accuracy                           0.51      2749\n",
      "   macro avg       0.34      0.34      0.31      2749\n",
      "weighted avg       0.44      0.51      0.45      2749\n",
      "\n",
      "==========================================================================\n",
      "i= 0.8 j= 2.0 k= 6\n"
     ]
    },
    {
     "name": "stderr",
     "output_type": "stream",
     "text": [
      "c:\\users\\redline pc\\appdata\\local\\programs\\python\\python38\\lib\\site-packages\\xgboost\\sklearn.py:888: UserWarning: The use of label encoder in XGBClassifier is deprecated and will be removed in a future release. To remove this warning, do the following: 1) Pass option use_label_encoder=False when constructing XGBClassifier object; and 2) Encode your labels (y) as integers starting with 0, i.e. 0, 1, 2, ..., [num_class - 1].\n",
      "  warnings.warn(label_encoder_deprecation_msg, UserWarning)\n",
      "c:\\users\\redline pc\\appdata\\local\\programs\\python\\python38\\lib\\site-packages\\sklearn\\utils\\validation.py:63: DataConversionWarning: A column-vector y was passed when a 1d array was expected. Please change the shape of y to (n_samples, ), for example using ravel().\n",
      "  return f(*args, **kwargs)\n"
     ]
    },
    {
     "name": "stdout",
     "output_type": "stream",
     "text": [
      "              precision    recall  f1-score   support\n",
      "\n",
      "    Check-In       0.59      0.76      0.66      1610\n",
      "    Canceled       0.25      0.04      0.06       741\n",
      "     No-Show       0.16      0.23      0.19       398\n",
      "\n",
      "    accuracy                           0.49      2749\n",
      "   macro avg       0.33      0.34      0.31      2749\n",
      "weighted avg       0.43      0.49      0.43      2749\n",
      "\n",
      "==========================================================================\n",
      "i= 0.8 j= 2.0 k= 7\n"
     ]
    },
    {
     "name": "stderr",
     "output_type": "stream",
     "text": [
      "c:\\users\\redline pc\\appdata\\local\\programs\\python\\python38\\lib\\site-packages\\xgboost\\sklearn.py:888: UserWarning: The use of label encoder in XGBClassifier is deprecated and will be removed in a future release. To remove this warning, do the following: 1) Pass option use_label_encoder=False when constructing XGBClassifier object; and 2) Encode your labels (y) as integers starting with 0, i.e. 0, 1, 2, ..., [num_class - 1].\n",
      "  warnings.warn(label_encoder_deprecation_msg, UserWarning)\n",
      "c:\\users\\redline pc\\appdata\\local\\programs\\python\\python38\\lib\\site-packages\\sklearn\\utils\\validation.py:63: DataConversionWarning: A column-vector y was passed when a 1d array was expected. Please change the shape of y to (n_samples, ), for example using ravel().\n",
      "  return f(*args, **kwargs)\n"
     ]
    },
    {
     "name": "stdout",
     "output_type": "stream",
     "text": [
      "              precision    recall  f1-score   support\n",
      "\n",
      "    Check-In       0.59      0.74      0.65      1610\n",
      "    Canceled       0.32      0.03      0.06       741\n",
      "     No-Show       0.16      0.26      0.20       398\n",
      "\n",
      "    accuracy                           0.48      2749\n",
      "   macro avg       0.36      0.34      0.30      2749\n",
      "weighted avg       0.45      0.48      0.43      2749\n",
      "\n",
      "==========================================================================\n",
      "i= 0.8 j= 2.0 k= 8\n"
     ]
    },
    {
     "name": "stderr",
     "output_type": "stream",
     "text": [
      "c:\\users\\redline pc\\appdata\\local\\programs\\python\\python38\\lib\\site-packages\\xgboost\\sklearn.py:888: UserWarning: The use of label encoder in XGBClassifier is deprecated and will be removed in a future release. To remove this warning, do the following: 1) Pass option use_label_encoder=False when constructing XGBClassifier object; and 2) Encode your labels (y) as integers starting with 0, i.e. 0, 1, 2, ..., [num_class - 1].\n",
      "  warnings.warn(label_encoder_deprecation_msg, UserWarning)\n",
      "c:\\users\\redline pc\\appdata\\local\\programs\\python\\python38\\lib\\site-packages\\sklearn\\utils\\validation.py:63: DataConversionWarning: A column-vector y was passed when a 1d array was expected. Please change the shape of y to (n_samples, ), for example using ravel().\n",
      "  return f(*args, **kwargs)\n"
     ]
    },
    {
     "name": "stdout",
     "output_type": "stream",
     "text": [
      "              precision    recall  f1-score   support\n",
      "\n",
      "    Check-In       0.59      0.70      0.64      1610\n",
      "    Canceled       0.24      0.02      0.04       741\n",
      "     No-Show       0.15      0.30      0.20       398\n",
      "\n",
      "    accuracy                           0.46      2749\n",
      "   macro avg       0.33      0.34      0.29      2749\n",
      "weighted avg       0.43      0.46      0.41      2749\n",
      "\n",
      "==========================================================================\n",
      "i= 0.8 j= 2.0 k= 9\n"
     ]
    },
    {
     "name": "stderr",
     "output_type": "stream",
     "text": [
      "c:\\users\\redline pc\\appdata\\local\\programs\\python\\python38\\lib\\site-packages\\xgboost\\sklearn.py:888: UserWarning: The use of label encoder in XGBClassifier is deprecated and will be removed in a future release. To remove this warning, do the following: 1) Pass option use_label_encoder=False when constructing XGBClassifier object; and 2) Encode your labels (y) as integers starting with 0, i.e. 0, 1, 2, ..., [num_class - 1].\n",
      "  warnings.warn(label_encoder_deprecation_msg, UserWarning)\n",
      "c:\\users\\redline pc\\appdata\\local\\programs\\python\\python38\\lib\\site-packages\\sklearn\\utils\\validation.py:63: DataConversionWarning: A column-vector y was passed when a 1d array was expected. Please change the shape of y to (n_samples, ), for example using ravel().\n",
      "  return f(*args, **kwargs)\n"
     ]
    },
    {
     "name": "stdout",
     "output_type": "stream",
     "text": [
      "              precision    recall  f1-score   support\n",
      "\n",
      "    Check-In       0.59      0.70      0.64      1610\n",
      "    Canceled       0.29      0.02      0.03       741\n",
      "     No-Show       0.16      0.32      0.21       398\n",
      "\n",
      "    accuracy                           0.46      2749\n",
      "   macro avg       0.35      0.35      0.30      2749\n",
      "weighted avg       0.45      0.46      0.42      2749\n",
      "\n",
      "==========================================================================\n",
      "i= 0.8 j= 2.5 k= 3\n"
     ]
    },
    {
     "name": "stderr",
     "output_type": "stream",
     "text": [
      "c:\\users\\redline pc\\appdata\\local\\programs\\python\\python38\\lib\\site-packages\\xgboost\\sklearn.py:888: UserWarning: The use of label encoder in XGBClassifier is deprecated and will be removed in a future release. To remove this warning, do the following: 1) Pass option use_label_encoder=False when constructing XGBClassifier object; and 2) Encode your labels (y) as integers starting with 0, i.e. 0, 1, 2, ..., [num_class - 1].\n",
      "  warnings.warn(label_encoder_deprecation_msg, UserWarning)\n",
      "c:\\users\\redline pc\\appdata\\local\\programs\\python\\python38\\lib\\site-packages\\sklearn\\utils\\validation.py:63: DataConversionWarning: A column-vector y was passed when a 1d array was expected. Please change the shape of y to (n_samples, ), for example using ravel().\n",
      "  return f(*args, **kwargs)\n"
     ]
    },
    {
     "name": "stdout",
     "output_type": "stream",
     "text": [
      "              precision    recall  f1-score   support\n",
      "\n",
      "    Check-In       0.59      0.84      0.69      1610\n",
      "    Canceled       0.29      0.17      0.21       741\n",
      "     No-Show       0.17      0.01      0.01       398\n",
      "\n",
      "    accuracy                           0.54      2749\n",
      "   macro avg       0.35      0.34      0.31      2749\n",
      "weighted avg       0.45      0.54      0.47      2749\n",
      "\n",
      "==========================================================================\n",
      "i= 0.8 j= 2.5 k= 4\n"
     ]
    },
    {
     "name": "stderr",
     "output_type": "stream",
     "text": [
      "c:\\users\\redline pc\\appdata\\local\\programs\\python\\python38\\lib\\site-packages\\xgboost\\sklearn.py:888: UserWarning: The use of label encoder in XGBClassifier is deprecated and will be removed in a future release. To remove this warning, do the following: 1) Pass option use_label_encoder=False when constructing XGBClassifier object; and 2) Encode your labels (y) as integers starting with 0, i.e. 0, 1, 2, ..., [num_class - 1].\n",
      "  warnings.warn(label_encoder_deprecation_msg, UserWarning)\n",
      "c:\\users\\redline pc\\appdata\\local\\programs\\python\\python38\\lib\\site-packages\\sklearn\\utils\\validation.py:63: DataConversionWarning: A column-vector y was passed when a 1d array was expected. Please change the shape of y to (n_samples, ), for example using ravel().\n",
      "  return f(*args, **kwargs)\n"
     ]
    },
    {
     "name": "stdout",
     "output_type": "stream",
     "text": [
      "              precision    recall  f1-score   support\n",
      "\n",
      "    Check-In       0.59      0.82      0.69      1610\n",
      "    Canceled       0.30      0.17      0.21       741\n",
      "     No-Show       0.18      0.05      0.08       398\n",
      "\n",
      "    accuracy                           0.53      2749\n",
      "   macro avg       0.36      0.35      0.33      2749\n",
      "weighted avg       0.45      0.53      0.47      2749\n",
      "\n",
      "==========================================================================\n",
      "i= 0.8 j= 2.5 k= 5\n"
     ]
    },
    {
     "name": "stderr",
     "output_type": "stream",
     "text": [
      "c:\\users\\redline pc\\appdata\\local\\programs\\python\\python38\\lib\\site-packages\\xgboost\\sklearn.py:888: UserWarning: The use of label encoder in XGBClassifier is deprecated and will be removed in a future release. To remove this warning, do the following: 1) Pass option use_label_encoder=False when constructing XGBClassifier object; and 2) Encode your labels (y) as integers starting with 0, i.e. 0, 1, 2, ..., [num_class - 1].\n",
      "  warnings.warn(label_encoder_deprecation_msg, UserWarning)\n",
      "c:\\users\\redline pc\\appdata\\local\\programs\\python\\python38\\lib\\site-packages\\sklearn\\utils\\validation.py:63: DataConversionWarning: A column-vector y was passed when a 1d array was expected. Please change the shape of y to (n_samples, ), for example using ravel().\n",
      "  return f(*args, **kwargs)\n"
     ]
    },
    {
     "name": "stdout",
     "output_type": "stream",
     "text": [
      "              precision    recall  f1-score   support\n",
      "\n",
      "    Check-In       0.59      0.80      0.68      1610\n",
      "    Canceled       0.28      0.12      0.17       741\n",
      "     No-Show       0.20      0.13      0.16       398\n",
      "\n",
      "    accuracy                           0.52      2749\n",
      "   macro avg       0.36      0.35      0.34      2749\n",
      "weighted avg       0.45      0.52      0.47      2749\n",
      "\n",
      "==========================================================================\n",
      "i= 0.8 j= 2.5 k= 6\n"
     ]
    },
    {
     "name": "stderr",
     "output_type": "stream",
     "text": [
      "c:\\users\\redline pc\\appdata\\local\\programs\\python\\python38\\lib\\site-packages\\xgboost\\sklearn.py:888: UserWarning: The use of label encoder in XGBClassifier is deprecated and will be removed in a future release. To remove this warning, do the following: 1) Pass option use_label_encoder=False when constructing XGBClassifier object; and 2) Encode your labels (y) as integers starting with 0, i.e. 0, 1, 2, ..., [num_class - 1].\n",
      "  warnings.warn(label_encoder_deprecation_msg, UserWarning)\n",
      "c:\\users\\redline pc\\appdata\\local\\programs\\python\\python38\\lib\\site-packages\\sklearn\\utils\\validation.py:63: DataConversionWarning: A column-vector y was passed when a 1d array was expected. Please change the shape of y to (n_samples, ), for example using ravel().\n",
      "  return f(*args, **kwargs)\n"
     ]
    },
    {
     "name": "stdout",
     "output_type": "stream",
     "text": [
      "              precision    recall  f1-score   support\n",
      "\n",
      "    Check-In       0.59      0.72      0.65      1610\n",
      "    Canceled       0.28      0.10      0.15       741\n",
      "     No-Show       0.16      0.21      0.18       398\n",
      "\n",
      "    accuracy                           0.48      2749\n",
      "   macro avg       0.34      0.34      0.33      2749\n",
      "weighted avg       0.45      0.48      0.45      2749\n",
      "\n",
      "==========================================================================\n",
      "i= 0.8 j= 2.5 k= 7\n"
     ]
    },
    {
     "name": "stderr",
     "output_type": "stream",
     "text": [
      "c:\\users\\redline pc\\appdata\\local\\programs\\python\\python38\\lib\\site-packages\\xgboost\\sklearn.py:888: UserWarning: The use of label encoder in XGBClassifier is deprecated and will be removed in a future release. To remove this warning, do the following: 1) Pass option use_label_encoder=False when constructing XGBClassifier object; and 2) Encode your labels (y) as integers starting with 0, i.e. 0, 1, 2, ..., [num_class - 1].\n",
      "  warnings.warn(label_encoder_deprecation_msg, UserWarning)\n",
      "c:\\users\\redline pc\\appdata\\local\\programs\\python\\python38\\lib\\site-packages\\sklearn\\utils\\validation.py:63: DataConversionWarning: A column-vector y was passed when a 1d array was expected. Please change the shape of y to (n_samples, ), for example using ravel().\n",
      "  return f(*args, **kwargs)\n"
     ]
    },
    {
     "name": "stdout",
     "output_type": "stream",
     "text": [
      "              precision    recall  f1-score   support\n",
      "\n",
      "    Check-In       0.59      0.71      0.64      1610\n",
      "    Canceled       0.28      0.07      0.11       741\n",
      "     No-Show       0.15      0.24      0.19       398\n",
      "\n",
      "    accuracy                           0.47      2749\n",
      "   macro avg       0.34      0.34      0.31      2749\n",
      "weighted avg       0.44      0.47      0.43      2749\n",
      "\n",
      "==========================================================================\n",
      "i= 0.8 j= 2.5 k= 8\n"
     ]
    },
    {
     "name": "stderr",
     "output_type": "stream",
     "text": [
      "c:\\users\\redline pc\\appdata\\local\\programs\\python\\python38\\lib\\site-packages\\xgboost\\sklearn.py:888: UserWarning: The use of label encoder in XGBClassifier is deprecated and will be removed in a future release. To remove this warning, do the following: 1) Pass option use_label_encoder=False when constructing XGBClassifier object; and 2) Encode your labels (y) as integers starting with 0, i.e. 0, 1, 2, ..., [num_class - 1].\n",
      "  warnings.warn(label_encoder_deprecation_msg, UserWarning)\n",
      "c:\\users\\redline pc\\appdata\\local\\programs\\python\\python38\\lib\\site-packages\\sklearn\\utils\\validation.py:63: DataConversionWarning: A column-vector y was passed when a 1d array was expected. Please change the shape of y to (n_samples, ), for example using ravel().\n",
      "  return f(*args, **kwargs)\n"
     ]
    },
    {
     "name": "stdout",
     "output_type": "stream",
     "text": [
      "              precision    recall  f1-score   support\n",
      "\n",
      "    Check-In       0.59      0.71      0.65      1610\n",
      "    Canceled       0.27      0.04      0.07       741\n",
      "     No-Show       0.15      0.27      0.19       398\n",
      "\n",
      "    accuracy                           0.46      2749\n",
      "   macro avg       0.34      0.34      0.30      2749\n",
      "weighted avg       0.44      0.46      0.43      2749\n",
      "\n",
      "==========================================================================\n",
      "i= 0.8 j= 2.5 k= 9\n"
     ]
    },
    {
     "name": "stderr",
     "output_type": "stream",
     "text": [
      "c:\\users\\redline pc\\appdata\\local\\programs\\python\\python38\\lib\\site-packages\\xgboost\\sklearn.py:888: UserWarning: The use of label encoder in XGBClassifier is deprecated and will be removed in a future release. To remove this warning, do the following: 1) Pass option use_label_encoder=False when constructing XGBClassifier object; and 2) Encode your labels (y) as integers starting with 0, i.e. 0, 1, 2, ..., [num_class - 1].\n",
      "  warnings.warn(label_encoder_deprecation_msg, UserWarning)\n",
      "c:\\users\\redline pc\\appdata\\local\\programs\\python\\python38\\lib\\site-packages\\sklearn\\utils\\validation.py:63: DataConversionWarning: A column-vector y was passed when a 1d array was expected. Please change the shape of y to (n_samples, ), for example using ravel().\n",
      "  return f(*args, **kwargs)\n"
     ]
    },
    {
     "name": "stdout",
     "output_type": "stream",
     "text": [
      "              precision    recall  f1-score   support\n",
      "\n",
      "    Check-In       0.59      0.67      0.63      1610\n",
      "    Canceled       0.29      0.04      0.08       741\n",
      "     No-Show       0.16      0.32      0.21       398\n",
      "\n",
      "    accuracy                           0.45      2749\n",
      "   macro avg       0.35      0.35      0.31      2749\n",
      "weighted avg       0.45      0.45      0.42      2749\n",
      "\n",
      "==========================================================================\n",
      "i= 0.8 j= 3.0 k= 3\n"
     ]
    },
    {
     "name": "stderr",
     "output_type": "stream",
     "text": [
      "c:\\users\\redline pc\\appdata\\local\\programs\\python\\python38\\lib\\site-packages\\xgboost\\sklearn.py:888: UserWarning: The use of label encoder in XGBClassifier is deprecated and will be removed in a future release. To remove this warning, do the following: 1) Pass option use_label_encoder=False when constructing XGBClassifier object; and 2) Encode your labels (y) as integers starting with 0, i.e. 0, 1, 2, ..., [num_class - 1].\n",
      "  warnings.warn(label_encoder_deprecation_msg, UserWarning)\n",
      "c:\\users\\redline pc\\appdata\\local\\programs\\python\\python38\\lib\\site-packages\\sklearn\\utils\\validation.py:63: DataConversionWarning: A column-vector y was passed when a 1d array was expected. Please change the shape of y to (n_samples, ), for example using ravel().\n",
      "  return f(*args, **kwargs)\n"
     ]
    },
    {
     "name": "stdout",
     "output_type": "stream",
     "text": [
      "              precision    recall  f1-score   support\n",
      "\n",
      "    Check-In       0.59      0.76      0.67      1610\n",
      "    Canceled       0.29      0.26      0.27       741\n",
      "     No-Show       0.23      0.01      0.01       398\n",
      "\n",
      "    accuracy                           0.52      2749\n",
      "   macro avg       0.37      0.34      0.32      2749\n",
      "weighted avg       0.46      0.52      0.47      2749\n",
      "\n",
      "==========================================================================\n",
      "i= 0.8 j= 3.0 k= 4\n"
     ]
    },
    {
     "name": "stderr",
     "output_type": "stream",
     "text": [
      "c:\\users\\redline pc\\appdata\\local\\programs\\python\\python38\\lib\\site-packages\\xgboost\\sklearn.py:888: UserWarning: The use of label encoder in XGBClassifier is deprecated and will be removed in a future release. To remove this warning, do the following: 1) Pass option use_label_encoder=False when constructing XGBClassifier object; and 2) Encode your labels (y) as integers starting with 0, i.e. 0, 1, 2, ..., [num_class - 1].\n",
      "  warnings.warn(label_encoder_deprecation_msg, UserWarning)\n",
      "c:\\users\\redline pc\\appdata\\local\\programs\\python\\python38\\lib\\site-packages\\sklearn\\utils\\validation.py:63: DataConversionWarning: A column-vector y was passed when a 1d array was expected. Please change the shape of y to (n_samples, ), for example using ravel().\n",
      "  return f(*args, **kwargs)\n"
     ]
    },
    {
     "name": "stdout",
     "output_type": "stream",
     "text": [
      "              precision    recall  f1-score   support\n",
      "\n",
      "    Check-In       0.59      0.68      0.63      1610\n",
      "    Canceled       0.27      0.32      0.30       741\n",
      "     No-Show       0.00      0.00      0.00       398\n",
      "\n",
      "    accuracy                           0.48      2749\n",
      "   macro avg       0.29      0.33      0.31      2749\n",
      "weighted avg       0.42      0.48      0.45      2749\n",
      "\n",
      "==========================================================================\n",
      "i= 0.8 j= 3.0 k= 5\n"
     ]
    },
    {
     "name": "stderr",
     "output_type": "stream",
     "text": [
      "c:\\users\\redline pc\\appdata\\local\\programs\\python\\python38\\lib\\site-packages\\xgboost\\sklearn.py:888: UserWarning: The use of label encoder in XGBClassifier is deprecated and will be removed in a future release. To remove this warning, do the following: 1) Pass option use_label_encoder=False when constructing XGBClassifier object; and 2) Encode your labels (y) as integers starting with 0, i.e. 0, 1, 2, ..., [num_class - 1].\n",
      "  warnings.warn(label_encoder_deprecation_msg, UserWarning)\n",
      "c:\\users\\redline pc\\appdata\\local\\programs\\python\\python38\\lib\\site-packages\\sklearn\\utils\\validation.py:63: DataConversionWarning: A column-vector y was passed when a 1d array was expected. Please change the shape of y to (n_samples, ), for example using ravel().\n",
      "  return f(*args, **kwargs)\n"
     ]
    },
    {
     "name": "stdout",
     "output_type": "stream",
     "text": [
      "              precision    recall  f1-score   support\n",
      "\n",
      "    Check-In       0.59      0.61      0.60      1610\n",
      "    Canceled       0.27      0.39      0.32       741\n",
      "     No-Show       0.29      0.02      0.03       398\n",
      "\n",
      "    accuracy                           0.47      2749\n",
      "   macro avg       0.39      0.34      0.32      2749\n",
      "weighted avg       0.46      0.47      0.44      2749\n",
      "\n",
      "==========================================================================\n",
      "i= 0.8 j= 3.0 k= 6\n"
     ]
    },
    {
     "name": "stderr",
     "output_type": "stream",
     "text": [
      "c:\\users\\redline pc\\appdata\\local\\programs\\python\\python38\\lib\\site-packages\\xgboost\\sklearn.py:888: UserWarning: The use of label encoder in XGBClassifier is deprecated and will be removed in a future release. To remove this warning, do the following: 1) Pass option use_label_encoder=False when constructing XGBClassifier object; and 2) Encode your labels (y) as integers starting with 0, i.e. 0, 1, 2, ..., [num_class - 1].\n",
      "  warnings.warn(label_encoder_deprecation_msg, UserWarning)\n",
      "c:\\users\\redline pc\\appdata\\local\\programs\\python\\python38\\lib\\site-packages\\sklearn\\utils\\validation.py:63: DataConversionWarning: A column-vector y was passed when a 1d array was expected. Please change the shape of y to (n_samples, ), for example using ravel().\n",
      "  return f(*args, **kwargs)\n"
     ]
    },
    {
     "name": "stdout",
     "output_type": "stream",
     "text": [
      "              precision    recall  f1-score   support\n",
      "\n",
      "    Check-In       0.60      0.56      0.58      1610\n",
      "    Canceled       0.28      0.46      0.35       741\n",
      "     No-Show       0.22      0.02      0.04       398\n",
      "\n",
      "    accuracy                           0.45      2749\n",
      "   macro avg       0.36      0.35      0.32      2749\n",
      "weighted avg       0.46      0.45      0.44      2749\n",
      "\n",
      "==========================================================================\n",
      "i= 0.8 j= 3.0 k= 7\n"
     ]
    },
    {
     "name": "stderr",
     "output_type": "stream",
     "text": [
      "c:\\users\\redline pc\\appdata\\local\\programs\\python\\python38\\lib\\site-packages\\xgboost\\sklearn.py:888: UserWarning: The use of label encoder in XGBClassifier is deprecated and will be removed in a future release. To remove this warning, do the following: 1) Pass option use_label_encoder=False when constructing XGBClassifier object; and 2) Encode your labels (y) as integers starting with 0, i.e. 0, 1, 2, ..., [num_class - 1].\n",
      "  warnings.warn(label_encoder_deprecation_msg, UserWarning)\n",
      "c:\\users\\redline pc\\appdata\\local\\programs\\python\\python38\\lib\\site-packages\\sklearn\\utils\\validation.py:63: DataConversionWarning: A column-vector y was passed when a 1d array was expected. Please change the shape of y to (n_samples, ), for example using ravel().\n",
      "  return f(*args, **kwargs)\n"
     ]
    },
    {
     "name": "stdout",
     "output_type": "stream",
     "text": [
      "              precision    recall  f1-score   support\n",
      "\n",
      "    Check-In       0.60      0.50      0.55      1610\n",
      "    Canceled       0.28      0.51      0.36       741\n",
      "     No-Show       0.20      0.03      0.04       398\n",
      "\n",
      "    accuracy                           0.44      2749\n",
      "   macro avg       0.36      0.35      0.32      2749\n",
      "weighted avg       0.45      0.44      0.42      2749\n",
      "\n",
      "==========================================================================\n",
      "i= 0.8 j= 3.0 k= 8\n"
     ]
    },
    {
     "name": "stderr",
     "output_type": "stream",
     "text": [
      "c:\\users\\redline pc\\appdata\\local\\programs\\python\\python38\\lib\\site-packages\\xgboost\\sklearn.py:888: UserWarning: The use of label encoder in XGBClassifier is deprecated and will be removed in a future release. To remove this warning, do the following: 1) Pass option use_label_encoder=False when constructing XGBClassifier object; and 2) Encode your labels (y) as integers starting with 0, i.e. 0, 1, 2, ..., [num_class - 1].\n",
      "  warnings.warn(label_encoder_deprecation_msg, UserWarning)\n",
      "c:\\users\\redline pc\\appdata\\local\\programs\\python\\python38\\lib\\site-packages\\sklearn\\utils\\validation.py:63: DataConversionWarning: A column-vector y was passed when a 1d array was expected. Please change the shape of y to (n_samples, ), for example using ravel().\n",
      "  return f(*args, **kwargs)\n"
     ]
    },
    {
     "name": "stdout",
     "output_type": "stream",
     "text": [
      "              precision    recall  f1-score   support\n",
      "\n",
      "    Check-In       0.61      0.46      0.53      1610\n",
      "    Canceled       0.28      0.56      0.38       741\n",
      "     No-Show       0.20      0.03      0.04       398\n",
      "\n",
      "    accuracy                           0.43      2749\n",
      "   macro avg       0.37      0.35      0.32      2749\n",
      "weighted avg       0.46      0.43      0.42      2749\n",
      "\n",
      "==========================================================================\n",
      "i= 0.8 j= 3.0 k= 9\n"
     ]
    },
    {
     "name": "stderr",
     "output_type": "stream",
     "text": [
      "c:\\users\\redline pc\\appdata\\local\\programs\\python\\python38\\lib\\site-packages\\xgboost\\sklearn.py:888: UserWarning: The use of label encoder in XGBClassifier is deprecated and will be removed in a future release. To remove this warning, do the following: 1) Pass option use_label_encoder=False when constructing XGBClassifier object; and 2) Encode your labels (y) as integers starting with 0, i.e. 0, 1, 2, ..., [num_class - 1].\n",
      "  warnings.warn(label_encoder_deprecation_msg, UserWarning)\n",
      "c:\\users\\redline pc\\appdata\\local\\programs\\python\\python38\\lib\\site-packages\\sklearn\\utils\\validation.py:63: DataConversionWarning: A column-vector y was passed when a 1d array was expected. Please change the shape of y to (n_samples, ), for example using ravel().\n",
      "  return f(*args, **kwargs)\n"
     ]
    },
    {
     "name": "stdout",
     "output_type": "stream",
     "text": [
      "              precision    recall  f1-score   support\n",
      "\n",
      "    Check-In       0.61      0.44      0.51      1610\n",
      "    Canceled       0.28      0.58      0.38       741\n",
      "     No-Show       0.15      0.02      0.04       398\n",
      "\n",
      "    accuracy                           0.41      2749\n",
      "   macro avg       0.34      0.35      0.31      2749\n",
      "weighted avg       0.45      0.41      0.40      2749\n",
      "\n",
      "==========================================================================\n",
      "i= 0.8 j= 3.5 k= 3\n"
     ]
    },
    {
     "name": "stderr",
     "output_type": "stream",
     "text": [
      "c:\\users\\redline pc\\appdata\\local\\programs\\python\\python38\\lib\\site-packages\\xgboost\\sklearn.py:888: UserWarning: The use of label encoder in XGBClassifier is deprecated and will be removed in a future release. To remove this warning, do the following: 1) Pass option use_label_encoder=False when constructing XGBClassifier object; and 2) Encode your labels (y) as integers starting with 0, i.e. 0, 1, 2, ..., [num_class - 1].\n",
      "  warnings.warn(label_encoder_deprecation_msg, UserWarning)\n",
      "c:\\users\\redline pc\\appdata\\local\\programs\\python\\python38\\lib\\site-packages\\sklearn\\utils\\validation.py:63: DataConversionWarning: A column-vector y was passed when a 1d array was expected. Please change the shape of y to (n_samples, ), for example using ravel().\n",
      "  return f(*args, **kwargs)\n"
     ]
    },
    {
     "name": "stdout",
     "output_type": "stream",
     "text": [
      "              precision    recall  f1-score   support\n",
      "\n",
      "    Check-In       0.59      0.74      0.65      1610\n",
      "    Canceled       0.27      0.26      0.27       741\n",
      "     No-Show       0.29      0.01      0.01       398\n",
      "\n",
      "    accuracy                           0.50      2749\n",
      "   macro avg       0.38      0.34      0.31      2749\n",
      "weighted avg       0.46      0.50      0.46      2749\n",
      "\n",
      "==========================================================================\n",
      "i= 0.8 j= 3.5 k= 4\n"
     ]
    },
    {
     "name": "stderr",
     "output_type": "stream",
     "text": [
      "c:\\users\\redline pc\\appdata\\local\\programs\\python\\python38\\lib\\site-packages\\xgboost\\sklearn.py:888: UserWarning: The use of label encoder in XGBClassifier is deprecated and will be removed in a future release. To remove this warning, do the following: 1) Pass option use_label_encoder=False when constructing XGBClassifier object; and 2) Encode your labels (y) as integers starting with 0, i.e. 0, 1, 2, ..., [num_class - 1].\n",
      "  warnings.warn(label_encoder_deprecation_msg, UserWarning)\n",
      "c:\\users\\redline pc\\appdata\\local\\programs\\python\\python38\\lib\\site-packages\\sklearn\\utils\\validation.py:63: DataConversionWarning: A column-vector y was passed when a 1d array was expected. Please change the shape of y to (n_samples, ), for example using ravel().\n",
      "  return f(*args, **kwargs)\n"
     ]
    },
    {
     "name": "stdout",
     "output_type": "stream",
     "text": [
      "              precision    recall  f1-score   support\n",
      "\n",
      "    Check-In       0.59      0.70      0.64      1610\n",
      "    Canceled       0.27      0.29      0.28       741\n",
      "     No-Show       0.11      0.01      0.02       398\n",
      "\n",
      "    accuracy                           0.49      2749\n",
      "   macro avg       0.32      0.33      0.31      2749\n",
      "weighted avg       0.43      0.49      0.45      2749\n",
      "\n",
      "==========================================================================\n",
      "i= 0.8 j= 3.5 k= 5\n"
     ]
    },
    {
     "name": "stderr",
     "output_type": "stream",
     "text": [
      "c:\\users\\redline pc\\appdata\\local\\programs\\python\\python38\\lib\\site-packages\\xgboost\\sklearn.py:888: UserWarning: The use of label encoder in XGBClassifier is deprecated and will be removed in a future release. To remove this warning, do the following: 1) Pass option use_label_encoder=False when constructing XGBClassifier object; and 2) Encode your labels (y) as integers starting with 0, i.e. 0, 1, 2, ..., [num_class - 1].\n",
      "  warnings.warn(label_encoder_deprecation_msg, UserWarning)\n",
      "c:\\users\\redline pc\\appdata\\local\\programs\\python\\python38\\lib\\site-packages\\sklearn\\utils\\validation.py:63: DataConversionWarning: A column-vector y was passed when a 1d array was expected. Please change the shape of y to (n_samples, ), for example using ravel().\n",
      "  return f(*args, **kwargs)\n"
     ]
    },
    {
     "name": "stdout",
     "output_type": "stream",
     "text": [
      "              precision    recall  f1-score   support\n",
      "\n",
      "    Check-In       0.59      0.71      0.65      1610\n",
      "    Canceled       0.28      0.27      0.27       741\n",
      "     No-Show       0.18      0.05      0.08       398\n",
      "\n",
      "    accuracy                           0.50      2749\n",
      "   macro avg       0.35      0.34      0.33      2749\n",
      "weighted avg       0.45      0.50      0.46      2749\n",
      "\n",
      "==========================================================================\n",
      "i= 0.8 j= 3.5 k= 6\n"
     ]
    },
    {
     "name": "stderr",
     "output_type": "stream",
     "text": [
      "c:\\users\\redline pc\\appdata\\local\\programs\\python\\python38\\lib\\site-packages\\xgboost\\sklearn.py:888: UserWarning: The use of label encoder in XGBClassifier is deprecated and will be removed in a future release. To remove this warning, do the following: 1) Pass option use_label_encoder=False when constructing XGBClassifier object; and 2) Encode your labels (y) as integers starting with 0, i.e. 0, 1, 2, ..., [num_class - 1].\n",
      "  warnings.warn(label_encoder_deprecation_msg, UserWarning)\n",
      "c:\\users\\redline pc\\appdata\\local\\programs\\python\\python38\\lib\\site-packages\\sklearn\\utils\\validation.py:63: DataConversionWarning: A column-vector y was passed when a 1d array was expected. Please change the shape of y to (n_samples, ), for example using ravel().\n",
      "  return f(*args, **kwargs)\n"
     ]
    },
    {
     "name": "stdout",
     "output_type": "stream",
     "text": [
      "              precision    recall  f1-score   support\n",
      "\n",
      "    Check-In       0.59      0.67      0.63      1610\n",
      "    Canceled       0.27      0.23      0.25       741\n",
      "     No-Show       0.17      0.11      0.13       398\n",
      "\n",
      "    accuracy                           0.47      2749\n",
      "   macro avg       0.34      0.34      0.34      2749\n",
      "weighted avg       0.44      0.47      0.45      2749\n",
      "\n",
      "==========================================================================\n",
      "i= 0.8 j= 3.5 k= 7\n"
     ]
    },
    {
     "name": "stderr",
     "output_type": "stream",
     "text": [
      "c:\\users\\redline pc\\appdata\\local\\programs\\python\\python38\\lib\\site-packages\\xgboost\\sklearn.py:888: UserWarning: The use of label encoder in XGBClassifier is deprecated and will be removed in a future release. To remove this warning, do the following: 1) Pass option use_label_encoder=False when constructing XGBClassifier object; and 2) Encode your labels (y) as integers starting with 0, i.e. 0, 1, 2, ..., [num_class - 1].\n",
      "  warnings.warn(label_encoder_deprecation_msg, UserWarning)\n",
      "c:\\users\\redline pc\\appdata\\local\\programs\\python\\python38\\lib\\site-packages\\sklearn\\utils\\validation.py:63: DataConversionWarning: A column-vector y was passed when a 1d array was expected. Please change the shape of y to (n_samples, ), for example using ravel().\n",
      "  return f(*args, **kwargs)\n"
     ]
    },
    {
     "name": "stdout",
     "output_type": "stream",
     "text": [
      "              precision    recall  f1-score   support\n",
      "\n",
      "    Check-In       0.59      0.66      0.62      1610\n",
      "    Canceled       0.28      0.19      0.23       741\n",
      "     No-Show       0.18      0.20      0.19       398\n",
      "\n",
      "    accuracy                           0.47      2749\n",
      "   macro avg       0.35      0.35      0.35      2749\n",
      "weighted avg       0.45      0.47      0.45      2749\n",
      "\n",
      "==========================================================================\n",
      "i= 0.8 j= 3.5 k= 8\n"
     ]
    },
    {
     "name": "stderr",
     "output_type": "stream",
     "text": [
      "c:\\users\\redline pc\\appdata\\local\\programs\\python\\python38\\lib\\site-packages\\xgboost\\sklearn.py:888: UserWarning: The use of label encoder in XGBClassifier is deprecated and will be removed in a future release. To remove this warning, do the following: 1) Pass option use_label_encoder=False when constructing XGBClassifier object; and 2) Encode your labels (y) as integers starting with 0, i.e. 0, 1, 2, ..., [num_class - 1].\n",
      "  warnings.warn(label_encoder_deprecation_msg, UserWarning)\n",
      "c:\\users\\redline pc\\appdata\\local\\programs\\python\\python38\\lib\\site-packages\\sklearn\\utils\\validation.py:63: DataConversionWarning: A column-vector y was passed when a 1d array was expected. Please change the shape of y to (n_samples, ), for example using ravel().\n",
      "  return f(*args, **kwargs)\n"
     ]
    },
    {
     "name": "stdout",
     "output_type": "stream",
     "text": [
      "              precision    recall  f1-score   support\n",
      "\n",
      "    Check-In       0.59      0.63      0.61      1610\n",
      "    Canceled       0.28      0.16      0.21       741\n",
      "     No-Show       0.16      0.23      0.19       398\n",
      "\n",
      "    accuracy                           0.45      2749\n",
      "   macro avg       0.34      0.34      0.34      2749\n",
      "weighted avg       0.44      0.45      0.44      2749\n",
      "\n",
      "==========================================================================\n",
      "i= 0.8 j= 3.5 k= 9\n"
     ]
    },
    {
     "name": "stderr",
     "output_type": "stream",
     "text": [
      "c:\\users\\redline pc\\appdata\\local\\programs\\python\\python38\\lib\\site-packages\\xgboost\\sklearn.py:888: UserWarning: The use of label encoder in XGBClassifier is deprecated and will be removed in a future release. To remove this warning, do the following: 1) Pass option use_label_encoder=False when constructing XGBClassifier object; and 2) Encode your labels (y) as integers starting with 0, i.e. 0, 1, 2, ..., [num_class - 1].\n",
      "  warnings.warn(label_encoder_deprecation_msg, UserWarning)\n",
      "c:\\users\\redline pc\\appdata\\local\\programs\\python\\python38\\lib\\site-packages\\sklearn\\utils\\validation.py:63: DataConversionWarning: A column-vector y was passed when a 1d array was expected. Please change the shape of y to (n_samples, ), for example using ravel().\n",
      "  return f(*args, **kwargs)\n"
     ]
    },
    {
     "name": "stdout",
     "output_type": "stream",
     "text": [
      "              precision    recall  f1-score   support\n",
      "\n",
      "    Check-In       0.59      0.63      0.61      1610\n",
      "    Canceled       0.29      0.13      0.18       741\n",
      "     No-Show       0.15      0.27      0.19       398\n",
      "\n",
      "    accuracy                           0.44      2749\n",
      "   macro avg       0.34      0.34      0.32      2749\n",
      "weighted avg       0.45      0.44      0.43      2749\n",
      "\n",
      "==========================================================================\n",
      "i= 0.8 j= 4.0 k= 3\n"
     ]
    },
    {
     "name": "stderr",
     "output_type": "stream",
     "text": [
      "c:\\users\\redline pc\\appdata\\local\\programs\\python\\python38\\lib\\site-packages\\xgboost\\sklearn.py:888: UserWarning: The use of label encoder in XGBClassifier is deprecated and will be removed in a future release. To remove this warning, do the following: 1) Pass option use_label_encoder=False when constructing XGBClassifier object; and 2) Encode your labels (y) as integers starting with 0, i.e. 0, 1, 2, ..., [num_class - 1].\n",
      "  warnings.warn(label_encoder_deprecation_msg, UserWarning)\n",
      "c:\\users\\redline pc\\appdata\\local\\programs\\python\\python38\\lib\\site-packages\\sklearn\\utils\\validation.py:63: DataConversionWarning: A column-vector y was passed when a 1d array was expected. Please change the shape of y to (n_samples, ), for example using ravel().\n",
      "  return f(*args, **kwargs)\n"
     ]
    },
    {
     "name": "stdout",
     "output_type": "stream",
     "text": [
      "              precision    recall  f1-score   support\n",
      "\n",
      "    Check-In       0.59      0.67      0.63      1610\n",
      "    Canceled       0.28      0.35      0.31       741\n",
      "     No-Show       0.29      0.01      0.01       398\n",
      "\n",
      "    accuracy                           0.48      2749\n",
      "   macro avg       0.38      0.34      0.32      2749\n",
      "weighted avg       0.46      0.48      0.45      2749\n",
      "\n",
      "==========================================================================\n",
      "i= 0.8 j= 4.0 k= 4\n"
     ]
    },
    {
     "name": "stderr",
     "output_type": "stream",
     "text": [
      "c:\\users\\redline pc\\appdata\\local\\programs\\python\\python38\\lib\\site-packages\\xgboost\\sklearn.py:888: UserWarning: The use of label encoder in XGBClassifier is deprecated and will be removed in a future release. To remove this warning, do the following: 1) Pass option use_label_encoder=False when constructing XGBClassifier object; and 2) Encode your labels (y) as integers starting with 0, i.e. 0, 1, 2, ..., [num_class - 1].\n",
      "  warnings.warn(label_encoder_deprecation_msg, UserWarning)\n",
      "c:\\users\\redline pc\\appdata\\local\\programs\\python\\python38\\lib\\site-packages\\sklearn\\utils\\validation.py:63: DataConversionWarning: A column-vector y was passed when a 1d array was expected. Please change the shape of y to (n_samples, ), for example using ravel().\n",
      "  return f(*args, **kwargs)\n"
     ]
    },
    {
     "name": "stdout",
     "output_type": "stream",
     "text": [
      "              precision    recall  f1-score   support\n",
      "\n",
      "    Check-In       0.59      0.68      0.63      1610\n",
      "    Canceled       0.27      0.32      0.30       741\n",
      "     No-Show       0.00      0.00      0.00       398\n",
      "\n",
      "    accuracy                           0.48      2749\n",
      "   macro avg       0.29      0.33      0.31      2749\n",
      "weighted avg       0.42      0.48      0.45      2749\n",
      "\n",
      "==========================================================================\n",
      "i= 0.8 j= 4.0 k= 5\n"
     ]
    },
    {
     "name": "stderr",
     "output_type": "stream",
     "text": [
      "c:\\users\\redline pc\\appdata\\local\\programs\\python\\python38\\lib\\site-packages\\xgboost\\sklearn.py:888: UserWarning: The use of label encoder in XGBClassifier is deprecated and will be removed in a future release. To remove this warning, do the following: 1) Pass option use_label_encoder=False when constructing XGBClassifier object; and 2) Encode your labels (y) as integers starting with 0, i.e. 0, 1, 2, ..., [num_class - 1].\n",
      "  warnings.warn(label_encoder_deprecation_msg, UserWarning)\n",
      "c:\\users\\redline pc\\appdata\\local\\programs\\python\\python38\\lib\\site-packages\\sklearn\\utils\\validation.py:63: DataConversionWarning: A column-vector y was passed when a 1d array was expected. Please change the shape of y to (n_samples, ), for example using ravel().\n",
      "  return f(*args, **kwargs)\n"
     ]
    },
    {
     "name": "stdout",
     "output_type": "stream",
     "text": [
      "              precision    recall  f1-score   support\n",
      "\n",
      "    Check-In       0.59      0.65      0.62      1610\n",
      "    Canceled       0.27      0.32      0.29       741\n",
      "     No-Show       0.19      0.04      0.06       398\n",
      "\n",
      "    accuracy                           0.47      2749\n",
      "   macro avg       0.35      0.34      0.32      2749\n",
      "weighted avg       0.44      0.47      0.45      2749\n",
      "\n",
      "==========================================================================\n",
      "i= 0.8 j= 4.0 k= 6\n"
     ]
    },
    {
     "name": "stderr",
     "output_type": "stream",
     "text": [
      "c:\\users\\redline pc\\appdata\\local\\programs\\python\\python38\\lib\\site-packages\\xgboost\\sklearn.py:888: UserWarning: The use of label encoder in XGBClassifier is deprecated and will be removed in a future release. To remove this warning, do the following: 1) Pass option use_label_encoder=False when constructing XGBClassifier object; and 2) Encode your labels (y) as integers starting with 0, i.e. 0, 1, 2, ..., [num_class - 1].\n",
      "  warnings.warn(label_encoder_deprecation_msg, UserWarning)\n",
      "c:\\users\\redline pc\\appdata\\local\\programs\\python\\python38\\lib\\site-packages\\sklearn\\utils\\validation.py:63: DataConversionWarning: A column-vector y was passed when a 1d array was expected. Please change the shape of y to (n_samples, ), for example using ravel().\n",
      "  return f(*args, **kwargs)\n"
     ]
    },
    {
     "name": "stdout",
     "output_type": "stream",
     "text": [
      "              precision    recall  f1-score   support\n",
      "\n",
      "    Check-In       0.59      0.65      0.62      1610\n",
      "    Canceled       0.28      0.30      0.29       741\n",
      "     No-Show       0.18      0.08      0.11       398\n",
      "\n",
      "    accuracy                           0.48      2749\n",
      "   macro avg       0.35      0.35      0.34      2749\n",
      "weighted avg       0.45      0.48      0.46      2749\n",
      "\n",
      "==========================================================================\n",
      "i= 0.8 j= 4.0 k= 7\n"
     ]
    },
    {
     "name": "stderr",
     "output_type": "stream",
     "text": [
      "c:\\users\\redline pc\\appdata\\local\\programs\\python\\python38\\lib\\site-packages\\xgboost\\sklearn.py:888: UserWarning: The use of label encoder in XGBClassifier is deprecated and will be removed in a future release. To remove this warning, do the following: 1) Pass option use_label_encoder=False when constructing XGBClassifier object; and 2) Encode your labels (y) as integers starting with 0, i.e. 0, 1, 2, ..., [num_class - 1].\n",
      "  warnings.warn(label_encoder_deprecation_msg, UserWarning)\n",
      "c:\\users\\redline pc\\appdata\\local\\programs\\python\\python38\\lib\\site-packages\\sklearn\\utils\\validation.py:63: DataConversionWarning: A column-vector y was passed when a 1d array was expected. Please change the shape of y to (n_samples, ), for example using ravel().\n",
      "  return f(*args, **kwargs)\n"
     ]
    },
    {
     "name": "stdout",
     "output_type": "stream",
     "text": [
      "              precision    recall  f1-score   support\n",
      "\n",
      "    Check-In       0.59      0.64      0.61      1610\n",
      "    Canceled       0.28      0.25      0.26       741\n",
      "     No-Show       0.15      0.13      0.14       398\n",
      "\n",
      "    accuracy                           0.46      2749\n",
      "   macro avg       0.34      0.34      0.34      2749\n",
      "weighted avg       0.44      0.46      0.45      2749\n",
      "\n",
      "==========================================================================\n",
      "i= 0.8 j= 4.0 k= 8\n"
     ]
    },
    {
     "name": "stderr",
     "output_type": "stream",
     "text": [
      "c:\\users\\redline pc\\appdata\\local\\programs\\python\\python38\\lib\\site-packages\\xgboost\\sklearn.py:888: UserWarning: The use of label encoder in XGBClassifier is deprecated and will be removed in a future release. To remove this warning, do the following: 1) Pass option use_label_encoder=False when constructing XGBClassifier object; and 2) Encode your labels (y) as integers starting with 0, i.e. 0, 1, 2, ..., [num_class - 1].\n",
      "  warnings.warn(label_encoder_deprecation_msg, UserWarning)\n",
      "c:\\users\\redline pc\\appdata\\local\\programs\\python\\python38\\lib\\site-packages\\sklearn\\utils\\validation.py:63: DataConversionWarning: A column-vector y was passed when a 1d array was expected. Please change the shape of y to (n_samples, ), for example using ravel().\n",
      "  return f(*args, **kwargs)\n"
     ]
    },
    {
     "name": "stdout",
     "output_type": "stream",
     "text": [
      "              precision    recall  f1-score   support\n",
      "\n",
      "    Check-In       0.59      0.61      0.60      1610\n",
      "    Canceled       0.27      0.22      0.24       741\n",
      "     No-Show       0.16      0.20      0.18       398\n",
      "\n",
      "    accuracy                           0.45      2749\n",
      "   macro avg       0.34      0.34      0.34      2749\n",
      "weighted avg       0.44      0.45      0.44      2749\n",
      "\n",
      "==========================================================================\n",
      "i= 0.8 j= 4.0 k= 9\n"
     ]
    },
    {
     "name": "stderr",
     "output_type": "stream",
     "text": [
      "c:\\users\\redline pc\\appdata\\local\\programs\\python\\python38\\lib\\site-packages\\xgboost\\sklearn.py:888: UserWarning: The use of label encoder in XGBClassifier is deprecated and will be removed in a future release. To remove this warning, do the following: 1) Pass option use_label_encoder=False when constructing XGBClassifier object; and 2) Encode your labels (y) as integers starting with 0, i.e. 0, 1, 2, ..., [num_class - 1].\n",
      "  warnings.warn(label_encoder_deprecation_msg, UserWarning)\n",
      "c:\\users\\redline pc\\appdata\\local\\programs\\python\\python38\\lib\\site-packages\\sklearn\\utils\\validation.py:63: DataConversionWarning: A column-vector y was passed when a 1d array was expected. Please change the shape of y to (n_samples, ), for example using ravel().\n",
      "  return f(*args, **kwargs)\n"
     ]
    },
    {
     "name": "stdout",
     "output_type": "stream",
     "text": [
      "              precision    recall  f1-score   support\n",
      "\n",
      "    Check-In       0.59      0.60      0.59      1610\n",
      "    Canceled       0.28      0.18      0.22       741\n",
      "     No-Show       0.15      0.25      0.19       398\n",
      "\n",
      "    accuracy                           0.43      2749\n",
      "   macro avg       0.34      0.34      0.33      2749\n",
      "weighted avg       0.44      0.43      0.43      2749\n",
      "\n",
      "==========================================================================\n",
      "i= 0.8 j= 4.5 k= 3\n"
     ]
    },
    {
     "name": "stderr",
     "output_type": "stream",
     "text": [
      "c:\\users\\redline pc\\appdata\\local\\programs\\python\\python38\\lib\\site-packages\\xgboost\\sklearn.py:888: UserWarning: The use of label encoder in XGBClassifier is deprecated and will be removed in a future release. To remove this warning, do the following: 1) Pass option use_label_encoder=False when constructing XGBClassifier object; and 2) Encode your labels (y) as integers starting with 0, i.e. 0, 1, 2, ..., [num_class - 1].\n",
      "  warnings.warn(label_encoder_deprecation_msg, UserWarning)\n",
      "c:\\users\\redline pc\\appdata\\local\\programs\\python\\python38\\lib\\site-packages\\sklearn\\utils\\validation.py:63: DataConversionWarning: A column-vector y was passed when a 1d array was expected. Please change the shape of y to (n_samples, ), for example using ravel().\n",
      "  return f(*args, **kwargs)\n"
     ]
    },
    {
     "name": "stdout",
     "output_type": "stream",
     "text": [
      "              precision    recall  f1-score   support\n",
      "\n",
      "    Check-In       0.59      0.66      0.62      1610\n",
      "    Canceled       0.28      0.36      0.31       741\n",
      "     No-Show       0.00      0.00      0.00       398\n",
      "\n",
      "    accuracy                           0.48      2749\n",
      "   macro avg       0.29      0.34      0.31      2749\n",
      "weighted avg       0.42      0.48      0.45      2749\n",
      "\n",
      "==========================================================================\n",
      "i= 0.8 j= 4.5 k= 4\n"
     ]
    },
    {
     "name": "stderr",
     "output_type": "stream",
     "text": [
      "c:\\users\\redline pc\\appdata\\local\\programs\\python\\python38\\lib\\site-packages\\xgboost\\sklearn.py:888: UserWarning: The use of label encoder in XGBClassifier is deprecated and will be removed in a future release. To remove this warning, do the following: 1) Pass option use_label_encoder=False when constructing XGBClassifier object; and 2) Encode your labels (y) as integers starting with 0, i.e. 0, 1, 2, ..., [num_class - 1].\n",
      "  warnings.warn(label_encoder_deprecation_msg, UserWarning)\n",
      "c:\\users\\redline pc\\appdata\\local\\programs\\python\\python38\\lib\\site-packages\\sklearn\\utils\\validation.py:63: DataConversionWarning: A column-vector y was passed when a 1d array was expected. Please change the shape of y to (n_samples, ), for example using ravel().\n",
      "  return f(*args, **kwargs)\n"
     ]
    },
    {
     "name": "stdout",
     "output_type": "stream",
     "text": [
      "              precision    recall  f1-score   support\n",
      "\n",
      "    Check-In       0.59      0.64      0.61      1610\n",
      "    Canceled       0.28      0.38      0.32       741\n",
      "     No-Show       0.00      0.00      0.00       398\n",
      "\n",
      "    accuracy                           0.47      2749\n",
      "   macro avg       0.29      0.34      0.31      2749\n",
      "weighted avg       0.42      0.47      0.44      2749\n",
      "\n",
      "==========================================================================\n",
      "i= 0.8 j= 4.5 k= 5\n"
     ]
    },
    {
     "name": "stderr",
     "output_type": "stream",
     "text": [
      "c:\\users\\redline pc\\appdata\\local\\programs\\python\\python38\\lib\\site-packages\\xgboost\\sklearn.py:888: UserWarning: The use of label encoder in XGBClassifier is deprecated and will be removed in a future release. To remove this warning, do the following: 1) Pass option use_label_encoder=False when constructing XGBClassifier object; and 2) Encode your labels (y) as integers starting with 0, i.e. 0, 1, 2, ..., [num_class - 1].\n",
      "  warnings.warn(label_encoder_deprecation_msg, UserWarning)\n",
      "c:\\users\\redline pc\\appdata\\local\\programs\\python\\python38\\lib\\site-packages\\sklearn\\utils\\validation.py:63: DataConversionWarning: A column-vector y was passed when a 1d array was expected. Please change the shape of y to (n_samples, ), for example using ravel().\n",
      "  return f(*args, **kwargs)\n"
     ]
    },
    {
     "name": "stdout",
     "output_type": "stream",
     "text": [
      "              precision    recall  f1-score   support\n",
      "\n",
      "    Check-In       0.59      0.63      0.61      1610\n",
      "    Canceled       0.28      0.38      0.32       741\n",
      "     No-Show       0.30      0.03      0.06       398\n",
      "\n",
      "    accuracy                           0.48      2749\n",
      "   macro avg       0.39      0.35      0.33      2749\n",
      "weighted avg       0.47      0.48      0.45      2749\n",
      "\n",
      "==========================================================================\n",
      "i= 0.8 j= 4.5 k= 6\n"
     ]
    },
    {
     "name": "stderr",
     "output_type": "stream",
     "text": [
      "c:\\users\\redline pc\\appdata\\local\\programs\\python\\python38\\lib\\site-packages\\xgboost\\sklearn.py:888: UserWarning: The use of label encoder in XGBClassifier is deprecated and will be removed in a future release. To remove this warning, do the following: 1) Pass option use_label_encoder=False when constructing XGBClassifier object; and 2) Encode your labels (y) as integers starting with 0, i.e. 0, 1, 2, ..., [num_class - 1].\n",
      "  warnings.warn(label_encoder_deprecation_msg, UserWarning)\n",
      "c:\\users\\redline pc\\appdata\\local\\programs\\python\\python38\\lib\\site-packages\\sklearn\\utils\\validation.py:63: DataConversionWarning: A column-vector y was passed when a 1d array was expected. Please change the shape of y to (n_samples, ), for example using ravel().\n",
      "  return f(*args, **kwargs)\n"
     ]
    },
    {
     "name": "stdout",
     "output_type": "stream",
     "text": [
      "              precision    recall  f1-score   support\n",
      "\n",
      "    Check-In       0.59      0.62      0.61      1610\n",
      "    Canceled       0.27      0.35      0.31       741\n",
      "     No-Show       0.17      0.05      0.07       398\n",
      "\n",
      "    accuracy                           0.47      2749\n",
      "   macro avg       0.35      0.34      0.33      2749\n",
      "weighted avg       0.45      0.47      0.45      2749\n",
      "\n",
      "==========================================================================\n",
      "i= 0.8 j= 4.5 k= 7\n"
     ]
    },
    {
     "name": "stderr",
     "output_type": "stream",
     "text": [
      "c:\\users\\redline pc\\appdata\\local\\programs\\python\\python38\\lib\\site-packages\\xgboost\\sklearn.py:888: UserWarning: The use of label encoder in XGBClassifier is deprecated and will be removed in a future release. To remove this warning, do the following: 1) Pass option use_label_encoder=False when constructing XGBClassifier object; and 2) Encode your labels (y) as integers starting with 0, i.e. 0, 1, 2, ..., [num_class - 1].\n",
      "  warnings.warn(label_encoder_deprecation_msg, UserWarning)\n",
      "c:\\users\\redline pc\\appdata\\local\\programs\\python\\python38\\lib\\site-packages\\sklearn\\utils\\validation.py:63: DataConversionWarning: A column-vector y was passed when a 1d array was expected. Please change the shape of y to (n_samples, ), for example using ravel().\n",
      "  return f(*args, **kwargs)\n"
     ]
    },
    {
     "name": "stdout",
     "output_type": "stream",
     "text": [
      "              precision    recall  f1-score   support\n",
      "\n",
      "    Check-In       0.60      0.61      0.60      1610\n",
      "    Canceled       0.29      0.33      0.31       741\n",
      "     No-Show       0.18      0.11      0.14       398\n",
      "\n",
      "    accuracy                           0.46      2749\n",
      "   macro avg       0.35      0.35      0.35      2749\n",
      "weighted avg       0.45      0.46      0.46      2749\n",
      "\n",
      "==========================================================================\n",
      "i= 0.8 j= 4.5 k= 8\n"
     ]
    },
    {
     "name": "stderr",
     "output_type": "stream",
     "text": [
      "c:\\users\\redline pc\\appdata\\local\\programs\\python\\python38\\lib\\site-packages\\xgboost\\sklearn.py:888: UserWarning: The use of label encoder in XGBClassifier is deprecated and will be removed in a future release. To remove this warning, do the following: 1) Pass option use_label_encoder=False when constructing XGBClassifier object; and 2) Encode your labels (y) as integers starting with 0, i.e. 0, 1, 2, ..., [num_class - 1].\n",
      "  warnings.warn(label_encoder_deprecation_msg, UserWarning)\n",
      "c:\\users\\redline pc\\appdata\\local\\programs\\python\\python38\\lib\\site-packages\\sklearn\\utils\\validation.py:63: DataConversionWarning: A column-vector y was passed when a 1d array was expected. Please change the shape of y to (n_samples, ), for example using ravel().\n",
      "  return f(*args, **kwargs)\n"
     ]
    },
    {
     "name": "stdout",
     "output_type": "stream",
     "text": [
      "              precision    recall  f1-score   support\n",
      "\n",
      "    Check-In       0.60      0.61      0.60      1610\n",
      "    Canceled       0.29      0.28      0.28       741\n",
      "     No-Show       0.18      0.17      0.17       398\n",
      "\n",
      "    accuracy                           0.46      2749\n",
      "   macro avg       0.35      0.35      0.35      2749\n",
      "weighted avg       0.45      0.46      0.45      2749\n",
      "\n",
      "==========================================================================\n",
      "i= 0.8 j= 4.5 k= 9\n"
     ]
    },
    {
     "name": "stderr",
     "output_type": "stream",
     "text": [
      "c:\\users\\redline pc\\appdata\\local\\programs\\python\\python38\\lib\\site-packages\\xgboost\\sklearn.py:888: UserWarning: The use of label encoder in XGBClassifier is deprecated and will be removed in a future release. To remove this warning, do the following: 1) Pass option use_label_encoder=False when constructing XGBClassifier object; and 2) Encode your labels (y) as integers starting with 0, i.e. 0, 1, 2, ..., [num_class - 1].\n",
      "  warnings.warn(label_encoder_deprecation_msg, UserWarning)\n",
      "c:\\users\\redline pc\\appdata\\local\\programs\\python\\python38\\lib\\site-packages\\sklearn\\utils\\validation.py:63: DataConversionWarning: A column-vector y was passed when a 1d array was expected. Please change the shape of y to (n_samples, ), for example using ravel().\n",
      "  return f(*args, **kwargs)\n"
     ]
    },
    {
     "name": "stdout",
     "output_type": "stream",
     "text": [
      "              precision    recall  f1-score   support\n",
      "\n",
      "    Check-In       0.59      0.58      0.59      1610\n",
      "    Canceled       0.28      0.25      0.26       741\n",
      "     No-Show       0.15      0.20      0.17       398\n",
      "\n",
      "    accuracy                           0.43      2749\n",
      "   macro avg       0.34      0.34      0.34      2749\n",
      "weighted avg       0.44      0.43      0.44      2749\n",
      "\n",
      "==========================================================================\n",
      "i= 0.9 j= 1.5 k= 3\n"
     ]
    },
    {
     "name": "stderr",
     "output_type": "stream",
     "text": [
      "c:\\users\\redline pc\\appdata\\local\\programs\\python\\python38\\lib\\site-packages\\xgboost\\sklearn.py:888: UserWarning: The use of label encoder in XGBClassifier is deprecated and will be removed in a future release. To remove this warning, do the following: 1) Pass option use_label_encoder=False when constructing XGBClassifier object; and 2) Encode your labels (y) as integers starting with 0, i.e. 0, 1, 2, ..., [num_class - 1].\n",
      "  warnings.warn(label_encoder_deprecation_msg, UserWarning)\n",
      "c:\\users\\redline pc\\appdata\\local\\programs\\python\\python38\\lib\\site-packages\\sklearn\\utils\\validation.py:63: DataConversionWarning: A column-vector y was passed when a 1d array was expected. Please change the shape of y to (n_samples, ), for example using ravel().\n",
      "  return f(*args, **kwargs)\n"
     ]
    },
    {
     "name": "stdout",
     "output_type": "stream",
     "text": [
      "              precision    recall  f1-score   support\n",
      "\n",
      "    Check-In       0.59      0.98      0.73      1610\n",
      "    Canceled       0.29      0.01      0.02       741\n",
      "     No-Show       0.12      0.01      0.01       398\n",
      "\n",
      "    accuracy                           0.58      2749\n",
      "   macro avg       0.33      0.33      0.26      2749\n",
      "weighted avg       0.44      0.58      0.44      2749\n",
      "\n",
      "==========================================================================\n",
      "i= 0.9 j= 1.5 k= 4\n"
     ]
    },
    {
     "name": "stderr",
     "output_type": "stream",
     "text": [
      "c:\\users\\redline pc\\appdata\\local\\programs\\python\\python38\\lib\\site-packages\\xgboost\\sklearn.py:888: UserWarning: The use of label encoder in XGBClassifier is deprecated and will be removed in a future release. To remove this warning, do the following: 1) Pass option use_label_encoder=False when constructing XGBClassifier object; and 2) Encode your labels (y) as integers starting with 0, i.e. 0, 1, 2, ..., [num_class - 1].\n",
      "  warnings.warn(label_encoder_deprecation_msg, UserWarning)\n",
      "c:\\users\\redline pc\\appdata\\local\\programs\\python\\python38\\lib\\site-packages\\sklearn\\utils\\validation.py:63: DataConversionWarning: A column-vector y was passed when a 1d array was expected. Please change the shape of y to (n_samples, ), for example using ravel().\n",
      "  return f(*args, **kwargs)\n"
     ]
    },
    {
     "name": "stdout",
     "output_type": "stream",
     "text": [
      "              precision    recall  f1-score   support\n",
      "\n",
      "    Check-In       0.59      0.95      0.73      1610\n",
      "    Canceled       0.29      0.01      0.02       741\n",
      "     No-Show       0.16      0.05      0.08       398\n",
      "\n",
      "    accuracy                           0.57      2749\n",
      "   macro avg       0.35      0.34      0.27      2749\n",
      "weighted avg       0.45      0.57      0.44      2749\n",
      "\n",
      "==========================================================================\n",
      "i= 0.9 j= 1.5 k= 5\n"
     ]
    },
    {
     "name": "stderr",
     "output_type": "stream",
     "text": [
      "c:\\users\\redline pc\\appdata\\local\\programs\\python\\python38\\lib\\site-packages\\xgboost\\sklearn.py:888: UserWarning: The use of label encoder in XGBClassifier is deprecated and will be removed in a future release. To remove this warning, do the following: 1) Pass option use_label_encoder=False when constructing XGBClassifier object; and 2) Encode your labels (y) as integers starting with 0, i.e. 0, 1, 2, ..., [num_class - 1].\n",
      "  warnings.warn(label_encoder_deprecation_msg, UserWarning)\n",
      "c:\\users\\redline pc\\appdata\\local\\programs\\python\\python38\\lib\\site-packages\\sklearn\\utils\\validation.py:63: DataConversionWarning: A column-vector y was passed when a 1d array was expected. Please change the shape of y to (n_samples, ), for example using ravel().\n",
      "  return f(*args, **kwargs)\n"
     ]
    },
    {
     "name": "stdout",
     "output_type": "stream",
     "text": [
      "              precision    recall  f1-score   support\n",
      "\n",
      "    Check-In       0.59      0.89      0.71      1610\n",
      "    Canceled       0.30      0.01      0.02       741\n",
      "     No-Show       0.16      0.11      0.13       398\n",
      "\n",
      "    accuracy                           0.54      2749\n",
      "   macro avg       0.35      0.34      0.29      2749\n",
      "weighted avg       0.45      0.54      0.44      2749\n",
      "\n",
      "==========================================================================\n",
      "i= 0.9 j= 1.5 k= 6\n"
     ]
    },
    {
     "name": "stderr",
     "output_type": "stream",
     "text": [
      "c:\\users\\redline pc\\appdata\\local\\programs\\python\\python38\\lib\\site-packages\\xgboost\\sklearn.py:888: UserWarning: The use of label encoder in XGBClassifier is deprecated and will be removed in a future release. To remove this warning, do the following: 1) Pass option use_label_encoder=False when constructing XGBClassifier object; and 2) Encode your labels (y) as integers starting with 0, i.e. 0, 1, 2, ..., [num_class - 1].\n",
      "  warnings.warn(label_encoder_deprecation_msg, UserWarning)\n",
      "c:\\users\\redline pc\\appdata\\local\\programs\\python\\python38\\lib\\site-packages\\sklearn\\utils\\validation.py:63: DataConversionWarning: A column-vector y was passed when a 1d array was expected. Please change the shape of y to (n_samples, ), for example using ravel().\n",
      "  return f(*args, **kwargs)\n"
     ]
    },
    {
     "name": "stdout",
     "output_type": "stream",
     "text": [
      "              precision    recall  f1-score   support\n",
      "\n",
      "    Check-In       0.58      0.83      0.68      1610\n",
      "    Canceled       0.29      0.01      0.02       741\n",
      "     No-Show       0.15      0.17      0.16       398\n",
      "\n",
      "    accuracy                           0.51      2749\n",
      "   macro avg       0.34      0.34      0.29      2749\n",
      "weighted avg       0.44      0.51      0.43      2749\n",
      "\n",
      "==========================================================================\n",
      "i= 0.9 j= 1.5 k= 7\n"
     ]
    },
    {
     "name": "stderr",
     "output_type": "stream",
     "text": [
      "c:\\users\\redline pc\\appdata\\local\\programs\\python\\python38\\lib\\site-packages\\xgboost\\sklearn.py:888: UserWarning: The use of label encoder in XGBClassifier is deprecated and will be removed in a future release. To remove this warning, do the following: 1) Pass option use_label_encoder=False when constructing XGBClassifier object; and 2) Encode your labels (y) as integers starting with 0, i.e. 0, 1, 2, ..., [num_class - 1].\n",
      "  warnings.warn(label_encoder_deprecation_msg, UserWarning)\n",
      "c:\\users\\redline pc\\appdata\\local\\programs\\python\\python38\\lib\\site-packages\\sklearn\\utils\\validation.py:63: DataConversionWarning: A column-vector y was passed when a 1d array was expected. Please change the shape of y to (n_samples, ), for example using ravel().\n",
      "  return f(*args, **kwargs)\n"
     ]
    },
    {
     "name": "stdout",
     "output_type": "stream",
     "text": [
      "              precision    recall  f1-score   support\n",
      "\n",
      "    Check-In       0.59      0.81      0.68      1610\n",
      "    Canceled       0.29      0.01      0.01       741\n",
      "     No-Show       0.16      0.21      0.18       398\n",
      "\n",
      "    accuracy                           0.51      2749\n",
      "   macro avg       0.35      0.34      0.29      2749\n",
      "weighted avg       0.45      0.51      0.43      2749\n",
      "\n",
      "==========================================================================\n",
      "i= 0.9 j= 1.5 k= 8\n"
     ]
    },
    {
     "name": "stderr",
     "output_type": "stream",
     "text": [
      "c:\\users\\redline pc\\appdata\\local\\programs\\python\\python38\\lib\\site-packages\\xgboost\\sklearn.py:888: UserWarning: The use of label encoder in XGBClassifier is deprecated and will be removed in a future release. To remove this warning, do the following: 1) Pass option use_label_encoder=False when constructing XGBClassifier object; and 2) Encode your labels (y) as integers starting with 0, i.e. 0, 1, 2, ..., [num_class - 1].\n",
      "  warnings.warn(label_encoder_deprecation_msg, UserWarning)\n",
      "c:\\users\\redline pc\\appdata\\local\\programs\\python\\python38\\lib\\site-packages\\sklearn\\utils\\validation.py:63: DataConversionWarning: A column-vector y was passed when a 1d array was expected. Please change the shape of y to (n_samples, ), for example using ravel().\n",
      "  return f(*args, **kwargs)\n"
     ]
    },
    {
     "name": "stdout",
     "output_type": "stream",
     "text": [
      "              precision    recall  f1-score   support\n",
      "\n",
      "    Check-In       0.59      0.79      0.68      1610\n",
      "    Canceled       0.21      0.00      0.01       741\n",
      "     No-Show       0.17      0.25      0.20       398\n",
      "\n",
      "    accuracy                           0.50      2749\n",
      "   macro avg       0.32      0.35      0.29      2749\n",
      "weighted avg       0.43      0.50      0.43      2749\n",
      "\n",
      "==========================================================================\n",
      "i= 0.9 j= 1.5 k= 9\n"
     ]
    },
    {
     "name": "stderr",
     "output_type": "stream",
     "text": [
      "c:\\users\\redline pc\\appdata\\local\\programs\\python\\python38\\lib\\site-packages\\xgboost\\sklearn.py:888: UserWarning: The use of label encoder in XGBClassifier is deprecated and will be removed in a future release. To remove this warning, do the following: 1) Pass option use_label_encoder=False when constructing XGBClassifier object; and 2) Encode your labels (y) as integers starting with 0, i.e. 0, 1, 2, ..., [num_class - 1].\n",
      "  warnings.warn(label_encoder_deprecation_msg, UserWarning)\n",
      "c:\\users\\redline pc\\appdata\\local\\programs\\python\\python38\\lib\\site-packages\\sklearn\\utils\\validation.py:63: DataConversionWarning: A column-vector y was passed when a 1d array was expected. Please change the shape of y to (n_samples, ), for example using ravel().\n",
      "  return f(*args, **kwargs)\n"
     ]
    },
    {
     "name": "stdout",
     "output_type": "stream",
     "text": [
      "              precision    recall  f1-score   support\n",
      "\n",
      "    Check-In       0.59      0.74      0.66      1610\n",
      "    Canceled       0.28      0.01      0.01       741\n",
      "     No-Show       0.15      0.27      0.20       398\n",
      "\n",
      "    accuracy                           0.48      2749\n",
      "   macro avg       0.34      0.34      0.29      2749\n",
      "weighted avg       0.44      0.48      0.42      2749\n",
      "\n",
      "==========================================================================\n",
      "i= 0.9 j= 2.0 k= 3\n"
     ]
    },
    {
     "name": "stderr",
     "output_type": "stream",
     "text": [
      "c:\\users\\redline pc\\appdata\\local\\programs\\python\\python38\\lib\\site-packages\\xgboost\\sklearn.py:888: UserWarning: The use of label encoder in XGBClassifier is deprecated and will be removed in a future release. To remove this warning, do the following: 1) Pass option use_label_encoder=False when constructing XGBClassifier object; and 2) Encode your labels (y) as integers starting with 0, i.e. 0, 1, 2, ..., [num_class - 1].\n",
      "  warnings.warn(label_encoder_deprecation_msg, UserWarning)\n",
      "c:\\users\\redline pc\\appdata\\local\\programs\\python\\python38\\lib\\site-packages\\sklearn\\utils\\validation.py:63: DataConversionWarning: A column-vector y was passed when a 1d array was expected. Please change the shape of y to (n_samples, ), for example using ravel().\n",
      "  return f(*args, **kwargs)\n"
     ]
    },
    {
     "name": "stdout",
     "output_type": "stream",
     "text": [
      "              precision    recall  f1-score   support\n",
      "\n",
      "    Check-In       0.59      0.95      0.73      1610\n",
      "    Canceled       0.32      0.06      0.10       741\n",
      "     No-Show       0.26      0.01      0.02       398\n",
      "\n",
      "    accuracy                           0.58      2749\n",
      "   macro avg       0.39      0.34      0.28      2749\n",
      "weighted avg       0.47      0.58      0.46      2749\n",
      "\n",
      "==========================================================================\n",
      "i= 0.9 j= 2.0 k= 4\n"
     ]
    },
    {
     "name": "stderr",
     "output_type": "stream",
     "text": [
      "c:\\users\\redline pc\\appdata\\local\\programs\\python\\python38\\lib\\site-packages\\xgboost\\sklearn.py:888: UserWarning: The use of label encoder in XGBClassifier is deprecated and will be removed in a future release. To remove this warning, do the following: 1) Pass option use_label_encoder=False when constructing XGBClassifier object; and 2) Encode your labels (y) as integers starting with 0, i.e. 0, 1, 2, ..., [num_class - 1].\n",
      "  warnings.warn(label_encoder_deprecation_msg, UserWarning)\n",
      "c:\\users\\redline pc\\appdata\\local\\programs\\python\\python38\\lib\\site-packages\\sklearn\\utils\\validation.py:63: DataConversionWarning: A column-vector y was passed when a 1d array was expected. Please change the shape of y to (n_samples, ), for example using ravel().\n",
      "  return f(*args, **kwargs)\n"
     ]
    },
    {
     "name": "stdout",
     "output_type": "stream",
     "text": [
      "              precision    recall  f1-score   support\n",
      "\n",
      "    Check-In       0.59      0.91      0.71      1610\n",
      "    Canceled       0.26      0.05      0.08       741\n",
      "     No-Show       0.20      0.07      0.10       398\n",
      "\n",
      "    accuracy                           0.55      2749\n",
      "   macro avg       0.35      0.34      0.30      2749\n",
      "weighted avg       0.45      0.55      0.45      2749\n",
      "\n",
      "==========================================================================\n",
      "i= 0.9 j= 2.0 k= 5\n"
     ]
    },
    {
     "name": "stderr",
     "output_type": "stream",
     "text": [
      "c:\\users\\redline pc\\appdata\\local\\programs\\python\\python38\\lib\\site-packages\\xgboost\\sklearn.py:888: UserWarning: The use of label encoder in XGBClassifier is deprecated and will be removed in a future release. To remove this warning, do the following: 1) Pass option use_label_encoder=False when constructing XGBClassifier object; and 2) Encode your labels (y) as integers starting with 0, i.e. 0, 1, 2, ..., [num_class - 1].\n",
      "  warnings.warn(label_encoder_deprecation_msg, UserWarning)\n",
      "c:\\users\\redline pc\\appdata\\local\\programs\\python\\python38\\lib\\site-packages\\sklearn\\utils\\validation.py:63: DataConversionWarning: A column-vector y was passed when a 1d array was expected. Please change the shape of y to (n_samples, ), for example using ravel().\n",
      "  return f(*args, **kwargs)\n"
     ]
    },
    {
     "name": "stdout",
     "output_type": "stream",
     "text": [
      "              precision    recall  f1-score   support\n",
      "\n",
      "    Check-In       0.59      0.86      0.70      1610\n",
      "    Canceled       0.28      0.04      0.07       741\n",
      "     No-Show       0.19      0.13      0.16       398\n",
      "\n",
      "    accuracy                           0.54      2749\n",
      "   macro avg       0.35      0.35      0.31      2749\n",
      "weighted avg       0.45      0.54      0.45      2749\n",
      "\n",
      "==========================================================================\n",
      "i= 0.9 j= 2.0 k= 6\n"
     ]
    },
    {
     "name": "stderr",
     "output_type": "stream",
     "text": [
      "c:\\users\\redline pc\\appdata\\local\\programs\\python\\python38\\lib\\site-packages\\xgboost\\sklearn.py:888: UserWarning: The use of label encoder in XGBClassifier is deprecated and will be removed in a future release. To remove this warning, do the following: 1) Pass option use_label_encoder=False when constructing XGBClassifier object; and 2) Encode your labels (y) as integers starting with 0, i.e. 0, 1, 2, ..., [num_class - 1].\n",
      "  warnings.warn(label_encoder_deprecation_msg, UserWarning)\n",
      "c:\\users\\redline pc\\appdata\\local\\programs\\python\\python38\\lib\\site-packages\\sklearn\\utils\\validation.py:63: DataConversionWarning: A column-vector y was passed when a 1d array was expected. Please change the shape of y to (n_samples, ), for example using ravel().\n",
      "  return f(*args, **kwargs)\n"
     ]
    },
    {
     "name": "stdout",
     "output_type": "stream",
     "text": [
      "              precision    recall  f1-score   support\n",
      "\n",
      "    Check-In       0.59      0.81      0.68      1610\n",
      "    Canceled       0.28      0.03      0.06       741\n",
      "     No-Show       0.16      0.18      0.17       398\n",
      "\n",
      "    accuracy                           0.51      2749\n",
      "   macro avg       0.34      0.34      0.30      2749\n",
      "weighted avg       0.44      0.51      0.44      2749\n",
      "\n",
      "==========================================================================\n",
      "i= 0.9 j= 2.0 k= 7\n"
     ]
    },
    {
     "name": "stderr",
     "output_type": "stream",
     "text": [
      "c:\\users\\redline pc\\appdata\\local\\programs\\python\\python38\\lib\\site-packages\\xgboost\\sklearn.py:888: UserWarning: The use of label encoder in XGBClassifier is deprecated and will be removed in a future release. To remove this warning, do the following: 1) Pass option use_label_encoder=False when constructing XGBClassifier object; and 2) Encode your labels (y) as integers starting with 0, i.e. 0, 1, 2, ..., [num_class - 1].\n",
      "  warnings.warn(label_encoder_deprecation_msg, UserWarning)\n",
      "c:\\users\\redline pc\\appdata\\local\\programs\\python\\python38\\lib\\site-packages\\sklearn\\utils\\validation.py:63: DataConversionWarning: A column-vector y was passed when a 1d array was expected. Please change the shape of y to (n_samples, ), for example using ravel().\n",
      "  return f(*args, **kwargs)\n"
     ]
    },
    {
     "name": "stdout",
     "output_type": "stream",
     "text": [
      "              precision    recall  f1-score   support\n",
      "\n",
      "    Check-In       0.59      0.76      0.66      1610\n",
      "    Canceled       0.29      0.03      0.06       741\n",
      "     No-Show       0.16      0.24      0.19       398\n",
      "\n",
      "    accuracy                           0.49      2749\n",
      "   macro avg       0.35      0.34      0.31      2749\n",
      "weighted avg       0.45      0.49      0.43      2749\n",
      "\n",
      "==========================================================================\n",
      "i= 0.9 j= 2.0 k= 8\n"
     ]
    },
    {
     "name": "stderr",
     "output_type": "stream",
     "text": [
      "c:\\users\\redline pc\\appdata\\local\\programs\\python\\python38\\lib\\site-packages\\xgboost\\sklearn.py:888: UserWarning: The use of label encoder in XGBClassifier is deprecated and will be removed in a future release. To remove this warning, do the following: 1) Pass option use_label_encoder=False when constructing XGBClassifier object; and 2) Encode your labels (y) as integers starting with 0, i.e. 0, 1, 2, ..., [num_class - 1].\n",
      "  warnings.warn(label_encoder_deprecation_msg, UserWarning)\n",
      "c:\\users\\redline pc\\appdata\\local\\programs\\python\\python38\\lib\\site-packages\\sklearn\\utils\\validation.py:63: DataConversionWarning: A column-vector y was passed when a 1d array was expected. Please change the shape of y to (n_samples, ), for example using ravel().\n",
      "  return f(*args, **kwargs)\n"
     ]
    },
    {
     "name": "stdout",
     "output_type": "stream",
     "text": [
      "              precision    recall  f1-score   support\n",
      "\n",
      "    Check-In       0.59      0.73      0.65      1610\n",
      "    Canceled       0.29      0.02      0.04       741\n",
      "     No-Show       0.16      0.28      0.20       398\n",
      "\n",
      "    accuracy                           0.47      2749\n",
      "   macro avg       0.34      0.34      0.30      2749\n",
      "weighted avg       0.44      0.47      0.42      2749\n",
      "\n",
      "==========================================================================\n",
      "i= 0.9 j= 2.0 k= 9\n"
     ]
    },
    {
     "name": "stderr",
     "output_type": "stream",
     "text": [
      "c:\\users\\redline pc\\appdata\\local\\programs\\python\\python38\\lib\\site-packages\\xgboost\\sklearn.py:888: UserWarning: The use of label encoder in XGBClassifier is deprecated and will be removed in a future release. To remove this warning, do the following: 1) Pass option use_label_encoder=False when constructing XGBClassifier object; and 2) Encode your labels (y) as integers starting with 0, i.e. 0, 1, 2, ..., [num_class - 1].\n",
      "  warnings.warn(label_encoder_deprecation_msg, UserWarning)\n",
      "c:\\users\\redline pc\\appdata\\local\\programs\\python\\python38\\lib\\site-packages\\sklearn\\utils\\validation.py:63: DataConversionWarning: A column-vector y was passed when a 1d array was expected. Please change the shape of y to (n_samples, ), for example using ravel().\n",
      "  return f(*args, **kwargs)\n"
     ]
    },
    {
     "name": "stdout",
     "output_type": "stream",
     "text": [
      "              precision    recall  f1-score   support\n",
      "\n",
      "    Check-In       0.59      0.72      0.65      1610\n",
      "    Canceled       0.22      0.01      0.02       741\n",
      "     No-Show       0.15      0.28      0.19       398\n",
      "\n",
      "    accuracy                           0.46      2749\n",
      "   macro avg       0.32      0.34      0.29      2749\n",
      "weighted avg       0.42      0.46      0.41      2749\n",
      "\n",
      "==========================================================================\n",
      "i= 0.9 j= 2.5 k= 3\n"
     ]
    },
    {
     "name": "stderr",
     "output_type": "stream",
     "text": [
      "c:\\users\\redline pc\\appdata\\local\\programs\\python\\python38\\lib\\site-packages\\xgboost\\sklearn.py:888: UserWarning: The use of label encoder in XGBClassifier is deprecated and will be removed in a future release. To remove this warning, do the following: 1) Pass option use_label_encoder=False when constructing XGBClassifier object; and 2) Encode your labels (y) as integers starting with 0, i.e. 0, 1, 2, ..., [num_class - 1].\n",
      "  warnings.warn(label_encoder_deprecation_msg, UserWarning)\n",
      "c:\\users\\redline pc\\appdata\\local\\programs\\python\\python38\\lib\\site-packages\\sklearn\\utils\\validation.py:63: DataConversionWarning: A column-vector y was passed when a 1d array was expected. Please change the shape of y to (n_samples, ), for example using ravel().\n",
      "  return f(*args, **kwargs)\n"
     ]
    },
    {
     "name": "stdout",
     "output_type": "stream",
     "text": [
      "              precision    recall  f1-score   support\n",
      "\n",
      "    Check-In       0.59      0.89      0.71      1610\n",
      "    Canceled       0.29      0.12      0.17       741\n",
      "     No-Show       0.25      0.01      0.02       398\n",
      "\n",
      "    accuracy                           0.55      2749\n",
      "   macro avg       0.38      0.34      0.30      2749\n",
      "weighted avg       0.46      0.55      0.46      2749\n",
      "\n",
      "==========================================================================\n",
      "i= 0.9 j= 2.5 k= 4\n"
     ]
    },
    {
     "name": "stderr",
     "output_type": "stream",
     "text": [
      "c:\\users\\redline pc\\appdata\\local\\programs\\python\\python38\\lib\\site-packages\\xgboost\\sklearn.py:888: UserWarning: The use of label encoder in XGBClassifier is deprecated and will be removed in a future release. To remove this warning, do the following: 1) Pass option use_label_encoder=False when constructing XGBClassifier object; and 2) Encode your labels (y) as integers starting with 0, i.e. 0, 1, 2, ..., [num_class - 1].\n",
      "  warnings.warn(label_encoder_deprecation_msg, UserWarning)\n",
      "c:\\users\\redline pc\\appdata\\local\\programs\\python\\python38\\lib\\site-packages\\sklearn\\utils\\validation.py:63: DataConversionWarning: A column-vector y was passed when a 1d array was expected. Please change the shape of y to (n_samples, ), for example using ravel().\n",
      "  return f(*args, **kwargs)\n"
     ]
    },
    {
     "name": "stdout",
     "output_type": "stream",
     "text": [
      "              precision    recall  f1-score   support\n",
      "\n",
      "    Check-In       0.59      0.84      0.69      1610\n",
      "    Canceled       0.27      0.13      0.17       741\n",
      "     No-Show       0.20      0.05      0.08       398\n",
      "\n",
      "    accuracy                           0.53      2749\n",
      "   macro avg       0.35      0.34      0.31      2749\n",
      "weighted avg       0.45      0.53      0.46      2749\n",
      "\n",
      "==========================================================================\n",
      "i= 0.9 j= 2.5 k= 5\n"
     ]
    },
    {
     "name": "stderr",
     "output_type": "stream",
     "text": [
      "c:\\users\\redline pc\\appdata\\local\\programs\\python\\python38\\lib\\site-packages\\xgboost\\sklearn.py:888: UserWarning: The use of label encoder in XGBClassifier is deprecated and will be removed in a future release. To remove this warning, do the following: 1) Pass option use_label_encoder=False when constructing XGBClassifier object; and 2) Encode your labels (y) as integers starting with 0, i.e. 0, 1, 2, ..., [num_class - 1].\n",
      "  warnings.warn(label_encoder_deprecation_msg, UserWarning)\n",
      "c:\\users\\redline pc\\appdata\\local\\programs\\python\\python38\\lib\\site-packages\\sklearn\\utils\\validation.py:63: DataConversionWarning: A column-vector y was passed when a 1d array was expected. Please change the shape of y to (n_samples, ), for example using ravel().\n",
      "  return f(*args, **kwargs)\n"
     ]
    },
    {
     "name": "stdout",
     "output_type": "stream",
     "text": [
      "              precision    recall  f1-score   support\n",
      "\n",
      "    Check-In       0.59      0.80      0.68      1610\n",
      "    Canceled       0.29      0.11      0.16       741\n",
      "     No-Show       0.19      0.12      0.14       398\n",
      "\n",
      "    accuracy                           0.52      2749\n",
      "   macro avg       0.35      0.34      0.33      2749\n",
      "weighted avg       0.45      0.52      0.46      2749\n",
      "\n",
      "==========================================================================\n",
      "i= 0.9 j= 2.5 k= 6\n"
     ]
    },
    {
     "name": "stderr",
     "output_type": "stream",
     "text": [
      "c:\\users\\redline pc\\appdata\\local\\programs\\python\\python38\\lib\\site-packages\\xgboost\\sklearn.py:888: UserWarning: The use of label encoder in XGBClassifier is deprecated and will be removed in a future release. To remove this warning, do the following: 1) Pass option use_label_encoder=False when constructing XGBClassifier object; and 2) Encode your labels (y) as integers starting with 0, i.e. 0, 1, 2, ..., [num_class - 1].\n",
      "  warnings.warn(label_encoder_deprecation_msg, UserWarning)\n",
      "c:\\users\\redline pc\\appdata\\local\\programs\\python\\python38\\lib\\site-packages\\sklearn\\utils\\validation.py:63: DataConversionWarning: A column-vector y was passed when a 1d array was expected. Please change the shape of y to (n_samples, ), for example using ravel().\n",
      "  return f(*args, **kwargs)\n"
     ]
    },
    {
     "name": "stdout",
     "output_type": "stream",
     "text": [
      "              precision    recall  f1-score   support\n",
      "\n",
      "    Check-In       0.59      0.79      0.68      1610\n",
      "    Canceled       0.28      0.08      0.12       741\n",
      "     No-Show       0.17      0.17      0.17       398\n",
      "\n",
      "    accuracy                           0.51      2749\n",
      "   macro avg       0.35      0.35      0.32      2749\n",
      "weighted avg       0.45      0.51      0.45      2749\n",
      "\n",
      "==========================================================================\n",
      "i= 0.9 j= 2.5 k= 7\n"
     ]
    },
    {
     "name": "stderr",
     "output_type": "stream",
     "text": [
      "c:\\users\\redline pc\\appdata\\local\\programs\\python\\python38\\lib\\site-packages\\xgboost\\sklearn.py:888: UserWarning: The use of label encoder in XGBClassifier is deprecated and will be removed in a future release. To remove this warning, do the following: 1) Pass option use_label_encoder=False when constructing XGBClassifier object; and 2) Encode your labels (y) as integers starting with 0, i.e. 0, 1, 2, ..., [num_class - 1].\n",
      "  warnings.warn(label_encoder_deprecation_msg, UserWarning)\n",
      "c:\\users\\redline pc\\appdata\\local\\programs\\python\\python38\\lib\\site-packages\\sklearn\\utils\\validation.py:63: DataConversionWarning: A column-vector y was passed when a 1d array was expected. Please change the shape of y to (n_samples, ), for example using ravel().\n",
      "  return f(*args, **kwargs)\n"
     ]
    },
    {
     "name": "stdout",
     "output_type": "stream",
     "text": [
      "              precision    recall  f1-score   support\n",
      "\n",
      "    Check-In       0.59      0.74      0.66      1610\n",
      "    Canceled       0.25      0.05      0.08       741\n",
      "     No-Show       0.16      0.24      0.19       398\n",
      "\n",
      "    accuracy                           0.48      2749\n",
      "   macro avg       0.33      0.34      0.31      2749\n",
      "weighted avg       0.44      0.48      0.43      2749\n",
      "\n",
      "==========================================================================\n",
      "i= 0.9 j= 2.5 k= 8\n"
     ]
    },
    {
     "name": "stderr",
     "output_type": "stream",
     "text": [
      "c:\\users\\redline pc\\appdata\\local\\programs\\python\\python38\\lib\\site-packages\\xgboost\\sklearn.py:888: UserWarning: The use of label encoder in XGBClassifier is deprecated and will be removed in a future release. To remove this warning, do the following: 1) Pass option use_label_encoder=False when constructing XGBClassifier object; and 2) Encode your labels (y) as integers starting with 0, i.e. 0, 1, 2, ..., [num_class - 1].\n",
      "  warnings.warn(label_encoder_deprecation_msg, UserWarning)\n",
      "c:\\users\\redline pc\\appdata\\local\\programs\\python\\python38\\lib\\site-packages\\sklearn\\utils\\validation.py:63: DataConversionWarning: A column-vector y was passed when a 1d array was expected. Please change the shape of y to (n_samples, ), for example using ravel().\n",
      "  return f(*args, **kwargs)\n"
     ]
    },
    {
     "name": "stdout",
     "output_type": "stream",
     "text": [
      "              precision    recall  f1-score   support\n",
      "\n",
      "    Check-In       0.59      0.70      0.64      1610\n",
      "    Canceled       0.28      0.04      0.08       741\n",
      "     No-Show       0.16      0.28      0.20       398\n",
      "\n",
      "    accuracy                           0.46      2749\n",
      "   macro avg       0.34      0.34      0.31      2749\n",
      "weighted avg       0.44      0.46      0.43      2749\n",
      "\n",
      "==========================================================================\n",
      "i= 0.9 j= 2.5 k= 9\n"
     ]
    },
    {
     "name": "stderr",
     "output_type": "stream",
     "text": [
      "c:\\users\\redline pc\\appdata\\local\\programs\\python\\python38\\lib\\site-packages\\xgboost\\sklearn.py:888: UserWarning: The use of label encoder in XGBClassifier is deprecated and will be removed in a future release. To remove this warning, do the following: 1) Pass option use_label_encoder=False when constructing XGBClassifier object; and 2) Encode your labels (y) as integers starting with 0, i.e. 0, 1, 2, ..., [num_class - 1].\n",
      "  warnings.warn(label_encoder_deprecation_msg, UserWarning)\n",
      "c:\\users\\redline pc\\appdata\\local\\programs\\python\\python38\\lib\\site-packages\\sklearn\\utils\\validation.py:63: DataConversionWarning: A column-vector y was passed when a 1d array was expected. Please change the shape of y to (n_samples, ), for example using ravel().\n",
      "  return f(*args, **kwargs)\n"
     ]
    },
    {
     "name": "stdout",
     "output_type": "stream",
     "text": [
      "              precision    recall  f1-score   support\n",
      "\n",
      "    Check-In       0.59      0.70      0.64      1610\n",
      "    Canceled       0.32      0.04      0.07       741\n",
      "     No-Show       0.15      0.29      0.20       398\n",
      "\n",
      "    accuracy                           0.46      2749\n",
      "   macro avg       0.35      0.34      0.30      2749\n",
      "weighted avg       0.46      0.46      0.42      2749\n",
      "\n",
      "==========================================================================\n",
      "i= 0.9 j= 3.0 k= 3\n"
     ]
    },
    {
     "name": "stderr",
     "output_type": "stream",
     "text": [
      "c:\\users\\redline pc\\appdata\\local\\programs\\python\\python38\\lib\\site-packages\\xgboost\\sklearn.py:888: UserWarning: The use of label encoder in XGBClassifier is deprecated and will be removed in a future release. To remove this warning, do the following: 1) Pass option use_label_encoder=False when constructing XGBClassifier object; and 2) Encode your labels (y) as integers starting with 0, i.e. 0, 1, 2, ..., [num_class - 1].\n",
      "  warnings.warn(label_encoder_deprecation_msg, UserWarning)\n",
      "c:\\users\\redline pc\\appdata\\local\\programs\\python\\python38\\lib\\site-packages\\sklearn\\utils\\validation.py:63: DataConversionWarning: A column-vector y was passed when a 1d array was expected. Please change the shape of y to (n_samples, ), for example using ravel().\n",
      "  return f(*args, **kwargs)\n"
     ]
    },
    {
     "name": "stdout",
     "output_type": "stream",
     "text": [
      "              precision    recall  f1-score   support\n",
      "\n",
      "    Check-In       0.59      0.80      0.68      1610\n",
      "    Canceled       0.29      0.22      0.25       741\n",
      "     No-Show       0.10      0.00      0.00       398\n",
      "\n",
      "    accuracy                           0.53      2749\n",
      "   macro avg       0.33      0.34      0.31      2749\n",
      "weighted avg       0.44      0.53      0.47      2749\n",
      "\n",
      "==========================================================================\n",
      "i= 0.9 j= 3.0 k= 4\n"
     ]
    },
    {
     "name": "stderr",
     "output_type": "stream",
     "text": [
      "c:\\users\\redline pc\\appdata\\local\\programs\\python\\python38\\lib\\site-packages\\xgboost\\sklearn.py:888: UserWarning: The use of label encoder in XGBClassifier is deprecated and will be removed in a future release. To remove this warning, do the following: 1) Pass option use_label_encoder=False when constructing XGBClassifier object; and 2) Encode your labels (y) as integers starting with 0, i.e. 0, 1, 2, ..., [num_class - 1].\n",
      "  warnings.warn(label_encoder_deprecation_msg, UserWarning)\n",
      "c:\\users\\redline pc\\appdata\\local\\programs\\python\\python38\\lib\\site-packages\\sklearn\\utils\\validation.py:63: DataConversionWarning: A column-vector y was passed when a 1d array was expected. Please change the shape of y to (n_samples, ), for example using ravel().\n",
      "  return f(*args, **kwargs)\n"
     ]
    },
    {
     "name": "stdout",
     "output_type": "stream",
     "text": [
      "              precision    recall  f1-score   support\n",
      "\n",
      "    Check-In       0.59      0.70      0.64      1610\n",
      "    Canceled       0.27      0.30      0.28       741\n",
      "     No-Show       0.14      0.01      0.01       398\n",
      "\n",
      "    accuracy                           0.49      2749\n",
      "   macro avg       0.33      0.33      0.31      2749\n",
      "weighted avg       0.44      0.49      0.45      2749\n",
      "\n",
      "==========================================================================\n",
      "i= 0.9 j= 3.0 k= 5\n"
     ]
    },
    {
     "name": "stderr",
     "output_type": "stream",
     "text": [
      "c:\\users\\redline pc\\appdata\\local\\programs\\python\\python38\\lib\\site-packages\\xgboost\\sklearn.py:888: UserWarning: The use of label encoder in XGBClassifier is deprecated and will be removed in a future release. To remove this warning, do the following: 1) Pass option use_label_encoder=False when constructing XGBClassifier object; and 2) Encode your labels (y) as integers starting with 0, i.e. 0, 1, 2, ..., [num_class - 1].\n",
      "  warnings.warn(label_encoder_deprecation_msg, UserWarning)\n",
      "c:\\users\\redline pc\\appdata\\local\\programs\\python\\python38\\lib\\site-packages\\sklearn\\utils\\validation.py:63: DataConversionWarning: A column-vector y was passed when a 1d array was expected. Please change the shape of y to (n_samples, ), for example using ravel().\n",
      "  return f(*args, **kwargs)\n"
     ]
    },
    {
     "name": "stdout",
     "output_type": "stream",
     "text": [
      "              precision    recall  f1-score   support\n",
      "\n",
      "    Check-In       0.59      0.65      0.62      1610\n",
      "    Canceled       0.27      0.35      0.31       741\n",
      "     No-Show       0.22      0.02      0.03       398\n",
      "\n",
      "    accuracy                           0.48      2749\n",
      "   macro avg       0.36      0.34      0.32      2749\n",
      "weighted avg       0.45      0.48      0.45      2749\n",
      "\n",
      "==========================================================================\n",
      "i= 0.9 j= 3.0 k= 6\n"
     ]
    },
    {
     "name": "stderr",
     "output_type": "stream",
     "text": [
      "c:\\users\\redline pc\\appdata\\local\\programs\\python\\python38\\lib\\site-packages\\xgboost\\sklearn.py:888: UserWarning: The use of label encoder in XGBClassifier is deprecated and will be removed in a future release. To remove this warning, do the following: 1) Pass option use_label_encoder=False when constructing XGBClassifier object; and 2) Encode your labels (y) as integers starting with 0, i.e. 0, 1, 2, ..., [num_class - 1].\n",
      "  warnings.warn(label_encoder_deprecation_msg, UserWarning)\n",
      "c:\\users\\redline pc\\appdata\\local\\programs\\python\\python38\\lib\\site-packages\\sklearn\\utils\\validation.py:63: DataConversionWarning: A column-vector y was passed when a 1d array was expected. Please change the shape of y to (n_samples, ), for example using ravel().\n",
      "  return f(*args, **kwargs)\n"
     ]
    },
    {
     "name": "stdout",
     "output_type": "stream",
     "text": [
      "              precision    recall  f1-score   support\n",
      "\n",
      "    Check-In       0.60      0.59      0.59      1610\n",
      "    Canceled       0.28      0.43      0.34       741\n",
      "     No-Show       0.24      0.02      0.04       398\n",
      "\n",
      "    accuracy                           0.46      2749\n",
      "   macro avg       0.37      0.35      0.32      2749\n",
      "weighted avg       0.46      0.46      0.44      2749\n",
      "\n",
      "==========================================================================\n",
      "i= 0.9 j= 3.0 k= 7\n"
     ]
    },
    {
     "name": "stderr",
     "output_type": "stream",
     "text": [
      "c:\\users\\redline pc\\appdata\\local\\programs\\python\\python38\\lib\\site-packages\\xgboost\\sklearn.py:888: UserWarning: The use of label encoder in XGBClassifier is deprecated and will be removed in a future release. To remove this warning, do the following: 1) Pass option use_label_encoder=False when constructing XGBClassifier object; and 2) Encode your labels (y) as integers starting with 0, i.e. 0, 1, 2, ..., [num_class - 1].\n",
      "  warnings.warn(label_encoder_deprecation_msg, UserWarning)\n",
      "c:\\users\\redline pc\\appdata\\local\\programs\\python\\python38\\lib\\site-packages\\sklearn\\utils\\validation.py:63: DataConversionWarning: A column-vector y was passed when a 1d array was expected. Please change the shape of y to (n_samples, ), for example using ravel().\n",
      "  return f(*args, **kwargs)\n"
     ]
    },
    {
     "name": "stdout",
     "output_type": "stream",
     "text": [
      "              precision    recall  f1-score   support\n",
      "\n",
      "    Check-In       0.60      0.53      0.56      1610\n",
      "    Canceled       0.28      0.49      0.36       741\n",
      "     No-Show       0.20      0.02      0.04       398\n",
      "\n",
      "    accuracy                           0.45      2749\n",
      "   macro avg       0.36      0.35      0.32      2749\n",
      "weighted avg       0.46      0.45      0.43      2749\n",
      "\n",
      "==========================================================================\n",
      "i= 0.9 j= 3.0 k= 8\n"
     ]
    },
    {
     "name": "stderr",
     "output_type": "stream",
     "text": [
      "c:\\users\\redline pc\\appdata\\local\\programs\\python\\python38\\lib\\site-packages\\xgboost\\sklearn.py:888: UserWarning: The use of label encoder in XGBClassifier is deprecated and will be removed in a future release. To remove this warning, do the following: 1) Pass option use_label_encoder=False when constructing XGBClassifier object; and 2) Encode your labels (y) as integers starting with 0, i.e. 0, 1, 2, ..., [num_class - 1].\n",
      "  warnings.warn(label_encoder_deprecation_msg, UserWarning)\n",
      "c:\\users\\redline pc\\appdata\\local\\programs\\python\\python38\\lib\\site-packages\\sklearn\\utils\\validation.py:63: DataConversionWarning: A column-vector y was passed when a 1d array was expected. Please change the shape of y to (n_samples, ), for example using ravel().\n",
      "  return f(*args, **kwargs)\n"
     ]
    },
    {
     "name": "stdout",
     "output_type": "stream",
     "text": [
      "              precision    recall  f1-score   support\n",
      "\n",
      "    Check-In       0.60      0.50      0.55      1610\n",
      "    Canceled       0.29      0.53      0.38       741\n",
      "     No-Show       0.19      0.02      0.04       398\n",
      "\n",
      "    accuracy                           0.44      2749\n",
      "   macro avg       0.36      0.35      0.32      2749\n",
      "weighted avg       0.46      0.44      0.43      2749\n",
      "\n",
      "==========================================================================\n",
      "i= 0.9 j= 3.0 k= 9\n"
     ]
    },
    {
     "name": "stderr",
     "output_type": "stream",
     "text": [
      "c:\\users\\redline pc\\appdata\\local\\programs\\python\\python38\\lib\\site-packages\\xgboost\\sklearn.py:888: UserWarning: The use of label encoder in XGBClassifier is deprecated and will be removed in a future release. To remove this warning, do the following: 1) Pass option use_label_encoder=False when constructing XGBClassifier object; and 2) Encode your labels (y) as integers starting with 0, i.e. 0, 1, 2, ..., [num_class - 1].\n",
      "  warnings.warn(label_encoder_deprecation_msg, UserWarning)\n",
      "c:\\users\\redline pc\\appdata\\local\\programs\\python\\python38\\lib\\site-packages\\sklearn\\utils\\validation.py:63: DataConversionWarning: A column-vector y was passed when a 1d array was expected. Please change the shape of y to (n_samples, ), for example using ravel().\n",
      "  return f(*args, **kwargs)\n"
     ]
    },
    {
     "name": "stdout",
     "output_type": "stream",
     "text": [
      "              precision    recall  f1-score   support\n",
      "\n",
      "    Check-In       0.61      0.45      0.52      1610\n",
      "    Canceled       0.28      0.57      0.37       741\n",
      "     No-Show       0.21      0.03      0.05       398\n",
      "\n",
      "    accuracy                           0.42      2749\n",
      "   macro avg       0.36      0.35      0.31      2749\n",
      "weighted avg       0.46      0.42      0.41      2749\n",
      "\n",
      "==========================================================================\n",
      "i= 0.9 j= 3.5 k= 3\n"
     ]
    },
    {
     "name": "stderr",
     "output_type": "stream",
     "text": [
      "c:\\users\\redline pc\\appdata\\local\\programs\\python\\python38\\lib\\site-packages\\xgboost\\sklearn.py:888: UserWarning: The use of label encoder in XGBClassifier is deprecated and will be removed in a future release. To remove this warning, do the following: 1) Pass option use_label_encoder=False when constructing XGBClassifier object; and 2) Encode your labels (y) as integers starting with 0, i.e. 0, 1, 2, ..., [num_class - 1].\n",
      "  warnings.warn(label_encoder_deprecation_msg, UserWarning)\n",
      "c:\\users\\redline pc\\appdata\\local\\programs\\python\\python38\\lib\\site-packages\\sklearn\\utils\\validation.py:63: DataConversionWarning: A column-vector y was passed when a 1d array was expected. Please change the shape of y to (n_samples, ), for example using ravel().\n",
      "  return f(*args, **kwargs)\n"
     ]
    },
    {
     "name": "stdout",
     "output_type": "stream",
     "text": [
      "              precision    recall  f1-score   support\n",
      "\n",
      "    Check-In       0.59      0.75      0.66      1610\n",
      "    Canceled       0.27      0.26      0.26       741\n",
      "     No-Show       0.33      0.00      0.00       398\n",
      "\n",
      "    accuracy                           0.51      2749\n",
      "   macro avg       0.40      0.34      0.31      2749\n",
      "weighted avg       0.47      0.51      0.46      2749\n",
      "\n",
      "==========================================================================\n",
      "i= 0.9 j= 3.5 k= 4\n"
     ]
    },
    {
     "name": "stderr",
     "output_type": "stream",
     "text": [
      "c:\\users\\redline pc\\appdata\\local\\programs\\python\\python38\\lib\\site-packages\\xgboost\\sklearn.py:888: UserWarning: The use of label encoder in XGBClassifier is deprecated and will be removed in a future release. To remove this warning, do the following: 1) Pass option use_label_encoder=False when constructing XGBClassifier object; and 2) Encode your labels (y) as integers starting with 0, i.e. 0, 1, 2, ..., [num_class - 1].\n",
      "  warnings.warn(label_encoder_deprecation_msg, UserWarning)\n",
      "c:\\users\\redline pc\\appdata\\local\\programs\\python\\python38\\lib\\site-packages\\sklearn\\utils\\validation.py:63: DataConversionWarning: A column-vector y was passed when a 1d array was expected. Please change the shape of y to (n_samples, ), for example using ravel().\n",
      "  return f(*args, **kwargs)\n"
     ]
    },
    {
     "name": "stdout",
     "output_type": "stream",
     "text": [
      "              precision    recall  f1-score   support\n",
      "\n",
      "    Check-In       0.59      0.74      0.66      1610\n",
      "    Canceled       0.28      0.26      0.27       741\n",
      "     No-Show       0.18      0.02      0.03       398\n",
      "\n",
      "    accuracy                           0.51      2749\n",
      "   macro avg       0.35      0.34      0.32      2749\n",
      "weighted avg       0.45      0.51      0.46      2749\n",
      "\n",
      "==========================================================================\n",
      "i= 0.9 j= 3.5 k= 5\n"
     ]
    },
    {
     "name": "stderr",
     "output_type": "stream",
     "text": [
      "c:\\users\\redline pc\\appdata\\local\\programs\\python\\python38\\lib\\site-packages\\xgboost\\sklearn.py:888: UserWarning: The use of label encoder in XGBClassifier is deprecated and will be removed in a future release. To remove this warning, do the following: 1) Pass option use_label_encoder=False when constructing XGBClassifier object; and 2) Encode your labels (y) as integers starting with 0, i.e. 0, 1, 2, ..., [num_class - 1].\n",
      "  warnings.warn(label_encoder_deprecation_msg, UserWarning)\n",
      "c:\\users\\redline pc\\appdata\\local\\programs\\python\\python38\\lib\\site-packages\\sklearn\\utils\\validation.py:63: DataConversionWarning: A column-vector y was passed when a 1d array was expected. Please change the shape of y to (n_samples, ), for example using ravel().\n",
      "  return f(*args, **kwargs)\n"
     ]
    },
    {
     "name": "stdout",
     "output_type": "stream",
     "text": [
      "              precision    recall  f1-score   support\n",
      "\n",
      "    Check-In       0.59      0.75      0.66      1610\n",
      "    Canceled       0.28      0.23      0.25       741\n",
      "     No-Show       0.18      0.04      0.07       398\n",
      "\n",
      "    accuracy                           0.51      2749\n",
      "   macro avg       0.35      0.34      0.33      2749\n",
      "weighted avg       0.45      0.51      0.46      2749\n",
      "\n",
      "==========================================================================\n",
      "i= 0.9 j= 3.5 k= 6\n"
     ]
    },
    {
     "name": "stderr",
     "output_type": "stream",
     "text": [
      "c:\\users\\redline pc\\appdata\\local\\programs\\python\\python38\\lib\\site-packages\\xgboost\\sklearn.py:888: UserWarning: The use of label encoder in XGBClassifier is deprecated and will be removed in a future release. To remove this warning, do the following: 1) Pass option use_label_encoder=False when constructing XGBClassifier object; and 2) Encode your labels (y) as integers starting with 0, i.e. 0, 1, 2, ..., [num_class - 1].\n",
      "  warnings.warn(label_encoder_deprecation_msg, UserWarning)\n",
      "c:\\users\\redline pc\\appdata\\local\\programs\\python\\python38\\lib\\site-packages\\sklearn\\utils\\validation.py:63: DataConversionWarning: A column-vector y was passed when a 1d array was expected. Please change the shape of y to (n_samples, ), for example using ravel().\n",
      "  return f(*args, **kwargs)\n"
     ]
    },
    {
     "name": "stdout",
     "output_type": "stream",
     "text": [
      "              precision    recall  f1-score   support\n",
      "\n",
      "    Check-In       0.59      0.71      0.65      1610\n",
      "    Canceled       0.28      0.22      0.25       741\n",
      "     No-Show       0.18      0.10      0.13       398\n",
      "\n",
      "    accuracy                           0.49      2749\n",
      "   macro avg       0.35      0.34      0.34      2749\n",
      "weighted avg       0.45      0.49      0.46      2749\n",
      "\n",
      "==========================================================================\n",
      "i= 0.9 j= 3.5 k= 7\n"
     ]
    },
    {
     "name": "stderr",
     "output_type": "stream",
     "text": [
      "c:\\users\\redline pc\\appdata\\local\\programs\\python\\python38\\lib\\site-packages\\xgboost\\sklearn.py:888: UserWarning: The use of label encoder in XGBClassifier is deprecated and will be removed in a future release. To remove this warning, do the following: 1) Pass option use_label_encoder=False when constructing XGBClassifier object; and 2) Encode your labels (y) as integers starting with 0, i.e. 0, 1, 2, ..., [num_class - 1].\n",
      "  warnings.warn(label_encoder_deprecation_msg, UserWarning)\n",
      "c:\\users\\redline pc\\appdata\\local\\programs\\python\\python38\\lib\\site-packages\\sklearn\\utils\\validation.py:63: DataConversionWarning: A column-vector y was passed when a 1d array was expected. Please change the shape of y to (n_samples, ), for example using ravel().\n",
      "  return f(*args, **kwargs)\n"
     ]
    },
    {
     "name": "stdout",
     "output_type": "stream",
     "text": [
      "              precision    recall  f1-score   support\n",
      "\n",
      "    Check-In       0.59      0.69      0.63      1610\n",
      "    Canceled       0.26      0.17      0.21       741\n",
      "     No-Show       0.18      0.17      0.18       398\n",
      "\n",
      "    accuracy                           0.47      2749\n",
      "   macro avg       0.34      0.34      0.34      2749\n",
      "weighted avg       0.44      0.47      0.45      2749\n",
      "\n",
      "==========================================================================\n",
      "i= 0.9 j= 3.5 k= 8\n"
     ]
    },
    {
     "name": "stderr",
     "output_type": "stream",
     "text": [
      "c:\\users\\redline pc\\appdata\\local\\programs\\python\\python38\\lib\\site-packages\\xgboost\\sklearn.py:888: UserWarning: The use of label encoder in XGBClassifier is deprecated and will be removed in a future release. To remove this warning, do the following: 1) Pass option use_label_encoder=False when constructing XGBClassifier object; and 2) Encode your labels (y) as integers starting with 0, i.e. 0, 1, 2, ..., [num_class - 1].\n",
      "  warnings.warn(label_encoder_deprecation_msg, UserWarning)\n",
      "c:\\users\\redline pc\\appdata\\local\\programs\\python\\python38\\lib\\site-packages\\sklearn\\utils\\validation.py:63: DataConversionWarning: A column-vector y was passed when a 1d array was expected. Please change the shape of y to (n_samples, ), for example using ravel().\n",
      "  return f(*args, **kwargs)\n"
     ]
    },
    {
     "name": "stdout",
     "output_type": "stream",
     "text": [
      "              precision    recall  f1-score   support\n",
      "\n",
      "    Check-In       0.59      0.67      0.63      1610\n",
      "    Canceled       0.28      0.14      0.19       741\n",
      "     No-Show       0.16      0.22      0.18       398\n",
      "\n",
      "    accuracy                           0.46      2749\n",
      "   macro avg       0.34      0.34      0.33      2749\n",
      "weighted avg       0.44      0.46      0.44      2749\n",
      "\n",
      "==========================================================================\n",
      "i= 0.9 j= 3.5 k= 9\n"
     ]
    },
    {
     "name": "stderr",
     "output_type": "stream",
     "text": [
      "c:\\users\\redline pc\\appdata\\local\\programs\\python\\python38\\lib\\site-packages\\xgboost\\sklearn.py:888: UserWarning: The use of label encoder in XGBClassifier is deprecated and will be removed in a future release. To remove this warning, do the following: 1) Pass option use_label_encoder=False when constructing XGBClassifier object; and 2) Encode your labels (y) as integers starting with 0, i.e. 0, 1, 2, ..., [num_class - 1].\n",
      "  warnings.warn(label_encoder_deprecation_msg, UserWarning)\n",
      "c:\\users\\redline pc\\appdata\\local\\programs\\python\\python38\\lib\\site-packages\\sklearn\\utils\\validation.py:63: DataConversionWarning: A column-vector y was passed when a 1d array was expected. Please change the shape of y to (n_samples, ), for example using ravel().\n",
      "  return f(*args, **kwargs)\n"
     ]
    },
    {
     "name": "stdout",
     "output_type": "stream",
     "text": [
      "              precision    recall  f1-score   support\n",
      "\n",
      "    Check-In       0.59      0.65      0.62      1610\n",
      "    Canceled       0.26      0.11      0.15       741\n",
      "     No-Show       0.15      0.25      0.19       398\n",
      "\n",
      "    accuracy                           0.45      2749\n",
      "   macro avg       0.33      0.34      0.32      2749\n",
      "weighted avg       0.44      0.45      0.43      2749\n",
      "\n",
      "==========================================================================\n",
      "i= 0.9 j= 4.0 k= 3\n"
     ]
    },
    {
     "name": "stderr",
     "output_type": "stream",
     "text": [
      "c:\\users\\redline pc\\appdata\\local\\programs\\python\\python38\\lib\\site-packages\\xgboost\\sklearn.py:888: UserWarning: The use of label encoder in XGBClassifier is deprecated and will be removed in a future release. To remove this warning, do the following: 1) Pass option use_label_encoder=False when constructing XGBClassifier object; and 2) Encode your labels (y) as integers starting with 0, i.e. 0, 1, 2, ..., [num_class - 1].\n",
      "  warnings.warn(label_encoder_deprecation_msg, UserWarning)\n",
      "c:\\users\\redline pc\\appdata\\local\\programs\\python\\python38\\lib\\site-packages\\sklearn\\utils\\validation.py:63: DataConversionWarning: A column-vector y was passed when a 1d array was expected. Please change the shape of y to (n_samples, ), for example using ravel().\n",
      "  return f(*args, **kwargs)\n"
     ]
    },
    {
     "name": "stdout",
     "output_type": "stream",
     "text": [
      "              precision    recall  f1-score   support\n",
      "\n",
      "    Check-In       0.59      0.72      0.65      1610\n",
      "    Canceled       0.28      0.29      0.29       741\n",
      "     No-Show       0.00      0.00      0.00       398\n",
      "\n",
      "    accuracy                           0.50      2749\n",
      "   macro avg       0.29      0.34      0.31      2749\n",
      "weighted avg       0.42      0.50      0.46      2749\n",
      "\n",
      "==========================================================================\n",
      "i= 0.9 j= 4.0 k= 4\n"
     ]
    },
    {
     "name": "stderr",
     "output_type": "stream",
     "text": [
      "c:\\users\\redline pc\\appdata\\local\\programs\\python\\python38\\lib\\site-packages\\xgboost\\sklearn.py:888: UserWarning: The use of label encoder in XGBClassifier is deprecated and will be removed in a future release. To remove this warning, do the following: 1) Pass option use_label_encoder=False when constructing XGBClassifier object; and 2) Encode your labels (y) as integers starting with 0, i.e. 0, 1, 2, ..., [num_class - 1].\n",
      "  warnings.warn(label_encoder_deprecation_msg, UserWarning)\n",
      "c:\\users\\redline pc\\appdata\\local\\programs\\python\\python38\\lib\\site-packages\\sklearn\\utils\\validation.py:63: DataConversionWarning: A column-vector y was passed when a 1d array was expected. Please change the shape of y to (n_samples, ), for example using ravel().\n",
      "  return f(*args, **kwargs)\n"
     ]
    },
    {
     "name": "stdout",
     "output_type": "stream",
     "text": [
      "              precision    recall  f1-score   support\n",
      "\n",
      "    Check-In       0.59      0.70      0.64      1610\n",
      "    Canceled       0.27      0.30      0.28       741\n",
      "     No-Show       0.14      0.01      0.01       398\n",
      "\n",
      "    accuracy                           0.49      2749\n",
      "   macro avg       0.33      0.33      0.31      2749\n",
      "weighted avg       0.44      0.49      0.45      2749\n",
      "\n",
      "==========================================================================\n",
      "i= 0.9 j= 4.0 k= 5\n"
     ]
    },
    {
     "name": "stderr",
     "output_type": "stream",
     "text": [
      "c:\\users\\redline pc\\appdata\\local\\programs\\python\\python38\\lib\\site-packages\\xgboost\\sklearn.py:888: UserWarning: The use of label encoder in XGBClassifier is deprecated and will be removed in a future release. To remove this warning, do the following: 1) Pass option use_label_encoder=False when constructing XGBClassifier object; and 2) Encode your labels (y) as integers starting with 0, i.e. 0, 1, 2, ..., [num_class - 1].\n",
      "  warnings.warn(label_encoder_deprecation_msg, UserWarning)\n",
      "c:\\users\\redline pc\\appdata\\local\\programs\\python\\python38\\lib\\site-packages\\sklearn\\utils\\validation.py:63: DataConversionWarning: A column-vector y was passed when a 1d array was expected. Please change the shape of y to (n_samples, ), for example using ravel().\n",
      "  return f(*args, **kwargs)\n"
     ]
    },
    {
     "name": "stdout",
     "output_type": "stream",
     "text": [
      "              precision    recall  f1-score   support\n",
      "\n",
      "    Check-In       0.59      0.69      0.64      1610\n",
      "    Canceled       0.27      0.30      0.28       741\n",
      "     No-Show       0.20      0.03      0.04       398\n",
      "\n",
      "    accuracy                           0.49      2749\n",
      "   macro avg       0.35      0.34      0.32      2749\n",
      "weighted avg       0.45      0.49      0.46      2749\n",
      "\n",
      "==========================================================================\n",
      "i= 0.9 j= 4.0 k= 6\n"
     ]
    },
    {
     "name": "stderr",
     "output_type": "stream",
     "text": [
      "c:\\users\\redline pc\\appdata\\local\\programs\\python\\python38\\lib\\site-packages\\xgboost\\sklearn.py:888: UserWarning: The use of label encoder in XGBClassifier is deprecated and will be removed in a future release. To remove this warning, do the following: 1) Pass option use_label_encoder=False when constructing XGBClassifier object; and 2) Encode your labels (y) as integers starting with 0, i.e. 0, 1, 2, ..., [num_class - 1].\n",
      "  warnings.warn(label_encoder_deprecation_msg, UserWarning)\n",
      "c:\\users\\redline pc\\appdata\\local\\programs\\python\\python38\\lib\\site-packages\\sklearn\\utils\\validation.py:63: DataConversionWarning: A column-vector y was passed when a 1d array was expected. Please change the shape of y to (n_samples, ), for example using ravel().\n",
      "  return f(*args, **kwargs)\n"
     ]
    },
    {
     "name": "stdout",
     "output_type": "stream",
     "text": [
      "              precision    recall  f1-score   support\n",
      "\n",
      "    Check-In       0.59      0.70      0.64      1610\n",
      "    Canceled       0.28      0.27      0.27       741\n",
      "     No-Show       0.19      0.07      0.10       398\n",
      "\n",
      "    accuracy                           0.49      2749\n",
      "   macro avg       0.35      0.34      0.34      2749\n",
      "weighted avg       0.45      0.49      0.46      2749\n",
      "\n",
      "==========================================================================\n",
      "i= 0.9 j= 4.0 k= 7\n"
     ]
    },
    {
     "name": "stderr",
     "output_type": "stream",
     "text": [
      "c:\\users\\redline pc\\appdata\\local\\programs\\python\\python38\\lib\\site-packages\\xgboost\\sklearn.py:888: UserWarning: The use of label encoder in XGBClassifier is deprecated and will be removed in a future release. To remove this warning, do the following: 1) Pass option use_label_encoder=False when constructing XGBClassifier object; and 2) Encode your labels (y) as integers starting with 0, i.e. 0, 1, 2, ..., [num_class - 1].\n",
      "  warnings.warn(label_encoder_deprecation_msg, UserWarning)\n",
      "c:\\users\\redline pc\\appdata\\local\\programs\\python\\python38\\lib\\site-packages\\sklearn\\utils\\validation.py:63: DataConversionWarning: A column-vector y was passed when a 1d array was expected. Please change the shape of y to (n_samples, ), for example using ravel().\n",
      "  return f(*args, **kwargs)\n"
     ]
    },
    {
     "name": "stdout",
     "output_type": "stream",
     "text": [
      "              precision    recall  f1-score   support\n",
      "\n",
      "    Check-In       0.59      0.69      0.64      1610\n",
      "    Canceled       0.28      0.23      0.25       741\n",
      "     No-Show       0.16      0.11      0.13       398\n",
      "\n",
      "    accuracy                           0.48      2749\n",
      "   macro avg       0.35      0.34      0.34      2749\n",
      "weighted avg       0.45      0.48      0.46      2749\n",
      "\n",
      "==========================================================================\n",
      "i= 0.9 j= 4.0 k= 8\n"
     ]
    },
    {
     "name": "stderr",
     "output_type": "stream",
     "text": [
      "c:\\users\\redline pc\\appdata\\local\\programs\\python\\python38\\lib\\site-packages\\xgboost\\sklearn.py:888: UserWarning: The use of label encoder in XGBClassifier is deprecated and will be removed in a future release. To remove this warning, do the following: 1) Pass option use_label_encoder=False when constructing XGBClassifier object; and 2) Encode your labels (y) as integers starting with 0, i.e. 0, 1, 2, ..., [num_class - 1].\n",
      "  warnings.warn(label_encoder_deprecation_msg, UserWarning)\n",
      "c:\\users\\redline pc\\appdata\\local\\programs\\python\\python38\\lib\\site-packages\\sklearn\\utils\\validation.py:63: DataConversionWarning: A column-vector y was passed when a 1d array was expected. Please change the shape of y to (n_samples, ), for example using ravel().\n",
      "  return f(*args, **kwargs)\n"
     ]
    },
    {
     "name": "stdout",
     "output_type": "stream",
     "text": [
      "              precision    recall  f1-score   support\n",
      "\n",
      "    Check-In       0.59      0.66      0.63      1610\n",
      "    Canceled       0.28      0.19      0.23       741\n",
      "     No-Show       0.18      0.20      0.19       398\n",
      "\n",
      "    accuracy                           0.47      2749\n",
      "   macro avg       0.35      0.35      0.35      2749\n",
      "weighted avg       0.45      0.47      0.45      2749\n",
      "\n",
      "==========================================================================\n",
      "i= 0.9 j= 4.0 k= 9\n"
     ]
    },
    {
     "name": "stderr",
     "output_type": "stream",
     "text": [
      "c:\\users\\redline pc\\appdata\\local\\programs\\python\\python38\\lib\\site-packages\\xgboost\\sklearn.py:888: UserWarning: The use of label encoder in XGBClassifier is deprecated and will be removed in a future release. To remove this warning, do the following: 1) Pass option use_label_encoder=False when constructing XGBClassifier object; and 2) Encode your labels (y) as integers starting with 0, i.e. 0, 1, 2, ..., [num_class - 1].\n",
      "  warnings.warn(label_encoder_deprecation_msg, UserWarning)\n",
      "c:\\users\\redline pc\\appdata\\local\\programs\\python\\python38\\lib\\site-packages\\sklearn\\utils\\validation.py:63: DataConversionWarning: A column-vector y was passed when a 1d array was expected. Please change the shape of y to (n_samples, ), for example using ravel().\n",
      "  return f(*args, **kwargs)\n"
     ]
    },
    {
     "name": "stdout",
     "output_type": "stream",
     "text": [
      "              precision    recall  f1-score   support\n",
      "\n",
      "    Check-In       0.59      0.64      0.61      1610\n",
      "    Canceled       0.26      0.16      0.19       741\n",
      "     No-Show       0.16      0.22      0.18       398\n",
      "\n",
      "    accuracy                           0.45      2749\n",
      "   macro avg       0.34      0.34      0.33      2749\n",
      "weighted avg       0.44      0.45      0.44      2749\n",
      "\n",
      "==========================================================================\n",
      "i= 0.9 j= 4.5 k= 3\n"
     ]
    },
    {
     "name": "stderr",
     "output_type": "stream",
     "text": [
      "c:\\users\\redline pc\\appdata\\local\\programs\\python\\python38\\lib\\site-packages\\xgboost\\sklearn.py:888: UserWarning: The use of label encoder in XGBClassifier is deprecated and will be removed in a future release. To remove this warning, do the following: 1) Pass option use_label_encoder=False when constructing XGBClassifier object; and 2) Encode your labels (y) as integers starting with 0, i.e. 0, 1, 2, ..., [num_class - 1].\n",
      "  warnings.warn(label_encoder_deprecation_msg, UserWarning)\n",
      "c:\\users\\redline pc\\appdata\\local\\programs\\python\\python38\\lib\\site-packages\\sklearn\\utils\\validation.py:63: DataConversionWarning: A column-vector y was passed when a 1d array was expected. Please change the shape of y to (n_samples, ), for example using ravel().\n",
      "  return f(*args, **kwargs)\n"
     ]
    },
    {
     "name": "stdout",
     "output_type": "stream",
     "text": [
      "              precision    recall  f1-score   support\n",
      "\n",
      "    Check-In       0.59      0.69      0.64      1610\n",
      "    Canceled       0.28      0.34      0.31       741\n",
      "     No-Show       1.00      0.00      0.01       398\n",
      "\n",
      "    accuracy                           0.49      2749\n",
      "   macro avg       0.63      0.34      0.32      2749\n",
      "weighted avg       0.57      0.49      0.46      2749\n",
      "\n",
      "==========================================================================\n",
      "i= 0.9 j= 4.5 k= 4\n"
     ]
    },
    {
     "name": "stderr",
     "output_type": "stream",
     "text": [
      "c:\\users\\redline pc\\appdata\\local\\programs\\python\\python38\\lib\\site-packages\\xgboost\\sklearn.py:888: UserWarning: The use of label encoder in XGBClassifier is deprecated and will be removed in a future release. To remove this warning, do the following: 1) Pass option use_label_encoder=False when constructing XGBClassifier object; and 2) Encode your labels (y) as integers starting with 0, i.e. 0, 1, 2, ..., [num_class - 1].\n",
      "  warnings.warn(label_encoder_deprecation_msg, UserWarning)\n",
      "c:\\users\\redline pc\\appdata\\local\\programs\\python\\python38\\lib\\site-packages\\sklearn\\utils\\validation.py:63: DataConversionWarning: A column-vector y was passed when a 1d array was expected. Please change the shape of y to (n_samples, ), for example using ravel().\n",
      "  return f(*args, **kwargs)\n"
     ]
    },
    {
     "name": "stdout",
     "output_type": "stream",
     "text": [
      "              precision    recall  f1-score   support\n",
      "\n",
      "    Check-In       0.60      0.68      0.63      1610\n",
      "    Canceled       0.28      0.34      0.31       741\n",
      "     No-Show       0.14      0.01      0.01       398\n",
      "\n",
      "    accuracy                           0.49      2749\n",
      "   macro avg       0.34      0.34      0.32      2749\n",
      "weighted avg       0.44      0.49      0.46      2749\n",
      "\n",
      "==========================================================================\n",
      "i= 0.9 j= 4.5 k= 5\n"
     ]
    },
    {
     "name": "stderr",
     "output_type": "stream",
     "text": [
      "c:\\users\\redline pc\\appdata\\local\\programs\\python\\python38\\lib\\site-packages\\xgboost\\sklearn.py:888: UserWarning: The use of label encoder in XGBClassifier is deprecated and will be removed in a future release. To remove this warning, do the following: 1) Pass option use_label_encoder=False when constructing XGBClassifier object; and 2) Encode your labels (y) as integers starting with 0, i.e. 0, 1, 2, ..., [num_class - 1].\n",
      "  warnings.warn(label_encoder_deprecation_msg, UserWarning)\n",
      "c:\\users\\redline pc\\appdata\\local\\programs\\python\\python38\\lib\\site-packages\\sklearn\\utils\\validation.py:63: DataConversionWarning: A column-vector y was passed when a 1d array was expected. Please change the shape of y to (n_samples, ), for example using ravel().\n",
      "  return f(*args, **kwargs)\n"
     ]
    },
    {
     "name": "stdout",
     "output_type": "stream",
     "text": [
      "              precision    recall  f1-score   support\n",
      "\n",
      "    Check-In       0.59      0.67      0.63      1610\n",
      "    Canceled       0.27      0.33      0.30       741\n",
      "     No-Show       0.19      0.02      0.04       398\n",
      "\n",
      "    accuracy                           0.48      2749\n",
      "   macro avg       0.35      0.34      0.32      2749\n",
      "weighted avg       0.45      0.48      0.45      2749\n",
      "\n",
      "==========================================================================\n",
      "i= 0.9 j= 4.5 k= 6\n"
     ]
    },
    {
     "name": "stderr",
     "output_type": "stream",
     "text": [
      "c:\\users\\redline pc\\appdata\\local\\programs\\python\\python38\\lib\\site-packages\\xgboost\\sklearn.py:888: UserWarning: The use of label encoder in XGBClassifier is deprecated and will be removed in a future release. To remove this warning, do the following: 1) Pass option use_label_encoder=False when constructing XGBClassifier object; and 2) Encode your labels (y) as integers starting with 0, i.e. 0, 1, 2, ..., [num_class - 1].\n",
      "  warnings.warn(label_encoder_deprecation_msg, UserWarning)\n",
      "c:\\users\\redline pc\\appdata\\local\\programs\\python\\python38\\lib\\site-packages\\sklearn\\utils\\validation.py:63: DataConversionWarning: A column-vector y was passed when a 1d array was expected. Please change the shape of y to (n_samples, ), for example using ravel().\n",
      "  return f(*args, **kwargs)\n"
     ]
    },
    {
     "name": "stdout",
     "output_type": "stream",
     "text": [
      "              precision    recall  f1-score   support\n",
      "\n",
      "    Check-In       0.59      0.67      0.63      1610\n",
      "    Canceled       0.28      0.30      0.29       741\n",
      "     No-Show       0.21      0.06      0.09       398\n",
      "\n",
      "    accuracy                           0.48      2749\n",
      "   macro avg       0.36      0.34      0.34      2749\n",
      "weighted avg       0.45      0.48      0.46      2749\n",
      "\n",
      "==========================================================================\n",
      "i= 0.9 j= 4.5 k= 7\n"
     ]
    },
    {
     "name": "stderr",
     "output_type": "stream",
     "text": [
      "c:\\users\\redline pc\\appdata\\local\\programs\\python\\python38\\lib\\site-packages\\xgboost\\sklearn.py:888: UserWarning: The use of label encoder in XGBClassifier is deprecated and will be removed in a future release. To remove this warning, do the following: 1) Pass option use_label_encoder=False when constructing XGBClassifier object; and 2) Encode your labels (y) as integers starting with 0, i.e. 0, 1, 2, ..., [num_class - 1].\n",
      "  warnings.warn(label_encoder_deprecation_msg, UserWarning)\n",
      "c:\\users\\redline pc\\appdata\\local\\programs\\python\\python38\\lib\\site-packages\\sklearn\\utils\\validation.py:63: DataConversionWarning: A column-vector y was passed when a 1d array was expected. Please change the shape of y to (n_samples, ), for example using ravel().\n",
      "  return f(*args, **kwargs)\n"
     ]
    },
    {
     "name": "stdout",
     "output_type": "stream",
     "text": [
      "              precision    recall  f1-score   support\n",
      "\n",
      "    Check-In       0.59      0.63      0.61      1610\n",
      "    Canceled       0.28      0.30      0.28       741\n",
      "     No-Show       0.19      0.10      0.13       398\n",
      "\n",
      "    accuracy                           0.47      2749\n",
      "   macro avg       0.35      0.34      0.34      2749\n",
      "weighted avg       0.45      0.47      0.45      2749\n",
      "\n",
      "==========================================================================\n",
      "i= 0.9 j= 4.5 k= 8\n"
     ]
    },
    {
     "name": "stderr",
     "output_type": "stream",
     "text": [
      "c:\\users\\redline pc\\appdata\\local\\programs\\python\\python38\\lib\\site-packages\\xgboost\\sklearn.py:888: UserWarning: The use of label encoder in XGBClassifier is deprecated and will be removed in a future release. To remove this warning, do the following: 1) Pass option use_label_encoder=False when constructing XGBClassifier object; and 2) Encode your labels (y) as integers starting with 0, i.e. 0, 1, 2, ..., [num_class - 1].\n",
      "  warnings.warn(label_encoder_deprecation_msg, UserWarning)\n",
      "c:\\users\\redline pc\\appdata\\local\\programs\\python\\python38\\lib\\site-packages\\sklearn\\utils\\validation.py:63: DataConversionWarning: A column-vector y was passed when a 1d array was expected. Please change the shape of y to (n_samples, ), for example using ravel().\n",
      "  return f(*args, **kwargs)\n"
     ]
    },
    {
     "name": "stdout",
     "output_type": "stream",
     "text": [
      "              precision    recall  f1-score   support\n",
      "\n",
      "    Check-In       0.59      0.63      0.61      1610\n",
      "    Canceled       0.28      0.25      0.26       741\n",
      "     No-Show       0.16      0.15      0.16       398\n",
      "\n",
      "    accuracy                           0.46      2749\n",
      "   macro avg       0.34      0.34      0.34      2749\n",
      "weighted avg       0.44      0.46      0.45      2749\n",
      "\n",
      "==========================================================================\n",
      "i= 0.9 j= 4.5 k= 9\n"
     ]
    },
    {
     "name": "stderr",
     "output_type": "stream",
     "text": [
      "c:\\users\\redline pc\\appdata\\local\\programs\\python\\python38\\lib\\site-packages\\xgboost\\sklearn.py:888: UserWarning: The use of label encoder in XGBClassifier is deprecated and will be removed in a future release. To remove this warning, do the following: 1) Pass option use_label_encoder=False when constructing XGBClassifier object; and 2) Encode your labels (y) as integers starting with 0, i.e. 0, 1, 2, ..., [num_class - 1].\n",
      "  warnings.warn(label_encoder_deprecation_msg, UserWarning)\n",
      "c:\\users\\redline pc\\appdata\\local\\programs\\python\\python38\\lib\\site-packages\\sklearn\\utils\\validation.py:63: DataConversionWarning: A column-vector y was passed when a 1d array was expected. Please change the shape of y to (n_samples, ), for example using ravel().\n",
      "  return f(*args, **kwargs)\n"
     ]
    },
    {
     "name": "stdout",
     "output_type": "stream",
     "text": [
      "              precision    recall  f1-score   support\n",
      "\n",
      "    Check-In       0.59      0.62      0.60      1610\n",
      "    Canceled       0.28      0.22      0.25       741\n",
      "     No-Show       0.16      0.19      0.17       398\n",
      "\n",
      "    accuracy                           0.45      2749\n",
      "   macro avg       0.34      0.34      0.34      2749\n",
      "weighted avg       0.44      0.45      0.44      2749\n",
      "\n"
     ]
    }
   ],
   "source": [
    "import xgboost as xgb\n",
    "\n",
    "Continus = ['Age','Discount_Rate','Room_Rate','checkin_year','checkin_month','Adults', 'Children', 'Babies',\n",
    "            'Days_until_checkin','Booking_month','Min_num_of_rooms','Total_Min_Cost','Min_Discount_amount']\n",
    "\n",
    "Categorical = ['Gender','Educational_Level','Income','Meal_Type', 'Visted_Previously','Previous_Cancellations', 'Use_Promotion',\n",
    "              'Ethnicity_African American', 'Ethnicity_Asian American','Ethnicity_Latino', 'Ethnicity_caucasian', \n",
    "              'Country_region_East','Country_region_North', 'Country_region_South', 'Country_region_West',\n",
    "              'Hotel_Type_Airport Hotels', 'Hotel_Type_City Hotel','Hotel_Type_Resort', 'Booking_channel_Agent', \n",
    "              'Booking_channel_Direct','Booking_channel_Online','checkin_day_of_the_week','Booking_day_of_the_week']\n",
    "\n",
    "Label =['Reservation_Status']\n",
    "\n",
    "for i in range (3,10):\n",
    "    for j in range (3,10):\n",
    "        for k in range (3,10):\n",
    "            print(\"==========================================================================\")\n",
    "            print(\"i=\",i/10,\"j=\",j/2,\"k=\",k)\n",
    "            Weights_col=Y_train.copy()\n",
    "            Weights_col = Weights_col.replace(1, i/10)\n",
    "            Weights_col = Weights_col.replace(2, j/2)\n",
    "            Weights_col = Weights_col.replace(3, k)\n",
    "\n",
    "            Classifier = xgb.XGBClassifier(random_state=1,learning_rate=0.06,eval_metric = \"merror\",\n",
    "                                           max_depth=8)\n",
    "\n",
    "            X_train = Train_Data.loc[:,Categorical+Continus]\n",
    "            Y_train = Train_Data.loc[:,Label]\n",
    "\n",
    "            Classifier.fit(X_train, Y_train,sample_weight=Weights_col)\n",
    "\n",
    "            X_val = Val_Data.loc[:,Categorical+Continus]\n",
    "            Y_val = Val_Data.loc[:,Label]\n",
    "\n",
    "            Y_val_predict = Classifier.predict(X_val)\n",
    "\n",
    "            # print(Classifier.score(Y_val_predict, Y_val))\n",
    "#             fig=plot_confusion_matrix(Classifier, X_val,Y_val,display_labels=[\"Check-In\",\"Canceled\",\"No-Show\"])\n",
    "#             fig.figure_.suptitle(\"Confusion Matrix for Training Data\")\n",
    "#             plt.show()\n",
    "\n",
    "            from sklearn.metrics import classification_report\n",
    "            target_names = [\"Check-In\",\"Canceled\",\"No-Show\"]\n",
    "            print(classification_report(Y_val, Y_val_predict, target_names=target_names))"
   ]
  },
  {
   "cell_type": "code",
   "execution_count": 147,
   "id": "defensive-proof",
   "metadata": {},
   "outputs": [
    {
     "name": "stderr",
     "output_type": "stream",
     "text": [
      "c:\\users\\redline pc\\appdata\\local\\programs\\python\\python38\\lib\\site-packages\\xgboost\\sklearn.py:888: UserWarning: The use of label encoder in XGBClassifier is deprecated and will be removed in a future release. To remove this warning, do the following: 1) Pass option use_label_encoder=False when constructing XGBClassifier object; and 2) Encode your labels (y) as integers starting with 0, i.e. 0, 1, 2, ..., [num_class - 1].\n",
      "  warnings.warn(label_encoder_deprecation_msg, UserWarning)\n",
      "c:\\users\\redline pc\\appdata\\local\\programs\\python\\python38\\lib\\site-packages\\sklearn\\utils\\validation.py:63: DataConversionWarning: A column-vector y was passed when a 1d array was expected. Please change the shape of y to (n_samples, ), for example using ravel().\n",
      "  return f(*args, **kwargs)\n"
     ]
    },
    {
     "data": {
      "text/plain": [
       "XGBClassifier(base_score=0.5, booster='gbtree', colsample_bylevel=1,\n",
       "              colsample_bynode=1, colsample_bytree=1, eval_metric='merror',\n",
       "              gamma=0, gpu_id=-1, importance_type='gain',\n",
       "              interaction_constraints='', learning_rate=0.06, max_delta_step=0,\n",
       "              max_depth=8, min_child_weight=1, missing=nan,\n",
       "              monotone_constraints='()', n_estimators=100, n_jobs=16,\n",
       "              num_parallel_tree=1, objective='multi:softprob', random_state=1,\n",
       "              reg_alpha=0, reg_lambda=1, scale_pos_weight=None, subsample=1,\n",
       "              tree_method='exact', validate_parameters=1, verbosity=None)"
      ]
     },
     "execution_count": 147,
     "metadata": {},
     "output_type": "execute_result"
    }
   ],
   "source": [
    "Weights_col=Y_train.copy()\n",
    "Weights_col = Weights_col.replace(1, 0.6)\n",
    "Weights_col = Weights_col.replace(2, 3.5)\n",
    "Weights_col = Weights_col.replace(3, 6)\n",
    "\n",
    "Classifier = xgb.XGBClassifier(random_state=1,learning_rate=0.06,eval_metric = \"merror\",\n",
    "                               max_depth=8)\n",
    "\n",
    "X_train = Train_Data.loc[:,Categorical+Continus]\n",
    "Y_train = Train_Data.loc[:,Label]\n",
    "\n",
    "Classifier.fit(X_train, Y_train,sample_weight=Weights_col)"
   ]
  },
  {
   "cell_type": "code",
   "execution_count": 148,
   "id": "second-rubber",
   "metadata": {},
   "outputs": [
    {
     "data": {
      "image/png": "[encoded data removed]",
      "text/plain": [
       "<Figure size 432x288 with 2 Axes>"
      ]
     },
     "metadata": {
      "needs_background": "light"
     },
     "output_type": "display_data"
    },
    {
     "name": "stdout",
     "output_type": "stream",
     "text": [
      "              precision    recall  f1-score   support\n",
      "\n",
      "    Check-In       0.96      0.61      0.75     21240\n",
      "    Canceled       0.36      0.86      0.51      4134\n",
      "     No-Show       0.44      0.83      0.57      2125\n",
      "\n",
      "    accuracy                           0.67     27499\n",
      "   macro avg       0.58      0.77      0.61     27499\n",
      "weighted avg       0.83      0.67      0.70     27499\n",
      "\n"
     ]
    }
   ],
   "source": [
    "Y_train_predict = Classifier.predict(X_train)\n",
    "\n",
    "# print(Classifier.score(Y_train_predict, Y_train))\n",
    "fig=plot_confusion_matrix(Classifier, X_train,Y_train,\n",
    "display_labels=[\"Check-In\",\"Canceled\",\"No-Show\"])\n",
    "fig.figure_.suptitle(\"Confusion Matrix for Training Data\")\n",
    "plt.show()\n",
    "\n",
    "from sklearn.metrics import classification_report\n",
    "target_names = [\"Check-In\",\"Canceled\",\"No-Show\"]\n",
    "print(classification_report(Y_train, Y_train_predict, target_names=target_names))"
   ]
  },
  {
   "cell_type": "code",
   "execution_count": 149,
   "id": "educated-worship",
   "metadata": {},
   "outputs": [
    {
     "data": {
      "image/png": "[encoded data removed]",
      "text/plain": [
       "<Figure size 432x288 with 2 Axes>"
      ]
     },
     "metadata": {
      "needs_background": "light"
     },
     "output_type": "display_data"
    },
    {
     "name": "stdout",
     "output_type": "stream",
     "text": [
      "              precision    recall  f1-score   support\n",
      "\n",
      "    Check-In       0.59      0.60      0.60      1610\n",
      "    Canceled       0.29      0.31      0.30       741\n",
      "     No-Show       0.20      0.16      0.18       398\n",
      "\n",
      "    accuracy                           0.46      2749\n",
      "   macro avg       0.36      0.36      0.36      2749\n",
      "weighted avg       0.45      0.46      0.45      2749\n",
      "\n"
     ]
    }
   ],
   "source": [
    "X_val = Val_Data.loc[:,Categorical+Continus]\n",
    "Y_val = Val_Data.loc[:,Label]\n",
    "\n",
    "Y_val_predict = Classifier.predict(X_val)\n",
    "\n",
    "# print(Classifier.score(Y_val_predict, Y_val))\n",
    "fig=plot_confusion_matrix(Classifier, X_val,Y_val,display_labels=[\"Check-In\",\"Canceled\",\"No-Show\"])\n",
    "fig.figure_.suptitle(\"Confusion Matrix for Training Data\")\n",
    "plt.show()\n",
    "\n",
    "from sklearn.metrics import classification_report\n",
    "target_names = [\"Check-In\",\"Canceled\",\"No-Show\"]\n",
    "print(classification_report(Y_val, Y_val_predict, target_names=target_names))"
   ]
  },
  {
   "cell_type": "code",
   "execution_count": 150,
   "id": "forward-migration",
   "metadata": {},
   "outputs": [
    {
     "data": {
      "text/html": [
       "<div>\n",
       "<style scoped>\n",
       "    .dataframe tbody tr th:only-of-type {\n",
       "        vertical-align: middle;\n",
       "    }\n",
       "\n",
       "    .dataframe tbody tr th {\n",
       "        vertical-align: top;\n",
       "    }\n",
       "\n",
       "    .dataframe thead th {\n",
       "        text-align: right;\n",
       "    }\n",
       "</style>\n",
       "<table border=\"1\" class=\"dataframe\">\n",
       "  <thead>\n",
       "    <tr style=\"text-align: right;\">\n",
       "      <th></th>\n",
       "      <th>Reservation-id</th>\n",
       "      <th>Reservation_Status</th>\n",
       "    </tr>\n",
       "  </thead>\n",
       "  <tbody>\n",
       "    <tr>\n",
       "      <th>0</th>\n",
       "      <td>62931593</td>\n",
       "      <td>1</td>\n",
       "    </tr>\n",
       "    <tr>\n",
       "      <th>1</th>\n",
       "      <td>70586099</td>\n",
       "      <td>2</td>\n",
       "    </tr>\n",
       "    <tr>\n",
       "      <th>2</th>\n",
       "      <td>4230648</td>\n",
       "      <td>1</td>\n",
       "    </tr>\n",
       "    <tr>\n",
       "      <th>3</th>\n",
       "      <td>25192322</td>\n",
       "      <td>2</td>\n",
       "    </tr>\n",
       "    <tr>\n",
       "      <th>4</th>\n",
       "      <td>80931528</td>\n",
       "      <td>1</td>\n",
       "    </tr>\n",
       "    <tr>\n",
       "      <th>...</th>\n",
       "      <td>...</td>\n",
       "      <td>...</td>\n",
       "    </tr>\n",
       "    <tr>\n",
       "      <th>4313</th>\n",
       "      <td>39110574</td>\n",
       "      <td>3</td>\n",
       "    </tr>\n",
       "    <tr>\n",
       "      <th>4314</th>\n",
       "      <td>5496554</td>\n",
       "      <td>2</td>\n",
       "    </tr>\n",
       "    <tr>\n",
       "      <th>4315</th>\n",
       "      <td>59004046</td>\n",
       "      <td>2</td>\n",
       "    </tr>\n",
       "    <tr>\n",
       "      <th>4316</th>\n",
       "      <td>65838682</td>\n",
       "      <td>1</td>\n",
       "    </tr>\n",
       "    <tr>\n",
       "      <th>4317</th>\n",
       "      <td>14474101</td>\n",
       "      <td>2</td>\n",
       "    </tr>\n",
       "  </tbody>\n",
       "</table>\n",
       "<p>4318 rows × 2 columns</p>\n",
       "</div>"
      ],
      "text/plain": [
       "      Reservation-id  Reservation_Status\n",
       "0           62931593                   1\n",
       "1           70586099                   2\n",
       "2            4230648                   1\n",
       "3           25192322                   2\n",
       "4           80931528                   1\n",
       "...              ...                 ...\n",
       "4313        39110574                   3\n",
       "4314         5496554                   2\n",
       "4315        59004046                   2\n",
       "4316        65838682                   1\n",
       "4317        14474101                   2\n",
       "\n",
       "[4318 rows x 2 columns]"
      ]
     },
     "execution_count": 150,
     "metadata": {},
     "output_type": "execute_result"
    }
   ],
   "source": [
    "X_Test = Test_Data.loc[:,Categorical+Continus]\n",
    "# Y_val = Test_Data.loc[:,Label]\n",
    "\n",
    "Test_Data_predict = Classifier.predict(X_Test)\n",
    "\n",
    "Test_Data[\"Reservation_Status\"] = Test_Data_predict\n",
    "\n",
    "# Test_Data[\"Reservation_Status\"]=Test_Data[\"Reservation_Status\"].replace(3,'No-Show')\n",
    "# Test_Data[\"Reservation_Status\"]=Test_Data[\"Reservation_Status\"].replace(2,\"Canceled\")\n",
    "# Test_Data[\"Reservation_Status\"]=Test_Data[\"Reservation_Status\"].replace(1,\"Check-In\")\n",
    "\n",
    "Submission = Test_Data.loc[:,[\"Reservation-id\",\"Reservation_Status\"]]\n",
    "Submission.to_csv(\"Submission Model-2 XGboost.csv\",index=False)\n",
    "Submission"
   ]
  },
  {
   "cell_type": "code",
   "execution_count": null,
   "id": "sound-advance",
   "metadata": {},
   "outputs": [],
   "source": [
    "def initilialize_poplulation(numberOfParents):\n",
    "    learningRate = np.empty([numberOfParents, 1])\n",
    "    nEstimators = np.empty([numberOfParents, 1], dtype = np.uint8)\n",
    "    maxDepth = np.empty([numberOfParents, 1], dtype = np.uint8)\n",
    "    minChildWeight = np.empty([numberOfParents, 1])\n",
    "    gammaValue = np.empty([numberOfParents, 1])\n",
    "    subSample = np.empty([numberOfParents, 1])\n",
    "    colSampleByTree =  np.empty([numberOfParents, 1])\n",
    "    \n",
    "    for i in range(numberOfParents):\n",
    "            print(i)\n",
    "            learningRate[i] = round(random.uniform(0.01, 1), 2)\n",
    "            nEstimators[i] = random.randrange(10, 1500, step = 25)\n",
    "            maxDepth[i] = int(random.randrange(1, 10, step= 1))\n",
    "            minChildWeight[i] = round(random.uniform(0.01, 10.0), 2)\n",
    "            gammaValue[i] = round(random.uniform(0.01, 10.0), 2)\n",
    "            subSample[i] = round(random.uniform(0.01, 1.0), 2)\n",
    "            colSampleByTree[i] = round(random.uniform(0.01, 1.0), 2)\n",
    "    \n",
    "    population = np.concatenate((learningRate, nEstimators, maxDepth, minChildWeight, gammaValue, subSample, colSampleByTree), axis= 1)\n",
    "    return population\n",
    "\n",
    "\n",
    "def fitness_f1score(y_true, y_pred):\n",
    "    fitness = round((f1_score(y_true, y_pred, average='weighted')), 4)\n",
    "    return fitness\n",
    "\n",
    "\n",
    "#train the data annd find fitness score\n",
    "def train_population(population, dMatrixTrain, dMatrixtest, y_test,X,ys):\n",
    "    fScore = []\n",
    "    for i in range(population.shape[0]):\n",
    "        param = { 'objective':'binary:logistic',\n",
    "              'learning_rate': population[i][0],\n",
    "              'n_estimators': int(population[i][1]), \n",
    "              'max_depth': int(population[i][2]), \n",
    "              'min_child_weight': population[i][3],\n",
    "              'gamma': population[i][4], \n",
    "              'subsample': population[i][5],\n",
    "              'colsample_bytree': population[i][6],\n",
    "              'seed': 24}\n",
    "        num_round = 100\n",
    "        xgbT = xgb.train(param, dMatrixTrain, num_round)\n",
    "        xgbcv= xgb.XGBClassifier(random_state=1,learning_rate=0.01)\n",
    "        preds = xgbT.predict(dMatrixtest)\n",
    "        preds = preds>0.5\n",
    "        \n",
    "        classifier=xgb.XGBClassifier(learning_rate=  population[i][0] ,\n",
    "                    n_estimators= int(population[i][1]) ,\n",
    "                    max_depth=  int(population[i][2]) ,\n",
    "                    min_child_weight= population[i][3] ,\n",
    "                    gamma= population[i][4] ,\n",
    "                    subsample= population[i][5] ,\n",
    "                    colsample_bytree= population[i][6])\n",
    "        cvscore=cross_val_score(classifier,X,y,cv=10)\n",
    "        p=[]\n",
    "        for i in cvscore:\n",
    "            if math.isnan(i):\n",
    "                p=p\n",
    "            else:\n",
    "                p+=[i]\n",
    "        p=np.array(p)\n",
    "        p\n",
    "        fScore.append(sm/cnt)\n",
    "#         fScore.append(fitness_f1score(y_test, preds))\n",
    "    return fScore\n",
    "\n",
    "#select parents for mating\n",
    "def new_parents_selection(population, fitness, numParents):\n",
    "    selectedParents = np.empty((numParents, population.shape[1])) #create an array to store fittest parents\n",
    "    \n",
    "    #find the top best performing parents\n",
    "    for parentId in range(numParents):\n",
    "        bestFitnessId = np.where(fitness == np.max(fitness))\n",
    "        bestFitnessId  = bestFitnessId[0][0]\n",
    "        selectedParents[parentId, :] = population[bestFitnessId, :]\n",
    "        fitness[bestFitnessId] = -1 #set this value to negative, in case of F1-score, so this parent is not selected again\n",
    "    return selectedParents"
   ]
  },
  {
   "cell_type": "code",
   "execution_count": null,
   "id": "lucky-denver",
   "metadata": {},
   "outputs": [],
   "source": [
    "'''\n",
    "Mate these parents to create children having parameters from these parents (we are using uniform crossover method)\n",
    "'''\n",
    "def crossover_uniform(parents, childrenSize):\n",
    "    \n",
    "    crossoverPointIndex = np.arange(0, np.uint8(childrenSize[1]), 1, dtype= np.uint8) #get all the index\n",
    "    crossoverPointIndex1 = np.random.randint(0, np.uint8(childrenSize[1]), np.uint8(childrenSize[1]/2)) # select half  of the indexes randomly\n",
    "    crossoverPointIndex2 = np.array(list(set(crossoverPointIndex) - set(crossoverPointIndex1))) #select leftover indexes\n",
    "    \n",
    "    children = np.empty(childrenSize)\n",
    "    \n",
    "    '''\n",
    "    Create child by choosing parameters from two parents selected using new_parent_selection function. The parameter values\n",
    "    will be picked from the indexes, which were randomly selected above. \n",
    "    '''\n",
    "    for i in range(childrenSize[0]):\n",
    "        \n",
    "        #find parent 1 index \n",
    "        parent1_index = i%parents.shape[0]\n",
    "        #find parent 2 index\n",
    "        parent2_index = (i+1)%parents.shape[0]\n",
    "        #insert parameters based on random selected indexes in parent 1\n",
    "        children[i, crossoverPointIndex1] = parents[parent1_index, crossoverPointIndex1]\n",
    "        #insert parameters based on random selected indexes in parent 1\n",
    "        children[i, crossoverPointIndex2] = parents[parent2_index, crossoverPointIndex2]\n",
    "    return children"
   ]
  },
  {
   "cell_type": "code",
   "execution_count": null,
   "id": "apart-landscape",
   "metadata": {},
   "outputs": [],
   "source": [
    "def mutation(crossover, numberOfParameters):\n",
    "    #Define minimum and maximum values allowed for each parameter\n",
    "    minMaxValue = np.zeros((numberOfParameters, 2))\n",
    "    \n",
    "    minMaxValue[0:] = [0.01, 1.0] #min/max learning rate\n",
    "    minMaxValue[1, :] = [10, 2000] #min/max n_estimator\n",
    "    minMaxValue[2, :] = [1, 15] #min/max depth\n",
    "    minMaxValue[3, :] = [0, 10.0] #min/max child_weight\n",
    "    minMaxValue[4, :] = [0.01, 10.0] #min/max gamma\n",
    "    minMaxValue[5, :] = [0.01, 1.0] #min/maxsubsample\n",
    "    minMaxValue[6, :] = [0.01, 1.0] #min/maxcolsample_bytree\n",
    " \n",
    "    # Mutation changes a single gene in each offspring randomly.\n",
    "    mutationValue = 0\n",
    "    parameterSelect = np.random.randint(0, 7, 1)\n",
    "    print(parameterSelect)\n",
    "    if parameterSelect == 0: #learning_rate\n",
    "        mutationValue = round(np.random.uniform(-0.5, 0.5), 2)\n",
    "    if parameterSelect == 1: #n_estimators\n",
    "        mutationValue = np.random.randint(-200, 200, 1)\n",
    "    if parameterSelect == 2: #max_depth\n",
    "        mutationValue = np.random.randint(-5, 5, 1)\n",
    "    if parameterSelect == 3: #min_child_weight\n",
    "        mutationValue = round(np.random.uniform(5, 5), 2)\n",
    "    if parameterSelect == 4: #gamma\n",
    "        mutationValue = round(np.random.uniform(-2, 2), 2)\n",
    "    if parameterSelect == 5: #subsample\n",
    "        mutationValue = round(np.random.uniform(-0.5, 0.5), 2)\n",
    "    if parameterSelect == 6: #colsample\n",
    "        mutationValue = round(np.random.uniform(-0.5, 0.5), 2)\n",
    "  \n",
    "    #indtroduce mutation by changing one parameter, and set to max or min if it goes out of range\n",
    "    for idx in range(crossover.shape[0]):\n",
    "        crossover[idx, parameterSelect] = crossover[idx, parameterSelect] + mutationValue\n",
    "        if(crossover[idx, parameterSelect] > minMaxValue[parameterSelect, 1]):\n",
    "            crossover[idx, parameterSelect] = minMaxValue[parameterSelect, 1]\n",
    "        if(crossover[idx, parameterSelect] < minMaxValue[parameterSelect, 0]):\n",
    "            crossover[idx, parameterSelect] = minMaxValue[parameterSelect, 0]    \n",
    "    return crossover"
   ]
  },
  {
   "cell_type": "code",
   "execution_count": null,
   "id": "competitive-extension",
   "metadata": {},
   "outputs": [],
   "source": [
    "# Importing the libraries\n",
    "import numpy as np\n",
    "import pandas as pd\n",
    "\n",
    "import xgboost as xgb\n",
    "np.random.seed(723)\n",
    "# Importing the dataset\n",
    "\n",
    "Train_Data = pd.read_csv('Encoded_Train_Data.csv')\n",
    "Val_Data = pd.read_csv('Encoded_Val_Data.csv') \n",
    "Test_Data = pd.read_csv('Encoded_Test_Data.csv') \n",
    "\n",
    "Continus = ['Age','Discount_Rate','Room_Rate','checkin_month','Adults', 'Children', 'Babies',\n",
    "            'Days_until_checkin','Booking_month','Min_num_of_rooms','Total_Min_Cost','Min_Discount_amount']\n",
    "\n",
    "Categorical = ['Gender','Educational_Level','Income','Meal_Type', 'Visted_Previously','Previous_Cancellations', 'Use_Promotion',\n",
    "              'Ethnicity_African American', 'Ethnicity_Asian American','Ethnicity_Latino', 'Ethnicity_caucasian', \n",
    "              'Country_region_East','Country_region_North', 'Country_region_South', 'Country_region_West',\n",
    "              'Hotel_Type_Airport Hotels', 'Hotel_Type_City Hotel','Hotel_Type_Resort', 'Booking_channel_Agent', \n",
    "              'Booking_channel_Direct','Booking_channel_Online','checkin_day_of_the_week','Booking_day_of_the_week']\n",
    "\n",
    "Features= Categorical+Continus\n",
    "X=Train_Data.loc[:,Categorical+Continus]\n",
    "y=Train_Data.loc[:,Label]\n",
    "\n",
    "\n",
    "\n",
    "from sklearn.model_selection import train_test_split\n",
    "X_train, X_test, y_train, y_test = train_test_split(X, y, test_size = 0.05, random_state = 97)\n",
    "# Feature Scaling\n",
    "from sklearn.preprocessing import StandardScaler\n",
    "sc = StandardScaler()\n",
    "X_train = sc.fit_transform(X_train)\n",
    "X_test = sc.transform(X_test)\n",
    "#XGboost Classifier\n",
    "#model xgboost\n",
    "#use xgboost API now\n",
    "xgDMatrix = xgb.DMatrix(X_train, y_train) #create Dmatrix\n",
    "xgbDMatrixTest = xgb.DMatrix(X_test, y_test)"
   ]
  },
  {
   "cell_type": "code",
   "execution_count": null,
   "id": "united-albania",
   "metadata": {},
   "outputs": [],
   "source": [
    "numberOfParents = 8 #number of parents to start\n",
    "numberOfParentsMating = 4 #number of parents that will mate\n",
    "numberOfParameters = 7 #number of parameters that will be optimized\n",
    "numberOfGenerations = 100 #number of genration that will be created\n",
    "#define the population size\n",
    "populationSize = (numberOfParents, numberOfParameters)\n",
    "#initialize the population with randomly generated parameters\n",
    "population = initilialize_poplulation(numberOfParents)\n",
    "#define an array to store the fitness  hitory\n",
    "fitnessHistory = np.empty([numberOfGenerations+1, numberOfParents])\n",
    "#define an array to store the value of each parameter for each parent and generation\n",
    "populationHistory = np.empty([(numberOfGenerations+1)*numberOfParents, numberOfParameters])\n",
    "#insert the value of initial parameters in history\n",
    "populationHistory[0:numberOfParents, :] = population\n",
    "for generation in range(numberOfGenerations):\n",
    "    print(\"This is number %s generation\" % (generation))\n",
    "    \n",
    "    #train the dataset and obtain fitness\n",
    "    fitnessValue = train_population(population=population, dMatrixTrain=xgDMatrix, dMatrixtest=xgbDMatrixTest,\n",
    "                                    y_test=y_test,X=X,ys=y)\n",
    "    fitnessHistory[generation, :] = fitnessValue\n",
    "    \n",
    "    #best score in the current iteration\n",
    "    print('Best F1 score in the this iteration = {}'.format(np.max(fitnessHistory[generation, :])))\n",
    "#survival of the fittest - take the top parents, based on the fitness value and number of parents needed to be selected\n",
    "    parents = new_parents_selection(population=population, fitness=fitnessValue, numParents=numberOfParentsMating)\n",
    "    \n",
    "    #mate these parents to create children having parameters from these parents (we are using uniform crossover)\n",
    "    children = crossover_uniform(parents=parents, childrenSize=(populationSize[0] - parents.shape[0], numberOfParameters))\n",
    "    \n",
    "    #add mutation to create genetic diversity\n",
    "    children_mutated = mutation(children, numberOfParameters)\n",
    "    \n",
    "    '''\n",
    "    We will create new population, which will contain parents that where selected previously based on the\n",
    "    fitness score and rest of them  will be children\n",
    "    '''\n",
    "    population[0:parents.shape[0], :] = parents #fittest parents\n",
    "    population[parents.shape[0]:, :] = children_mutated #children\n",
    "    \n",
    "    populationHistory[(generation+1)*numberOfParents : (generation+1)*numberOfParents+ numberOfParents , :] = population #srore parent information"
   ]
  }
 ],
 "metadata": {
  "kernelspec": {
   "display_name": "Python 3",
   "language": "python",
   "name": "python3"
  },
  "language_info": {
   "codemirror_mode": {
    "name": "ipython",
    "version": 3
   },
   "file_extension": ".py",
   "mimetype": "text/x-python",
   "name": "python",
   "nbconvert_exporter": "python",
   "pygments_lexer": "ipython3",
   "version": "3.8.8"
  }
 },
 "nbformat": 4,
 "nbformat_minor": 5
}
